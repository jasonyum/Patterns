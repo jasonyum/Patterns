{
 "cells": [
  {
   "cell_type": "code",
   "execution_count": 6,
   "metadata": {},
   "outputs": [],
   "source": [
    "class Song: \n",
    "    \"\"\" Class to represent a song\n",
    "    \n",
    "    Attributes: \n",
    "        title(str): the title of the song\n",
    "        artist (Artist): an artist object representing the song's creator\n",
    "        duration(int): the duration fo the song, may be zero\n",
    "    \n",
    "    \"\"\"\n",
    "    \n",
    "    def __init__(self, title, artist, duration=0):\n",
    "        \"\"\" Song init method\n",
    "        \n",
    "        Args: \n",
    "            title (str): initializes the 'title' attribute\n",
    "            artist (Artist): an Artist object representing the song's creator\n",
    "            duration (Optional[int]): Initial value for the 'duration' attribute\n",
    "        \"\"\"\n",
    "        \n",
    "        self.title= title\n",
    "        self.artist = artist\n",
    "        self.duration = duration\n"
   ]
  },
  {
   "cell_type": "code",
   "execution_count": 7,
   "metadata": {},
   "outputs": [
    {
     "name": "stdout",
     "output_type": "stream",
     "text": [
      "Help on class Song in module __main__:\n",
      "\n",
      "class Song(builtins.object)\n",
      " |  Song(title, artist, duration=0)\n",
      " |  \n",
      " |  Class to represent a song\n",
      " |  \n",
      " |  Attributes: \n",
      " |      title(str): the title of the song\n",
      " |      artist (Artist): an artist object representing the song's creator\n",
      " |      duration(int): the duration fo the song, may be zero\n",
      " |  \n",
      " |  Methods defined here:\n",
      " |  \n",
      " |  __init__(self, title, artist, duration=0)\n",
      " |      Song init method\n",
      " |      \n",
      " |      Args: \n",
      " |          title (str): initializes the 'title' attribute\n",
      " |          artist (Artist): an Artist object representing the song's creator\n",
      " |          duration (Optional[int]): Initial value for the 'duration' attribute\n",
      " |  \n",
      " |  ----------------------------------------------------------------------\n",
      " |  Data descriptors defined here:\n",
      " |  \n",
      " |  __dict__\n",
      " |      dictionary for instance variables (if defined)\n",
      " |  \n",
      " |  __weakref__\n",
      " |      list of weak references to the object (if defined)\n",
      "\n"
     ]
    }
   ],
   "source": [
    "help(Song) # the entire"
   ]
  },
  {
   "cell_type": "code",
   "execution_count": 8,
   "metadata": {},
   "outputs": [
    {
     "name": "stdout",
     "output_type": "stream",
     "text": [
      "Help on function __init__ in module __main__:\n",
      "\n",
      "__init__(self, title, artist, duration=0)\n",
      "    Song init method\n",
      "    \n",
      "    Args: \n",
      "        title (str): initializes the 'title' attribute\n",
      "        artist (Artist): an Artist object representing the song's creator\n",
      "        duration (Optional[int]): Initial value for the 'duration' attribute\n",
      "\n"
     ]
    }
   ],
   "source": [
    "help(Song.__init__) "
   ]
  },
  {
   "cell_type": "code",
   "execution_count": 9,
   "metadata": {},
   "outputs": [
    {
     "name": "stdout",
     "output_type": "stream",
     "text": [
      " Class to represent a song\n",
      "    \n",
      "    Attributes: \n",
      "        title(str): the title of the song\n",
      "        artist (Artist): an artist object representing the song's creator\n",
      "        duration(int): the duration fo the song, may be zero\n",
      "    \n",
      "    \n"
     ]
    }
   ],
   "source": [
    "print(Song.__doc__)"
   ]
  },
  {
   "cell_type": "code",
   "execution_count": 16,
   "metadata": {},
   "outputs": [],
   "source": [
    "class Album: \n",
    "    \"\"\" Class to represent an Album, using it's track list\n",
    "    \n",
    "    Attributes: \n",
    "        name (str): The name of the album.\n",
    "        year(int): the year was released\n",
    "        artist (Artist): the artist responsible\n",
    "        tracks(List[Song]): a list of songs on the album\n",
    "        \n",
    "    Methods: \n",
    "        add_Song: used to add a new song to teh album's track list\n",
    "    \"\"\"\n",
    "    \n",
    "    def __init__(self, name, year, artist = None): \n",
    "        self.name = name\n",
    "        self.year = year\n",
    "        if artist is None: \n",
    "            self.artist = Artist(\"various artists\") \n",
    "        else: \n",
    "            self.artist = artist\n",
    "            \n",
    "        self.tracks = []\n",
    "        \n",
    "    \n",
    "    def add_song(self, song, position=None): \n",
    "        \"\"\"Adds a song to the track list\n",
    "        \n",
    "        Args: \n",
    "            song(Song): a song to add\n",
    "            position(Optional[int]): If specified... song will be added to that position\"\n",
    "            \n",
    "        \"\"\"\n",
    "        if position is None: \n",
    "            self.tracks.append(song)\n",
    "        else: \n",
    "            self.tracks.insert(position, song) \n",
    "    \n",
    "\n",
    "class Artist: \n",
    "    \"\"\" Basic class to store artist details...\n",
    "    \n",
    "    Attributes: \n",
    "        name (str): the name of the artist\n",
    "        albums(List[Album]): a list of the albums by this artist\n",
    "        \n",
    "    Methods: \n",
    "        add_album: Use to add a new album\n",
    "    \n",
    "    \"\"\"\n",
    "    \n",
    "    "
   ]
  },
  {
   "cell_type": "code",
   "execution_count": 12,
   "metadata": {},
   "outputs": [
    {
     "data": {
      "text/plain": [
       "5"
      ]
     },
     "execution_count": 12,
     "metadata": {},
     "output_type": "execute_result"
    }
   ],
   "source": [
    "2+3"
   ]
  },
  {
   "cell_type": "code",
   "execution_count": null,
   "metadata": {},
   "outputs": [],
   "source": []
  }
 ],
 "metadata": {
  "kernelspec": {
   "display_name": "Python 3",
   "language": "python",
   "name": "python3"
  },
  "language_info": {
   "codemirror_mode": {
    "name": "ipython",
    "version": 3
   },
   "file_extension": ".py",
   "mimetype": "text/x-python",
   "name": "python",
   "nbconvert_exporter": "python",
   "pygments_lexer": "ipython3",
   "version": "3.7.0"
  }
 },
 "nbformat": 4,
 "nbformat_minor": 2
}
