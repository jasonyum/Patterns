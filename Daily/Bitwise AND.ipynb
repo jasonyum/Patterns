{
 "cells": [
  {
   "cell_type": "markdown",
   "metadata": {},
   "source": [
    "## Bitwise AND of all integers between [M, N]\n",
    "\n",
    "Write a function that returns the bitwise AND of all integers between M and N, inclusive."
   ]
  },
  {
   "cell_type": "code",
   "execution_count": 1,
   "metadata": {},
   "outputs": [],
   "source": [
    "# simple\n",
    "# O(N) time and O(1) space\n",
    "\n",
    "def and_product(m, n):\n",
    "    res = m\n",
    "\n",
    "    for i in range(m + 1, n + 1):\n",
    "        res &= i\n",
    "\n",
    "    return res"
   ]
  },
  {
   "cell_type": "code",
   "execution_count": 3,
   "metadata": {},
   "outputs": [],
   "source": [
    "# faster\n",
    "# log N bits in the binary representation of N\n",
    "# O(logN) time and O(1) space\n",
    "\n",
    "def and_product(m, n):\n",
    "    i = 0\n",
    "\n",
    "    while m != n:\n",
    "        m >>= 1\n",
    "        n >>= 1\n",
    "        i += 1\n",
    "\n",
    "    return n << i"
   ]
  },
  {
   "cell_type": "code",
   "execution_count": null,
   "metadata": {},
   "outputs": [],
   "source": []
  }
 ],
 "metadata": {
  "kernelspec": {
   "display_name": "Python 3",
   "language": "python",
   "name": "python3"
  },
  "language_info": {
   "codemirror_mode": {
    "name": "ipython",
    "version": 3
   },
   "file_extension": ".py",
   "mimetype": "text/x-python",
   "name": "python",
   "nbconvert_exporter": "python",
   "pygments_lexer": "ipython3",
   "version": "3.6.2"
  }
 },
 "nbformat": 4,
 "nbformat_minor": 2
}
