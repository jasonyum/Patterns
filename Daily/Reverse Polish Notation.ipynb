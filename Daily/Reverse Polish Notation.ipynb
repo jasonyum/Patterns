{
 "cells": [
  {
   "cell_type": "markdown",
   "metadata": {},
   "source": [
    "# RPN question --> STACK question\n",
    "\n",
    "You're given an arithmetic expression in RPN. Write a program to evaluate it.\n",
    "\n",
    "The expression is given as a list of numbers and operands. For example: [5, 3, '+'] should return 5 + 3 = 8.\n",
    "\n",
    "\n",
    "### Yikes.. ugly example that we need to think through\n",
    "For example, [15, 7, 1, 1, '+', '-', '/', 3, '*', 2, 1, 1, '+', '+', '-'] should return 5, since it is equivalent to ((15 / (7 - (1 + 1))) * 3) - (2 + (1 + 1)) = 5.\n",
    "\n",
    "You can assume the given expression is always valid.\n",
    "\n",
    "### Plan.. \n",
    "- use a stack\n",
    "- when you encounter a value, add it to the stack\n",
    "- if you see an operator like '+' or '/' then pop the last two things off the stack..\n",
    "- use them as terms on the operator, and then pop the resulting value BACK on the STACK\n",
    "- at the end of the function there should be just one thing remaining on teh stack so just return that... wow\n"
   ]
  },
  {
   "cell_type": "code",
   "execution_count": 1,
   "metadata": {},
   "outputs": [],
   "source": [
    "# You have to set this up first, makes it easiest. \n",
    "# it's like you're using an additional layer of abstraction to make it computer friendly\n",
    "\n",
    "PLUS = \"+\"\n",
    "MINUS = \"-\"\n",
    "TIMES = \"*\"\n",
    "DIVIDE = \"/\" \n",
    "\n",
    "# put it in an array to cycle through later\n",
    "OPERANDS = [PLUS, MINUS, TIMES, DIVIDE] \n",
    "\n",
    "def rpn(expr): \n",
    "    \n",
    "    stack = [] # stack is just an array \n",
    "    \n",
    "    for val in expr: \n",
    "        # remember that expr is an array of numbers and operands\n",
    "        \n",
    "        if val in OPERANDS:\n",
    "            \n",
    "            # if you see +, -, *, or / then pop off the stack\n",
    "            # remember the stack starts out empty.. you're popping from the back\n",
    "            # so this is truly LIFO, which is how RPN does it. \n",
    "            term1, term2 = stack.pop(), stack.pop() \n",
    "            if val == PLUS: \n",
    "                stack.append(term1 + term2) \n",
    "            elif val == MINUS: \n",
    "                stack.append(term1 - term2) \n",
    "            elif val == TIMES: \n",
    "                stack.append(term1 * term2) \n",
    "            elif val == DIVIDE: \n",
    "                stack.append(term1 / term2) \n",
    "            else: \n",
    "                # this gets triggered a lot.. basically whenever you don't see an operand\n",
    "                # you are putting non-operands onto the stack\n",
    "                stack.append(val)\n",
    "    return stack[0] \n",
    "\n",
    "# elegant.. "
   ]
  },
  {
   "cell_type": "code",
   "execution_count": 2,
   "metadata": {},
   "outputs": [],
   "source": [
    "test = [15,7,1,2]"
   ]
  },
  {
   "cell_type": "code",
   "execution_count": 3,
   "metadata": {},
   "outputs": [
    {
     "data": {
      "text/plain": [
       "2"
      ]
     },
     "execution_count": 3,
     "metadata": {},
     "output_type": "execute_result"
    }
   ],
   "source": [
    "test.pop()"
   ]
  },
  {
   "cell_type": "code",
   "execution_count": 4,
   "metadata": {},
   "outputs": [
    {
     "data": {
      "text/plain": [
       "1"
      ]
     },
     "execution_count": 4,
     "metadata": {},
     "output_type": "execute_result"
    }
   ],
   "source": [
    "test.pop()"
   ]
  },
  {
   "cell_type": "code",
   "execution_count": null,
   "metadata": {},
   "outputs": [],
   "source": []
  }
 ],
 "metadata": {
  "kernelspec": {
   "display_name": "Python 3",
   "language": "python",
   "name": "python3"
  },
  "language_info": {
   "codemirror_mode": {
    "name": "ipython",
    "version": 3
   },
   "file_extension": ".py",
   "mimetype": "text/x-python",
   "name": "python",
   "nbconvert_exporter": "python",
   "pygments_lexer": "ipython3",
   "version": "3.6.2"
  }
 },
 "nbformat": 4,
 "nbformat_minor": 2
}
