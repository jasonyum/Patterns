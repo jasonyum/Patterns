{
 "cells": [
  {
   "cell_type": "markdown",
   "metadata": {},
   "source": [
    "# Print Zigzag\n",
    "\n",
    "Given a string and a number of lines k, print the string in zigzag form. In zigzag, characters are printed out diagonally from top left to bottom right until reaching the kth line, then back up to top right, and so on.\n",
    "\n",
    "For example, given the sentence \"thisisazigzag\" and k = 4, you should print:\n",
    "\n",
    "```\n",
    "t     a     g\n",
    " h   s z   a\n",
    "  i i   i z\n",
    "   s     g\n",
    "   ```"
   ]
  },
  {
   "cell_type": "code",
   "execution_count": 4,
   "metadata": {},
   "outputs": [],
   "source": [
    "# the number of spaces ... \n",
    "# matters if you're ascending or descending\n",
    "\n",
    "# computes the number of tacked-on spaces..\n",
    "def get_spaces(row, desc, k): \n",
    "    max_spaces = (k-1)*2 - 1\n",
    "    if desc: \n",
    "        spaces = max_spaces - row*2\n",
    "    else: \n",
    "        spaces = max_spaces - (k-1-row)*2\n",
    "    return spaces"
   ]
  },
  {
   "cell_type": "code",
   "execution_count": 5,
   "metadata": {},
   "outputs": [],
   "source": [
    "# how do you know whether or not we're descending or ascending? \n",
    "\n",
    "def is_descending(index,k): \n",
    "    if index % (2 * (k-1)) < k - 1: \n",
    "        return True\n",
    "    else: \n",
    "        return False"
   ]
  },
  {
   "cell_type": "code",
   "execution_count": 7,
   "metadata": {},
   "outputs": [],
   "source": [
    "# now you put this together to get zigzag\n",
    "\n",
    "def zigzag(sentence, k): \n",
    "    n = len(sentence) \n",
    "    \n",
    "    for row in range(k): \n",
    "        i = row\n",
    "        # create a list of empty strings for the first row\n",
    "        line = [\" \" for _ in range(n)]\n",
    "        \n",
    "        while i < n: \n",
    "            line[i] = sentence[i] \n",
    "            desc = is_descending(i, k) # call is_descending\n",
    "            spaces = get_spaces(row, desc, k) # call get spaces\n",
    "            i += spaces + 1\n",
    "            \n",
    "        print(\"\".join(line))\n",
    "        \n",
    "        # join and print each line of the string = O(N) time\n",
    "        # so the whole algorithm takes O(k*N) "
   ]
  },
  {
   "cell_type": "code",
   "execution_count": 9,
   "metadata": {},
   "outputs": [],
   "source": [
    "# a better way would be to store each row to be printed in a k x N matrix\n",
    "\n",
    "def zigzag(sentence, k): \n",
    "    n = len(sentence) \n",
    "    line_matrix = [[' ' for _ in range(n)] for _ in range(k)] # create matrix\n",
    "    \n",
    "    row = 0 \n",
    "    for col, letter in enumerate(sentence): \n",
    "        line_matrix[row][col] = letter\n",
    "        \n",
    "        if row == 0: \n",
    "            descending = True\n",
    "        elif row == k - 1: \n",
    "            descending = False\n",
    "        \n",
    "        if descending: \n",
    "            row += 1\n",
    "        else: \n",
    "            row -= 1\n",
    "    \n",
    "    for line in line_matrix: \n",
    "        print(\"\".join(line)) # look at join!\n",
    "        \n",
    "    # This is O(k*N) in both time and space"
   ]
  },
  {
   "cell_type": "markdown",
   "metadata": {},
   "source": [
    "### Brief exploration of .join()"
   ]
  },
  {
   "cell_type": "code",
   "execution_count": null,
   "metadata": {},
   "outputs": [],
   "source": []
  }
 ],
 "metadata": {
  "kernelspec": {
   "display_name": "Python 3",
   "language": "python",
   "name": "python3"
  },
  "language_info": {
   "codemirror_mode": {
    "name": "ipython",
    "version": 3
   },
   "file_extension": ".py",
   "mimetype": "text/x-python",
   "name": "python",
   "nbconvert_exporter": "python",
   "pygments_lexer": "ipython3",
   "version": "3.6.2"
  }
 },
 "nbformat": 4,
 "nbformat_minor": 2
}
