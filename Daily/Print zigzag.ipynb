{
 "cells": [
  {
   "cell_type": "markdown",
   "metadata": {},
   "source": [
    "# Print Zigzag\n",
    "\n",
    "Given a string and a number of lines k, print the string in zigzag form. In zigzag, characters are printed out diagonally from top left to bottom right until reaching the kth line, then back up to top right, and so on.\n",
    "\n",
    "For example, given the sentence \"thisisazigzag\" and k = 4, you should print:\n",
    "\n",
    "```\n",
    "t     a     g\n",
    " h   s z   a\n",
    "  i i   i z\n",
    "   s     g\n",
    "   ```"
   ]
  },
  {
   "cell_type": "code",
   "execution_count": 4,
   "metadata": {},
   "outputs": [],
   "source": [
    "# the number of spaces ... \n",
    "# matters if you're ascending or descending\n",
    "\n",
    "# computes the number of tacked-on spaces..\n",
    "def get_spaces(row, desc, k): \n",
    "    max_spaces = (k-1)*2 - 1\n",
    "    if desc: \n",
    "        spaces = max_spaces - row*2\n",
    "    else: \n",
    "        spaces = max_spaces - (k-1-row)*2\n",
    "    return spaces"
   ]
  },
  {
   "cell_type": "code",
   "execution_count": 5,
   "metadata": {},
   "outputs": [],
   "source": [
    "# how do you know whether or not we're descending or ascending? \n",
    "\n",
    "def is_descending(index,k): \n",
    "    if index % (2 * (k-1)) < k - 1: \n",
    "        return True\n",
    "    else: \n",
    "        return False"
   ]
  },
  {
   "cell_type": "code",
   "execution_count": 7,
   "metadata": {},
   "outputs": [],
   "source": [
    "# now you put this together to get zigzag\n",
    "\n",
    "def zigzag(sentence, k): \n",
    "    n = len(sentence) \n",
    "    \n",
    "    for row in range(k): \n",
    "        i = row\n",
    "        # create a list of empty strings for the first row\n",
    "        line = [\" \" for _ in range(n)]\n",
    "        \n",
    "        while i < n: \n",
    "            line[i] = sentence[i] \n",
    "            desc = is_descending(i, k) # call is_descending\n",
    "            spaces = get_spaces(row, desc, k) # call get spaces\n",
    "            i += spaces + 1\n",
    "            \n",
    "        print(\"\".join(line))\n",
    "        \n",
    "        # join and print each line of the string = O(N) time\n",
    "        # so the whole algorithm takes O(k*N) "
   ]
  },
  {
   "cell_type": "code",
   "execution_count": 9,
   "metadata": {},
   "outputs": [],
   "source": [
    "# a better way would be to store each row to be printed in a k x N matrix\n",
    "\n",
    "def zigzag(sentence, k): \n",
    "    n = len(sentence) \n",
    "    line_matrix = [[' ' for _ in range(n)] for _ in range(k)] # create matrix\n",
    "    \n",
    "    row = 0 \n",
    "    for col, letter in enumerate(sentence): \n",
    "        line_matrix[row][col] = letter\n",
    "        \n",
    "        if row == 0: \n",
    "            descending = True\n",
    "        elif row == k - 1: \n",
    "            descending = False\n",
    "        \n",
    "        if descending: \n",
    "            row += 1\n",
    "        else: \n",
    "            row -= 1\n",
    "    \n",
    "    for line in line_matrix: \n",
    "        print(\"\".join(line)) # look at join!\n",
    "        \n",
    "    # This is O(k*N) in both time and space"
   ]
  },
  {
   "cell_type": "markdown",
   "metadata": {},
   "source": [
    "### Brief exploration of .join()"
   ]
  },
  {
   "cell_type": "code",
   "execution_count": 14,
   "metadata": {},
   "outputs": [
    {
     "data": {
      "text/plain": [
       "'12345'"
      ]
     },
     "execution_count": 14,
     "metadata": {},
     "output_type": "execute_result"
    }
   ],
   "source": [
    "list1 = ['1','2','3','4','5'] # they actually have to be strings. can't be integers\n",
    "new_string = \"\".join(list1)\n",
    "new_string"
   ]
  },
  {
   "cell_type": "code",
   "execution_count": 16,
   "metadata": {},
   "outputs": [
    {
     "data": {
      "text/plain": [
       "'hello'"
      ]
     },
     "execution_count": 16,
     "metadata": {},
     "output_type": "execute_result"
    }
   ],
   "source": [
    "list2 = ['h','e','l','l','o'] \n",
    "new_string = \"\".join(list2) \n",
    "new_string"
   ]
  },
  {
   "cell_type": "code",
   "execution_count": 19,
   "metadata": {},
   "outputs": [
    {
     "name": "stdout",
     "output_type": "stream",
     "text": [
      "W       t       u       e       n       i       \n",
      " e       o     f t     W '     e       t n     .\n",
      "  l   e           u       v   e   e   c   g   u \n",
      "   c m     t e     r .     e b     x e       o  \n",
      "    o       h       e               p       y   \n"
     ]
    }
   ],
   "source": [
    "zigzag(\"Welcome to the future. We've been expecting you.\", 5)"
   ]
  },
  {
   "cell_type": "code",
   "execution_count": 26,
   "metadata": {},
   "outputs": [
    {
     "name": "stdout",
     "output_type": "stream",
     "text": [
      "0 p\n",
      "1 e\n",
      "2 a\n",
      "3 c\n",
      "4 e\n",
      "5 f\n",
      "6 u\n",
      "7 l\n",
      "8 _\n",
      "9 m\n",
      "10 i\n",
      "11 n\n",
      "12 d\n"
     ]
    }
   ],
   "source": [
    "# this is how enumerate works in a string... \n",
    "for col, letter in enumerate(\"peaceful_mind\"): \n",
    "    print(col, letter)"
   ]
  },
  {
   "cell_type": "code",
   "execution_count": null,
   "metadata": {},
   "outputs": [],
   "source": []
  }
 ],
 "metadata": {
  "kernelspec": {
   "display_name": "Python 3",
   "language": "python",
   "name": "python3"
  },
  "language_info": {
   "codemirror_mode": {
    "name": "ipython",
    "version": 3
   },
   "file_extension": ".py",
   "mimetype": "text/x-python",
   "name": "python",
   "nbconvert_exporter": "python",
   "pygments_lexer": "ipython3",
   "version": "3.6.2"
  }
 },
 "nbformat": 4,
 "nbformat_minor": 2
}
