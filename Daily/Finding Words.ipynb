{
 "cells": [
  {
   "cell_type": "markdown",
   "metadata": {},
   "source": [
    "## Finding Words in 2-D Matrix\n",
    "\n",
    "Given a 2D matrix of characters and a \"target word\" --> write a function that returns true or false depending on if you can find it by going \"left-to-right\" or \"up-to-down\" ... \n",
    "\n",
    "Example: \n",
    "\n",
    "```\n",
    "[['F', 'A', 'C', 'I'],\n",
    " ['O', 'B', 'Q', 'P'],\n",
    " ['A', 'N', 'O', 'B'],\n",
    " ['M', 'A', 'S', 'S']]\n",
    " ```\n",
    " \n",
    " If the target is FOAM -> True\n",
    " If the target is MASS -> True\n",
    " \n",
    " "
   ]
  },
  {
   "cell_type": "code",
   "execution_count": 1,
   "metadata": {},
   "outputs": [],
   "source": [
    "def build_word_right(matrix, r, c, length): \n",
    "    return ''.join([matrix[r][i] for i in range(c, len(matrix[0]))])[:length] \n",
    "\n",
    "# wow notice the [:length] it's nice, good use of it.\n",
    "\n",
    "def build_word_down(matrix, r, c, length): \n",
    "    return ''.join([matrix[i][c] for i in range(r, len(matrix))])[:length]\n",
    "\n",
    "def word_search(matrix, word): \n",
    "    for r in range(len(matrix)): \n",
    "        for c in range(len(matrix[0])): \n",
    "            word_right = build_word_right(matrix, r, c, len(word))\n",
    "            word_down = build_word_down(matrix, r, c, len(word))\n",
    "            if word in (word_right, word_down): \n",
    "                return True\n",
    "    return False"
   ]
  },
  {
   "cell_type": "markdown",
   "metadata": {},
   "source": [
    "## If the matrix is big... then we'd be wastefully grabbing the whole row or column just to shorten it... \n",
    "\n",
    "The motif here is to take just what you need. "
   ]
  },
  {
   "cell_type": "code",
   "execution_count": 32,
   "metadata": {},
   "outputs": [],
   "source": [
    "def build_word_right(matrix, r, c, length): \n",
    "    row_len = len(matrix[0])\n",
    "    return ''.join([matrix[r][i] for i in range(c, min(row_len, length))])\n",
    "\n",
    "def build_word_down(matrix, r, c, length): \n",
    "    col_len = len(matrix) \n",
    "    return ''.join([matrix[i][c] for i in range(r, min(col_len, length))]) "
   ]
  },
  {
   "cell_type": "markdown",
   "metadata": {},
   "source": [
    "## What if the target word is big? Then we can quite early..\n",
    "\n",
    "Here we use Python's zip. "
   ]
  },
  {
   "cell_type": "code",
   "execution_count": 33,
   "metadata": {},
   "outputs": [],
   "source": [
    "def check_word_right(matrix, r, c, word): \n",
    "    word_len = len(word) \n",
    "    row_len = len(matrix[0])\n",
    "    if word_len != row_len - c: \n",
    "        return False\n",
    "    for c1, c2 in zip(word, (matrix[r][i] for i in range(c, row_len))): \n",
    "        if c1 != c2: \n",
    "            return False\n",
    "    return True\n",
    "\n",
    "\n",
    "def check_word_down(matrix, r, c, word): \n",
    "    word_len = len(word) \n",
    "    col_len = len(matrix) \n",
    "    if word_len != col_len - r: \n",
    "        return False\n",
    "    for c1, c2 in zip(word, (matrix[i][c] for i in range(r, col_len))): \n",
    "        if c1 != c2: \n",
    "            return False\n",
    "    return True\n",
    "\n",
    "    return ''.join([matrix[i][c] for i in range(r, min(col_len, length))])\n",
    "\n",
    "def word_search(matrix, word): \n",
    "    for r, row in enumerate(matrix): \n",
    "        for c, val in enumerate(row): \n",
    "            if check_word_right(matrix, r, c, word): \n",
    "                return True\n",
    "            if check_word_down(matrix, r, c, word): \n",
    "                return True\n",
    "    return False"
   ]
  },
  {
   "cell_type": "code",
   "execution_count": 39,
   "metadata": {},
   "outputs": [
    {
     "name": "stdout",
     "output_type": "stream",
     "text": [
      "[]\n",
      "{(2, 'two'), (3, 'three'), (1, 'one')}\n"
     ]
    }
   ],
   "source": [
    "# how zip() works\n",
    "# zip takes iterables, makes iterator that aggregates elements based on the iterables passed\n",
    "# and then returns an iterator of tuples ... \n",
    "# syntax: zip(*iterables) \n",
    "\n",
    "numberList = [1,2,3]\n",
    "strList = ['one','two','three'] \n",
    "\n",
    "# no iterables are passed\n",
    "result = zip() \n",
    "\n",
    "# converting iterator to list\n",
    "resultList = list(result) \n",
    "print(resultList)\n",
    "\n",
    "# two iterables are passed\n",
    "result = zip(numberList, strList) \n",
    "resultSet = set(result)\n",
    "print(resultSet) "
   ]
  },
  {
   "cell_type": "code",
   "execution_count": 7,
   "metadata": {},
   "outputs": [
    {
     "data": {
      "text/plain": [
       "'1, 2, 3, 4'"
      ]
     },
     "execution_count": 7,
     "metadata": {},
     "output_type": "execute_result"
    }
   ],
   "source": [
    "# Python String join() \n",
    "# string.join(iterable) \n",
    "# the join() method provides a flexible way to concatenate strings... \n",
    "# it concatenates each element of an iterable ..\n",
    "\n",
    "\n",
    "numList = ['1','2','3','4'] # string of numbers\n",
    "separator = ', '\n",
    "separator.join(numList)"
   ]
  },
  {
   "cell_type": "code",
   "execution_count": 8,
   "metadata": {},
   "outputs": [
    {
     "data": {
      "text/plain": [
       "'1, 2, 3, 4'"
      ]
     },
     "execution_count": 8,
     "metadata": {},
     "output_type": "execute_result"
    }
   ],
   "source": [
    "numTuple = ('1','2','3','4') \n",
    "separator.join(numTuple)"
   ]
  },
  {
   "cell_type": "code",
   "execution_count": 9,
   "metadata": {},
   "outputs": [
    {
     "data": {
      "text/plain": [
       "'1234'"
      ]
     },
     "execution_count": 9,
     "metadata": {},
     "output_type": "execute_result"
    }
   ],
   "source": [
    "# concatenates without a \"separator\" \n",
    "''.join(numList)"
   ]
  },
  {
   "cell_type": "code",
   "execution_count": 10,
   "metadata": {},
   "outputs": [
    {
     "data": {
      "text/plain": [
       "'1abc2abc3abc4'"
      ]
     },
     "execution_count": 10,
     "metadata": {},
     "output_type": "execute_result"
    }
   ],
   "source": [
    "# the separator can be quite complicated... \n",
    "separator = 'abc'\n",
    "separator.join(numList) "
   ]
  },
  {
   "cell_type": "code",
   "execution_count": 12,
   "metadata": {},
   "outputs": [],
   "source": [
    "# in our case, the iterable here is a matrix.\n",
    "# in python, there's no built-in matrices, it's just like a list of lists.\n",
    "\n",
    "A = [[1,4,5],\n",
    "     [-5,8,9]]"
   ]
  },
  {
   "cell_type": "code",
   "execution_count": 16,
   "metadata": {},
   "outputs": [
    {
     "data": {
      "text/plain": [
       "4"
      ]
     },
     "execution_count": 16,
     "metadata": {},
     "output_type": "execute_result"
    }
   ],
   "source": [
    "A[0][1] # should be 4"
   ]
  },
  {
   "cell_type": "code",
   "execution_count": 25,
   "metadata": {},
   "outputs": [
    {
     "name": "stdout",
     "output_type": "stream",
     "text": [
      "[0, 1, 2, 3, 4]\n"
     ]
    }
   ],
   "source": [
    "## The above code uses a list comprehension which you need to be more comfortable with.. \n",
    "# new_list = [expression(i) for i in old_list if filter(i)] \n",
    "\n",
    "x = [i for i in range(5)]\n",
    "print(x)"
   ]
  },
  {
   "cell_type": "code",
   "execution_count": 29,
   "metadata": {},
   "outputs": [
    {
     "name": "stdout",
     "output_type": "stream",
     "text": [
      "[0, 1, 4, 9, 16, 25, 36, 49, 64, 81]\n"
     ]
    }
   ],
   "source": [
    "squares = []\n",
    "for x in range(10): \n",
    "    squares.append(x**2)\n",
    "\n",
    "print(squares) "
   ]
  },
  {
   "cell_type": "code",
   "execution_count": 31,
   "metadata": {},
   "outputs": [
    {
     "name": "stdout",
     "output_type": "stream",
     "text": [
      "[0, 1, 4, 9, 16, 25, 36, 49, 64, 81]\n"
     ]
    }
   ],
   "source": [
    "# or you can use a list comprehension\n",
    "\n",
    "squares = [x**2 for x in range(10)]\n",
    "print(squares) "
   ]
  },
  {
   "cell_type": "code",
   "execution_count": null,
   "metadata": {},
   "outputs": [],
   "source": [
    "# So returning to this code... \n",
    "def build_word_right(matrix, r, c, length): \n",
    "    return ''.join([matrix[r][i] for i in range(c, len(matrix[0]))])[:length] \n",
    "\n",
    "# the list comprehension is: \n",
    "# [matrix[r][i] for i in range(c, len(matrix[0]))]"
   ]
  }
 ],
 "metadata": {
  "kernelspec": {
   "display_name": "Python 3",
   "language": "python",
   "name": "python3"
  },
  "language_info": {
   "codemirror_mode": {
    "name": "ipython",
    "version": 3
   },
   "file_extension": ".py",
   "mimetype": "text/x-python",
   "name": "python",
   "nbconvert_exporter": "python",
   "pygments_lexer": "ipython3",
   "version": "3.6.2"
  }
 },
 "nbformat": 4,
 "nbformat_minor": 2
}
