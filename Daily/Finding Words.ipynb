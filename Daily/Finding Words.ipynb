{
 "cells": [
  {
   "cell_type": "markdown",
   "metadata": {},
   "source": [
    "## Finding Words in 2-D Matrix\n",
    "\n",
    "Given a 2D matrix of characters and a \"target word\" --> write a function that returns true or false depending on if you can find it by going \"left-to-right\" or \"up-to-down\" ... \n",
    "\n",
    "Example: \n",
    "\n",
    "```\n",
    "[['F', 'A', 'C', 'I'],\n",
    " ['O', 'B', 'Q', 'P'],\n",
    " ['A', 'N', 'O', 'B'],\n",
    " ['M', 'A', 'S', 'S']]\n",
    " ```\n",
    " \n",
    " If the target is FOAM -> True\n",
    " If the target is MASS -> True\n",
    " \n",
    " "
   ]
  },
  {
   "cell_type": "code",
   "execution_count": null,
   "metadata": {},
   "outputs": [],
   "source": [
    "def build_word_right(matrix, r, c, length): \n",
    "    return ''.join([matrix[r][i] for i in range(c, len(matrix[0]))])[:length] \n",
    "\n",
    "# wow notice the [:length] it's nice, good use of it.\n",
    "\n",
    "def build_word_down(matrix, r, c, length): \n",
    "    return ''.join([matrix[i][c] for i in range(r, len(matrix))])[:length]"
   ]
  }
 ],
 "metadata": {
  "kernelspec": {
   "display_name": "Python 3",
   "language": "python",
   "name": "python3"
  },
  "language_info": {
   "codemirror_mode": {
    "name": "ipython",
    "version": 3
   },
   "file_extension": ".py",
   "mimetype": "text/x-python",
   "name": "python",
   "nbconvert_exporter": "python",
   "pygments_lexer": "ipython3",
   "version": "3.6.2"
  }
 },
 "nbformat": 4,
 "nbformat_minor": 2
}
