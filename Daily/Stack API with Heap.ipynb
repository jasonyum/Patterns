{
 "cells": [
  {
   "cell_type": "markdown",
   "metadata": {},
   "source": [
    "### Stack API using only a heap.... \n",
    "\n",
    "- push(item) adds an element to a stack\n",
    "- pop() which removes and returns the most recently added element"
   ]
  },
  {
   "cell_type": "code",
   "execution_count": 2,
   "metadata": {},
   "outputs": [],
   "source": [
    "from time import time\n",
    "import heapq\n",
    "\n",
    "class MaxHeap: \n",
    "    def __init__(self): \n",
    "        self._heap = [] \n",
    "    \n",
    "    def push(self, item, priority): \n",
    "        heapq.heappush(self._heap, (-priority, item))\n",
    "        \n",
    "    def pop(self): \n",
    "        _, item = heapq.heappop(self._heap)\n",
    "        return item\n",
    "    "
   ]
  },
  {
   "cell_type": "code",
   "execution_count": 3,
   "metadata": {},
   "outputs": [],
   "source": [
    "class Stack: \n",
    "    def __init__(self): \n",
    "        self.max_heap = MaxHeap() \n",
    "        \n",
    "    def push(self, item): \n",
    "        t = time()\n",
    "        self.max_heap.push(item, t)\n",
    "        \n",
    "    def pop(self): \n",
    "        item, _ = self.max_heap.pop()\n",
    "        return item"
   ]
  },
  {
   "cell_type": "code",
   "execution_count": null,
   "metadata": {},
   "outputs": [],
   "source": []
  }
 ],
 "metadata": {
  "kernelspec": {
   "display_name": "Python 3",
   "language": "python",
   "name": "python3"
  },
  "language_info": {
   "codemirror_mode": {
    "name": "ipython",
    "version": 3
   },
   "file_extension": ".py",
   "mimetype": "text/x-python",
   "name": "python",
   "nbconvert_exporter": "python",
   "pygments_lexer": "ipython3",
   "version": "3.6.2"
  }
 },
 "nbformat": 4,
 "nbformat_minor": 2
}
