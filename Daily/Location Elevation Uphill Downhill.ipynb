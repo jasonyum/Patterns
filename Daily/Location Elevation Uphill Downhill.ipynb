{
 "cells": [
  {
   "cell_type": "markdown",
   "metadata": {},
   "source": [
    "A competitive runner would like to create a route that starts and ends at his house, with the condition that the route goes entirely uphill at first, and then entirely downhill.\n",
    "\n",
    "Given a dictionary of places of the form {location: elevation}, and a dictionary mapping paths between some of these locations to their corresponding distances, find the length of the shortest route satisfying the condition above. Assume the runner's home is location 0.\n",
    "\n",
    "For example, suppose you are given the following input:\n",
    "\n",
    "``` elevations = {0: 5, 1: 25, 2: 15, 3: 20, 4: 10}\n",
    "paths = {\n",
    "    (0, 1): 10,\n",
    "    (0, 2): 8,\n",
    "    (0, 3): 15,\n",
    "    (1, 3): 12,\n",
    "    (2, 4): 10,\n",
    "    (3, 4): 5,\n",
    "    (3, 0): 17,\n",
    "    (4, 0): 10\n",
    "}```\n",
    "In this case, the shortest valid path would be 0 -> 2 -> 4 -> 0, with a distance of 28."
   ]
  },
  {
   "cell_type": "code",
   "execution_count": 1,
   "metadata": {},
   "outputs": [],
   "source": [
    "# Dijkstra's algorithm.. \n",
    "# Or you can utilizze that this is a directed acyclical grpah problem.\n",
    "# So you can use a topological sort."
   ]
  },
  {
   "cell_type": "code",
   "execution_count": null,
   "metadata": {},
   "outputs": [],
   "source": [
    "def helper(v, visited, stack, edges): \n",
    "    visited[v] = True\n",
    "    \n",
    "    for neighbor, _ in edges[v]:\n",
    "        if not visited[neighbor]: \n",
    "            helper(neighbor, visited, stack, edges) \n",
    "            \n",
    "    stack.append(v)\n",
    "    \n",
    "def toposort(edges, num_vertices): \n",
    "    visited = [False for _ in range(num_vertices)]\n",
    "    stack = []\n",
    "    \n",
    "    for v in range(num_vertices): \n",
    "        if not visited[v]:\n",
    "            helper(v, visited, stack, edges)\n",
    "            \n",
    "    return stack"
   ]
  }
 ],
 "metadata": {
  "kernelspec": {
   "display_name": "Python 3",
   "language": "python",
   "name": "python3"
  },
  "language_info": {
   "codemirror_mode": {
    "name": "ipython",
    "version": 3
   },
   "file_extension": ".py",
   "mimetype": "text/x-python",
   "name": "python",
   "nbconvert_exporter": "python",
   "pygments_lexer": "ipython3",
   "version": "3.6.2"
  }
 },
 "nbformat": 4,
 "nbformat_minor": 2
}
