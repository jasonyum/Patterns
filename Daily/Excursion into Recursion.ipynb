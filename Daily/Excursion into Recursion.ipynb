{
 "cells": [
  {
   "cell_type": "markdown",
   "metadata": {},
   "source": [
    "# Excursion into Recursion\n",
    "\n",
    "Brief reminder of recursion. Function calls itself in its body. If a function definition satisfies the condition of recursion, we call this function a recursive function.\n",
    "\n",
    "You need to have a termination condition. Everything needs to move to a base case (a case where the problem can be solved without further recursion). "
   ]
  },
  {
   "cell_type": "code",
   "execution_count": 1,
   "metadata": {},
   "outputs": [],
   "source": [
    "def factorial(n): \n",
    "    if n == 1: \n",
    "        return 1\n",
    "    else: \n",
    "        return n * factorial(n-1) "
   ]
  },
  {
   "cell_type": "code",
   "execution_count": 3,
   "metadata": {},
   "outputs": [
    {
     "data": {
      "text/plain": [
       "3628800"
      ]
     },
     "execution_count": 3,
     "metadata": {},
     "output_type": "execute_result"
    }
   ],
   "source": [
    "factorial(10) # a bit magical"
   ]
  },
  {
   "cell_type": "code",
   "execution_count": 26,
   "metadata": {},
   "outputs": [],
   "source": [
    "# You can really understand this if you check out the inner machinery here\n",
    "def factorial(n): \n",
    "    \n",
    "    print(\"outside: factorial has been called with n = \" + str(n))\n",
    "    if n == 1: \n",
    "        return 1\n",
    "    \n",
    "    else: \n",
    "        print(\"     inside else: the current n is = \" + str(n))\n",
    "        print(\"     inside else: the current factorial(n-1) = \" + str(factorial(n-1)))\n",
    "        res = n * factorial(n-1) \n",
    "        print(\"_________ intermediate result for \", n, \" * factorial(\", n-1, \"): \", res)\n",
    "        return res"
   ]
  },
  {
   "cell_type": "code",
   "execution_count": 29,
   "metadata": {},
   "outputs": [
    {
     "name": "stdout",
     "output_type": "stream",
     "text": [
      "outside: factorial has been called with n = 4\n",
      "     inside else: the current n is = 4\n",
      "outside: factorial has been called with n = 3\n",
      "     inside else: the current n is = 3\n",
      "outside: factorial has been called with n = 2\n",
      "     inside else: the current n is = 2\n",
      "outside: factorial has been called with n = 1\n",
      "     inside else: the current factorial(n-1) = 1\n",
      "outside: factorial has been called with n = 1\n",
      "_________ intermediate result for  2  * factorial( 1 ):  2\n",
      "     inside else: the current factorial(n-1) = 2\n",
      "outside: factorial has been called with n = 2\n",
      "     inside else: the current n is = 2\n",
      "outside: factorial has been called with n = 1\n",
      "     inside else: the current factorial(n-1) = 1\n",
      "outside: factorial has been called with n = 1\n",
      "_________ intermediate result for  2  * factorial( 1 ):  2\n",
      "_________ intermediate result for  3  * factorial( 2 ):  6\n",
      "     inside else: the current factorial(n-1) = 6\n",
      "outside: factorial has been called with n = 3\n",
      "     inside else: the current n is = 3\n",
      "outside: factorial has been called with n = 2\n",
      "     inside else: the current n is = 2\n",
      "outside: factorial has been called with n = 1\n",
      "     inside else: the current factorial(n-1) = 1\n",
      "outside: factorial has been called with n = 1\n",
      "_________ intermediate result for  2  * factorial( 1 ):  2\n",
      "     inside else: the current factorial(n-1) = 2\n",
      "outside: factorial has been called with n = 2\n",
      "     inside else: the current n is = 2\n",
      "outside: factorial has been called with n = 1\n",
      "     inside else: the current factorial(n-1) = 1\n",
      "outside: factorial has been called with n = 1\n",
      "_________ intermediate result for  2  * factorial( 1 ):  2\n",
      "_________ intermediate result for  3  * factorial( 2 ):  6\n",
      "_________ intermediate result for  4  * factorial( 3 ):  24\n"
     ]
    },
    {
     "data": {
      "text/plain": [
       "24"
      ]
     },
     "execution_count": 29,
     "metadata": {},
     "output_type": "execute_result"
    }
   ],
   "source": [
    "factorial(4)"
   ]
  },
  {
   "cell_type": "markdown",
   "metadata": {},
   "source": [
    "## You can notice the duplicate calculations!\n",
    "\n",
    "When you look at the recursion this way, you can see there are duplicate calculations happening. Look how often the intermediate result of 2 is calculated. This is so important. Because it shows you why recursion without memory is quite wasteful. "
   ]
  },
  {
   "cell_type": "code",
   "execution_count": 32,
   "metadata": {},
   "outputs": [],
   "source": [
    "# Iterative factorial... \n",
    "\n",
    "def iterative_factorial(n): \n",
    "    result = 1\n",
    "    for i in range(2, n+1): \n",
    "        result *= i # remember this is a factorial, we're building this up\n",
    "    return result"
   ]
  },
  {
   "cell_type": "code",
   "execution_count": 31,
   "metadata": {},
   "outputs": [
    {
     "data": {
      "text/plain": [
       "24"
      ]
     },
     "execution_count": 31,
     "metadata": {},
     "output_type": "execute_result"
    }
   ],
   "source": [
    "iterative_factorial(4)"
   ]
  },
  {
   "cell_type": "code",
   "execution_count": null,
   "metadata": {},
   "outputs": [],
   "source": []
  },
  {
   "cell_type": "code",
   "execution_count": null,
   "metadata": {},
   "outputs": [],
   "source": []
  }
 ],
 "metadata": {
  "kernelspec": {
   "display_name": "Python 3",
   "language": "python",
   "name": "python3"
  },
  "language_info": {
   "codemirror_mode": {
    "name": "ipython",
    "version": 3
   },
   "file_extension": ".py",
   "mimetype": "text/x-python",
   "name": "python",
   "nbconvert_exporter": "python",
   "pygments_lexer": "ipython3",
   "version": "3.6.2"
  }
 },
 "nbformat": 4,
 "nbformat_minor": 2
}
