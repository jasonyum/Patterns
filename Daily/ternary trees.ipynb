{
 "cells": [
  {
   "cell_type": "markdown",
   "metadata": {},
   "source": [
    "A ternary search tree is a trie-like data structure where each node may have up to three children. Here is an example which represents the words code, cob, be, ax, war, and we.\n",
    "\n",
    "```\n",
    "       c\n",
    "    /  |  \\\n",
    "   b   o   w\n",
    " / |   |   |\n",
    "a  e   d   a\n",
    "|    / |   | \\ \n",
    "x   b  e   r  e  \n",
    "\n",
    "```\n",
    "\n",
    "implement insertion and search functions for the tree. "
   ]
  },
  {
   "cell_type": "code",
   "execution_count": 1,
   "metadata": {},
   "outputs": [],
   "source": [
    "class Node: \n",
    "    def __init__(self, data): \n",
    "        self.data = data\n",
    "        self.left = None\n",
    "        self.mid = None\n",
    "        self.right = None\n",
    "        self.end = False"
   ]
  },
  {
   "cell_type": "code",
   "execution_count": 3,
   "metadata": {},
   "outputs": [],
   "source": [
    "class TernaryTree: \n",
    "    def __init__(self): \n",
    "        self.root = None\n",
    "        \n",
    "    def _insert(self, node, word): \n",
    "        if not word: \n",
    "            return node\n",
    "        \n",
    "        head, tail = word[0], word[1:] \n",
    "        if not node: \n",
    "            node = Node(head) \n",
    "            \n",
    "        if head < node.data: \n",
    "            node.left = self._insert(node.left, word)\n",
    "        elif head > node.data: \n",
    "            node.right = self._insert(node.right, word) \n",
    "        else: \n",
    "            if not tail: \n",
    "                node.end = True\n",
    "            else: \n",
    "                node.mid = self._insert(node.mid, tail) \n",
    "        \n",
    "        return node\n",
    "\n",
    "    def insert(self, word): \n",
    "        self.root = self._insert(self.root, word)"
   ]
  },
  {
   "cell_type": "code",
   "execution_count": 4,
   "metadata": {},
   "outputs": [],
   "source": [
    "class TernaryTree:\n",
    "    def __init__(self):\n",
    "        self.root = None\n",
    "\n",
    "    def _search(self, node, word):\n",
    "        if not node or not word:\n",
    "            return False\n",
    "\n",
    "        head, tail = word[0], word[1:]\n",
    "        if head < node.data:\n",
    "            return self._search(node.left, word)\n",
    "        elif head > node.data:\n",
    "            return self._search(node.right, word)\n",
    "        else:\n",
    "            if not tail and node.end:\n",
    "                return True\n",
    "            return self._search(node.mid, tail)\n",
    "\n",
    "    def search(self, word):\n",
    "        return self._search(self.root, word)"
   ]
  },
  {
   "cell_type": "code",
   "execution_count": null,
   "metadata": {},
   "outputs": [],
   "source": []
  }
 ],
 "metadata": {
  "kernelspec": {
   "display_name": "Python 3",
   "language": "python",
   "name": "python3"
  },
  "language_info": {
   "codemirror_mode": {
    "name": "ipython",
    "version": 3
   },
   "file_extension": ".py",
   "mimetype": "text/x-python",
   "name": "python",
   "nbconvert_exporter": "python",
   "pygments_lexer": "ipython3",
   "version": "3.6.2"
  }
 },
 "nbformat": 4,
 "nbformat_minor": 2
}
