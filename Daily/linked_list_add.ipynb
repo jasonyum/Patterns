{
 "cells": [
  {
   "cell_type": "code",
   "execution_count": null,
   "metadata": {},
   "outputs": [],
   "source": [
    "class Node: \n",
    "    def __init__(self, val, next=None): \n",
    "        self.val = val\n",
    "        self.next = next\n",
    "        \n",
    "def add(node0, node1, carry=0): \n",
    "    if not node0 and not node1 and not carry: \n",
    "        return None\n",
    "    \n",
    "    node0_val = node0.val if node0 else 0\n",
    "    node1_val = node1.val if node1 else 0 \n",
    "    total = node0_val + node1_val + carry\n",
    "    \n",
    "    node0_next = node0.next if node0 else None\n",
    "    node1_next = node1.next if node1 else None\n",
    "    carry_next = 1 if total >= 10 else 0 \n",
    "    \n",
    "    return Node(total % 10, add(add0_next, node1_next, carry_next))\n",
    "\n",
    "# runs in O(max(m,n)) time where m and n are lengths of the linked list"
   ]
  }
 ],
 "metadata": {
  "kernelspec": {
   "display_name": "Python 3",
   "language": "python",
   "name": "python3"
  },
  "language_info": {
   "codemirror_mode": {
    "name": "ipython",
    "version": 3
   },
   "file_extension": ".py",
   "mimetype": "text/x-python",
   "name": "python",
   "nbconvert_exporter": "python",
   "pygments_lexer": "ipython3",
   "version": "3.6.2"
  }
 },
 "nbformat": 4,
 "nbformat_minor": 2
}
