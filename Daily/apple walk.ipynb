{
 "cells": [
  {
   "cell_type": "markdown",
   "metadata": {},
   "source": [
    "A girl is walking along an apple orchard with a bag in each hand. She likes to pick apples from each tree as she goes along, but is meticulous about not putting different kinds of apples in the same bag.\n",
    "\n",
    "Given an input describing the types of apples she will pass on her path, in order, determine the length of the longest portion of her path that consists of just two types of apple trees.\n",
    "\n",
    "For example, given the input [2, 1, 2, 3, 3, 1, 3, 5], the longest portion will involve types 1 and 3, with a length of four."
   ]
  },
  {
   "cell_type": "code",
   "execution_count": 16,
   "metadata": {},
   "outputs": [],
   "source": [
    "test_arr = [2,1,2,3,3,1,3,5]"
   ]
  },
  {
   "cell_type": "markdown",
   "metadata": {},
   "source": [
    "Keep track of a couple of things to get the optimal linear time solution. \n",
    "\n",
    "1) The two types of apples that are currently being collected, a and b.\n",
    "2) the number of times we've consecutively picked the most recent type of apple\n",
    "3) the current count of trees recently seen with apples a and b.\n",
    "\n",
    "Either the next tree you encounter is new, or it contains apples of one of the two types we are already collecting. \n",
    "\n",
    "If the tree is new.. then the bags should hold apples of this new type, and apples that match the last one picked. Current count is then reset to last_picked + 1."
   ]
  },
  {
   "cell_type": "code",
   "execution_count": 1,
   "metadata": {},
   "outputs": [],
   "source": [
    "def applePath(trees): \n",
    "    \n",
    "    a, b = trees[0], trees[1] # first two\n",
    "    last_picked = b\n",
    "    last_picked_count = (a == b)\n",
    "    max_length_path = curr = 1\n",
    "    \n",
    "    for tree in trees[1:]: \n",
    "        if tree not in (a,b): \n",
    "            a, b = last_picked, tree\n",
    "            last_picked = tree\n",
    "            curr = last_picked_count + 1\n",
    "        else: \n",
    "            curr += 1\n",
    "            if last_picked == tree:\n",
    "                last_picked_count += 1\n",
    "            else: \n",
    "                last_picked = tree\n",
    "                last_picked_count = 1\n",
    "                \n",
    "        max_length_path = max(curr, max_length_path) \n",
    "    \n",
    "    return max_length_path\n",
    "\n",
    "# only iterate over the input once, and update a constant number of variables in the process\n",
    "# this is sort of a cool design principle. \n",
    "\n",
    "# one pass lets you do this is O(N) time and O(1) space. "
   ]
  },
  {
   "cell_type": "markdown",
   "metadata": {},
   "source": [
    "## Let's just do the brute force method."
   ]
  },
  {
   "cell_type": "code",
   "execution_count": 99,
   "metadata": {},
   "outputs": [],
   "source": [
    "def appleBrute(path): \n",
    "    \n",
    "    count_found = []\n",
    "    for index in range(len(path)-1):\n",
    "        \n",
    "        ref_tree = path.pop(0)\n",
    "        count = 1\n",
    "        red_flag = 0\n",
    "        partner_tree = _ \n",
    "        \n",
    "        for i in range(len(path)):\n",
    "            \n",
    "            # check if there's a match to either the reference tree or the \"partner\" exception. \n",
    "            # if there is, count it.. if there isn't mark a red flag. \n",
    "            \n",
    "            if ref_tree == path[i] or partner_tree == path[i]: \n",
    "                count += 1 \n",
    "            else: \n",
    "                red_flag += 1\n",
    "                \n",
    "                # we don't allow more than one \"partner\" \n",
    "                # if we have seen more than one additional unique, exit loop \n",
    "                # assuming we've passed, you then want to add to the count\n",
    "                \n",
    "                if red_flag > 1: \n",
    "                    count_found.append(count) \n",
    "                    break\n",
    "                else: \n",
    "                    partner_tree = path[i]\n",
    "                    \n",
    "                count += 1\n",
    "            \n",
    "    return count_found, \"max found is: \", max(count_found)\n",
    "    "
   ]
  },
  {
   "cell_type": "code",
   "execution_count": 96,
   "metadata": {},
   "outputs": [
    {
     "data": {
      "text/plain": [
       "([3, 2, 3, 4, 3, 2], 'max found is: ', 4)"
      ]
     },
     "execution_count": 96,
     "metadata": {},
     "output_type": "execute_result"
    }
   ],
   "source": [
    "test_arr = [2,1,2,3,3,1,3,5]\n",
    "appleBrute(test_arr)"
   ]
  }
 ],
 "metadata": {
  "kernelspec": {
   "display_name": "Python 3",
   "language": "python",
   "name": "python3"
  },
  "language_info": {
   "codemirror_mode": {
    "name": "ipython",
    "version": 3
   },
   "file_extension": ".py",
   "mimetype": "text/x-python",
   "name": "python",
   "nbconvert_exporter": "python",
   "pygments_lexer": "ipython3",
   "version": "3.6.2"
  }
 },
 "nbformat": 4,
 "nbformat_minor": 2
}
