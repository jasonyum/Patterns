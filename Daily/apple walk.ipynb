{
 "cells": [
  {
   "cell_type": "markdown",
   "metadata": {},
   "source": [
    "A girl is walking along an apple orchard with a bag in each hand. She likes to pick apples from each tree as she goes along, but is meticulous about not putting different kinds of apples in the same bag.\n",
    "\n",
    "Given an input describing the types of apples she will pass on her path, in order, determine the length of the longest portion of her path that consists of just two types of apple trees.\n",
    "\n",
    "For example, given the input [2, 1, 2, 3, 3, 1, 3, 5], the longest portion will involve types 1 and 3, with a length of four."
   ]
  },
  {
   "cell_type": "code",
   "execution_count": 16,
   "metadata": {},
   "outputs": [],
   "source": [
    "test_arr = [2,1,2,3,3,1,3,5]"
   ]
  },
  {
   "cell_type": "code",
   "execution_count": 97,
   "metadata": {},
   "outputs": [],
   "source": [
    "def bad_appleWalk(path): # input path as list\n",
    "    \n",
    "    first = path.pop(0) # pop the first \n",
    "    second = path.pop(0) # pop the second \n",
    "    count = 2\n",
    "    max_found = []\n",
    "    print(path)\n",
    "    print(str(first) + \" \" + str(second))\n",
    "    \n",
    "    for index in range(len(path)): \n",
    "        \n",
    "        if path[index] == first or path[index] == second: \n",
    "            count+=1\n",
    "            max_found.append(count) \n",
    "            \n",
    "        else: \n",
    "            count = 2\n",
    "            first = path[index-1]\n",
    "            second = path[index]\n",
    "            print(str(first) + \" \" + str(second))\n",
    "\n",
    "    return max(max_found)"
   ]
  },
  {
   "cell_type": "code",
   "execution_count": 98,
   "metadata": {},
   "outputs": [
    {
     "name": "stdout",
     "output_type": "stream",
     "text": [
      "[2, 3, 3, 1, 3, 5]\n",
      "2 1\n",
      "2 3\n",
      "3 1\n",
      "3 5\n"
     ]
    },
    {
     "data": {
      "text/plain": [
       "3"
      ]
     },
     "execution_count": 98,
     "metadata": {},
     "output_type": "execute_result"
    }
   ],
   "source": [
    "test_arr = [2,1,2,3,3,1,3,5]\n",
    "bad_appleWalk(test_arr)\n",
    "\n",
    "## oops that doesn't work. "
   ]
  },
  {
   "cell_type": "markdown",
   "metadata": {},
   "source": [
    "## Let's just do the brute force method."
   ]
  },
  {
   "cell_type": "code",
   "execution_count": 99,
   "metadata": {},
   "outputs": [],
   "source": [
    "def appleBrute(path): \n",
    "    \n",
    "    count_found = []\n",
    "    for index in range(len(path)-1):\n",
    "        \n",
    "        ref_tree = path.pop(0)\n",
    "        count = 1\n",
    "        red_flag = 0\n",
    "        partner_tree = _ \n",
    "        \n",
    "        for i in range(len(path)):\n",
    "            \n",
    "            # check if there's a match to either the reference tree or the \"partner\" exception. \n",
    "            # if there is, count it.. if there isn't mark a red flag. \n",
    "            \n",
    "            if ref_tree == path[i] or partner_tree == path[i]: \n",
    "                count += 1 \n",
    "            else: \n",
    "                red_flag += 1\n",
    "                \n",
    "                # we don't allow more than one \"partner\" \n",
    "                # if we have seen more than one additional unique, exit loop \n",
    "                # assuming we've passed, you then want to add to the count\n",
    "                \n",
    "                if red_flag > 1: \n",
    "                    count_found.append(count) \n",
    "                    break\n",
    "                else: \n",
    "                    partner_tree = path[i]\n",
    "                    \n",
    "                count += 1\n",
    "            \n",
    "    return count_found, \"max found is: \", max(count_found)\n",
    "    "
   ]
  },
  {
   "cell_type": "code",
   "execution_count": 96,
   "metadata": {},
   "outputs": [
    {
     "data": {
      "text/plain": [
       "([3, 2, 3, 4, 3, 2], 'max found is: ', 4)"
      ]
     },
     "execution_count": 96,
     "metadata": {},
     "output_type": "execute_result"
    }
   ],
   "source": [
    "test_arr = [2,1,2,3,3,1,3,5]\n",
    "appleBrute(test_arr)"
   ]
  },
  {
   "cell_type": "code",
   "execution_count": null,
   "metadata": {},
   "outputs": [],
   "source": []
  }
 ],
 "metadata": {
  "kernelspec": {
   "display_name": "Python 3",
   "language": "python",
   "name": "python3"
  },
  "language_info": {
   "codemirror_mode": {
    "name": "ipython",
    "version": 3
   },
   "file_extension": ".py",
   "mimetype": "text/x-python",
   "name": "python",
   "nbconvert_exporter": "python",
   "pygments_lexer": "ipython3",
   "version": "3.6.2"
  }
 },
 "nbformat": 4,
 "nbformat_minor": 2
}
