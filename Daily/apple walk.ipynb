{
 "cells": [
  {
   "cell_type": "markdown",
   "metadata": {},
   "source": [
    "A girl is walking along an apple orchard with a bag in each hand. She likes to pick apples from each tree as she goes along, but is meticulous about not putting different kinds of apples in the same bag.\n",
    "\n",
    "Given an input describing the types of apples she will pass on her path, in order, determine the length of the longest portion of her path that consists of just two types of apple trees.\n",
    "\n",
    "For example, given the input [2, 1, 2, 3, 3, 1, 3, 5], the longest portion will involve types 1 and 3, with a length of four."
   ]
  },
  {
   "cell_type": "code",
   "execution_count": 16,
   "metadata": {},
   "outputs": [],
   "source": [
    "test_arr = [2,1,2,3,3,1,3,5]"
   ]
  },
  {
   "cell_type": "code",
   "execution_count": 48,
   "metadata": {},
   "outputs": [],
   "source": [
    "def appleWalk(path): # input path as list\n",
    "    \n",
    "    first = path.pop(0) # pop the first \n",
    "    second = path.pop(0) # pop the second \n",
    "    count = 2\n",
    "    max_found = []\n",
    "    print(path)\n",
    "    print(str(first) + \" \" + str(second))\n",
    "    \n",
    "    for index in range(len(path)): \n",
    "        \n",
    "        if path[index] == first or path[index] == second: \n",
    "            count+=1\n",
    "            max_found.append(count) \n",
    "            \n",
    "        else: \n",
    "            count = 2\n",
    "            first = path[index-1]\n",
    "            second = path[index]\n",
    "            print(str(first) + \" \" + str(second))\n",
    "\n",
    "    return max(max_found)"
   ]
  },
  {
   "cell_type": "code",
   "execution_count": 49,
   "metadata": {},
   "outputs": [
    {
     "name": "stdout",
     "output_type": "stream",
     "text": [
      "[2, 3, 3, 1, 3, 5]\n",
      "2 1\n",
      "2 3\n",
      "3 1\n",
      "3 5\n"
     ]
    },
    {
     "data": {
      "text/plain": [
       "3"
      ]
     },
     "execution_count": 49,
     "metadata": {},
     "output_type": "execute_result"
    }
   ],
   "source": [
    "test_arr = [2,1,2,3,3,1,3,5]\n",
    "appleWalk(test_arr)\n",
    "\n",
    "## oops that doesn't work. "
   ]
  },
  {
   "cell_type": "code",
   "execution_count": null,
   "metadata": {},
   "outputs": [],
   "source": []
  }
 ],
 "metadata": {
  "kernelspec": {
   "display_name": "Python 3",
   "language": "python",
   "name": "python3"
  },
  "language_info": {
   "codemirror_mode": {
    "name": "ipython",
    "version": 3
   },
   "file_extension": ".py",
   "mimetype": "text/x-python",
   "name": "python",
   "nbconvert_exporter": "python",
   "pygments_lexer": "ipython3",
   "version": "3.6.2"
  }
 },
 "nbformat": 4,
 "nbformat_minor": 2
}
