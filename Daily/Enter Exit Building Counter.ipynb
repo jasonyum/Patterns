{
 "cells": [
  {
   "cell_type": "markdown",
   "metadata": {},
   "source": [
    "# Enter Exit Building Counter\n",
    "\n",
    "You are given a list of data entries that represent entries and exits of groups of people into a building. An entry looks like this:\n",
    "\n",
    "{\"timestamp\": 1526579928, count: 3, \"type\": \"enter\"}\n",
    "\n",
    "This means 3 people entered the building. An exit looks like this:\n",
    "\n",
    "{\"timestamp\": 1526580382, count: 2, \"type\": \"exit\"}\n",
    "\n",
    "This means that 2 people exited the building. timestamp is in Unix time.\n",
    "\n",
    "Find the busiest period in the building, that is, the time with the most people in the building. Return it as a pair of (start, end) timestamps. You can assume the building always starts off and ends up empty, i.e. with 0 people inside."
   ]
  },
  {
   "cell_type": "code",
   "execution_count": 2,
   "metadata": {},
   "outputs": [],
   "source": [
    "# First thing you want to do is take a cumulative sum of the dictionaries. \n",
    "# You're given a list of data entries and each entry is a dictionary. \n",
    "\n",
    "data = [{\"timestamp\": 1526579928, \"count\": 3, \"type\": \"enter\"},\n",
    "        {\"timestamp\": 1526580382, \"count\": 2, \"type\": \"exit\"}]"
   ]
  },
  {
   "cell_type": "code",
   "execution_count": 3,
   "metadata": {},
   "outputs": [
    {
     "data": {
      "text/plain": [
       "{'timestamp': 1526579928, 'count': 3, 'type': 'enter'}"
      ]
     },
     "execution_count": 3,
     "metadata": {},
     "output_type": "execute_result"
    }
   ],
   "source": [
    "data[0]"
   ]
  },
  {
   "cell_type": "code",
   "execution_count": 4,
   "metadata": {},
   "outputs": [
    {
     "data": {
      "text/plain": [
       "{'timestamp': 1526580382, 'count': 2, 'type': 'exit'}"
      ]
     },
     "execution_count": 4,
     "metadata": {},
     "output_type": "execute_result"
    }
   ],
   "source": [
    "data[1]"
   ]
  },
  {
   "cell_type": "code",
   "execution_count": 5,
   "metadata": {},
   "outputs": [
    {
     "data": {
      "text/plain": [
       "1526579928"
      ]
     },
     "execution_count": 5,
     "metadata": {},
     "output_type": "execute_result"
    }
   ],
   "source": [
    "data[0][\"timestamp\"]"
   ]
  },
  {
   "cell_type": "code",
   "execution_count": 6,
   "metadata": {},
   "outputs": [
    {
     "data": {
      "text/plain": [
       "3"
      ]
     },
     "execution_count": 6,
     "metadata": {},
     "output_type": "execute_result"
    }
   ],
   "source": [
    "data[0][\"count\"]"
   ]
  },
  {
   "cell_type": "code",
   "execution_count": 13,
   "metadata": {},
   "outputs": [],
   "source": [
    "def enter_exit(data_entries): \n",
    "    cumulative_sum = 0 \n",
    "    collection = []\n",
    "    \n",
    "    for entry in data_entries: \n",
    "        cumulative_sum += entry[\"count\"] \n",
    "        collection.append(cumulative_sum)\n",
    "        \n",
    "    # returns the index of the highest value\n",
    "    index_val = collection.index(max(collection)) \n",
    "    \n",
    "    # now use that index to find the timestamp... \n",
    "    return data_entries[index_val][\"timestamp\"] "
   ]
  },
  {
   "cell_type": "code",
   "execution_count": 14,
   "metadata": {},
   "outputs": [],
   "source": [
    "data = [{\"timestamp\": 1526579928, \"count\": 3, \"type\": \"enter\"},\n",
    "        {\"timestamp\": 1526580385, \"count\": 5, \"type\": \"enter\"}, \n",
    "        {\"timestamp\": 1526580389, \"count\": 3, \"type\": \"enter\"}, # max achieved\n",
    "        {\"timestamp\": 1526580392, \"count\": 1, \"type\": \"exit\"},\n",
    "        {\"timestamp\": 1526580402, \"count\": 6, \"type\": \"exit\"}]"
   ]
  },
  {
   "cell_type": "code",
   "execution_count": 15,
   "metadata": {},
   "outputs": [
    {
     "data": {
      "text/plain": [
       "1526580402"
      ]
     },
     "execution_count": 15,
     "metadata": {},
     "output_type": "execute_result"
    }
   ],
   "source": [
    "enter_exit(data)"
   ]
  },
  {
   "cell_type": "code",
   "execution_count": null,
   "metadata": {},
   "outputs": [],
   "source": []
  }
 ],
 "metadata": {
  "kernelspec": {
   "display_name": "Python 3",
   "language": "python",
   "name": "python3"
  },
  "language_info": {
   "codemirror_mode": {
    "name": "ipython",
    "version": 3
   },
   "file_extension": ".py",
   "mimetype": "text/x-python",
   "name": "python",
   "nbconvert_exporter": "python",
   "pygments_lexer": "ipython3",
   "version": "3.6.2"
  }
 },
 "nbformat": 4,
 "nbformat_minor": 2
}
