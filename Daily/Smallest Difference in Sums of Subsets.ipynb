{
 "cells": [
  {
   "cell_type": "markdown",
   "metadata": {},
   "source": [
    "# Smallest Difference in Sums of Subsets\n",
    "\n",
    "Given an array of positive integers, divide the array into two subsets such that the difference between the sum of the subsets is as small as possible.\n",
    "\n",
    "For example, given `[5, 10, 15, 20, 25]`, return the sets `{10, 25}` and `{5, 15, 20}`, which has a difference of 5, which is the smallest possible difference."
   ]
  },
  {
   "cell_type": "code",
   "execution_count": 85,
   "metadata": {},
   "outputs": [],
   "source": [
    "''' Plan... \n",
    "- Sort the array\n",
    "- Distribute the largest numbers into two different arrays..\n",
    "- At each juncture, calculate the difference in sums...\n",
    "- Then continue to distribute numbers and compare the differences..?\n",
    "'''\n",
    "\n",
    "def small_differences(arr): \n",
    "    \n",
    "    sub1 = []\n",
    "    sub2 = [] \n",
    "    arr.sort() \n",
    "    diff_record = 1000 # some large number\n",
    "    half_floor_range = int(len(arr)/2 // 1) \n",
    "    # the // 1 returns the floor of the division, need to turn float into int\n",
    "    \n",
    "    for i in range(half_floor_range):\n",
    "        \n",
    "        # first check that we can distribute at least two\n",
    "        if len(arr) <= 1: \n",
    "            break\n",
    "        \n",
    "        sub1.append(arr.pop()) # distributing largest\n",
    "        sub2.append(arr.pop()) # distributing second largest\n",
    "        diff = sum(sub1) - sum(sub2)\n",
    "        \n",
    "        # the moment we get worse in the difference, exit \n",
    "        if diff <= diff_record: \n",
    "            diff_record = diff\n",
    "        elif diff > diff_record: \n",
    "            break\n",
    "    \n",
    "    return diff, sub1, sub2"
   ]
  },
  {
   "cell_type": "code",
   "execution_count": 86,
   "metadata": {},
   "outputs": [],
   "source": [
    "testARR = [5, 10, 15, 20, 25]"
   ]
  },
  {
   "cell_type": "code",
   "execution_count": 87,
   "metadata": {},
   "outputs": [
    {
     "data": {
      "text/plain": [
       "(10, [25, 15], [20, 10])"
      ]
     },
     "execution_count": 87,
     "metadata": {},
     "output_type": "execute_result"
    }
   ],
   "source": [
    "small_differences(testARR)"
   ]
  },
  {
   "cell_type": "markdown",
   "metadata": {},
   "source": [
    "### Ok, so one bug is that we didn't distribute the rest of the array\n",
    "\n",
    "- So what makes more sense is probably keeping the original arr and distributing\n",
    "- Pop every other item"
   ]
  },
  {
   "cell_type": "code",
   "execution_count": 88,
   "metadata": {},
   "outputs": [],
   "source": [
    "testARR1 = [5, 10, 15, 20, 25]"
   ]
  },
  {
   "cell_type": "code",
   "execution_count": 94,
   "metadata": {},
   "outputs": [],
   "source": [
    "def small_diff(arr): \n",
    "    \n",
    "    sub1 = []\n",
    "    arr.sort() \n",
    "    diff_record = 1000 # some large number\n",
    "    half_floor_range = int(len(arr)/2 // 1) \n",
    "    # the // 1 returns the floor of the division, need to turn float into int\n",
    "    \n",
    "    for i in range(half_floor_range):\n",
    "        \n",
    "        # first check that we can distribute at least two\n",
    "        if len(arr) <= 1: \n",
    "            break\n",
    "        \n",
    "        # distribute second largest with pop\n",
    "        # keep the rest of the arr in array\n",
    "        sub1.append(arr.pop(len(arr)-2))\n",
    "        diff = abs(sum(arr) - sum(sub1)) \n",
    "        \n",
    "        # the moment we get worse in the difference, exit \n",
    "        if diff <= diff_record: \n",
    "            diff_record = diff\n",
    "        elif diff > diff_record: \n",
    "            break\n",
    "    \n",
    "    return diff, sub1, arr"
   ]
  },
  {
   "cell_type": "code",
   "execution_count": 95,
   "metadata": {},
   "outputs": [
    {
     "data": {
      "text/plain": [
       "(5, [20, 15], [5, 10, 25])"
      ]
     },
     "execution_count": 95,
     "metadata": {},
     "output_type": "execute_result"
    }
   ],
   "source": [
    "testARR1 = [5, 10, 15, 20, 25]\n",
    "small_diff(testARR1) # nice this solves it, but i wonder if we're just getting lucky"
   ]
  },
  {
   "cell_type": "code",
   "execution_count": 96,
   "metadata": {},
   "outputs": [
    {
     "data": {
      "text/plain": [
       "(31, [55, 44, 33], [15, 20, 66])"
      ]
     },
     "execution_count": 96,
     "metadata": {},
     "output_type": "execute_result"
    }
   ],
   "source": [
    "testARR2 = [15,20,33,44,55,66]\n",
    "small_diff(testARR2) # oh ok ... need to add absolute value to diff"
   ]
  },
  {
   "cell_type": "code",
   "execution_count": 99,
   "metadata": {},
   "outputs": [
    {
     "data": {
      "text/plain": [
       "(2, [6, 5, 4], [1, 2, 3, 7])"
      ]
     },
     "execution_count": 99,
     "metadata": {},
     "output_type": "execute_result"
    }
   ],
   "source": [
    "testARR3 = [1,2,3,4,5,6,7]\n",
    "small_diff(testARR3) # this works"
   ]
  },
  {
   "cell_type": "code",
   "execution_count": 101,
   "metadata": {},
   "outputs": [
    {
     "data": {
      "text/plain": [
       "(2, [10, 7, 6, 5], [1, 2, 3, 4, 20])"
      ]
     },
     "execution_count": 101,
     "metadata": {},
     "output_type": "execute_result"
    }
   ],
   "source": [
    "testARR4 = [10,1,2,3,4,5,6,7,20]\n",
    "small_diff(testARR4) # wow nice"
   ]
  },
  {
   "cell_type": "code",
   "execution_count": null,
   "metadata": {},
   "outputs": [],
   "source": []
  }
 ],
 "metadata": {
  "kernelspec": {
   "display_name": "Python 3",
   "language": "python",
   "name": "python3"
  },
  "language_info": {
   "codemirror_mode": {
    "name": "ipython",
    "version": 3
   },
   "file_extension": ".py",
   "mimetype": "text/x-python",
   "name": "python",
   "nbconvert_exporter": "python",
   "pygments_lexer": "ipython3",
   "version": "3.6.2"
  }
 },
 "nbformat": 4,
 "nbformat_minor": 2
}
