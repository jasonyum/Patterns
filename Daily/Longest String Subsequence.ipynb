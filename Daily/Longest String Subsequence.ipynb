{
 "cells": [
  {
   "cell_type": "markdown",
   "metadata": {},
   "source": [
    "# Two Strings ... longest common subsequence\n",
    "\n",
    "Example: \n",
    "\n",
    "- \"ABAZDC\" , \"BACBAD\" => \"ABAD\" \n",
    "- \"AGGTAB\" , \"GXTXAYB\" => \"GTAB\" \n",
    "- \"aaaa\" , \"aa\" => \"aa\"\n",
    "\n",
    "This is a string manipulation question. In this question, you can delete characters (so the characters don't need to be next to each other), but you're looking for the largest continuous string. \n",
    "\n",
    "So I guess what you could do is ... break apart the strings into all of the different combinations out there. So if it's a six letter string there would be ... 1+2+3+4+5+6 different continuous letter combinations. I think this sort of holds even though there can be redundancies, so not exclusively different. \n",
    "\n",
    "1+2+3+4+5+6 = 21 (perhaps redundant) combinations\n",
    "\n",
    "\n",
    "Plan: \n",
    "- So what you can do is ... break up the string into many different strings. \n",
    "- Then, break up the second word into many different strings,.\n",
    "- Then, compare the two lists.\n",
    "- Check to see what pairs there are. Then store the lengths.\n",
    "- Finally, return the largest length pair. "
   ]
  },
  {
   "cell_type": "code",
   "execution_count": 22,
   "metadata": {},
   "outputs": [
    {
     "data": {
      "text/plain": [
       "'ABAZDC'"
      ]
     },
     "execution_count": 22,
     "metadata": {},
     "output_type": "execute_result"
    }
   ],
   "source": [
    "test_string = \"ABAZDC\"\n",
    "\n",
    "test_string[0:1] # A\n",
    "test_string[0:2] # AB\n",
    "test_string[0:3] # ABA\n",
    "test_string[0:4] # ABAZ\n",
    "test_string[0:len(test_string)] # full string"
   ]
  },
  {
   "cell_type": "code",
   "execution_count": 32,
   "metadata": {},
   "outputs": [],
   "source": [
    "storage = []\n",
    "for letter in range(len(test_string)): \n",
    "    for j in range(letter+1, len(test_string)+1):\n",
    "        storage.append(test_string[letter:j]) "
   ]
  },
  {
   "cell_type": "code",
   "execution_count": 49,
   "metadata": {},
   "outputs": [],
   "source": [
    "# storage \n",
    "# code works"
   ]
  },
  {
   "cell_type": "code",
   "execution_count": 50,
   "metadata": {},
   "outputs": [],
   "source": [
    "# let's formalize this into a function\n",
    "\n",
    "def combination_helper(word): \n",
    "    storage = [] \n",
    "    for letter in range(len(word)): \n",
    "        for j in range(letter+1, len(word)+1): \n",
    "            storage.append(word[letter:j])\n",
    "    return storage"
   ]
  },
  {
   "cell_type": "code",
   "execution_count": 51,
   "metadata": {},
   "outputs": [],
   "source": [
    "# combination_helper(\"ABAZDC\")\n",
    "# code works"
   ]
  },
  {
   "cell_type": "code",
   "execution_count": 73,
   "metadata": {},
   "outputs": [],
   "source": [
    "def longest_subsequence(first_word, second_word): \n",
    "    \n",
    "    # Create the two lists\n",
    "    first_storage = combination_helper(first_word)\n",
    "    second_storage = combination_helper(second_word)\n",
    "    \n",
    "    # Now start to find matches, can use \"in\" \n",
    "    collection = []\n",
    "    for value in first_storage: \n",
    "        if value in second_storage: \n",
    "            collection.append(value)\n",
    "    \n",
    "    # sort the collection based on length\n",
    "    collection.sort(key = len, reverse=True) # largest first \n",
    "    return collection[0]\n",
    "    "
   ]
  },
  {
   "cell_type": "code",
   "execution_count": 76,
   "metadata": {},
   "outputs": [
    {
     "data": {
      "text/plain": [
       "'BA'"
      ]
     },
     "execution_count": 76,
     "metadata": {},
     "output_type": "execute_result"
    }
   ],
   "source": [
    "# Oops! The problem here is that we aren't including the skips! so there are many \n",
    "# more combinations of the words here than we are actually capturing. \n",
    "# the problem is with our combination helper function, so rewrite that!\n",
    "longest_subsequence(\"ABAZDC\",\"BACBAD\")"
   ]
  },
  {
   "cell_type": "code",
   "execution_count": 78,
   "metadata": {},
   "outputs": [
    {
     "data": {
      "text/plain": [
       "['A',\n",
       " 'AB',\n",
       " 'ABA',\n",
       " 'ABAZ',\n",
       " 'ABAZD',\n",
       " 'ABAZDC',\n",
       " 'B',\n",
       " 'BA',\n",
       " 'BAZ',\n",
       " 'BAZD',\n",
       " 'BAZDC',\n",
       " 'A',\n",
       " 'AZ',\n",
       " 'AZD',\n",
       " 'AZDC',\n",
       " 'Z',\n",
       " 'ZD',\n",
       " 'ZDC',\n",
       " 'D',\n",
       " 'DC',\n",
       " 'C']"
      ]
     },
     "execution_count": 78,
     "metadata": {},
     "output_type": "execute_result"
    }
   ],
   "source": [
    "combination_helper(\"ABAZDC\")\n",
    "# see... so BZDC is missing for instance!"
   ]
  },
  {
   "cell_type": "code",
   "execution_count": null,
   "metadata": {},
   "outputs": [],
   "source": []
  }
 ],
 "metadata": {
  "kernelspec": {
   "display_name": "Python 3",
   "language": "python",
   "name": "python3"
  },
  "language_info": {
   "codemirror_mode": {
    "name": "ipython",
    "version": 3
   },
   "file_extension": ".py",
   "mimetype": "text/x-python",
   "name": "python",
   "nbconvert_exporter": "python",
   "pygments_lexer": "ipython3",
   "version": "3.6.2"
  }
 },
 "nbformat": 4,
 "nbformat_minor": 2
}
