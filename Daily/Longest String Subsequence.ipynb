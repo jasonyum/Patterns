{
 "cells": [
  {
   "cell_type": "markdown",
   "metadata": {},
   "source": [
    "# Two Strings ... longest common subsequence\n",
    "\n",
    "Example: \n",
    "\n",
    "- \"ABAZDC\" , \"BACBAD\" => \"ABAD\" \n",
    "- \"AGGTAB\" , \"GXTXAYB\" => \"GTAB\" \n",
    "- \"aaaa\" , \"aa\" => \"aa\"\n",
    "\n",
    "This is a string manipulation question. In this question, you can delete characters (so the characters don't need to be next to each other), but you're looking for the largest continuous string. \n",
    "\n",
    "So I guess what you could do is ... break apart the strings into all of the different combinations out there. So if it's a six letter string there would be ... 1+2+3+4+5+6 different continuous letter combinations. I think this sort of holds even though there can be redundancies, so not exclusively different. \n",
    "\n",
    "1+2+3+4+5+6 = 21 (perhaps redundant) combinations\n",
    "\n",
    "\n",
    "Plan: \n",
    "- So what you can do is ... break up the string into many different strings. \n",
    "- Then, break up the second word into many different strings,.\n",
    "- Then, compare the two lists.\n",
    "- Check to see what pairs there are. Then store the lengths.\n",
    "- Finally, return the largest length pair. "
   ]
  },
  {
   "cell_type": "code",
   "execution_count": 7,
   "metadata": {},
   "outputs": [
    {
     "data": {
      "text/plain": [
       "'A'"
      ]
     },
     "execution_count": 7,
     "metadata": {},
     "output_type": "execute_result"
    }
   ],
   "source": [
    "test_string = \"ABAZDC\"\n",
    "\n"
   ]
  },
  {
   "cell_type": "code",
   "execution_count": null,
   "metadata": {},
   "outputs": [],
   "source": []
  }
 ],
 "metadata": {
  "kernelspec": {
   "display_name": "Python 3",
   "language": "python",
   "name": "python3"
  },
  "language_info": {
   "codemirror_mode": {
    "name": "ipython",
    "version": 3
   },
   "file_extension": ".py",
   "mimetype": "text/x-python",
   "name": "python",
   "nbconvert_exporter": "python",
   "pygments_lexer": "ipython3",
   "version": "3.6.2"
  }
 },
 "nbformat": 4,
 "nbformat_minor": 2
}
