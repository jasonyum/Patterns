{
 "cells": [
  {
   "cell_type": "markdown",
   "metadata": {},
   "source": [
    "### Classes & Metaclasses\n",
    "From a great talk by James Powell\n",
    "\n",
    "Link: https://www.youtube.com/watch?v=7lmCu8wz8ro\n"
   ]
  },
  {
   "cell_type": "code",
   "execution_count": 1,
   "metadata": {},
   "outputs": [],
   "source": [
    "class Polynomial:\n",
    "    def __init__(self, *coeffs):\n",
    "        self.coeffs = coeffs\n",
    "        \n",
    "    # repr = represent \n",
    "    # the *{!r} is the repr ... \n",
    "    def __repr__(self):\n",
    "        return 'Polynomial(*{!r})'.format(self.coeffs)\n",
    "    \n",
    "    # zip() takes an iterable and outputs an iterable... \n",
    "    def __add__(self, other):\n",
    "        return Polynomial(*(x + y for x, y in zip(self.coeffs, other.coeffs)))\n",
    "    \n",
    "    # you have to look at the documentation... len is pre-defined in some sense\n",
    "    # len is thematically in the documentation, to evoke some sense of size\n",
    "    # the pattern is to think of the higher level function acting on self... hence len(self.coeffs) \n",
    "    def __len__(self):\n",
    "        return len(self.coeffs)\n",
    "    \n",
    "    def __call__(self):\n",
    "        pass"
   ]
  },
  {
   "cell_type": "code",
   "execution_count": 2,
   "metadata": {},
   "outputs": [
    {
     "data": {
      "text/plain": [
       "Polynomial(*(4, 6, 6))"
      ]
     },
     "execution_count": 2,
     "metadata": {},
     "output_type": "execute_result"
    }
   ],
   "source": [
    "p1 = Polynomial(1, 2, 3)\n",
    "p2 = Polynomial(3, 4, 3)\n",
    "\n",
    "p1 + p2"
   ]
  },
  {
   "cell_type": "code",
   "execution_count": 3,
   "metadata": {},
   "outputs": [
    {
     "data": {
      "text/plain": [
       "3"
      ]
     },
     "execution_count": 3,
     "metadata": {},
     "output_type": "execute_result"
    }
   ],
   "source": [
    "len(p1) "
   ]
  },
  {
   "cell_type": "markdown",
   "metadata": {},
   "source": [
    "### Metaclasses \n",
    "\n"
   ]
  },
  {
   "cell_type": "code",
   "execution_count": 4,
   "metadata": {},
   "outputs": [],
   "source": [
    "# File 1 - library.py\n",
    "# This is the infrastructure side... \n",
    "class Base:\n",
    "    def food(self):\n",
    "        return 'foo'"
   ]
  },
  {
   "cell_type": "code",
   "execution_count": 13,
   "metadata": {},
   "outputs": [],
   "source": [
    "# File2 - user.py\n",
    "# This is the user developer side... assert that this exists in the library side before you execute. \n",
    "# This way, you can catch the error before you go into production. \n",
    "assert hasattr(Base, 'foo'), \"you broke it, you fool!\"\n",
    "\n",
    "class Derived(Base):\n",
    "    def bar(self):\n",
    "        return self.foo"
   ]
  },
  {
   "cell_type": "code",
   "execution_count": 6,
   "metadata": {},
   "outputs": [],
   "source": [
    "# File 1 - library.py\n",
    "# now the shoe is on the other foot... \n",
    "# and now the library side is using somethin that's made on the user side??? not sure (RETURN TO THIS)\n",
    "\n",
    "\n",
    "class Base:\n",
    "    def foo(self):\n",
    "        return self.bar()\n",
    "    "
   ]
  },
  {
   "cell_type": "code",
   "execution_count": 7,
   "metadata": {},
   "outputs": [],
   "source": [
    "# File2 - user.py\n",
    "\n",
    "assert hasattr(Base, 'foo'), \"you broke it, you fool!\"\n",
    "\n",
    "class Derived(Base):\n",
    "    def bar(self):\n",
    "        return 'bar'"
   ]
  },
  {
   "cell_type": "code",
   "execution_count": 9,
   "metadata": {},
   "outputs": [
    {
     "data": {
      "text/plain": [
       "<function __main__.Derived.bar>"
      ]
     },
     "execution_count": 9,
     "metadata": {},
     "output_type": "execute_result"
    }
   ],
   "source": [
    "Derived.bar"
   ]
  },
  {
   "cell_type": "code",
   "execution_count": 10,
   "metadata": {},
   "outputs": [],
   "source": [
    "def _():\n",
    "    class Base:\n",
    "        pass\n",
    "\n",
    "from dis import dis"
   ]
  },
  {
   "cell_type": "code",
   "execution_count": 11,
   "metadata": {},
   "outputs": [
    {
     "name": "stdout",
     "output_type": "stream",
     "text": [
      "  2           0 LOAD_BUILD_CLASS\n",
      "              2 LOAD_CONST               1 (<code object Base at 0x1064e39c0, file \"<ipython-input-10-f0669648f7a8>\", line 2>)\n",
      "              4 LOAD_CONST               2 ('Base')\n",
      "              6 MAKE_FUNCTION            0\n",
      "              8 LOAD_CONST               2 ('Base')\n",
      "             10 CALL_FUNCTION            2\n",
      "             12 STORE_FAST               0 (Base)\n",
      "             14 LOAD_CONST               0 (None)\n",
      "             16 RETURN_VALUE\n"
     ]
    }
   ],
   "source": [
    "# dis = dissembles\n",
    "\n",
    "dis(_) # LOAD_BUILD_CLASS"
   ]
  },
  {
   "cell_type": "markdown",
   "metadata": {},
   "source": [
    "## Great introduction to decorators\n",
    "Core idea is to think about wrappers. If you have a function that returns a function... There is an important concept here as a closure object duality but we won't go into this. \n",
    "\n",
    "- Fundamentally, you can wrap wide swathes of functions without having to re-write a lot of user code or have a lot of churn in the library code. \n",
    "- `*args and  **kwargs` --> can take arbitrary parameter specs and forward it along in any fashion. `*args` is used to send a non-keyworded variable length argument to the function. `**kwargs` allows you to pass keyworded variable length of arguments to a function. You should use `**kwargs` if you want to handle named arguments in a function. \n"
   ]
  },
  {
   "cell_type": "code",
   "execution_count": 2,
   "metadata": {},
   "outputs": [
    {
     "name": "stdout",
     "output_type": "stream",
     "text": [
      "elapsed 9.5367431640625e-07\n",
      "add(10) 20\n",
      "elapsed 9.5367431640625e-07\n",
      "add(20,30) 50\n"
     ]
    }
   ],
   "source": [
    "from time import time\n",
    "\n",
    "# you can define functions anywhere, at run-time too\n",
    "def timer(func): \n",
    "    def f(*args, **kwargs): \n",
    "        before = time() # wrap the function with behavior before and after\n",
    "        rv = func(*args, **kwargs) # rv = return value\n",
    "        after = time() \n",
    "        print('elapsed', after - before) \n",
    "        return rv\n",
    "    return f\n",
    "\n",
    "@timer\n",
    "def add(x, y=10): \n",
    "    return x + y\n",
    "# the decorator replaces the need for this line below\n",
    "# a decorator is syntax that's equal to function = wrapper(function)\n",
    "# you can add in this functionality without needing to re-write this \n",
    "# extra user code...! now you can write it at the top.\n",
    "# add = timer(add)\n",
    "\n",
    "@timer\n",
    "def sub(x, y=10): \n",
    "    return x - y\n",
    "# sub = timer(sub)\n",
    "\n",
    "print('add(10)', add(10))\n",
    "print('add(20,30)', add(20,30))"
   ]
  },
  {
   "cell_type": "markdown",
   "metadata": {},
   "source": [
    "### Generators\n",
    "This is more than just laziness vs eagerness. Eagerness refers to this idea that irrespective of what we care about this function always takes the exact same amount of memory and the exact same amount of time. If we care only about the first element, it takes the same amount of memory and time as if we cared about the entire list of numbers. It `eagerly` gives the entire result and we're `waiting` for the entire result. \n",
    "\n",
    "- Generators inter-weave them... the idea of co-routines. \n",
    "- Sub-routines are pieces of executable code that run from a single entry point and one single exit point. They run and they're done. For library code, the sub-routine runs and then finishes in library code, and then the user code needs to pick it up. \n",
    "- For the generator, and the co-routine, as you ask for values the generator runs... some user code runs, generator runs and yields to the user code, the user code goes back and does its work, then goes back to the generator and asks for another value and so on. "
   ]
  },
  {
   "cell_type": "code",
   "execution_count": 4,
   "metadata": {},
   "outputs": [],
   "source": [
    "'''\n",
    "functionally, what is the difference here? --> probably none\n",
    "but what if you wanted to add state-ful behavior, then clearly\n",
    "there are different ways to do it for the class or the function\n",
    "'''\n",
    "\n",
    "def add(x,y): \n",
    "    return x + y\n",
    "\n",
    "class Adder: \n",
    "    \n",
    "    def __init__(self): \n",
    "        self.z = 0 \n",
    "    \n",
    "    def __call__(self, x, y):\n",
    "        return x + y + self.z \n",
    "\n",
    "add2 = Adder() "
   ]
  },
  {
   "cell_type": "code",
   "execution_count": 7,
   "metadata": {},
   "outputs": [],
   "source": [
    "from time import sleep \n",
    "\n",
    "def add1(x,y): \n",
    "    return x + y\n",
    "\n",
    "class Adder:\n",
    "    def __call__(self,x,y): \n",
    "        return x + y\n",
    "add2 = Adder() \n",
    "\n",
    "# Let's try to mimic a function that takes a while to get\n",
    "# information sent back to it, like we're pinging a network\n",
    "def compute(): \n",
    "    rv = []\n",
    "    for i in range(10): \n",
    "        sleep(.5) # so 10*0.5 = 5 seconds to run through\n",
    "        rv.append(i) \n",
    "    return rv"
   ]
  },
  {
   "cell_type": "code",
   "execution_count": 8,
   "metadata": {},
   "outputs": [
    {
     "data": {
      "text/plain": [
       "[0, 1, 2, 3, 4, 5, 6, 7, 8, 9]"
      ]
     },
     "execution_count": 8,
     "metadata": {},
     "output_type": "execute_result"
    }
   ],
   "source": [
    "compute() # takes 5 seconds\n",
    "\n",
    "# what if this is 1m entries? maybe you want to look at them 1 by 1!\n",
    "# and maybe if we can look at a couple of them and then throw it out\n",
    "# if it doesn't fit our parameters. "
   ]
  },
  {
   "cell_type": "code",
   "execution_count": 16,
   "metadata": {},
   "outputs": [],
   "source": [
    "# let's rewrite compute as a class\n",
    "\n",
    "from time import sleep \n",
    "\n",
    "def add1(x,y): \n",
    "    return x + y\n",
    "\n",
    "class Adder:\n",
    "    def __call__(self,x,y): \n",
    "        return x + y\n",
    "add2 = Adder() \n",
    "\n",
    "# nothing really changed... \n",
    "class Compute: \n",
    "    def __call__(self): \n",
    "        rv = []\n",
    "        for i in range(10): \n",
    "            sleep(5) \n",
    "            rv.append(i) \n",
    "        return rv\n",
    "    \n",
    "    def __iter__(self): \n",
    "        self.last = 0\n",
    "        return self\n",
    "\n",
    "    # looks at the last value we looked at \n",
    "    # sleeps.. then increments it by 1\n",
    "    # if we've looked at too many it stops the iteration\n",
    "    \n",
    "    # disclosure: this is a pain, AND generators are much cleaner!\n",
    "    def __next__(self): \n",
    "        rv = self.last\n",
    "        self.last += 1\n",
    "        if self.last > 10: \n",
    "            raise StopIteration()\n",
    "        sleep(0.5)\n",
    "        return rv\n",
    "    \n",
    "#for val in Compute():\n",
    "#    print(val)\n",
    "    \n",
    "# for x in xs: \n",
    "#    pass\n",
    "    \n",
    "# xi = iter(xs)    --> __iter__\n",
    "# while True: \n",
    "#    x = next(xi) --> __next__"
   ]
  },
  {
   "cell_type": "code",
   "execution_count": 15,
   "metadata": {},
   "outputs": [],
   "source": [
    "# this is very ugly ... so we use generators! \n",
    "# generator formulation!! \n",
    "\n",
    "def compute(): \n",
    "    for i in range(10): \n",
    "        sleep(0.5)\n",
    "        yield i\n",
    "        \n",
    "# for val in compute(): \n",
    "#     print(val)"
   ]
  },
  {
   "cell_type": "markdown",
   "metadata": {},
   "source": [
    "### Idea of sequencing & APIs\n",
    "Generators... it's more than a question of eagerness or laziness. The mental model at work here is that generators are a mechanism by which you can create code that can interweave with other code and enforce sequencing. The generator FORCES the sequencing on someone. The generator is a co-routine that interweaves user code and library code. "
   ]
  },
  {
   "cell_type": "code",
   "execution_count": 13,
   "metadata": {},
   "outputs": [],
   "source": [
    "# Api intends us to INTERWEAVE CODE.\n",
    "# that's why don't just clump up all the code into one. \n",
    "\n",
    "class Api: \n",
    "    def run_this_first(self): \n",
    "        first()\n",
    "    def run_this_second(self): \n",
    "        second()\n",
    "    def run_this_last(self): \n",
    "        last()\n",
    "        \n",
    "        \n",
    "class api(): \n",
    "    first()\n",
    "    yield\n",
    "    second()\n",
    "    yield\n",
    "    last() \n"
   ]
  },
  {
   "cell_type": "markdown",
   "metadata": {},
   "source": [
    "### Context Manager\n",
    "Common metaphor here... in C++ it's resource allocation initialization. It's this idea that you want to do some setup and teardown and you want to combine them. "
   ]
  },
  {
   "cell_type": "code",
   "execution_count": null,
   "metadata": {},
   "outputs": [],
   "source": []
  }
 ],
 "metadata": {
  "kernelspec": {
   "display_name": "Python 3",
   "language": "python",
   "name": "python3"
  },
  "language_info": {
   "codemirror_mode": {
    "name": "ipython",
    "version": 3
   },
   "file_extension": ".py",
   "mimetype": "text/x-python",
   "name": "python",
   "nbconvert_exporter": "python",
   "pygments_lexer": "ipython3",
   "version": "3.6.2"
  }
 },
 "nbformat": 4,
 "nbformat_minor": 2
}
