{
 "cells": [
  {
   "cell_type": "markdown",
   "metadata": {},
   "source": [
    "# No Repeat Characters! \n",
    "\n",
    "Given a string with repeated characters, rearrange the string so that no two adjacent characters are the same. If this is not possible, return None.\n",
    "\n",
    "For example, given \"aaabbc\", you could return \"ababac\". Given \"aaab\", return None."
   ]
  },
  {
   "cell_type": "code",
   "execution_count": 1,
   "metadata": {},
   "outputs": [],
   "source": [
    "# greedy approach...\n",
    "# keep popping the most frequent character from the string and add it to a new list\n",
    "# keep doing this until there aren't any more letters left... \n",
    "# if all the letters have been used, return the joined list. otherwise, None. \n",
    "\n",
    "from collections import defaultdict\n",
    "\n",
    "def rearrange(string): \n",
    "    frequencies = defaultdict(int) # int must be an expected argument of defaultdict\n",
    "    for letter in string: \n",
    "        frequencies[letter] += 1\n",
    "        \n",
    "    char, count = max(frequencies.items(), key=lambda x: x[1]) \n",
    "    frequencies.pop(char)\n",
    "    result = [char] \n",
    "    \n",
    "    while frequencies: \n",
    "        last_char, last_count = char, count\n",
    "        \n",
    "        char, count = max(frequencies.items(), key=lambda x: x[1])\n",
    "        frequencies.pop(char)\n",
    "        result.append(char)\n",
    "        \n",
    "        if last_count > 1: \n",
    "            frequencies[last_char] = last_count - 1\n",
    "    \n",
    "    if len(result) == len(string): \n",
    "        return \"\".join(result)\n",
    "    else: \n",
    "        return None\n",
    "    \n",
    "# Takes O(N^2) \n"
   ]
  },
  {
   "cell_type": "code",
   "execution_count": null,
   "metadata": {},
   "outputs": [],
   "source": [
    "# better version uses heaps! \n",
    "\n",
    "from collections import defaultdict\n",
    "import heapq\n",
    "\n",
    "def rearrange(string): \n",
    "    frequencies = defaultdict(int)\n",
    "    for letter in string: \n",
    "        frequencies[letter] += 1\n",
    "        \n",
    "    heap = []\n",
    "    for char, count in frequencies.items(): \n",
    "        heapq.heappush(heap, (-count, char))\n",
    "        \n",
    "    count, char = heapq.heappop(heap)\n",
    "    results = [char] \n",
    "    \n",
    "    while heap: \n",
    "        last = (count + 1, char)\n",
    "        count, char = heapq.heappop(heap)\n",
    "        result.append(char) \n",
    "        \n",
    "        if last[0] < 0: \n",
    "            heapq.heappush(heap, last)\n",
    "            \n",
    "    if len(result) == len(string): \n",
    "        return \"\".join(result)\n",
    "    else: \n",
    "        return None"
   ]
  }
 ],
 "metadata": {
  "kernelspec": {
   "display_name": "Python 3",
   "language": "python",
   "name": "python3"
  },
  "language_info": {
   "codemirror_mode": {
    "name": "ipython",
    "version": 3
   },
   "file_extension": ".py",
   "mimetype": "text/x-python",
   "name": "python",
   "nbconvert_exporter": "python",
   "pygments_lexer": "ipython3",
   "version": "3.6.2"
  }
 },
 "nbformat": 4,
 "nbformat_minor": 2
}
