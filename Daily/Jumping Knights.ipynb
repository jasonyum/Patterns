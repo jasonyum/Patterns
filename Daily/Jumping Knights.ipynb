{
 "cells": [
  {
   "cell_type": "markdown",
   "metadata": {},
   "source": [
    "## Jumping Knights\n",
    "\n",
    "A knight is placed on a given square on an 8 x 8 chessboard. It is then moved randomly several times, where each move is a standard knight move. If the knight jumps off the board at any point, however, it is not allowed to jump back on. After k moves, what is the probability that the knight remains on the board?"
   ]
  },
  {
   "cell_type": "code",
   "execution_count": 1,
   "metadata": {},
   "outputs": [],
   "source": [
    "def get_moves(x,y): \n",
    "    moves = [(1,2),(2,1),(-1,-2),(-2,-1),(1,-2),(-2,1),(2,-1),(-1,2)]\n",
    "    return [(x+i, y+j) for (i,j) in moves] # comprehension."
   ]
  },
  {
   "cell_type": "code",
   "execution_count": 4,
   "metadata": {},
   "outputs": [
    {
     "data": {
      "text/plain": [
       "[(3, 5), (4, 4), (1, 1), (0, 2), (3, 1), (0, 4), (4, 2), (1, 5)]"
      ]
     },
     "execution_count": 4,
     "metadata": {},
     "output_type": "execute_result"
    }
   ],
   "source": [
    "get_moves(2,3) # where can we go! - gives coordinates"
   ]
  },
  {
   "cell_type": "code",
   "execution_count": 5,
   "metadata": {},
   "outputs": [],
   "source": [
    "# you need some way to check whether it's on the board. \n",
    "# you know the board is an 8x8, so if x or y are in [0,7] you know you're good. \n",
    "\n",
    "def on_board(x,y): \n",
    "    return 0 <= x <= 7 and 0 <= y <= 7"
   ]
  },
  {
   "cell_type": "code",
   "execution_count": 8,
   "metadata": {},
   "outputs": [
    {
     "data": {
      "text/plain": [
       "True"
      ]
     },
     "execution_count": 8,
     "metadata": {},
     "output_type": "execute_result"
    }
   ],
   "source": [
    "on_board(1,10) # false\n",
    "on_board(3,3) # true"
   ]
  },
  {
   "cell_type": "code",
   "execution_count": 16,
   "metadata": {},
   "outputs": [],
   "source": [
    "def get_probability(x,y,k): \n",
    "    if k == 0: \n",
    "        return on_board(x,y) # final reduction case\n",
    "    if not on_board(x,y): \n",
    "        return 0 \n",
    "    \n",
    "    jumps = get_moves(x,y)\n",
    "    \n",
    "    # note k-1, recursive nature\n",
    "    # get_probability(x,y,k) calls get_probability(x,y,k-1)\n",
    "    # notice that jumps has 8 different paths to explore! gets slow quickly. \n",
    "    res = [get_probability(x,y,k-1) for x, y in jumps] \n",
    "    \n",
    "    return (1/8) * sum(res) # 1/8 to equal weight probabilities"
   ]
  },
  {
   "cell_type": "code",
   "execution_count": 22,
   "metadata": {},
   "outputs": [
    {
     "data": {
      "text/plain": [
       "0.15214335918426514"
      ]
     },
     "execution_count": 22,
     "metadata": {},
     "output_type": "execute_result"
    }
   ],
   "source": [
    "get_probability(3,3,8)"
   ]
  },
  {
   "cell_type": "markdown",
   "metadata": {},
   "source": [
    "### Improvement with memoization / dynamic prog\n",
    "You can cache each value of x,y, and k in a dictionary before returning the result."
   ]
  },
  {
   "cell_type": "code",
   "execution_count": 20,
   "metadata": {},
   "outputs": [],
   "source": [
    "# runs in O(N^2 *k) time and space, where N is the size of the chessboard.\n",
    "# Hence, here it's O(64*k) ... this is the worst case where you hit every square lol.\n",
    "\n",
    "def get_probability_memo(x, y, k, memo={}): \n",
    "    \n",
    "    # primary innovation is here... \n",
    "    if (x, y, k) in memo: \n",
    "        return memo[(x,y,k)] \n",
    "    \n",
    "    if k == 0: \n",
    "        return on_board(x,y)\n",
    "    if not on_board(x,y): \n",
    "        return 0 \n",
    "    \n",
    "    jumps = get_moves(x,y)\n",
    "    \n",
    "    # get_probability_memo now takes memo! \n",
    "    probs = [get_probability_memo(x,y,k-1,memo) for x, y in jumps] \n",
    "    memo[(x,y,k)] = 0.125 * sum(probs) # storing result in the memo.\n",
    "    \n",
    "    return memo[(x,y,k)] "
   ]
  },
  {
   "cell_type": "code",
   "execution_count": 21,
   "metadata": {},
   "outputs": [
    {
     "data": {
      "text/plain": [
       "0.15214335918426514"
      ]
     },
     "execution_count": 21,
     "metadata": {},
     "output_type": "execute_result"
    }
   ],
   "source": [
    "get_probability_memo(3,3,8)"
   ]
  },
  {
   "cell_type": "markdown",
   "metadata": {},
   "source": [
    "### Test the two time wise\n",
    "\n",
    "Wow. When you look at the times the speed is faster by more than 40,000x! ...."
   ]
  },
  {
   "cell_type": "code",
   "execution_count": 35,
   "metadata": {},
   "outputs": [],
   "source": [
    "import time"
   ]
  },
  {
   "cell_type": "code",
   "execution_count": 36,
   "metadata": {},
   "outputs": [
    {
     "name": "stdout",
     "output_type": "stream",
     "text": [
      "slow time: 2.8766331672668457\n",
      "fast time: 6.67572021484375e-05\n",
      "****************************************\n",
      "multiple faster: 43090.97857142857\n"
     ]
    }
   ],
   "source": [
    "start = time.time()\n",
    "get_probability(3,3,8)\n",
    "end = time.time()\n",
    "slow_version = end - start\n",
    "print(\"slow time: \" + str(slow_version))\n",
    "\n",
    "start = time.time()\n",
    "get_probability_memo(3,3,8)\n",
    "end = time.time()\n",
    "fast_version = end - start\n",
    "print(\"fast time: \" + str(fast_version))\n",
    "print(\"*\"*40)\n",
    "print(\"multiple faster: \" + str(slow_version/fast_version))"
   ]
  },
  {
   "cell_type": "code",
   "execution_count": null,
   "metadata": {},
   "outputs": [],
   "source": []
  }
 ],
 "metadata": {
  "kernelspec": {
   "display_name": "Python 3",
   "language": "python",
   "name": "python3"
  },
  "language_info": {
   "codemirror_mode": {
    "name": "ipython",
    "version": 3
   },
   "file_extension": ".py",
   "mimetype": "text/x-python",
   "name": "python",
   "nbconvert_exporter": "python",
   "pygments_lexer": "ipython3",
   "version": "3.6.2"
  }
 },
 "nbformat": 4,
 "nbformat_minor": 2
}
