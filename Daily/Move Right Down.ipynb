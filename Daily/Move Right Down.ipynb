{
 "cells": [
  {
   "cell_type": "markdown",
   "metadata": {},
   "source": [
    "## Count the ways...\n",
    "\n",
    "Given an N x M matrix of zeros... write a function to count the number of ways to get from the top-left corner to the bottom-right corner... you can only move right or down. \n",
    "\n",
    "Ex: 2x2 --> returns 2\n",
    "Ex: 5x5 --> returns 70\n",
    "\n",
    "\n",
    "This is clearly a dynamic programming question in disguise. Most questions where the naive solution is recursive in some ways are dynamic programming questions. For instance, it's clear that the 5x5 matrix at some point becomes a 2x2 matrix problem (as you move your way through). In fact, this reminds me of that staircase question, too. "
   ]
  },
  {
   "cell_type": "code",
   "execution_count": 1,
   "metadata": {},
   "outputs": [],
   "source": [
    "def num_ways(n,m):\n",
    "    if n == 1 or m ==1: \n",
    "        return 1\n",
    "    return num_ways(n-1, m) + num_ways(n, m-1)"
   ]
  },
  {
   "cell_type": "code",
   "execution_count": 2,
   "metadata": {},
   "outputs": [],
   "source": [
    "# this creates a lot of repeated subcomputations. \n",
    "# hence, we should use dynamic programming\n",
    "\n",
    "def num_ways(n,m): \n",
    "    A = [[0 for _ in range(m)] for _ in range(n)]\n",
    "    for i in range(n): \n",
    "        A[i][0] = 1\n",
    "    for j in range(m): \n",
    "        A[0][j] = 1\n",
    "    for i in range(1,n): \n",
    "        for j in range(1,m): \n",
    "            A[i][j] = A[i-1][j] + A[i][j-1]\n",
    "    return A[-1][-1] "
   ]
  },
  {
   "cell_type": "code",
   "execution_count": 3,
   "metadata": {},
   "outputs": [],
   "source": [
    "# this runs in O(N*M) time and space"
   ]
  },
  {
   "cell_type": "code",
   "execution_count": null,
   "metadata": {},
   "outputs": [],
   "source": []
  }
 ],
 "metadata": {
  "kernelspec": {
   "display_name": "Python 3",
   "language": "python",
   "name": "python3"
  },
  "language_info": {
   "codemirror_mode": {
    "name": "ipython",
    "version": 3
   },
   "file_extension": ".py",
   "mimetype": "text/x-python",
   "name": "python",
   "nbconvert_exporter": "python",
   "pygments_lexer": "ipython3",
   "version": "3.6.2"
  }
 },
 "nbformat": 4,
 "nbformat_minor": 2
}
