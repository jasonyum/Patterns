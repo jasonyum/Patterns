{
 "cells": [
  {
   "cell_type": "markdown",
   "metadata": {},
   "source": [
    "## Similarity Pairs with websites\n",
    "You are given a list of (website, user) pairs that represent users visiting websites. Come up with a program that identifies the top k pairs of websites with the greatest similarity.\n",
    "\n",
    "For example, suppose k = 1, and the list of tuples is:\n",
    "\n",
    "```\n",
    "[('a', 1), ('a', 3), ('a', 5),\n",
    " ('b', 2), ('b', 6),\n",
    " ('c', 1), ('c', 2), ('c', 3), ('c', 4), ('c', 5)\n",
    " ('d', 4), ('d', 5), ('d', 6), ('d', 7),\n",
    " ('e', 1), ('e', 3), ('e': 5), ('e', 6)]\n",
    "```\n",
    " \n",
    "Then a reasonable similarity metric would most likely conclude that a and e are the most similar, so your program should return [('a', 'e')]."
   ]
  },
  {
   "cell_type": "code",
   "execution_count": 1,
   "metadata": {},
   "outputs": [],
   "source": [
    "# what does similarity mean? \n",
    "\n",
    "def compute_similarity(a,b,visitors): \n",
    "    return len(visitors[a] & visitors[b]) / len(visitors[a] | visitors[b])\n"
   ]
  },
  {
   "cell_type": "code",
   "execution_count": 2,
   "metadata": {},
   "outputs": [],
   "source": [
    "def top_pairs(log, k): \n",
    "    visitors = defaultdict(set) \n",
    "    for site, user in log: \n",
    "        visitors[site].add(user)\n",
    "        \n",
    "    pairs = [] \n",
    "    sites = list(visitors.keys())\n",
    "    \n",
    "    for _ in range(k): \n",
    "        heapq.heappush(pairs, (0, ('', '')))\n",
    "    \n",
    "    for i in range(len(sites) -1): \n",
    "        for j in range(i + 1, len(sites)): \n",
    "            score = compute_similarity(sites[i], sites[j], visitors)\n",
    "            heapq.heappushpop(pairs, (score, (sites[i], sites[j])))\n",
    "        \n",
    "    return [pair[1] for pair in pairs]"
   ]
  },
  {
   "cell_type": "code",
   "execution_count": null,
   "metadata": {},
   "outputs": [],
   "source": []
  }
 ],
 "metadata": {
  "kernelspec": {
   "display_name": "Python 3",
   "language": "python",
   "name": "python3"
  },
  "language_info": {
   "codemirror_mode": {
    "name": "ipython",
    "version": 3
   },
   "file_extension": ".py",
   "mimetype": "text/x-python",
   "name": "python",
   "nbconvert_exporter": "python",
   "pygments_lexer": "ipython3",
   "version": "3.6.2"
  }
 },
 "nbformat": 4,
 "nbformat_minor": 2
}
