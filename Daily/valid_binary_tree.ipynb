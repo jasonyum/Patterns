{
 "cells": [
  {
   "cell_type": "markdown",
   "metadata": {},
   "source": [
    "# Determine whether a tree is a valid binary search tree.\n",
    "\n",
    "- binary search tree has two children, left and right. \n",
    "- satisfy the constraint that the key in the left child must be less than or equal to the root\n",
    "- right child = greater than or equal to the root"
   ]
  },
  {
   "cell_type": "code",
   "execution_count": 2,
   "metadata": {},
   "outputs": [],
   "source": [
    "class TreeNode: \n",
    "    def __init__(self, key): \n",
    "        self.left = None\n",
    "        self.right = None\n",
    "        self.key = key\n",
    "        \n",
    "def is_bst(root): \n",
    "    def is_bst_helper(root, min_key, max_key): \n",
    "        if root is None: \n",
    "            return True\n",
    "        if root.key <= min_key or root.key >= max_key: \n",
    "            return False\n",
    "        return is_bst_helper(root.left, min_key, root.key) and \\\n",
    "                is_bst_helper(root.right, root.key, max_key)\n",
    "        \n",
    "    return is_bst_helper(root, float('-inf'), float('inf'))"
   ]
  },
  {
   "cell_type": "code",
   "execution_count": 3,
   "metadata": {},
   "outputs": [],
   "source": [
    "# time complexity is O(N), needs to visit every node in the tree"
   ]
  },
  {
   "cell_type": "code",
   "execution_count": null,
   "metadata": {},
   "outputs": [],
   "source": []
  }
 ],
 "metadata": {
  "kernelspec": {
   "display_name": "Python 3",
   "language": "python",
   "name": "python3"
  },
  "language_info": {
   "codemirror_mode": {
    "name": "ipython",
    "version": 3
   },
   "file_extension": ".py",
   "mimetype": "text/x-python",
   "name": "python",
   "nbconvert_exporter": "python",
   "pygments_lexer": "ipython3",
   "version": "3.6.2"
  }
 },
 "nbformat": 4,
 "nbformat_minor": 2
}
