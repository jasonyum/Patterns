{
 "cells": [
  {
   "cell_type": "code",
   "execution_count": 1,
   "metadata": {},
   "outputs": [],
   "source": [
    "from collections import deque"
   ]
  },
  {
   "cell_type": "code",
   "execution_count": null,
   "metadata": {},
   "outputs": [],
   "source": [
    "def make_teams(kids): \n",
    "    teams = {0:[], 1:[]} \n",
    "    visited = set()\n",
    "    \n",
    "    while kids: \n",
    "        start = next(iter(kids))\n",
    "        if not assign(kids, teams, start, visited): \n",
    "            return False\n",
    "        \n",
    "    return teams\n",
    "\n",
    "def assign(kids, teams, start, visited): \n",
    "    queue = deque([start, 0)])\n",
    "    \n",
    "    while queue: \n",
    "        kid, team = queue.popleft()\n",
    "        teams[team].append(kid) \n",
    "        \n",
    "        enemies = kids.pop(kid)\n",
    "        for enemy in enemies: \n",
    "            if enemy in teams[team]: \n",
    "                return False\n",
    "            elif enemy not in visited:\n",
    "                queue.append((enemy, 1-team))\n",
    "                \n",
    "        visited.add(kid)\n",
    "    \n",
    "    return True\n",
    "    "
   ]
  }
 ],
 "metadata": {
  "kernelspec": {
   "display_name": "Python 3",
   "language": "python",
   "name": "python3"
  },
  "language_info": {
   "codemirror_mode": {
    "name": "ipython",
    "version": 3
   },
   "file_extension": ".py",
   "mimetype": "text/x-python",
   "name": "python",
   "nbconvert_exporter": "python",
   "pygments_lexer": "ipython3",
   "version": "3.6.2"
  }
 },
 "nbformat": 4,
 "nbformat_minor": 2
}
