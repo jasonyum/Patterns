{
 "cells": [
  {
   "cell_type": "markdown",
   "metadata": {},
   "source": [
    "# Shortest Standardized Path\n",
    "\n",
    "Given an absolute pathname that may have . or .. as part of it, return the shortest standardized path.\n",
    "\n",
    "For example, given \"/usr/bin/../bin/./scripts/../\", return \"/usr/bin/\"."
   ]
  },
  {
   "cell_type": "code",
   "execution_count": 2,
   "metadata": {},
   "outputs": [],
   "source": [
    "# Solve by using a stack\n",
    "\n",
    "\n",
    "def standardize(path): \n",
    "    stack = [] \n",
    "    path = path.split(\"/\") # splits string\n",
    "    \n",
    "    for segment in path: \n",
    "        if segment == \".\": # just keep going if you see \".\" \n",
    "            continue\n",
    "        elif segment == \"..\": \n",
    "            if len(stack) > 1: # check to see if stack already has part of the path\n",
    "                stack.pop()\n",
    "            else: \n",
    "                stack.append(segment) \n",
    "    return \"/\".join(stack) "
   ]
  },
  {
   "cell_type": "code",
   "execution_count": 3,
   "metadata": {},
   "outputs": [],
   "source": [
    "# solution is O(N) "
   ]
  },
  {
   "cell_type": "code",
   "execution_count": null,
   "metadata": {},
   "outputs": [],
   "source": []
  }
 ],
 "metadata": {
  "kernelspec": {
   "display_name": "Python 3",
   "language": "python",
   "name": "python3"
  },
  "language_info": {
   "codemirror_mode": {
    "name": "ipython",
    "version": 3
   },
   "file_extension": ".py",
   "mimetype": "text/x-python",
   "name": "python",
   "nbconvert_exporter": "python",
   "pygments_lexer": "ipython3",
   "version": "3.6.2"
  }
 },
 "nbformat": 4,
 "nbformat_minor": 2
}
