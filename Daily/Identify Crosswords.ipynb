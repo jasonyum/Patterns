{
 "cells": [
  {
   "cell_type": "markdown",
   "metadata": {},
   "source": [
    "## Crossword Criteria\n",
    "\n",
    "A typical American-style crossword puzzle grid is an N x N matrix with black and white squares, which obeys the following rules:\n",
    "\n",
    "- Every white square must be part of an \"across\" word and a \"down\" word.\n",
    "- No word can be fewer than three letters long.\n",
    "- Every white square must be reachable from every other white square.\n",
    "- The grid is rotationally symmetric (for example, the colors of the top left and bottom right - squares must match).\n",
    "\n",
    "Write a program to determine whether a given matrix qualifies as a crossword grid.\n",
    "\n",
    "\n",
    "### This is a matrix operation question in disguise"
   ]
  },
  {
   "cell_type": "code",
   "execution_count": null,
   "metadata": {},
   "outputs": [],
   "source": [
    "def has_valid_word_length(grid): \n",
    "    for row in grid: \n",
    "        word_length = 0 \n",
    "        \n",
    "        for square in row: \n",
    "            if square == 0: \n",
    "                word_length += 1\n",
    "            else: \n",
    "                if 0 < word_length < 3: \n",
    "                    return False\n",
    "                word_length = 0 \n",
    "                \n",
    "        if 0 < word_legnth < 3: \n",
    "            return False\n",
    "        \n",
    "    return True "
   ]
  }
 ],
 "metadata": {
  "kernelspec": {
   "display_name": "Python 3",
   "language": "python",
   "name": "python3"
  },
  "language_info": {
   "codemirror_mode": {
    "name": "ipython",
    "version": 3
   },
   "file_extension": ".py",
   "mimetype": "text/x-python",
   "name": "python",
   "nbconvert_exporter": "python",
   "pygments_lexer": "ipython3",
   "version": "3.6.2"
  }
 },
 "nbformat": 4,
 "nbformat_minor": 2
}
