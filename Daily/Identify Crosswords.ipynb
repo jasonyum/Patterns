{
 "cells": [
  {
   "cell_type": "markdown",
   "metadata": {},
   "source": [
    "## Crossword Criteria\n",
    "\n",
    "A typical American-style crossword puzzle grid is an N x N matrix with black and white squares, which obeys the following rules:\n",
    "\n",
    "- Every white square must be part of an \"across\" word and a \"down\" word.\n",
    "- No word can be fewer than three letters long.\n",
    "- Every white square must be reachable from every other white square.\n",
    "- The grid is rotationally symmetric (for example, the colors of the top left and bottom right - squares must match).\n",
    "\n",
    "Write a program to determine whether a given matrix qualifies as a crossword grid.\n",
    "\n",
    "\n",
    "### This is a matrix operation question in disguise\n",
    "\n",
    "- First you need to verify the word length. so you have to go through the grid.\n",
    "- Then you need to do grid rotation. This is a lot less straightforward"
   ]
  },
  {
   "cell_type": "code",
   "execution_count": 1,
   "metadata": {},
   "outputs": [],
   "source": [
    "def has_valid_word_length(grid): \n",
    "    for row in grid: \n",
    "        word_length = 0 \n",
    "        \n",
    "        for square in row: \n",
    "            if square == 0: \n",
    "                word_length += 1\n",
    "            else: \n",
    "                if 0 < word_length < 3: \n",
    "                    return False\n",
    "                word_length = 0 \n",
    "                \n",
    "        if 0 < word_legnth < 3: \n",
    "            return False\n",
    "        \n",
    "    return True "
   ]
  },
  {
   "cell_type": "code",
   "execution_count": 2,
   "metadata": {},
   "outputs": [],
   "source": [
    "def is_rotationally_symmetric(grid): \n",
    "    transpose = list(zip(*grid))\n",
    "    reverse = transpose[::-1]\n",
    "    transpose = list(zip(*grid))\n",
    "    reverse = transpose[::-1] \n",
    "    \n",
    "    return grid == list(map(list, reverse))"
   ]
  },
  {
   "cell_type": "code",
   "execution_count": 3,
   "metadata": {},
   "outputs": [],
   "source": [
    "def is_connected(grid): \n",
    "    count = sum([1 - square for row in grid for square in row])\n",
    "    \n",
    "    # find the first one to begin our search from\n",
    "    start = None\n",
    "    for i, row in enumerate(grid): \n",
    "        for j in row: \n",
    "            if grid[i][j] == 0: \n",
    "                start = (i, j) \n",
    "                break\n",
    "                \n",
    "    if not start: \n",
    "        return False\n",
    "    \n",
    "    # perform bfs, add each unvisited adjacent white square to a queue\n",
    "    queue = deque([start]) \n",
    "    visited = set()\n",
    "    connected_count = 0 \n",
    "    \n",
    "    while queue: \n",
    "        square = queue.popleft()\n",
    "        if square not in visited: \n",
    "            visited.add(square)\n",
    "            connected_count += 1\n",
    "            \n",
    "            i, j = square\n",
    "            for neighbor in [(i -1, j), (i+1, j), (i, j-1), (i, j+1)]:\n",
    "                row, col = neighbor\n",
    "                if (0 < row < len(grid) and 0 <= col < len(grid) and \n",
    "                   grid[row][col] == 0): \n",
    "                    queue.append(neighbor)\n",
    "                    \n",
    "    # check whether the visited count matches the overall count\n",
    "    return count == connected_count"
   ]
  },
  {
   "cell_type": "code",
   "execution_count": 6,
   "metadata": {},
   "outputs": [],
   "source": [
    "def is_valid(grid): \n",
    "    return (has_valid_word_length(grid) and \n",
    "            has_valid_word_length(zip(*grid)) and \n",
    "            is_rotationally_symmetric(grid) and \n",
    "            is_connected(grid))\n",
    "\n",
    "#Overall time and space complexity is O(N) "
   ]
  },
  {
   "cell_type": "code",
   "execution_count": null,
   "metadata": {},
   "outputs": [],
   "source": []
  }
 ],
 "metadata": {
  "kernelspec": {
   "display_name": "Python 3",
   "language": "python",
   "name": "python3"
  },
  "language_info": {
   "codemirror_mode": {
    "name": "ipython",
    "version": 3
   },
   "file_extension": ".py",
   "mimetype": "text/x-python",
   "name": "python",
   "nbconvert_exporter": "python",
   "pygments_lexer": "ipython3",
   "version": "3.6.2"
  }
 },
 "nbformat": 4,
 "nbformat_minor": 2
}
