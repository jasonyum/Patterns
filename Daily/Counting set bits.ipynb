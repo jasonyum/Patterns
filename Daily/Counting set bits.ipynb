{
 "cells": [
  {
   "cell_type": "code",
   "execution_count": 1,
   "metadata": {},
   "outputs": [],
   "source": [
    "def count_set_bits(num): \n",
    "    count = 0 \n",
    "    \n",
    "    while num > 0: \n",
    "        if num & 1 == 1: \n",
    "            count += 1\n",
    "        num >>= 1 \n",
    "        \n",
    "    return count"
   ]
  },
  {
   "cell_type": "code",
   "execution_count": 2,
   "metadata": {},
   "outputs": [],
   "source": [
    "# more pythonic\n",
    "# O(log N)\n",
    "\n",
    "def count_set_bits(num): \n",
    "    return bin(num).count('1') "
   ]
  },
  {
   "cell_type": "code",
   "execution_count": 3,
   "metadata": {},
   "outputs": [],
   "source": [
    "def total_set_bits(n): \n",
    "    total = 0 \n",
    "    for i in range(1, n+1): \n",
    "        total += count_set_bits(i) \n",
    "    return total "
   ]
  },
  {
   "cell_type": "code",
   "execution_count": 4,
   "metadata": {},
   "outputs": [],
   "source": [
    "def total_set_bits(n): \n",
    "    if n == 0: \n",
    "        return 0 \n",
    "    elif n % 2 == 1: \n",
    "        return (n+1) // 2 + 2 * total_set_bits(n//2) \n",
    "    else: \n",
    "        return count_set_bits(n) + total_set_bits(n-1) "
   ]
  },
  {
   "cell_type": "code",
   "execution_count": null,
   "metadata": {},
   "outputs": [],
   "source": []
  }
 ],
 "metadata": {
  "kernelspec": {
   "display_name": "Python 3",
   "language": "python",
   "name": "python3"
  },
  "language_info": {
   "codemirror_mode": {
    "name": "ipython",
    "version": 3
   },
   "file_extension": ".py",
   "mimetype": "text/x-python",
   "name": "python",
   "nbconvert_exporter": "python",
   "pygments_lexer": "ipython3",
   "version": "3.6.2"
  }
 },
 "nbformat": 4,
 "nbformat_minor": 2
}
