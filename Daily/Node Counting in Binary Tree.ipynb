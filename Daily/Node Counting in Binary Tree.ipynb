{
 "cells": [
  {
   "cell_type": "markdown",
   "metadata": {},
   "source": [
    "# Number of Nodes in Binary Tree\n",
    "\n",
    "Given a complete binary tree, count the number of nodes in faster than O(n) time. Recall that a complete binary tree has every level filled except the last, and the nodes in the last level are filled starting from the left.\n"
   ]
  },
  {
   "cell_type": "code",
   "execution_count": 1,
   "metadata": {},
   "outputs": [],
   "source": [
    "def find_left_height(root):\n",
    "    height = 0\n",
    "    while root.left:\n",
    "        root = root.left\n",
    "        height += 1\n",
    "    return height\n",
    "\n",
    "def find_right_height(root):\n",
    "    height = 0\n",
    "    while root.right:\n",
    "        root = root.right\n",
    "        height += 1\n",
    "    return height\n",
    "\n",
    "def count_nodes(root):\n",
    "    if not root:\n",
    "        return 0\n",
    "    left = find_left_height(root)\n",
    "    right = find_right_height(root)\n",
    "\n",
    "    if left == right:\n",
    "        return (2 << left) - 1\n",
    "    else:\n",
    "        return count_nodes(root.left) + count_nodes(root.right) + 1"
   ]
  },
  {
   "cell_type": "code",
   "execution_count": null,
   "metadata": {},
   "outputs": [],
   "source": []
  }
 ],
 "metadata": {
  "kernelspec": {
   "display_name": "Python 3",
   "language": "python",
   "name": "python3"
  },
  "language_info": {
   "codemirror_mode": {
    "name": "ipython",
    "version": 3
   },
   "file_extension": ".py",
   "mimetype": "text/x-python",
   "name": "python",
   "nbconvert_exporter": "python",
   "pygments_lexer": "ipython3",
   "version": "3.6.2"
  }
 },
 "nbformat": 4,
 "nbformat_minor": 2
}
