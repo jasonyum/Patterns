{
 "cells": [
  {
   "cell_type": "markdown",
   "metadata": {},
   "source": [
    "# True False Palindrome\n",
    "Given a string, determine whether any permutation of it is a palindrome. For example, carrace should return true, since it can be rearranged to form racecar, which is a palindrome. daily should return false, since there's no rearrangement that can form a palindrome.\n",
    "\n",
    "### Plan\n",
    "\n",
    "- I guess you can count the number of doubles? And if there are two single instances of characters then return false.\n",
    "- Let's count the word \"aa\" as a palindrome even though it's not a real word.\n",
    "- Let's count the word \"bab\" as a palindrome even though it's not a real word. \n",
    "- Likewise, even number character words can be palindromes.. so \"baab\" is a palindrome.\n",
    "- So the only way a word is not a palindrome is if there are at least two characters that have no pair. \n",
    "- Plan is to check for instances where characters appear an \"odd\" number of times"
   ]
  },
  {
   "cell_type": "code",
   "execution_count": 83,
   "metadata": {},
   "outputs": [],
   "source": [
    "# word accepts a string\n",
    "\n",
    "def tfpalindrome(word): \n",
    "    odd_found = 0 \n",
    "    word.lower() # makes everything lower case\n",
    "    word.replace(\" \", \"\") # removes all spaces\n",
    "    character_list = list(word) # separates it now into a character list\n",
    "    \n",
    "    for character in character_list:     \n",
    "        # refresh count each time \n",
    "        count_found = 0 \n",
    "        \n",
    "        for index in character_list: \n",
    "            if character == index: \n",
    "                count_found += 1 # you're always going to find one\n",
    "        \n",
    "        if count_found % 2 == 1: # says it's odd\n",
    "            odd_found += 1\n",
    "            \n",
    "    if odd_found > 1: # meaning more than 2 odd counts found\n",
    "        return \"False\", odd_found\n",
    "    else: \n",
    "        return \"True\", odd_found"
   ]
  },
  {
   "cell_type": "code",
   "execution_count": 84,
   "metadata": {},
   "outputs": [],
   "source": [
    "test_word = \"carrace\" # palindrome\n",
    "test_word2 = \"battleship\" # not\n",
    "test_word3 = \"kayak\" # palindrome"
   ]
  },
  {
   "cell_type": "code",
   "execution_count": 85,
   "metadata": {},
   "outputs": [
    {
     "data": {
      "text/plain": [
       "['c', 'a', 'r', 'r', 'a', 'c', 'e']"
      ]
     },
     "execution_count": 85,
     "metadata": {},
     "output_type": "execute_result"
    }
   ],
   "source": [
    "# very convenient way to get into character level splits\n",
    "list(test_word)"
   ]
  },
  {
   "cell_type": "code",
   "execution_count": 86,
   "metadata": {},
   "outputs": [
    {
     "data": {
      "text/plain": [
       "1"
      ]
     },
     "execution_count": 86,
     "metadata": {},
     "output_type": "execute_result"
    }
   ],
   "source": [
    "# % 2 => 0 when it's even, 1 when it's odd.\n",
    "1 % 2 "
   ]
  },
  {
   "cell_type": "code",
   "execution_count": 87,
   "metadata": {},
   "outputs": [
    {
     "data": {
      "text/plain": [
       "('False', 8)"
      ]
     },
     "execution_count": 87,
     "metadata": {},
     "output_type": "execute_result"
    }
   ],
   "source": [
    "tfpalindrome(\"battleship\")"
   ]
  },
  {
   "cell_type": "code",
   "execution_count": 88,
   "metadata": {},
   "outputs": [
    {
     "data": {
      "text/plain": [
       "('True', 1)"
      ]
     },
     "execution_count": 88,
     "metadata": {},
     "output_type": "execute_result"
    }
   ],
   "source": [
    "tfpalindrome(\"carrace\")"
   ]
  },
  {
   "cell_type": "code",
   "execution_count": 89,
   "metadata": {},
   "outputs": [
    {
     "data": {
      "text/plain": [
       "('True', 1)"
      ]
     },
     "execution_count": 89,
     "metadata": {},
     "output_type": "execute_result"
    }
   ],
   "source": [
    "tfpalindrome(test_word3)"
   ]
  },
  {
   "cell_type": "code",
   "execution_count": 101,
   "metadata": {},
   "outputs": [
    {
     "data": {
      "text/plain": [
       "('False', 13)"
      ]
     },
     "execution_count": 101,
     "metadata": {},
     "output_type": "execute_result"
    }
   ],
   "source": [
    "tfpalindrome(\"A Santa at Nasa\") # this should work but it doesn't because there are 3 spaces\n",
    "\n",
    "# this finds 13 different uniques...\n",
    "# because it doesn't stop counting and goes through the whole list"
   ]
  },
  {
   "cell_type": "code",
   "execution_count": 91,
   "metadata": {},
   "outputs": [
    {
     "data": {
      "text/plain": [
       "['A', ' ', 'S', 'a', 'n', 't', 'a', ' ', 'a', 't', ' ', 'N', 'a', 's', 'a']"
      ]
     },
     "execution_count": 91,
     "metadata": {},
     "output_type": "execute_result"
    }
   ],
   "source": [
    "list(\"A Santa at Nasa\")"
   ]
  },
  {
   "cell_type": "code",
   "execution_count": 92,
   "metadata": {},
   "outputs": [],
   "source": [
    "test_word4 = \"A Santa at Nasa\""
   ]
  },
  {
   "cell_type": "code",
   "execution_count": 94,
   "metadata": {},
   "outputs": [
    {
     "data": {
      "text/plain": [
       "'asantaatnasa'"
      ]
     },
     "execution_count": 94,
     "metadata": {},
     "output_type": "execute_result"
    }
   ],
   "source": [
    "test_word4.lower().replace(\" \",\"\")"
   ]
  },
  {
   "cell_type": "code",
   "execution_count": 95,
   "metadata": {},
   "outputs": [
    {
     "data": {
      "text/plain": [
       "['a', 's', 'a', 'n', 't', 'a', 'a', 't', 'n', 'a', 's', 'a']"
      ]
     },
     "execution_count": 95,
     "metadata": {},
     "output_type": "execute_result"
    }
   ],
   "source": [
    "list(test_word4.lower().replace(\" \",\"\"))"
   ]
  },
  {
   "cell_type": "markdown",
   "metadata": {},
   "source": [
    "### What if we introduced a sort in here, would that make our lives easier? \n",
    "\n",
    "- you sort the character list\n",
    "- then you check to see if you have an even or odd\n",
    "- and if you run across two instances of odds then you just pop out and say okay this is not a palindrome"
   ]
  },
  {
   "cell_type": "code",
   "execution_count": 100,
   "metadata": {
    "scrolled": true
   },
   "outputs": [],
   "source": [
    "#for index, element in enumerate(list(test_word4.lower().replace(\" \",\"\"))):\n",
    "#    print(index)\n",
    "#    print(element)"
   ]
  },
  {
   "cell_type": "markdown",
   "metadata": {},
   "source": [
    "### brief detour into enumerate"
   ]
  },
  {
   "cell_type": "code",
   "execution_count": 1,
   "metadata": {},
   "outputs": [],
   "source": [
    "list1 = [\"eat\",\"sleep\",\"repeat\"] \n",
    "string1 = \"genius\" "
   ]
  },
  {
   "cell_type": "code",
   "execution_count": 3,
   "metadata": {},
   "outputs": [],
   "source": [
    "object1 = enumerate(list1)\n",
    "object2 = enumerate(string1)"
   ]
  },
  {
   "cell_type": "code",
   "execution_count": 5,
   "metadata": {},
   "outputs": [
    {
     "name": "stdout",
     "output_type": "stream",
     "text": [
      "<enumerate object at 0x10e9f9558>\n"
     ]
    }
   ],
   "source": [
    "print(object1)"
   ]
  },
  {
   "cell_type": "code",
   "execution_count": 6,
   "metadata": {},
   "outputs": [
    {
     "name": "stdout",
     "output_type": "stream",
     "text": [
      "[(0, 'eat'), (1, 'sleep'), (2, 'repeat')]\n"
     ]
    }
   ],
   "source": [
    "print(list(object1))"
   ]
  },
  {
   "cell_type": "code",
   "execution_count": 7,
   "metadata": {},
   "outputs": [
    {
     "name": "stdout",
     "output_type": "stream",
     "text": [
      "[(0, 'g'), (1, 'e'), (2, 'n'), (3, 'i'), (4, 'u'), (5, 's')]\n"
     ]
    }
   ],
   "source": [
    "print(list(object2))"
   ]
  },
  {
   "cell_type": "code",
   "execution_count": 8,
   "metadata": {},
   "outputs": [
    {
     "name": "stdout",
     "output_type": "stream",
     "text": [
      "(0, 'eat')\n",
      "(1, 'sleep')\n",
      "(2, 'repeat')\n"
     ]
    }
   ],
   "source": [
    "for element in enumerate(list1): \n",
    "    print(element) "
   ]
  },
  {
   "cell_type": "code",
   "execution_count": 10,
   "metadata": {},
   "outputs": [
    {
     "name": "stdout",
     "output_type": "stream",
     "text": [
      "100 eat\n",
      "101 sleep\n",
      "102 repeat\n"
     ]
    }
   ],
   "source": [
    "for index, element in enumerate(list1, 100): # notice you start the index at 100\n",
    "    print(index, element)"
   ]
  },
  {
   "cell_type": "code",
   "execution_count": null,
   "metadata": {},
   "outputs": [],
   "source": []
  }
 ],
 "metadata": {
  "kernelspec": {
   "display_name": "Python 3",
   "language": "python",
   "name": "python3"
  },
  "language_info": {
   "codemirror_mode": {
    "name": "ipython",
    "version": 3
   },
   "file_extension": ".py",
   "mimetype": "text/x-python",
   "name": "python",
   "nbconvert_exporter": "python",
   "pygments_lexer": "ipython3",
   "version": "3.6.2"
  }
 },
 "nbformat": 4,
 "nbformat_minor": 2
}
