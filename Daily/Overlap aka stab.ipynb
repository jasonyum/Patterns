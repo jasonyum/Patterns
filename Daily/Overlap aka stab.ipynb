{
 "cells": [
  {
   "cell_type": "markdown",
   "metadata": {},
   "source": [
    "# Does it \"stab\"? \n",
    "\n",
    "Let X be a set of n intervals on the real line. We say that a set of points P \"stabs\" X if every interval in X contains at least one point in P. Compute the smallest set of points that stabs X.\n",
    "\n",
    "For example, given the intervals [(1, 4), (4, 5), (7, 9), (9, 12)], you should return [4, 9]."
   ]
  },
  {
   "cell_type": "code",
   "execution_count": 1,
   "metadata": {},
   "outputs": [],
   "source": [
    "from itertools import combinations\n",
    "\n",
    "def get_points(intervals): \n",
    "    points = set([element for pair in intervals for element in pair])\n",
    "    \n",
    "    subsets = [] \n",
    "    for size in range(1, len(points)): \n",
    "        subsets.extend(list(combinations(points,sizez)))\n",
    "        \n",
    "    for start, end in intervals: \n",
    "        for subset in subsets: \n",
    "            \n",
    "            # is there a point that is btwn the start and end of all intervals\n",
    "            if all(any(start <= point <= end for point in subset)\n",
    "                  for start, end in intervals): \n",
    "                return subset"
   ]
  },
  {
   "cell_type": "markdown",
   "metadata": {},
   "source": [
    "# Very inefficient. $O(2^N)$ subsets\n",
    "\n",
    "For each one we are matching its points against every interval start and endpoint. \n",
    "\n",
    "# So this is actually $O(2^N * N^2)$ Yikes...\n",
    "\n",
    "An optimal greedy strategy exists. First you have to ...\n",
    "- sort the intervals in ascending endpoint\n",
    "- traverse the list... whenever you find an interval not \"stabbed\" by any points in our solution, take its endpoint and add it to our solution\n",
    "- since intervals are sorted, consider the most recently added endpoint to determine if there's an intersection "
   ]
  },
  {
   "cell_type": "code",
   "execution_count": 2,
   "metadata": {},
   "outputs": [],
   "source": [
    "def get_points(intervals): \n",
    "    intervals.sort(key=lambda x: (x[1], x[0]))\n",
    "    \n",
    "    points = [] \n",
    "    latest_endpoint = None\n",
    "    \n",
    "    for start, end in intervals: \n",
    "        if start <= latest_endpoint: \n",
    "            continue\n",
    "        else: \n",
    "            points.append(end)\n",
    "            latest_endpoint = end\n",
    "            \n",
    "    return points"
   ]
  },
  {
   "cell_type": "code",
   "execution_count": null,
   "metadata": {},
   "outputs": [],
   "source": []
  }
 ],
 "metadata": {
  "kernelspec": {
   "display_name": "Python 3",
   "language": "python",
   "name": "python3"
  },
  "language_info": {
   "codemirror_mode": {
    "name": "ipython",
    "version": 3
   },
   "file_extension": ".py",
   "mimetype": "text/x-python",
   "name": "python",
   "nbconvert_exporter": "python",
   "pygments_lexer": "ipython3",
   "version": "3.6.2"
  }
 },
 "nbformat": 4,
 "nbformat_minor": 2
}
