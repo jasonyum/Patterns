{
 "cells": [
  {
   "cell_type": "markdown",
   "metadata": {},
   "source": [
    "# Sevenish Test\n",
    "\n",
    "Let's define a \"sevenish\" number to be one which is either a power of 7, or the sum of unique powers of 7. The first few sevenish numbers are 1, 7, 8, 49, and so on. Create an algorithm to find the nth sevenish number."
   ]
  },
  {
   "cell_type": "code",
   "execution_count": 2,
   "metadata": {},
   "outputs": [],
   "source": [
    "def get_sevenish_numbers(n): \n",
    "    powers = [7 ** i for i in range(n)] # pre-populate a list with powers of 7\n",
    "    totals = {0} # set \n",
    "    \n",
    "    for p in powers: \n",
    "        totals |= {x + p for x in totals} \n",
    "        # oh that's fancy, when used with sets |= performs the union operation\n",
    "        # outside of sets it is the equivalent of += in the sense that..\n",
    "        # var |= value is short for var = var | value\n",
    "        \n",
    "    return totals\n",
    "\n",
    "# This is actually pretty slow, O(2^N) \n",
    "\n",
    "def nth_sevenish_number(n): \n",
    "    sevenish_numbers = get_sevenish_numbers(n) \n",
    "    \n",
    "    i = 1\n",
    "    count, last_sevenish_number = 0, 0 \n",
    "    \n",
    "    while count < n: \n",
    "        if i in sevenish_numbers: \n",
    "            count += 1\n",
    "            last_sevenish_number = i \n",
    "        i += 1\n",
    "        \n",
    "    return last_sevenish_number\n",
    "\n"
   ]
  },
  {
   "cell_type": "markdown",
   "metadata": {},
   "source": [
    "### Better version..\n",
    "\n",
    "Hint: Often when a problem involves taking powers of numbers, there is a bitwise solution, and this is no exception. Note that when we convert a number to binary, we represent it using the form xk* 2k+ xk-1* 2k-1 + ... + x0* 20. To find unique sums of powers of 7, then, we can imagine that each bit represents a power of 7 instead of 2! Let's look at the first few sevenish numbers to see how this works:\n",
    "\n",
    "- 001 (1 * 70= 1)\n",
    "- 010 (1 * 71= 7)\n",
    "- 011 (1 * 71+ 1 * 70= 8)\n",
    "- 100 (1 * 72= 49)\n",
    "- 101 (1 * 72+ 1 * 70= 50)\n",
    "\n",
    "### It's like a mapping from the nth sevenish number to the nth binary number, translated into powers of seven instead of two..."
   ]
  },
  {
   "cell_type": "code",
   "execution_count": 3,
   "metadata": {},
   "outputs": [],
   "source": [
    "def nth_sevenish_number(n): \n",
    "    answer = 0\n",
    "    bit_place = 0 \n",
    "    \n",
    "    while n: \n",
    "        if (n & 1): \n",
    "            answer += 7 ** bit_place\n",
    "        \n",
    "        n >>= 1 \n",
    "        bit_place += 1\n",
    "        \n",
    "    return answer"
   ]
  },
  {
   "cell_type": "code",
   "execution_count": null,
   "metadata": {},
   "outputs": [],
   "source": []
  }
 ],
 "metadata": {
  "kernelspec": {
   "display_name": "Python 3",
   "language": "python",
   "name": "python3"
  },
  "language_info": {
   "codemirror_mode": {
    "name": "ipython",
    "version": 3
   },
   "file_extension": ".py",
   "mimetype": "text/x-python",
   "name": "python",
   "nbconvert_exporter": "python",
   "pygments_lexer": "ipython3",
   "version": "3.6.2"
  }
 },
 "nbformat": 4,
 "nbformat_minor": 2
}
