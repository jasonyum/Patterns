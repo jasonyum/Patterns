{
 "cells": [
  {
   "cell_type": "markdown",
   "metadata": {},
   "source": [
    "### Greedy String Breaks\n",
    "\n",
    "Given a string s and an integer k, break up the string into multiple texts such that each text has a length of k or less. You must break it up so that words don't break across lines. If there's no way to break the text up, then return null. \n",
    "\n",
    "You can assume there's exactly one space between each word. \n",
    "\n",
    "Given the string \"the quick brown fox jumps over the lazy dog\" and k = 10, you should return: [\"the quick\", \"brown fox\", \"jumps over\", \"the lazy\", \"dog\"]. No string in the list has a length of more than 10."
   ]
  },
  {
   "cell_type": "code",
   "execution_count": 2,
   "metadata": {},
   "outputs": [],
   "source": [
    "def breaker(s, k): \n",
    "    words = s.split()\n",
    "    \n",
    "    if not words: \n",
    "        return [] \n",
    "    \n",
    "    current = [] \n",
    "    all = [] \n",
    "    \n",
    "    \n",
    "    for i, word in enumerate(words): \n",
    "        if length(current + [word]) <= k: \n",
    "            current.append(word)\n",
    "\n",
    "        # if any word is longer than k, then there's no way to break up the text\n",
    "        # no way to break up the text --> return None\n",
    "        elif length([word]) > k: \n",
    "            return None\n",
    "        \n",
    "        else: \n",
    "            all.append(current) \n",
    "            current = [word] \n",
    "\n",
    "    all.append(current) \n",
    "    \n",
    "    return all\n",
    "\n",
    "def length(words): \n",
    "    if not words: \n",
    "        return 0\n",
    "    return sum(len(word) for word in words) + (len(words) - 1) "
   ]
  },
  {
   "cell_type": "code",
   "execution_count": null,
   "metadata": {},
   "outputs": [],
   "source": []
  }
 ],
 "metadata": {
  "kernelspec": {
   "display_name": "Python 3",
   "language": "python",
   "name": "python3"
  },
  "language_info": {
   "codemirror_mode": {
    "name": "ipython",
    "version": 3
   },
   "file_extension": ".py",
   "mimetype": "text/x-python",
   "name": "python",
   "nbconvert_exporter": "python",
   "pygments_lexer": "ipython3",
   "version": "3.6.2"
  }
 },
 "nbformat": 4,
 "nbformat_minor": 2
}
