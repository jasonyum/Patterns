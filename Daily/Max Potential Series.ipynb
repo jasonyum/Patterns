{
 "cells": [
  {
   "cell_type": "markdown",
   "metadata": {},
   "source": [
    "### Maximum Profit on Series\n",
    "\n",
    "Given an array of numbers representing the stock prices of a company in chronological order, write a function that calculates the maximum profit you could have made from buying and selling that stock once. You must buy before you can sell it. \n",
    "\n",
    "Ex: the array $[9,11,8,5,7,10]$ should return 5.\n",
    "\n",
    "Solution idea: I think the idea is to get very comfortable with the easy case, which is the lowest price in an array is before the highest price in the array. But that's not necessarily the method that gets you the highest value. \n",
    "\n",
    "Ex: [9,20,8,9,10,10,5] should return 11 but the smallest number is obviously 5, which occurs at the end. If we change it to be [9,20,8,9,10,10] then here the smallest number is 8 and the the largest number after that is 10, but that would still be a lower profit than 11. \n",
    "\n",
    "So what to do... but what we've established is that looking for either the minimum or the maximum alone in an array won't necessarily give you the largest profit. "
   ]
  },
  {
   "cell_type": "markdown",
   "metadata": {},
   "source": [
    "### Brute force solution: \n",
    "...just take each element and then compare it to the \"profit\" you'd make on each subsequent element. Then go down the list..."
   ]
  },
  {
   "cell_type": "code",
   "execution_count": 1,
   "metadata": {},
   "outputs": [
    {
     "name": "stdout",
     "output_type": "stream",
     "text": [
      "0\n",
      "1\n",
      "2\n",
      "3\n",
      "4\n",
      "5\n"
     ]
    }
   ],
   "source": [
    "test_array = [9,11,8,5,7,10] \n",
    "\n",
    "for index in range(len(test_array)): \n",
    "    \n",
    "    "
   ]
  },
  {
   "cell_type": "code",
   "execution_count": null,
   "metadata": {},
   "outputs": [],
   "source": []
  }
 ],
 "metadata": {
  "kernelspec": {
   "display_name": "Python 3",
   "language": "python",
   "name": "python3"
  },
  "language_info": {
   "codemirror_mode": {
    "name": "ipython",
    "version": 3
   },
   "file_extension": ".py",
   "mimetype": "text/x-python",
   "name": "python",
   "nbconvert_exporter": "python",
   "pygments_lexer": "ipython3",
   "version": "3.6.2"
  }
 },
 "nbformat": 4,
 "nbformat_minor": 2
}
