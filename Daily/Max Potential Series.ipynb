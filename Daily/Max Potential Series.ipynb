{
 "cells": [
  {
   "cell_type": "markdown",
   "metadata": {},
   "source": [
    "# Maximum Profit on Series\n",
    "\n",
    "Given an array of numbers representing the stock prices of a company in chronological order, write a function that calculates the maximum profit you could have made from buying and selling that stock once. You must buy before you can sell it. \n",
    "\n",
    "Ex: the array $[9,11,8,5,7,10]$ should return 5.\n",
    "\n",
    "Solution idea: I think the idea is to get very comfortable with the easy case, which is the lowest price in an array is before the highest price in the array. But that's not necessarily the method that gets you the highest value. \n",
    "\n",
    "Ex: [9,20,8,9,10,10,5] should return 11 but the smallest number is obviously 5, which occurs at the end. If we change it to be [9,20,8,9,10,10] then here the smallest number is 8 and the the largest number after that is 10, but that would still be a lower profit than 11. \n",
    "\n",
    "So what to do... but what we've established is that looking for either the minimum or the maximum alone in an array won't necessarily give you the largest profit. "
   ]
  },
  {
   "cell_type": "markdown",
   "metadata": {},
   "source": [
    "### Brute force solution: \n",
    "...just take each element and then compare it to the \"profit\" you'd make on each subsequent element. Then go down the list... The thing to remember of course is that if you have something like range(2,6) then it starts at 2 and goes up to 5. So range(2,6) --> 2,3,4,5 \n",
    "\n",
    "- Both of the"
   ]
  },
  {
   "cell_type": "code",
   "execution_count": 25,
   "metadata": {},
   "outputs": [],
   "source": [
    "def maxProfit(array): \n",
    "    '''\n",
    "    maxProfit takes an array in list form\n",
    "    Then it does a brute force search of the array and\n",
    "    saves the value only if it's the biggest number it's found so far. \n",
    "    '''\n",
    "    max_found = 0\n",
    "    for i in range(len(array)): \n",
    "        for j in range(i+1, len(array)):\n",
    "            profit = array[j] - array[i]\n",
    "            if profit > max_found: \n",
    "                max_found = profit\n",
    "        \n",
    "    return max_found"
   ]
  },
  {
   "cell_type": "code",
   "execution_count": 31,
   "metadata": {},
   "outputs": [
    {
     "name": "stdout",
     "output_type": "stream",
     "text": [
      "5\n",
      "11\n",
      "14\n"
     ]
    }
   ],
   "source": [
    "print(maxProfit([9,11,8,5,7,10])) # 5\n",
    "print(maxProfit([9,20,8,9,10,10,5])) # 11\n",
    "print(maxProfit([9,20,8,9,10,10,22])) # 14"
   ]
  },
  {
   "cell_type": "markdown",
   "metadata": {},
   "source": [
    "## More clever? That approach takes O(N^2)\n",
    ".. can we be a little more clever than the brute force solution? \n",
    "\n",
    "Well, what if you looked at the array backwards? Given that you need to buy the darn security first before you sell it. You need to find the highest price from the back of the array. \n"
   ]
  },
  {
   "cell_type": "code",
   "execution_count": 35,
   "metadata": {},
   "outputs": [],
   "source": [
    "def maxProfitClever(array): \n",
    "    '''\n",
    "    look backwards, and keep track of the highest price seen\n",
    "    then look at the current price and check how much profit \n",
    "    we'd have made buying at that price by comparing .. \n",
    "    the innovation here is that we can do it one pass! \n",
    "    '''\n",
    "    current_max, max_found = 0, 0\n",
    "    for price in reversed(array): \n",
    "        current_max = max(current_max, price) \n",
    "        potential_profit = current_max - price\n",
    "        max_found = max(max_found, potential_profit) \n",
    "    return max_found"
   ]
  },
  {
   "cell_type": "code",
   "execution_count": 36,
   "metadata": {},
   "outputs": [
    {
     "name": "stdout",
     "output_type": "stream",
     "text": [
      "5\n",
      "11\n",
      "14\n"
     ]
    }
   ],
   "source": [
    "print(maxProfitClever([9,11,8,5,7,10]))\n",
    "print(maxProfitClever([9,20,8,9,10,10,5]))\n",
    "print(maxProfitClever([9,20,8,9,10,10,22]))"
   ]
  },
  {
   "cell_type": "code",
   "execution_count": null,
   "metadata": {},
   "outputs": [],
   "source": []
  }
 ],
 "metadata": {
  "kernelspec": {
   "display_name": "Python 3",
   "language": "python",
   "name": "python3"
  },
  "language_info": {
   "codemirror_mode": {
    "name": "ipython",
    "version": 3
   },
   "file_extension": ".py",
   "mimetype": "text/x-python",
   "name": "python",
   "nbconvert_exporter": "python",
   "pygments_lexer": "ipython3",
   "version": "3.6.2"
  }
 },
 "nbformat": 4,
 "nbformat_minor": 2
}
