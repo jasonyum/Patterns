{
 "cells": [
  {
   "cell_type": "markdown",
   "metadata": {},
   "source": [
    "### Largest Rectangle\n",
    "\n",
    "\n",
    "You are given a histogram consisting of rectangles of different heights. These heights are represented in an input list, such that [1, 3, 2, 5] corresponds to the following diagram:\n",
    "```\n",
    "      x\n",
    "      x  \n",
    "  x   x\n",
    "  x x x\n",
    "x x x x\n",
    "```\n",
    "Determine the area of the largest rectangle that can be formed only from the bars of the histogram. For the diagram above, for example, this would be six, representing the 2 x 3 area at the bottom right."
   ]
  },
  {
   "cell_type": "code",
   "execution_count": 1,
   "metadata": {},
   "outputs": [],
   "source": [
    "def largest_rectangle(array):\n",
    "    max_area = 0\n",
    "\n",
    "    for i, height in enumerate(array):\n",
    "        width = 1\n",
    "\n",
    "        for j in range(i - 1, -1, -1):\n",
    "            if array[j] >= height:\n",
    "                width += 1\n",
    "            else:\n",
    "                break\n",
    "\n",
    "        for j in range(i + 1, len(array)):\n",
    "            if array[j] >= height:\n",
    "                width += 1\n",
    "            else:\n",
    "                break\n",
    "\n",
    "        max_area = max(max_area, height * width)\n",
    "\n",
    "    return max_area"
   ]
  },
  {
   "cell_type": "code",
   "execution_count": 2,
   "metadata": {},
   "outputs": [],
   "source": [
    "def largest_rectangle(array):\n",
    "    stack = []\n",
    "    max_area = 0\n",
    "\n",
    "    # Append a zero to handle cases of non-decreasing sequences.\n",
    "    array.append(0)\n",
    "\n",
    "    for right_index, rect in enumerate(array):\n",
    "        while stack and rect < array[stack[-1]]:\n",
    "            height = array[stack.pop()]\n",
    "\n",
    "            left_index = stack[-1] if stack else -1\n",
    "            width = right_index - (left_index + 1)\n",
    "\n",
    "            max_area = max(max_area, height * width)\n",
    "\n",
    "        stack.append(right_index)\n",
    "\n",
    "    return max_are"
   ]
  },
  {
   "cell_type": "code",
   "execution_count": null,
   "metadata": {},
   "outputs": [],
   "source": []
  }
 ],
 "metadata": {
  "kernelspec": {
   "display_name": "Python 3",
   "language": "python",
   "name": "python3"
  },
  "language_info": {
   "codemirror_mode": {
    "name": "ipython",
    "version": 3
   },
   "file_extension": ".py",
   "mimetype": "text/x-python",
   "name": "python",
   "nbconvert_exporter": "python",
   "pygments_lexer": "ipython3",
   "version": "3.6.2"
  }
 },
 "nbformat": 4,
 "nbformat_minor": 2
}
