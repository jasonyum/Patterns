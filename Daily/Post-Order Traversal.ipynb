{
 "cells": [
  {
   "cell_type": "markdown",
   "metadata": {},
   "source": [
    "# Post-Order Traversal with Binary Search\n",
    "\n",
    "Given the sequence of keys visited by a postorder traversal of a binary search tree, reconstruct the tree. For example, given the sequence 2, 4, 3, 8, 7, 5, you should construct the following tree:\n",
    "\n",
    "```\n",
    "    5\n",
    "   / \\\n",
    "  3   7\n",
    " / \\   \\\n",
    "2   4   8\n",
    "```"
   ]
  },
  {
   "cell_type": "code",
   "execution_count": 1,
   "metadata": {},
   "outputs": [],
   "source": [
    "class BSTNode: \n",
    "    def __init__(self, val, left=None, right=None):\n",
    "        self.val = val\n",
    "        self.left = left\n",
    "        self.right = right\n",
    "        \n",
    "def reconstruct(postorder): \n",
    "    if not postorder: \n",
    "        return None\n",
    "    elif len(postorder) == 1: \n",
    "        return BSTNode(postorder[0]) \n",
    "    \n",
    "    root_val = postorder[-1]\n",
    "    root = BSTNode(root_val)\n",
    "    \n",
    "    for i, val in enumerate(postorder[:-1]): \n",
    "        if val > root_val: \n",
    "            left_subtree = reconstruct(postorder[:i])\n",
    "            right_subtree = reconstruct(postorder[i:-1])\n",
    "            root.left = left_subtree\n",
    "            root.right = right_subtree\n",
    "            return root\n",
    "        \n",
    "    left_subtree = reconstruct(postorder[:-1])\n",
    "    root.left = left_subtree\n",
    "    return root"
   ]
  },
  {
   "cell_type": "code",
   "execution_count": null,
   "metadata": {},
   "outputs": [],
   "source": []
  }
 ],
 "metadata": {
  "kernelspec": {
   "display_name": "Python 3",
   "language": "python",
   "name": "python3"
  },
  "language_info": {
   "codemirror_mode": {
    "name": "ipython",
    "version": 3
   },
   "file_extension": ".py",
   "mimetype": "text/x-python",
   "name": "python",
   "nbconvert_exporter": "python",
   "pygments_lexer": "ipython3",
   "version": "3.6.2"
  }
 },
 "nbformat": 4,
 "nbformat_minor": 2
}
