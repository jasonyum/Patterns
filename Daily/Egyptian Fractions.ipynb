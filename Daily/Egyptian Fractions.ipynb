{
 "cells": [
  {
   "cell_type": "markdown",
   "metadata": {},
   "source": [
    "# Egyptian Fractions\n",
    "The ancient Egyptians used to express fractions as a sum of several terms where each numerator is one. For example, 4 / 13 can be represented as 1 / 4 + 1 / 18 + 1 / 468. Create an algorithm to turn an ordinary fraction a / b, where a < b, into an Egyptian fraction."
   ]
  },
  {
   "cell_type": "code",
   "execution_count": 3,
   "metadata": {},
   "outputs": [],
   "source": [
    "def subtract(x,y): \n",
    "    a,b = x\n",
    "    c,d = y\n",
    "    return (a*d - b*c, b*d) \n",
    "\n",
    "def fraction(a,b): \n",
    "    denominators = []\n",
    "    d = 1\n",
    "\n",
    "    # this is so greedy.. wow\n",
    "    # this can get extremely inefficient looking for the right answers\n",
    "    while a != 0: \n",
    "        d += 1\n",
    "        if (1 / d) <= (a / b): \n",
    "            denominators.append(d) \n",
    "            a, b = subtract((a,b),(1,d))\n",
    "            \n",
    "    return denominators"
   ]
  },
  {
   "cell_type": "code",
   "execution_count": 6,
   "metadata": {},
   "outputs": [],
   "source": [
    "from math import ceil\n",
    "\n",
    "# abuses idea that ... you can find the next denominator to be the smallest integer\n",
    "# above b / a. This works because (a/b) is equal to 1/(b/a), which must be \n",
    "# greater than 1 / ceil(b/a) ... \n",
    "\n",
    "def fraction(a,b):\n",
    "    denominators = [] \n",
    "    total = 0\n",
    "    \n",
    "    while a != 0: \n",
    "        denominators.append(ceil(b/a))\n",
    "        a, b = (-b) % a, b * ceil(b/a) \n",
    "        \n",
    "    return denominators"
   ]
  },
  {
   "cell_type": "code",
   "execution_count": null,
   "metadata": {},
   "outputs": [],
   "source": []
  }
 ],
 "metadata": {
  "kernelspec": {
   "display_name": "Python 3",
   "language": "python",
   "name": "python3"
  },
  "language_info": {
   "codemirror_mode": {
    "name": "ipython",
    "version": 3
   },
   "file_extension": ".py",
   "mimetype": "text/x-python",
   "name": "python",
   "nbconvert_exporter": "python",
   "pygments_lexer": "ipython3",
   "version": "3.6.2"
  }
 },
 "nbformat": 4,
 "nbformat_minor": 2
}
