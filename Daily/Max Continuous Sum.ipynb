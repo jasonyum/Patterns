{
 "cells": [
  {
   "cell_type": "markdown",
   "metadata": {},
   "source": [
    "## Max Continuous Sum\n",
    "\n",
    "Question: Given an array of numbers, find the maximum sum of any contiguous subarray of the array.\n",
    "\n",
    "For example, given the array [34, -50, 42, 14, -5, 86], the maximum sum would be 137, since we would take elements 42, 14, -5, and 86. Given the array [-5, -1, -8, -9], the maximum sum would be 0, since we would not take any elements.Do this in O(N) time."
   ]
  },
  {
   "cell_type": "code",
   "execution_count": 1,
   "metadata": {},
   "outputs": [],
   "source": [
    "test_array = [34,-50,42,14,-5,86]"
   ]
  },
  {
   "cell_type": "code",
   "execution_count": 3,
   "metadata": {},
   "outputs": [],
   "source": [
    "# hard because you need to try and do it in O(N)\n",
    "# this likely means that you need to keep track of some set of combinations as you traverse the array"
   ]
  },
  {
   "cell_type": "code",
   "execution_count": 14,
   "metadata": {},
   "outputs": [],
   "source": [
    "def maxConSum(arr): \n",
    "    max_found = 0\n",
    "    max_here = 0\n",
    "    '''\n",
    "    maxConSum = max continuous sum\n",
    "    arr = array of arbitrary length\n",
    "    returns max_found, the maximum continous sum of a subarray in arr\n",
    "    \n",
    "    *** The key insight is that max_here resets to 0 whenever it dips below 0.*** \n",
    "    So when we go to max_here = 34 and then max_here = 34 + (-50) = -24, max_here is reset to 0. \n",
    "    When it's reset to 0, max_found is still 34, but then .. max_here = 0 + 42, and max_here = 42.\n",
    "    Then, max_found becomes 42. Then becomes (42 + 14) = 56. \n",
    "    \n",
    "    Then, you have max_here = (56-5) = +51. Max_found is still 56. \n",
    "    Then, you have max_here = (51 +86) = 137. max_found goes from 56 then to 137 and you've done it in one loop.\n",
    "    One loop --> O(N) speed. \n",
    "    '''\n",
    "    \n",
    "    for i in range(len(arr)): \n",
    "        \n",
    "        max_here = max_here + arr[i] \n",
    "        \n",
    "        if max_found < max_here: \n",
    "            max_found = max_here\n",
    "            \n",
    "        elif max_here < 0: \n",
    "            max_here = 0\n",
    "            \n",
    "    return max_found\n",
    "        "
   ]
  },
  {
   "cell_type": "code",
   "execution_count": 15,
   "metadata": {},
   "outputs": [
    {
     "data": {
      "text/plain": [
       "137"
      ]
     },
     "execution_count": 15,
     "metadata": {},
     "output_type": "execute_result"
    }
   ],
   "source": [
    "maxConSum(test_array) # expects 137"
   ]
  },
  {
   "cell_type": "code",
   "execution_count": 16,
   "metadata": {},
   "outputs": [
    {
     "data": {
      "text/plain": [
       "0"
      ]
     },
     "execution_count": 16,
     "metadata": {},
     "output_type": "execute_result"
    }
   ],
   "source": [
    "maxConSum([-5,-1,-9]) # should return 0 "
   ]
  }
 ],
 "metadata": {
  "kernelspec": {
   "display_name": "Python 3",
   "language": "python",
   "name": "python3"
  },
  "language_info": {
   "codemirror_mode": {
    "name": "ipython",
    "version": 3
   },
   "file_extension": ".py",
   "mimetype": "text/x-python",
   "name": "python",
   "nbconvert_exporter": "python",
   "pygments_lexer": "ipython3",
   "version": "3.6.2"
  }
 },
 "nbformat": 4,
 "nbformat_minor": 2
}
