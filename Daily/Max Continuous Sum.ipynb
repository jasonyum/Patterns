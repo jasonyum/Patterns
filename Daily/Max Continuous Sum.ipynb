{
 "cells": [
  {
   "cell_type": "markdown",
   "metadata": {},
   "source": [
    "## Max Continuous Sum or Kadane's algorithm!\n",
    "\n",
    "Question: Given an array of numbers, find the maximum sum of any contiguous subarray of the array.\n",
    "\n",
    "For example, given the array [34, -50, 42, 14, -5, 86], the maximum sum would be 137, since we would take elements 42, 14, -5, and 86. Given the array [-5, -1, -8, -9], the maximum sum would be 0, since we would not take any elements.Do this in O(N) time.\n",
    "\n",
    "> The maximum subarray problem was proposed by Ulf Grenander in 1977 as a simplified model for maximum likelihood estimation of patterns in digitized images.[1] Grenander was looking to find a rectangular subarray with maximum sum, in a two-dimensional array of real numbers. A brute-force algorithm for the two-dimensional problem runs in O(n6) time; because this was prohibitively slow, Grenander proposed the one-dimensional problem to gain insight into its structure. Grenander derived an algorithm that solves the one-dimensional problem in O(n2) time, improving the brute force running time of O(n3)."
   ]
  },
  {
   "cell_type": "code",
   "execution_count": 2,
   "metadata": {},
   "outputs": [],
   "source": [
    "test_array = [34,-50,42,14,-5,86]"
   ]
  },
  {
   "cell_type": "code",
   "execution_count": 3,
   "metadata": {},
   "outputs": [],
   "source": [
    "# hard because you need to try and do it in O(N)\n",
    "# this likely means that you need to keep track of some set of combinations as you traverse the array"
   ]
  },
  {
   "cell_type": "code",
   "execution_count": 4,
   "metadata": {},
   "outputs": [],
   "source": [
    "def maxConSum(arr): \n",
    "    max_found = 0\n",
    "    max_here = 0\n",
    "    '''\n",
    "    maxConSum = max continuous sum\n",
    "    arr = array of arbitrary length\n",
    "    returns max_found, the maximum continous sum of a subarray in arr\n",
    "    \n",
    "    *** The key insight is that max_here resets to 0 whenever it dips below 0.*** \n",
    "    So when we go to max_here = 34 and then max_here = 34 + (-50) = -24, max_here is reset to 0. \n",
    "    When it's reset to 0, max_found is still 34, but then .. max_here = 0 + 42, and max_here = 42.\n",
    "    Then, max_found becomes 42. Then becomes (42 + 14) = 56. \n",
    "    \n",
    "    Then, you have max_here = (56-5) = +51. Max_found is still 56. \n",
    "    Then, you have max_here = (51 +86) = 137. max_found goes from 56 then to 137 and you've done it in one loop.\n",
    "    One loop --> O(N) speed. \n",
    "    '''\n",
    "    \n",
    "    for i in range(len(arr)): \n",
    "        \n",
    "        max_here = max_here + arr[i] \n",
    "        \n",
    "        if max_found < max_here: \n",
    "            max_found = max_here\n",
    "            \n",
    "        elif max_here < 0: \n",
    "            max_here = 0\n",
    "            \n",
    "    return max_found\n",
    "        "
   ]
  },
  {
   "cell_type": "code",
   "execution_count": 5,
   "metadata": {},
   "outputs": [
    {
     "data": {
      "text/plain": [
       "137"
      ]
     },
     "execution_count": 5,
     "metadata": {},
     "output_type": "execute_result"
    }
   ],
   "source": [
    "maxConSum(test_array) # expects 137"
   ]
  },
  {
   "cell_type": "code",
   "execution_count": 6,
   "metadata": {},
   "outputs": [
    {
     "data": {
      "text/plain": [
       "0"
      ]
     },
     "execution_count": 6,
     "metadata": {},
     "output_type": "execute_result"
    }
   ],
   "source": [
    "maxConSum([-5,-1,-9]) # should return 0 "
   ]
  },
  {
   "cell_type": "markdown",
   "metadata": {},
   "source": [
    "### This is actually called Kadane's Algorithm\n",
    "First -- cool name. Second, this is a dynamic programming concept. Maybe it helps to have the brute force version to compare it to, but this max_here version is the Kadane algorithm approach. This comment from Wikipedia is very helpful: \n",
    "\n",
    "> A bit of a background: Kadane's algorithm is based on splitting up the set of possible solutions into mutually exclusive (disjoint) sets. It exploits the fact that any solution (i.e., any member of the set of solutions) will always have a last element $i$ (this is what is meant by \"sum ending at position $i$). Thus, we simply have to examine, one by one, the set of solutions whose last element's index is $1$, the set of solutions whose last element's index is $2$, then $3$, and so forth to $n$. It turns out that this process can be carried out in linear time.\n",
    "\n",
    "> Kadane's algorithm begins with a simple inductive question: if we know the maximum subarray sum ending at position $i$ (call this $B_{i}$), what is the maximum subarray sum ending at position $i+1$ (equivalently, what is $B_{{i+1}}$)? The answer turns out to be relatively straightforward: either the maximum subarray sum ending at position $i+1$ includes the maximum subarray sum ending at position $i$ as a prefix, or it doesn't (equivalently, $B_{i+1}=\\max(A_{i+1},A_{i+1}+B_{i})$ $B_{i+1}=\\max(A_{i+1},A_{i+1}+B_{i})$, where $A_{i+1}$ is the element at index $i+1$).\n",
    "\n",
    "> Thus, we can compute the maximum subarray sum ending at position $i$ for all positions $i$ by iterating once over the array. As we go, we simply keep track of the maximum sum we've ever seen. Thus, the problem can be solved with the following code, expressed here in Python:"
   ]
  },
  {
   "cell_type": "code",
   "execution_count": 7,
   "metadata": {},
   "outputs": [],
   "source": [
    "# Code on wikipedia: \n",
    "def max_subarray(A):\n",
    "    max_ending_here = max_so_far = A[0] # if you do this then you will fail when all arrays are negative. \n",
    "    for x in A[1:]:\n",
    "        max_ending_here = max(x, max_ending_here + x)\n",
    "        max_so_far = max(max_so_far, max_ending_here)\n",
    "    return max_so_far"
   ]
  },
  {
   "cell_type": "code",
   "execution_count": 12,
   "metadata": {},
   "outputs": [
    {
     "data": {
      "text/plain": [
       "137"
      ]
     },
     "execution_count": 12,
     "metadata": {},
     "output_type": "execute_result"
    }
   ],
   "source": [
    "max_subarray(test_array)\n",
    "# max_subarray([-1,-3,-5]) # Ah! not 0! returns -1 because of how they set up the code. \n",
    "# so the way I've set it up where max_ending_here and max_so_far is set to 0 is better imo. "
   ]
  },
  {
   "cell_type": "code",
   "execution_count": 10,
   "metadata": {},
   "outputs": [
    {
     "name": "stdout",
     "output_type": "stream",
     "text": [
      "[34, -50, 42, 14, -5, 86]\n"
     ]
    },
    {
     "data": {
      "text/plain": [
       "[-50, 42, 14, -5, 86]"
      ]
     },
     "execution_count": 10,
     "metadata": {},
     "output_type": "execute_result"
    }
   ],
   "source": [
    "print(test_array)\n",
    "test_array[1:]"
   ]
  },
  {
   "cell_type": "code",
   "execution_count": 14,
   "metadata": {},
   "outputs": [
    {
     "data": {
      "text/plain": [
       "8"
      ]
     },
     "execution_count": 14,
     "metadata": {},
     "output_type": "execute_result"
    }
   ],
   "source": [
    "max_subarray([-1,3,-5,8])"
   ]
  },
  {
   "cell_type": "markdown",
   "metadata": {},
   "source": [
    "### Brute Force version\n",
    ".. shown here as a good example for comparison"
   ]
  },
  {
   "cell_type": "code",
   "execution_count": 54,
   "metadata": {},
   "outputs": [],
   "source": [
    "def max_sub_brute(arr):\n",
    "    current_max = 0 \n",
    "    for i in range(len(arr)): \n",
    "        for j in range(i+1, len(arr)+1): \n",
    "            current_max = max(current_max, sum(arr[i:j]))\n",
    "    return current_max"
   ]
  },
  {
   "cell_type": "code",
   "execution_count": 55,
   "metadata": {},
   "outputs": [
    {
     "data": {
      "text/plain": [
       "range(0, 6)"
      ]
     },
     "execution_count": 55,
     "metadata": {},
     "output_type": "execute_result"
    }
   ],
   "source": [
    "range(len(test_array))"
   ]
  },
  {
   "cell_type": "code",
   "execution_count": 56,
   "metadata": {},
   "outputs": [
    {
     "data": {
      "text/plain": [
       "range(1, 6)"
      ]
     },
     "execution_count": 56,
     "metadata": {},
     "output_type": "execute_result"
    }
   ],
   "source": [
    "range(1, len(test_array))"
   ]
  },
  {
   "cell_type": "code",
   "execution_count": 57,
   "metadata": {},
   "outputs": [
    {
     "data": {
      "text/plain": [
       "137"
      ]
     },
     "execution_count": 57,
     "metadata": {},
     "output_type": "execute_result"
    }
   ],
   "source": [
    "max_sub_brute(test_array)"
   ]
  },
  {
   "cell_type": "code",
   "execution_count": 58,
   "metadata": {},
   "outputs": [
    {
     "data": {
      "text/plain": [
       "-16"
      ]
     },
     "execution_count": 58,
     "metadata": {},
     "output_type": "execute_result"
    }
   ],
   "source": [
    "sum(test_array[0:2]) "
   ]
  },
  {
   "cell_type": "code",
   "execution_count": 59,
   "metadata": {},
   "outputs": [
    {
     "data": {
      "text/plain": [
       "121"
      ]
     },
     "execution_count": 59,
     "metadata": {},
     "output_type": "execute_result"
    }
   ],
   "source": [
    "sum(test_array)"
   ]
  },
  {
   "cell_type": "code",
   "execution_count": 60,
   "metadata": {},
   "outputs": [
    {
     "data": {
      "text/plain": [
       "86"
      ]
     },
     "execution_count": 60,
     "metadata": {},
     "output_type": "execute_result"
    }
   ],
   "source": [
    "sum(test_array[5:6])"
   ]
  },
  {
   "cell_type": "code",
   "execution_count": 74,
   "metadata": {
    "scrolled": true
   },
   "outputs": [
    {
     "name": "stdout",
     "output_type": "stream",
     "text": [
      "[34, -50, 42, 14, -5, 86]\n",
      "0 1\n",
      "0 2\n",
      "0 3\n",
      "0 4\n",
      "0 5\n",
      "0 6\n",
      "1 2\n",
      "1 3\n",
      "1 4\n",
      "1 5\n",
      "1 6\n",
      "2 3\n",
      "2 4\n",
      "2 5\n",
      "2 6\n",
      "3 4\n",
      "3 5\n",
      "3 6\n",
      "4 5\n",
      "4 6\n",
      "5 6\n"
     ]
    }
   ],
   "source": [
    "# this helped me de-bug the code for the brute force method\n",
    "# i'm not sure why the code has a problem with this, \n",
    "# but for the j-loop yu need to add a 1 to teh len(arr) + 1\n",
    "\n",
    "# in this case len(arr) + 1 = 6 + 1 = 7 \n",
    "# and range(1,7) => [1, 6] ... 1, 2, 3, 4, 5, 6\n",
    "# luckily, arr[i,j] if j is out of the array it doesn't break the code. \n",
    "# but it's weird to me that it needs this len(arr) + \"1\" <- bothersome\n",
    "\n",
    "arr = test_array\n",
    "current_max = 0 \n",
    "print(test_array)\n",
    "for i in range(len(arr)):  # len(arr) = 6 so range(6) goes from [0,5]\n",
    "     for j in range(i+1, len(arr)+1): # this goes from [1,6] \n",
    "        current_max = max(current_max, sum(arr[i:j]))\n",
    "        print(i,j)# print(sum(arr[i:j]))\n",
    "        # print(current_max) \n",
    "        "
   ]
  },
  {
   "cell_type": "code",
   "execution_count": 86,
   "metadata": {},
   "outputs": [
    {
     "data": {
      "text/plain": [
       "6"
      ]
     },
     "execution_count": 86,
     "metadata": {},
     "output_type": "execute_result"
    }
   ],
   "source": [
    "range(1, len(test_array)+1)\n",
    "len(test_array)"
   ]
  },
  {
   "cell_type": "code",
   "execution_count": 67,
   "metadata": {},
   "outputs": [
    {
     "data": {
      "text/plain": [
       "range(2, 6)"
      ]
     },
     "execution_count": 67,
     "metadata": {},
     "output_type": "execute_result"
    }
   ],
   "source": [
    "range(2, len(test_array))"
   ]
  },
  {
   "cell_type": "code",
   "execution_count": 68,
   "metadata": {},
   "outputs": [
    {
     "data": {
      "text/plain": [
       "0"
      ]
     },
     "execution_count": 68,
     "metadata": {},
     "output_type": "execute_result"
    }
   ],
   "source": [
    "sum(test_array[6:7])"
   ]
  },
  {
   "cell_type": "code",
   "execution_count": 87,
   "metadata": {},
   "outputs": [],
   "source": [
    "# daily code brute solution\n",
    "def max_subarray_brute(arr): \n",
    "    current_max = 0\n",
    "    for i in range(len(arr) - 1): # Oh they make a concession too!\n",
    "        for j in range(i, len(arr)): \n",
    "            current_max = max(current_max, sum(arr[i:j]))\n",
    "    return current_max\n",
    "        "
   ]
  },
  {
   "cell_type": "code",
   "execution_count": 88,
   "metadata": {},
   "outputs": [],
   "source": [
    "# daily code elegant solution \n",
    "def max_subarray_sum(arr): \n",
    "    max_ending_here = max_so_far = 0 \n",
    "    for x in arr: \n",
    "        max_ending_here = max(x, max_ending_here + x) \n",
    "        max_so_far = max(max_so_far, max_ending_here) \n",
    "    return max_so_far\n",
    "\n",
    "# the elegant solutions use the \"for x in arr\" idiomatic expression most! "
   ]
  },
  {
   "cell_type": "code",
   "execution_count": 89,
   "metadata": {},
   "outputs": [
    {
     "data": {
      "text/plain": [
       "137"
      ]
     },
     "execution_count": 89,
     "metadata": {},
     "output_type": "execute_result"
    }
   ],
   "source": [
    "max_subarray_sum(test_array)"
   ]
  }
 ],
 "metadata": {
  "kernelspec": {
   "display_name": "Python 3",
   "language": "python",
   "name": "python3"
  },
  "language_info": {
   "codemirror_mode": {
    "name": "ipython",
    "version": 3
   },
   "file_extension": ".py",
   "mimetype": "text/x-python",
   "name": "python",
   "nbconvert_exporter": "python",
   "pygments_lexer": "ipython3",
   "version": "3.6.2"
  }
 },
 "nbformat": 4,
 "nbformat_minor": 2
}
