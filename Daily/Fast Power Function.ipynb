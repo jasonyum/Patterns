{
 "cells": [
  {
   "cell_type": "markdown",
   "metadata": {},
   "source": [
    "## Fast Power Function\n",
    "\n",
    "Implement integer exponentiation. Implement pow(x,y), where x and y are integers and returns x^y... but do this faster than the naive method of repeated multiplication.\n",
    "\n",
    "Example: pow(2,10) should return 1024."
   ]
  },
  {
   "cell_type": "code",
   "execution_count": 3,
   "metadata": {},
   "outputs": [],
   "source": [
    "# naive version\n",
    "def pow_naive(x,y): \n",
    "    powered = 1\n",
    "    \n",
    "    for i in range(y): \n",
    "        powered = powered*x\n",
    "        \n",
    "    return powered"
   ]
  },
  {
   "cell_type": "code",
   "execution_count": 6,
   "metadata": {},
   "outputs": [
    {
     "data": {
      "text/plain": [
       "1"
      ]
     },
     "execution_count": 6,
     "metadata": {},
     "output_type": "execute_result"
    }
   ],
   "source": [
    "pow_naive(2,10) # works\n",
    "pow_naive(2,-1) # fails"
   ]
  },
  {
   "cell_type": "code",
   "execution_count": 12,
   "metadata": {},
   "outputs": [],
   "source": [
    "# Need to fix for the case where the exponent is negative\n",
    "def pow_naive(x,y): \n",
    "    \n",
    "    if y < 0: \n",
    "        powered = 1/x\n",
    "        \n",
    "        for i in range(-y-1): \n",
    "            powered = powered*(1/x)\n",
    "        \n",
    "    else: \n",
    "        powered = 1\n",
    "        for i in range(y): \n",
    "            powered = powered*x\n",
    "        \n",
    "    return powered"
   ]
  },
  {
   "cell_type": "code",
   "execution_count": 15,
   "metadata": {},
   "outputs": [
    {
     "data": {
      "text/plain": [
       "0.125"
      ]
     },
     "execution_count": 15,
     "metadata": {},
     "output_type": "execute_result"
    }
   ],
   "source": [
    "pow_naive(2,10) # works\n",
    "pow_naive(2,-1) # works\n",
    "pow_naive(2,-3) # works"
   ]
  },
  {
   "cell_type": "code",
   "execution_count": 16,
   "metadata": {},
   "outputs": [],
   "source": [
    "# Can do it recursively, too..\n",
    "\n",
    "def power(x,y): \n",
    "    if y < 0: \n",
    "        return power(1/x, -y)\n",
    "    elif y == 0: \n",
    "        return 1\n",
    "    else: \n",
    "        return x * power(x,y-1)"
   ]
  },
  {
   "cell_type": "code",
   "execution_count": 17,
   "metadata": {},
   "outputs": [],
   "source": [
    "# to do this faster, you need to reduce the # of times you're multiplying\n",
    "# the main bottleneck here is in performing multiplication y times"
   ]
  },
  {
   "cell_type": "markdown",
   "metadata": {},
   "source": [
    "Example here... is like if you have $2^{20} = 4^{10} = 16^5$ --> that's a major reduction. This will run in $O(log y)$ time. "
   ]
  },
  {
   "cell_type": "code",
   "execution_count": 18,
   "metadata": {},
   "outputs": [],
   "source": [
    "def fast_power(x,y): \n",
    "    base = x\n",
    "    exponent = y\n",
    "    \n",
    "    if y < 0: \n",
    "        base = 1/x\n",
    "        exponent = -y\n",
    "    \n",
    "    coeff = 1\n",
    "    while y > 1: \n",
    "        if y % 2 == 0: \n",
    "            base *= base\n",
    "            y = y//2\n",
    "        else: \n",
    "            coeff *= base\n",
    "            base *= base\n",
    "            y = (y-1) // 2\n",
    "    return coeff * base"
   ]
  },
  {
   "cell_type": "code",
   "execution_count": null,
   "metadata": {},
   "outputs": [],
   "source": []
  }
 ],
 "metadata": {
  "kernelspec": {
   "display_name": "Python 3",
   "language": "python",
   "name": "python3"
  },
  "language_info": {
   "codemirror_mode": {
    "name": "ipython",
    "version": 3
   },
   "file_extension": ".py",
   "mimetype": "text/x-python",
   "name": "python",
   "nbconvert_exporter": "python",
   "pygments_lexer": "ipython3",
   "version": "3.7.0"
  }
 },
 "nbformat": 4,
 "nbformat_minor": 2
}
