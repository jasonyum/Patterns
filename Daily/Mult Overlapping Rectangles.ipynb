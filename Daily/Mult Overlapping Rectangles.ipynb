{
 "cells": [
  {
   "cell_type": "markdown",
   "metadata": {},
   "source": [
    "# Multiple Overlapping Rectangles\n",
    "\n",
    "You are given given a list of rectangles represented by min and max x- and y-coordinates. Compute whether or not a pair of rectangles overlap each other. If one rectangle completely covers another, it is considered overlapping.\n",
    "\n",
    "For example, given the following rectangles:\n",
    "```\n",
    "{\n",
    "    \"top_left\": (1, 4),\n",
    "    \"dimensions\": (3, 3) # width, height\n",
    "},\n",
    "{\n",
    "    \"top_left\": (-1, 3),\n",
    "    \"dimensions\": (2, 1)\n",
    "},\n",
    "{\n",
    "    \"top_left\": (0, 5),\n",
    "    \"dimensions\": (4, 3)\n",
    "}``` \n",
    "return true as the first and third rectangle overlap each other."
   ]
  },
  {
   "cell_type": "code",
   "execution_count": 1,
   "metadata": {},
   "outputs": [],
   "source": [
    "def overlapping(rectangles): \n",
    "    for i, rec1 in enumerate(rectangles): \n",
    "        for rec2 in rectangles[i + 1:]: # notice index wow\n",
    "            if is_overlapping(rec1, rec2): # need to define is_overlapping\n",
    "                return True\n",
    "            \n",
    "    return False"
   ]
  },
  {
   "cell_type": "code",
   "execution_count": 2,
   "metadata": {},
   "outputs": [],
   "source": [
    "def is_overlapping(rec1, rec2): \n",
    "    \n",
    "    if rec1[\"top_left\"][0] >= rec2[\"top_left\"][0] + rec2[\"dimensions\"][0]:\n",
    "        return False\n",
    "\n",
    "    if rec1[\"top_left\"][0] + rec1[\"dimensions\"][0] <= rec2[\"top_left\"][0]:\n",
    "        return False\n",
    "\n",
    "    if rec1[\"top_left\"][1] <= rec2[\"top_left\"][1] - rec2[\"dimensions\"][1]:\n",
    "        return False\n",
    "\n",
    "    if rec1[\"top_left\"][1] - rec1[\"dimensions\"][1] >= rec2[\"top_left\"][1]:\n",
    "        return False\n",
    "\n",
    "    return True"
   ]
  },
  {
   "cell_type": "code",
   "execution_count": 3,
   "metadata": {},
   "outputs": [],
   "source": [
    "# solution takes O(n^2) time, each is_overlapping call takes O(1) "
   ]
  },
  {
   "cell_type": "code",
   "execution_count": null,
   "metadata": {},
   "outputs": [],
   "source": []
  }
 ],
 "metadata": {
  "kernelspec": {
   "display_name": "Python 3",
   "language": "python",
   "name": "python3"
  },
  "language_info": {
   "codemirror_mode": {
    "name": "ipython",
    "version": 3
   },
   "file_extension": ".py",
   "mimetype": "text/x-python",
   "name": "python",
   "nbconvert_exporter": "python",
   "pygments_lexer": "ipython3",
   "version": "3.6.2"
  }
 },
 "nbformat": 4,
 "nbformat_minor": 2
}
