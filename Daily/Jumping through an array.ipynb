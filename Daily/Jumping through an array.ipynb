{
 "cells": [
  {
   "cell_type": "markdown",
   "metadata": {},
   "source": [
    "# Jumping through an array\n",
    "\n",
    "You are given an array of integers, where each element represents the maximum number of steps that can be jumped going forward from that element. Write a function to return the minimum number of jumps you must take in order to get from the start to the end of the array.\n",
    "\n",
    "For example, given [6, 2, 4, 0, 5, 1, 1, 4, 2, 9], you should return 2, as the optimal solution involves jumping from 6 to 5, and then from 5 to 9."
   ]
  },
  {
   "cell_type": "code",
   "execution_count": 1,
   "metadata": {},
   "outputs": [],
   "source": [
    "def mininimum_jump(arr, jumps=0): \n",
    "    if not arr or len(arr) == 1: \n",
    "        return jumps\n",
    "    \n",
    "    if arr[0] == 0: \n",
    "        return float(\"inf\") \n",
    "    \n",
    "    moves = [minimum_jump(arr[i:], jumps + 1) for i in range(1, min(arr[0] + 1, len(arr)))]\n",
    "    \n",
    "    return min(moves) "
   ]
  },
  {
   "cell_type": "code",
   "execution_count": null,
   "metadata": {},
   "outputs": [],
   "source": [
    "# better recursive version\n",
    "'''\n",
    "First, we will create an array, moves, that stores the \n",
    "optimal number of moves to reach the end of the array, \n",
    "starting from any index. Initially this will be infinite \n",
    "for all indices except for the last, which will be zero. \n",
    "Then, starting from the penultimate element and going backwards, \n",
    "if we find that a jump can provide a shorter path from that\n",
    "element to the end, we update the value of moves[element].\n",
    "\n",
    "After traversing through the array, the value of the \n",
    "first element will give us our answer.\n",
    "\n",
    "'''\n",
    "\n",
    "def min_jumps(arr): \n",
    "    moves = [float(\"inf\") for _ in range(len(arr) - 1)] + [0] \n",
    "    \n",
    "    for i in range(len(arr) - 1, -1, -1): \n",
    "        if arr[i] != 0: \n",
    "            for jump in range(i + 1, min(i + 1 + arr[i], len(arr))): \n",
    "                moves[i] = min(moves[i], 1 + moves[jump]) \n",
    "\n",
    "    return moves[0] "
   ]
  }
 ],
 "metadata": {
  "kernelspec": {
   "display_name": "Python 3",
   "language": "python",
   "name": "python3"
  },
  "language_info": {
   "codemirror_mode": {
    "name": "ipython",
    "version": 3
   },
   "file_extension": ".py",
   "mimetype": "text/x-python",
   "name": "python",
   "nbconvert_exporter": "python",
   "pygments_lexer": "ipython3",
   "version": "3.6.2"
  }
 },
 "nbformat": 4,
 "nbformat_minor": 2
}
