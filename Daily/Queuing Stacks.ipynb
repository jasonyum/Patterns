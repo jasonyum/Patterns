{
 "cells": [
  {
   "cell_type": "markdown",
   "metadata": {},
   "source": [
    "### Queuing Stacks\n",
    "Question: implement a queue using two stacks. Recall that a queue is a FIFO data structure with the following methods: enqueue, which inserts an element into the queue, and dequeue, which removes it. \n",
    "\n"
   ]
  },
  {
   "cell_type": "code",
   "execution_count": 1,
   "metadata": {},
   "outputs": [],
   "source": [
    "class Queue: \n",
    "    def __init__(self): \n",
    "        self.s1 = [] \n",
    "        self.s2 = [] \n",
    "        \n",
    "    def enqueue(self, val): \n",
    "        self.s1.append(val) \n",
    "        \n",
    "    def dequeue(self): \n",
    "        if self.s2: \n",
    "            return self.s2.pop()\n",
    "        if self.s1: \n",
    "            # empty all of s1 into s2\n",
    "            while self.s1: \n",
    "                self.s2.append(self.s1.pop())\n",
    "            return self.s2.pop()\n",
    "        return None"
   ]
  },
  {
   "cell_type": "code",
   "execution_count": null,
   "metadata": {},
   "outputs": [],
   "source": []
  }
 ],
 "metadata": {
  "kernelspec": {
   "display_name": "Python 3",
   "language": "python",
   "name": "python3"
  },
  "language_info": {
   "codemirror_mode": {
    "name": "ipython",
    "version": 3
   },
   "file_extension": ".py",
   "mimetype": "text/x-python",
   "name": "python",
   "nbconvert_exporter": "python",
   "pygments_lexer": "ipython3",
   "version": "3.6.2"
  }
 },
 "nbformat": 4,
 "nbformat_minor": 2
}
