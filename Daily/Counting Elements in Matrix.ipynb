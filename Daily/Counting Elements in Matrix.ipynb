{
 "cells": [
  {
   "cell_type": "markdown",
   "metadata": {},
   "source": [
    "## Given integers N and X, write a function that returns the number of times X appears as a value in an NxN multiplication table...\n",
    "\n",
    "- Kind of an easy question"
   ]
  },
  {
   "cell_type": "code",
   "execution_count": 1,
   "metadata": {},
   "outputs": [],
   "source": [
    "def multi_table(N,X): \n",
    "    count = 0\n",
    "    for i in range(1, N+1): \n",
    "        for j in range(1, N+1): \n",
    "            if i*j == X: \n",
    "                count += 1\n",
    "    return count"
   ]
  },
  {
   "cell_type": "markdown",
   "metadata": {},
   "source": [
    "One small trick here is that if it's a factor of X, then you'll have a match. \n",
    "\n",
    "- So look for a factor of X\n",
    "- Then check to see if that corresponding factor could be within that matrix (so it's less than N)"
   ]
  },
  {
   "cell_type": "code",
   "execution_count": 2,
   "metadata": {},
   "outputs": [],
   "source": [
    "def multi_tables(N,X): \n",
    "    count = 0 \n",
    "    for i in range(1, N+1): \n",
    "        if X % i == 0 and X / i <= n: \n",
    "            count += 1\n",
    "    return count"
   ]
  },
  {
   "cell_type": "code",
   "execution_count": 3,
   "metadata": {},
   "outputs": [],
   "source": [
    "# This takes O(N) time"
   ]
  },
  {
   "cell_type": "code",
   "execution_count": null,
   "metadata": {},
   "outputs": [],
   "source": []
  }
 ],
 "metadata": {
  "kernelspec": {
   "display_name": "Python 3",
   "language": "python",
   "name": "python3"
  },
  "language_info": {
   "codemirror_mode": {
    "name": "ipython",
    "version": 3
   },
   "file_extension": ".py",
   "mimetype": "text/x-python",
   "name": "python",
   "nbconvert_exporter": "python",
   "pygments_lexer": "ipython3",
   "version": "3.6.2"
  }
 },
 "nbformat": 4,
 "nbformat_minor": 2
}
