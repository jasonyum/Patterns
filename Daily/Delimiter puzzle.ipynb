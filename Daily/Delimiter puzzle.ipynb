{
 "cells": [
  {
   "cell_type": "markdown",
   "metadata": {},
   "source": [
    "## Delimiters -- maintaining order of delimiters"
   ]
  },
  {
   "cell_type": "code",
   "execution_count": 1,
   "metadata": {},
   "outputs": [],
   "source": [
    "import re"
   ]
  },
  {
   "cell_type": "code",
   "execution_count": 2,
   "metadata": {},
   "outputs": [],
   "source": [
    "def reverse(string, delimiters): \n",
    "    # parse the string into words between delimiters using regex\n",
    "    # keep adjacent delimiters together ('greedy match') \n",
    "    \n",
    "    words = re.split('[' + delimiters + ']+', string)\n",
    "    if len(words) > 0 and words[-1] == '':\n",
    "        words = words[:-1]\n",
    "    \n",
    "    # reverse the list of words and convert to an iterator\n",
    "    word_iter = reversed(words) \n",
    "    \n",
    "    output = []\n",
    "    delimiter_found = True\n",
    "    \n",
    "    # iterate through the original string\n",
    "    for c in string: \n",
    "        if c in delimiters: \n",
    "            # when we reach a delimiter, then set the word length to 0\n",
    "            delimiter_found = True\n",
    "            output.append(c) \n",
    "        else: \n",
    "            # we've reached a non-delimiter character\n",
    "            # if it's the first character of the word, add a word\n",
    "            # from our reversed list of words (word_iter)...\n",
    "            if delimiter_found: \n",
    "                try: output.append(next(word_iter))\n",
    "                except StopIteration: \n",
    "                    pass\n",
    "            elimiter_found = False\n",
    "            \n",
    "    return ''.join(output) "
   ]
  },
  {
   "cell_type": "code",
   "execution_count": null,
   "metadata": {},
   "outputs": [],
   "source": []
  }
 ],
 "metadata": {
  "kernelspec": {
   "display_name": "Python 3",
   "language": "python",
   "name": "python3"
  },
  "language_info": {
   "codemirror_mode": {
    "name": "ipython",
    "version": 3
   },
   "file_extension": ".py",
   "mimetype": "text/x-python",
   "name": "python",
   "nbconvert_exporter": "python",
   "pygments_lexer": "ipython3",
   "version": "3.6.2"
  }
 },
 "nbformat": 4,
 "nbformat_minor": 2
}
