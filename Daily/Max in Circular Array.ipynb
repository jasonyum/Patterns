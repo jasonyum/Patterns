{
 "cells": [
  {
   "cell_type": "markdown",
   "metadata": {},
   "source": [
    "# Max in Circular Array\n",
    "\n",
    "Given a circular array, compute its maximum subarray sum in O(n) time. A subarray can be empty, and in this case the sum is 0.\n",
    "\n",
    "For example, given $[8, -1, 3, 4]$, return 15 as we choose the numbers 3, 4, and 8 where the 8 is obtained from wrapping around. \n",
    "\n",
    "Given $[-4, 5, 1, 0]$, return 6 as we choose the numbers 5 and 1."
   ]
  },
  {
   "cell_type": "code",
   "execution_count": 32,
   "metadata": {},
   "outputs": [
    {
     "name": "stdout",
     "output_type": "stream",
     "text": [
      "x is  [8, -1, 3, 4, 8, -1]\n"
     ]
    }
   ],
   "source": [
    "# to move through a circular array, one way could be to use mod\n",
    "test_array = [8,-1,3,4]\n",
    "x = []\n",
    "\n",
    "for i in range(6):\n",
    "    y = test_array[i % len(test_array)]\n",
    "    x.append(y) \n",
    "\n",
    "print(\"x is \", x)"
   ]
  },
  {
   "cell_type": "code",
   "execution_count": 40,
   "metadata": {},
   "outputs": [],
   "source": [
    "# one way would be to go through twice the length of the array and then find the largest running sum..\n",
    "\n",
    "def circular_sum(array):\n",
    "    \n",
    "    running_sum = 0\n",
    "    max_found = 0 \n",
    "    sum_array = [] # I just want to see the array that I'm coming up with to confirm\n",
    "    \n",
    "    for i in range(len(array)*2): \n",
    "        \n",
    "        sum_array.append(array[i % len(array)])\n",
    "        running_sum += array[i % len(array)]\n",
    "        \n",
    "        if running_sum > max_found: \n",
    "            max_found = running_sum # update on higher value found\n",
    "    \n",
    "    return max_found, sum_array"
   ]
  },
  {
   "cell_type": "code",
   "execution_count": 41,
   "metadata": {},
   "outputs": [
    {
     "data": {
      "text/plain": [
       "(28, [8, -1, 3, 4, 8, -1, 3, 4])"
      ]
     },
     "execution_count": 41,
     "metadata": {},
     "output_type": "execute_result"
    }
   ],
   "source": [
    "circular_sum(test_array)"
   ]
  },
  {
   "cell_type": "markdown",
   "metadata": {},
   "source": [
    "## Oops, this doesn't work because it's going to just add up everything sometimes. \n",
    "\n",
    "- What we need to do is we need to make sure that we are only keeping a maximum of 4 numbers in a row. \n",
    "- Or ... we need to be smarter about how to compute the maximum sum.. "
   ]
  },
  {
   "cell_type": "code",
   "execution_count": null,
   "metadata": {},
   "outputs": [],
   "source": []
  }
 ],
 "metadata": {
  "kernelspec": {
   "display_name": "Python 3",
   "language": "python",
   "name": "python3"
  },
  "language_info": {
   "codemirror_mode": {
    "name": "ipython",
    "version": 3
   },
   "file_extension": ".py",
   "mimetype": "text/x-python",
   "name": "python",
   "nbconvert_exporter": "python",
   "pygments_lexer": "ipython3",
   "version": "3.6.2"
  }
 },
 "nbformat": 4,
 "nbformat_minor": 2
}
