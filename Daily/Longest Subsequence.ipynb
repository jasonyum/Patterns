{
 "cells": [
  {
   "cell_type": "markdown",
   "metadata": {},
   "source": [
    "# Longest Increasing Subsequence\n",
    "\n",
    "Example: [0,8,4,12,2,10,6,14,1,9,5,13,3,11,7,15] the longest subsequence has length 6: it's 0,2,6,9,11,15. So the subsequence doesn't need to be contiguous! \n",
    "\n",
    "You can't really do this with brute force. It just takes way too long. So you need to be more clever than that. Generating each subsequnece takes $O(2^N)$. \n",
    "\n",
    "- YOu can use recursion\n",
    "- You can optimize it with dynamic programming\n"
   ]
  },
  {
   "cell_type": "code",
   "execution_count": 1,
   "metadata": {},
   "outputs": [],
   "source": [
    "def longest_increasing_subsequence(arr): \n",
    "    if not arr: \n",
    "        return 0 \n",
    "    if len(arr) == 1: \n",
    "        return 1\n",
    "    \n",
    "    max_ending_here = 0\n",
    "    for i in range(len(arr)): \n",
    "        ending_at_i = longest_increasing_subsequence(arr[i:])\n",
    "        if arr[-1] > arr[i-1] and ending_at_i + 1 > max_ending_here: \n",
    "            max_ending_here = ending_at_i + 1\n",
    "    return max_ending_here"
   ]
  },
  {
   "cell_type": "code",
   "execution_count": null,
   "metadata": {},
   "outputs": [],
   "source": []
  }
 ],
 "metadata": {
  "kernelspec": {
   "display_name": "Python 3",
   "language": "python",
   "name": "python3"
  },
  "language_info": {
   "codemirror_mode": {
    "name": "ipython",
    "version": 3
   },
   "file_extension": ".py",
   "mimetype": "text/x-python",
   "name": "python",
   "nbconvert_exporter": "python",
   "pygments_lexer": "ipython3",
   "version": "3.6.2"
  }
 },
 "nbformat": 4,
 "nbformat_minor": 2
}
