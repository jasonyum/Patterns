{
 "cells": [
  {
   "cell_type": "markdown",
   "metadata": {},
   "source": [
    "## smallest set of closed intervals\n",
    "\n",
    "Given a set of closed intervals, find the smallest set of numbers that covers all the intervals. If there are multiple smallest sets, return any of them.\n",
    "\n",
    "For example, given the intervals [0, 3], [2, 6], [3, 4], [6, 9], one set of numbers that covers all these intervals is {3, 6}."
   ]
  },
  {
   "cell_type": "code",
   "execution_count": 1,
   "metadata": {},
   "outputs": [],
   "source": [
    "_set = [[0,3],[2,6],[3,4],[6,9]]"
   ]
  },
  {
   "cell_type": "code",
   "execution_count": 1,
   "metadata": {},
   "outputs": [],
   "source": [
    "def covering(intervals): \n",
    "    intervals.sort(key=lambda x: x[0])\n",
    "    \n",
    "    result = []\n",
    "    i = 0 \n",
    "    \n",
    "    while i < len(intervals): \n",
    "        interval = intervals[i] \n",
    "        \n",
    "        while i < len(intervals) and intersecting(intervals[i], interval): \n",
    "            interval = (max(intervals[i][0], interval[0]), \n",
    "                       min(intervals[i][1], interval[1]))\n",
    "            i += 1\n",
    "            \n",
    "        result.append(interval[1]) \n",
    "    return result\n",
    "\n",
    "def intersecting(x, y): \n",
    "    return not (x[0] > y[1] or y[0] > x[1])"
   ]
  },
  {
   "cell_type": "code",
   "execution_count": 4,
   "metadata": {},
   "outputs": [
    {
     "data": {
      "text/plain": [
       "True"
      ]
     },
     "execution_count": 4,
     "metadata": {},
     "output_type": "execute_result"
    }
   ],
   "source": [
    "# Neat way to determine if something is intersecting. \n",
    "# Compare the endpoints ... if either are true you return false!\n",
    "# if both are false you return true --> good way of using *not* logic\n",
    "\n",
    "def intersecting(x, y): \n",
    "    return not (x[0] > y[1] or y[0] > x[1])\n",
    "\n",
    "intersecting([0,3],[2,6])"
   ]
  },
  {
   "cell_type": "code",
   "execution_count": 3,
   "metadata": {},
   "outputs": [
    {
     "data": {
      "text/plain": [
       "False"
      ]
     },
     "execution_count": 3,
     "metadata": {},
     "output_type": "execute_result"
    }
   ],
   "source": [
    "intersecting([0,3], [6,9])"
   ]
  },
  {
   "cell_type": "code",
   "execution_count": null,
   "metadata": {},
   "outputs": [],
   "source": []
  }
 ],
 "metadata": {
  "kernelspec": {
   "display_name": "Python 3",
   "language": "python",
   "name": "python3"
  },
  "language_info": {
   "codemirror_mode": {
    "name": "ipython",
    "version": 3
   },
   "file_extension": ".py",
   "mimetype": "text/x-python",
   "name": "python",
   "nbconvert_exporter": "python",
   "pygments_lexer": "ipython3",
   "version": "3.6.2"
  }
 },
 "nbformat": 4,
 "nbformat_minor": 2
}
