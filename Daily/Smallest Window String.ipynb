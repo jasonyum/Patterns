{
 "cells": [
  {
   "cell_type": "markdown",
   "metadata": {},
   "source": [
    "### Smallest Window String\n",
    "\n",
    "Given a string, find the length of the smallest window that contains every distinct character. Characters may appear more than once in the window.\n",
    "\n",
    "For example, given \"jiujitsu\", you should return 5, corresponding to the final five letters.\n",
    "\n",
    "### Answer Idea:\n",
    "- two pointer approach\n",
    "- iterate over the array\n",
    "- update a dictionary with each character\n",
    "- if the count of the character at the start index is > 1, then you know it'll reappear"
   ]
  },
  {
   "cell_type": "code",
   "execution_count": 1,
   "metadata": {},
   "outputs": [],
   "source": [
    "def window(string):\n",
    "    string = list(string)\n",
    "\n",
    "    char_seen = 0\n",
    "    char_total = len(set(string))\n",
    "    char_counts = defaultdict(int)\n",
    "\n",
    "    start = 0\n",
    "    result = float('inf')\n",
    "\n",
    "    for end, char in enumerate(string):\n",
    "        char_counts[char] += 1\n",
    "        if char_counts[char] == 1:\n",
    "            char_seen += 1\n",
    "\n",
    "        if char_seen == char_total:\n",
    "            while char_counts[string[start]] > 1:\n",
    "                char_counts[string[start]] -= 1\n",
    "                start += 1\n",
    "\n",
    "            window_length = end - start + 1\n",
    "            if window_length < result:\n",
    "                result = window_length\n",
    "\n",
    "    return result"
   ]
  },
  {
   "cell_type": "code",
   "execution_count": null,
   "metadata": {},
   "outputs": [],
   "source": []
  }
 ],
 "metadata": {
  "kernelspec": {
   "display_name": "Python 3",
   "language": "python",
   "name": "python3"
  },
  "language_info": {
   "codemirror_mode": {
    "name": "ipython",
    "version": 3
   },
   "file_extension": ".py",
   "mimetype": "text/x-python",
   "name": "python",
   "nbconvert_exporter": "python",
   "pygments_lexer": "ipython3",
   "version": "3.6.2"
  }
 },
 "nbformat": 4,
 "nbformat_minor": 2
}
