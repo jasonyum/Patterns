{
 "cells": [
  {
   "cell_type": "markdown",
   "metadata": {},
   "source": [
    "## Given a string of words delimited by spaces, reverse the words in the string... so \"hello world here\" returns as \"here world hello\" \n",
    "\n"
   ]
  },
  {
   "cell_type": "code",
   "execution_count": 25,
   "metadata": {},
   "outputs": [],
   "source": [
    "test_string = \"hello world here\" "
   ]
  },
  {
   "cell_type": "code",
   "execution_count": 26,
   "metadata": {},
   "outputs": [],
   "source": [
    "split_string = test_string.split()"
   ]
  },
  {
   "cell_type": "code",
   "execution_count": 27,
   "metadata": {},
   "outputs": [
    {
     "name": "stdout",
     "output_type": "stream",
     "text": [
      "hello world here\n",
      "['hello', 'world', 'here']\n"
     ]
    }
   ],
   "source": [
    "# now that we have the string as a list\n",
    "print(split_string[0], \n",
    "split_string[1],\n",
    "split_string[2])\n",
    "\n",
    "print(split_string) "
   ]
  },
  {
   "cell_type": "code",
   "execution_count": 28,
   "metadata": {},
   "outputs": [],
   "source": [
    "# so now we need to figure out how to reverse the order...\n",
    "# so the last becomes the first, and the first becomes the last... \n",
    "# so you coud just reverse the order and loop through the list\n",
    "# I also think there's a reverse command but we'll use a simple loop\n",
    "\n",
    "def reverser(list_string): \n",
    "    \n",
    "    data_storage = []\n",
    "    \n",
    "    for i in range(len(list_string)):\n",
    "        last_word = list_string.pop()\n",
    "        data_storage.append(last_word)\n",
    "        \n",
    "    return data_storage\n",
    "    "
   ]
  },
  {
   "cell_type": "code",
   "execution_count": 29,
   "metadata": {},
   "outputs": [
    {
     "data": {
      "text/plain": [
       "['here', 'world', 'hello']"
      ]
     },
     "execution_count": 29,
     "metadata": {},
     "output_type": "execute_result"
    }
   ],
   "source": [
    "reverser(split_string)"
   ]
  },
  {
   "cell_type": "markdown",
   "metadata": {},
   "source": [
    "### okay this actually isn't elegant at all so try to clean it up...\n",
    "\n",
    "One reason is because whatever we pass into this function dies. Because the list_string gets popped so it's changed permanently.. not good. So try to go through the string in reverse without using .pop()"
   ]
  },
  {
   "cell_type": "code",
   "execution_count": 50,
   "metadata": {},
   "outputs": [],
   "source": [
    "def reverser_plus(list_string): \n",
    "    \n",
    "    data_storage = [] \n",
    "    \n",
    "    for i in range(len(list_string)): \n",
    "        data_storage.append(list_string[-1 -i])\n",
    "    \n",
    "    return data_storage"
   ]
  },
  {
   "cell_type": "code",
   "execution_count": 51,
   "metadata": {},
   "outputs": [],
   "source": [
    "test_plus = [\"the\", \"fox\", \"and\", \"whale\"] "
   ]
  },
  {
   "cell_type": "code",
   "execution_count": 52,
   "metadata": {},
   "outputs": [
    {
     "data": {
      "text/plain": [
       "['whale', 'and', 'fox', 'the']"
      ]
     },
     "execution_count": 52,
     "metadata": {},
     "output_type": "execute_result"
    }
   ],
   "source": [
    "reverser_plus(test_plus) "
   ]
  },
  {
   "cell_type": "code",
   "execution_count": 53,
   "metadata": {},
   "outputs": [
    {
     "name": "stdout",
     "output_type": "stream",
     "text": [
      "['the', 'fox', 'and', 'whale']\n"
     ]
    }
   ],
   "source": [
    "print(test_plus) # fantastic!"
   ]
  },
  {
   "cell_type": "markdown",
   "metadata": {},
   "source": [
    "### ok now combine everything because remember you're getting as input a string not a list...\n"
   ]
  },
  {
   "cell_type": "code",
   "execution_count": 54,
   "metadata": {},
   "outputs": [],
   "source": [
    "def reverser_fin(input_string): \n",
    "    \n",
    "    # create place to store data\n",
    "    data_storage = [] \n",
    "    \n",
    "    # pre-process the string\n",
    "    string_list = input_string.split()\n",
    "    \n",
    "    # i-1 because you're reading it from the back. \n",
    "    for i in range(len(string_list)): \n",
    "        data_storage.append(string_list[-1-i])\n",
    "        \n",
    "    return data_storage\n",
    "    "
   ]
  },
  {
   "cell_type": "code",
   "execution_count": 55,
   "metadata": {},
   "outputs": [
    {
     "data": {
      "text/plain": [
       "['dolphin', 'cow', 'whale', 'flop', 'flip']"
      ]
     },
     "execution_count": 55,
     "metadata": {},
     "output_type": "execute_result"
    }
   ],
   "source": [
    "reverser_fin(\"flip flop whale cow dolphin\")"
   ]
  },
  {
   "cell_type": "markdown",
   "metadata": {},
   "source": [
    "# Solution offered "
   ]
  },
  {
   "cell_type": "code",
   "execution_count": 58,
   "metadata": {},
   "outputs": [],
   "source": [
    "def reverse_words(string): \n",
    "    words = string.split(' ')\n",
    "    words = reversed(words) # key to remember\n",
    "    return ' '.join(words)"
   ]
  },
  {
   "cell_type": "code",
   "execution_count": 59,
   "metadata": {},
   "outputs": [
    {
     "data": {
      "text/plain": [
       "'dolphin cow whale flop flip'"
      ]
     },
     "execution_count": 59,
     "metadata": {},
     "output_type": "execute_result"
    }
   ],
   "source": [
    "reverse_words(\"flip flop whale cow dolphin\")"
   ]
  },
  {
   "cell_type": "code",
   "execution_count": 60,
   "metadata": {},
   "outputs": [],
   "source": [
    "def reverse_words(string_list): \n",
    "    \n",
    "    def reverse(l, start, end): \n",
    "        while start < end: \n",
    "            l[start], l[end] = l[end], l[start]\n",
    "            start +=1\n",
    "            end -=1\n",
    "    \n",
    "    reverse(string_list, 0, len(string_list) - 1)\n",
    "    \n",
    "    # reverse each word in the string\n",
    "    start = 0 \n",
    "    for end in range(len(string_list)): \n",
    "        if string_list[end] == ' ':\n",
    "            print(start, end) \n",
    "            reverse(string_list, start, end-1)\n",
    "            start = end + 1\n",
    "            \n",
    "    reverse(string_list, start, len(string_list) - 1)\n",
    "    \n",
    "    return string_list\n",
    "            "
   ]
  },
  {
   "cell_type": "code",
   "execution_count": null,
   "metadata": {},
   "outputs": [],
   "source": []
  }
 ],
 "metadata": {
  "kernelspec": {
   "display_name": "Python 3",
   "language": "python",
   "name": "python3"
  },
  "language_info": {
   "codemirror_mode": {
    "name": "ipython",
    "version": 3
   },
   "file_extension": ".py",
   "mimetype": "text/x-python",
   "name": "python",
   "nbconvert_exporter": "python",
   "pygments_lexer": "ipython3",
   "version": "3.6.2"
  }
 },
 "nbformat": 4,
 "nbformat_minor": 2
}
