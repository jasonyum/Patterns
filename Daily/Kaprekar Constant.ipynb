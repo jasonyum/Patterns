{
 "cells": [
  {
   "cell_type": "markdown",
   "metadata": {},
   "source": [
    "# Kaprekar Constant\n",
    "\n",
    "- all 4 digit numbers with at least two distinct digits\n",
    "- repeatedly applying a simpel procedure: \n",
    "    - given x, create two new numbers that consist of the digits in x in ascending and descending order\n",
    "    - subtrat the smaller number from the larger number\n",
    "    \n",
    "example: \n",
    "- 4321 - 1234 = 3087\n",
    "- 8730 - 0378 = 8352\n",
    "- 8532 - 2358 = 6174\n",
    "\n",
    "Write a function that returns how many steps will take for a given input. "
   ]
  },
  {
   "cell_type": "code",
   "execution_count": 1,
   "metadata": {},
   "outputs": [],
   "source": [
    "def get_digits(num): \n",
    "    digits = str(num)\n",
    "    \n",
    "    if len(digits) == 4: \n",
    "        return digits\n",
    "    else: \n",
    "        return '0' * (4 - len(digits)) + digits\n",
    "    \n",
    "def kaprekar_steps(num): \n",
    "    steps = 0 \n",
    "    \n",
    "    while num != 6174: \n",
    "        digits = get_digits(num)\n",
    "        num = int(''.join(sorted(digits, reverse=True))) - int(''.join(sorted(digits)))\n",
    "        steps += 1\n",
    "        \n",
    "    return steps"
   ]
  },
  {
   "cell_type": "code",
   "execution_count": 2,
   "metadata": {},
   "outputs": [],
   "source": [
    "# recursive solution\n",
    "\n",
    "def kaprekar_steps(num, steps=0): \n",
    "    if num == 6174: \n",
    "        return steps\n",
    "    \n",
    "    digits = get_digits(num)\n",
    "    num = int(''.join(sorted(digits, reverse=True))) - int(''.join(sorted(digits)))\n",
    "    \n",
    "    return kaprekar_steps(num, steps+1)"
   ]
  },
  {
   "cell_type": "code",
   "execution_count": null,
   "metadata": {},
   "outputs": [],
   "source": []
  }
 ],
 "metadata": {
  "kernelspec": {
   "display_name": "Python 3",
   "language": "python",
   "name": "python3"
  },
  "language_info": {
   "codemirror_mode": {
    "name": "ipython",
    "version": 3
   },
   "file_extension": ".py",
   "mimetype": "text/x-python",
   "name": "python",
   "nbconvert_exporter": "python",
   "pygments_lexer": "ipython3",
   "version": "3.6.2"
  }
 },
 "nbformat": 4,
 "nbformat_minor": 2
}
