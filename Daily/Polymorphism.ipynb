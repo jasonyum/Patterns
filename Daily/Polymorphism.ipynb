{
 "cells": [
  {
   "cell_type": "markdown",
   "metadata": {},
   "source": [
    "# Different Types of Polymorphism: \n",
    "\n",
    "- ad-hoc \n",
    "- parametric\n",
    "- subtype\n"
   ]
  },
  {
   "cell_type": "markdown",
   "metadata": {},
   "source": [
    "## Ad-hoc ... \n",
    "\n",
    "Type where you can implement and overload functions based on different types. So, \"+\" in python behaves differently when it's given a number vs. when it's given two strings. For strings, it does string concatenation. For lists, it does list concatenation. "
   ]
  },
  {
   "cell_type": "code",
   "execution_count": 32,
   "metadata": {},
   "outputs": [
    {
     "name": "stdout",
     "output_type": "stream",
     "text": [
      "No Sleep\n",
      "7\n"
     ]
    }
   ],
   "source": [
    "print(\"No\" + \" Sleep\") \n",
    "print(2+5) "
   ]
  },
  {
   "cell_type": "markdown",
   "metadata": {},
   "source": [
    "## Parametric ...\n",
    "\n",
    "Generic implementation independent of types. \n",
    "- The append function of an array works generically on integers or strings... \n",
    "- The TYPE is PARAMETRIZED. "
   ]
  },
  {
   "cell_type": "code",
   "execution_count": 33,
   "metadata": {},
   "outputs": [
    {
     "name": "stdout",
     "output_type": "stream",
     "text": [
      "[1, 2, 3, 4]\n"
     ]
    }
   ],
   "source": [
    "x = [1,2,3]\n",
    "x.append(4) \n",
    "print(x)"
   ]
  },
  {
   "cell_type": "code",
   "execution_count": 34,
   "metadata": {},
   "outputs": [
    {
     "name": "stdout",
     "output_type": "stream",
     "text": [
      "None\n"
     ]
    }
   ],
   "source": [
    "print([\"tea\",\"tree\"].append(\"oil\"))"
   ]
  },
  {
   "cell_type": "markdown",
   "metadata": {},
   "source": [
    "### Note btw that that print returned \"None\" as in \"no errors were made\" \n",
    "\n",
    "IT IS CONVENTION IN PYTHON THAT METHODS THAT MUTATE SEQUENCES RETURN NONE.\n",
    "\n",
    "> Note: append is a mutating (destructive) operation (it modifies the list in place instead of of returning a new list). The idiomatic way to do the non-destructive equivalent of append would be"
   ]
  },
  {
   "cell_type": "code",
   "execution_count": 35,
   "metadata": {},
   "outputs": [
    {
     "name": "stdout",
     "output_type": "stream",
     "text": [
      "['tea', 'tree', 'oil']\n"
     ]
    }
   ],
   "source": [
    "list = [\"tea\", \"tree\"] \n",
    "list.append(\"oil\") # list has been mutated, it's destructive.. \n",
    "print(list) "
   ]
  },
  {
   "cell_type": "markdown",
   "metadata": {},
   "source": [
    "## Subtype Poly... \n",
    "\n",
    "- When we subclass a class and use each subclass' methods to implement a specific interface\n",
    "- Because the interface is consistent it should work with whatever type of object we use... "
   ]
  },
  {
   "cell_type": "code",
   "execution_count": 37,
   "metadata": {},
   "outputs": [],
   "source": [
    "class Shape: \n",
    "    def draw(self, coords): \n",
    "        print(\"Drawing shape at\", coords) \n",
    "\n",
    "# circle and square are subclasses ... \n",
    "# but each have their own draw method implemented differently (see strings) \n",
    "class Circle(Shape): \n",
    "    def draw(self, coords): \n",
    "        print(\"Drawing circle at\", coords) \n",
    "        \n",
    "class Square(Shape):\n",
    "    def draw(self, coords):\n",
    "        print(\"Drawing square at\", coords)\n",
    "\n",
    "def render_scene(objs, coords):\n",
    "    for shape, coord in zip(objs, coords): # zip\n",
    "        shape.draw(coord)"
   ]
  },
  {
   "cell_type": "code",
   "execution_count": null,
   "metadata": {},
   "outputs": [],
   "source": []
  }
 ],
 "metadata": {
  "kernelspec": {
   "display_name": "Python 3",
   "language": "python",
   "name": "python3"
  },
  "language_info": {
   "codemirror_mode": {
    "name": "ipython",
    "version": 3
   },
   "file_extension": ".py",
   "mimetype": "text/x-python",
   "name": "python",
   "nbconvert_exporter": "python",
   "pygments_lexer": "ipython3",
   "version": "3.6.2"
  }
 },
 "nbformat": 4,
 "nbformat_minor": 2
}
