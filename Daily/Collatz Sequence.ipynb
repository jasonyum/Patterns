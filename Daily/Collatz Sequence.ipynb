{
 "cells": [
  {
   "cell_type": "markdown",
   "metadata": {},
   "source": [
    "# Collatz Sequences\n",
    "\n",
    "A Collatz sequence in mathematics can be defined as follows. Starting with any positive integer:\n",
    "\n",
    "- if n is even, the next number in the sequence is n / 2\n",
    "- if n is odd, the next number in the sequence is 3n + 1\n",
    "- It is conjectured that every such sequence eventually reaches the number 1. Test this conjecture.\n",
    "\n",
    "Bonus: What input n <= 1000000 gives the longest sequence?"
   ]
  },
  {
   "cell_type": "code",
   "execution_count": 3,
   "metadata": {},
   "outputs": [],
   "source": [
    "def collatz(n): \n",
    "    \n",
    "    # naive case, when 1 is 1 just return True\n",
    "    if n == 1: \n",
    "        return True\n",
    "    \n",
    "    while n != 1: \n",
    "        \n",
    "        # if n is even.. \n",
    "        if n % 2 == 0: \n",
    "            n = n/2\n",
    "            \n",
    "        # if n is odd..\n",
    "        else: \n",
    "            n = 3*n + 1\n",
    "            \n",
    "    return True"
   ]
  },
  {
   "cell_type": "code",
   "execution_count": 5,
   "metadata": {},
   "outputs": [
    {
     "data": {
      "text/plain": [
       "True"
      ]
     },
     "execution_count": 5,
     "metadata": {},
     "output_type": "execute_result"
    }
   ],
   "source": [
    "collatz(30350) # wow incredible.."
   ]
  },
  {
   "cell_type": "code",
   "execution_count": 7,
   "metadata": {},
   "outputs": [],
   "source": [
    "def get_collatz_length(n): \n",
    "    if n == 1: \n",
    "        return 1\n",
    "    elif n % 2 == 0: \n",
    "        return get_collatz_length(n/2) + 1\n",
    "    else: \n",
    "        return get_collatz_length(3*n + 1) + 1"
   ]
  },
  {
   "cell_type": "markdown",
   "metadata": {},
   "source": [
    "## Smarter Version ... \n",
    "\n",
    "- We're duplicating the work when we calculate the collatz_length(16) for instance.\n",
    "- In that we've already calculated collatz_length(8)\n",
    "- utilize *memoization* to prevent duplicate work... \n",
    "- each time you compute a new length, cache that"
   ]
  },
  {
   "cell_type": "code",
   "execution_count": 9,
   "metadata": {},
   "outputs": [],
   "source": [
    "lengths = {} \n",
    "\n",
    "def get_collatz_length(n): \n",
    "    if n not in lengths: \n",
    "        if n == 1: \n",
    "            lengths[n] = 1\n",
    "        elif n % 2 == 0: \n",
    "            lengths[n] = get_collatz_length(n / 2) + 1\n",
    "        else: \n",
    "            lengths[n] = get_collatz_length(3*n + 1) + 1\n",
    "    return lengths[n] \n"
   ]
  },
  {
   "cell_type": "code",
   "execution_count": 10,
   "metadata": {},
   "outputs": [
    {
     "name": "stdout",
     "output_type": "stream",
     "text": [
      "837799\n"
     ]
    }
   ],
   "source": [
    "# run this brute force\n",
    "for i in range(1, 1000000): \n",
    "    get_collatz_length(i) \n",
    "    \n",
    "print(max(lengths, key = lengths.get))"
   ]
  },
  {
   "cell_type": "code",
   "execution_count": null,
   "metadata": {},
   "outputs": [],
   "source": []
  }
 ],
 "metadata": {
  "kernelspec": {
   "display_name": "Python 3",
   "language": "python",
   "name": "python3"
  },
  "language_info": {
   "codemirror_mode": {
    "name": "ipython",
    "version": 3
   },
   "file_extension": ".py",
   "mimetype": "text/x-python",
   "name": "python",
   "nbconvert_exporter": "python",
   "pygments_lexer": "ipython3",
   "version": "3.7.1"
  }
 },
 "nbformat": 4,
 "nbformat_minor": 2
}
