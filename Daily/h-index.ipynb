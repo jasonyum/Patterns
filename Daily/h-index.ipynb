{
 "cells": [
  {
   "cell_type": "markdown",
   "metadata": {},
   "source": [
    "# h-Index\n",
    "\n",
    "In academia, the h-index is a metric used to calculate the impact of a researcher's papers. It is calculated as follows: A researcher has index h if at least h of her N papers have h citations each. If there are multiple h satisfying this formula, the maximum is chosen.\n",
    "\n",
    "For example, suppose N = 5, and the respective citations of each paper are [4, 3, 0, 1, 5]. Then the h-index would be 3, since the researcher has 3 papers with at least 3 citations.\n",
    "\n",
    "Given a list of paper citations of a researcher, calculate their h-index."
   ]
  },
  {
   "cell_type": "code",
   "execution_count": 7,
   "metadata": {},
   "outputs": [],
   "source": [
    "def h_index(citations): \n",
    "    N = len(citations) \n",
    "    \n",
    "    # reverse=True sets it so that you go from largest to smallest\n",
    "    citations.sort(reverse=True)\n",
    "    \n",
    "    h = 0\n",
    "    while h < N and citations[h] >= h + 1:\n",
    "        h += 1\n",
    "    return h"
   ]
  },
  {
   "cell_type": "code",
   "execution_count": 17,
   "metadata": {},
   "outputs": [
    {
     "data": {
      "text/plain": [
       "3"
      ]
     },
     "execution_count": 17,
     "metadata": {},
     "output_type": "execute_result"
    }
   ],
   "source": [
    "citations_t = [4,3,0,1,5]\n",
    "h_index(citations_t) "
   ]
  },
  {
   "cell_type": "code",
   "execution_count": 18,
   "metadata": {},
   "outputs": [
    {
     "data": {
      "text/plain": [
       "[5, 4, 3, 1, 0]"
      ]
     },
     "execution_count": 18,
     "metadata": {},
     "output_type": "execute_result"
    }
   ],
   "source": [
    "citations_t = [4,3,0,1,5]\n",
    "citations_t.sort(reverse=True)\n",
    "citations_t"
   ]
  },
  {
   "cell_type": "markdown",
   "metadata": {},
   "source": [
    "### there's a faster way.. \n",
    "- sort, however, takes O(N * logN) to sort ...\n",
    "- so the solution like in many of these situations is to do an iterative calculation that doesn't use a sort. "
   ]
  },
  {
   "cell_type": "code",
   "execution_count": 24,
   "metadata": {},
   "outputs": [],
   "source": [
    "def h_index_fast(citations):\n",
    "    n = len(citations)\n",
    "    counts = [0 for _ in range(n + 1)]\n",
    "\n",
    "    # bucketing\n",
    "    for citation in citations:\n",
    "        if citation >= n:\n",
    "            counts[n] += 1\n",
    "        else:\n",
    "            counts[citation] += 1\n",
    "\n",
    "    # counting\n",
    "    total = 0\n",
    "    for i in range(n, -1, -1):\n",
    "        total += counts[i]\n",
    "        if total >= i:\n",
    "            return i"
   ]
  },
  {
   "cell_type": "code",
   "execution_count": 23,
   "metadata": {},
   "outputs": [
    {
     "data": {
      "text/plain": [
       "[0, 0, 0, 0, 0]"
      ]
     },
     "execution_count": 23,
     "metadata": {},
     "output_type": "execute_result"
    }
   ],
   "source": [
    "# neat way to create compact lists\n",
    "[0 for _ in range(5)]"
   ]
  },
  {
   "cell_type": "code",
   "execution_count": null,
   "metadata": {},
   "outputs": [],
   "source": []
  }
 ],
 "metadata": {
  "kernelspec": {
   "display_name": "Python 3",
   "language": "python",
   "name": "python3"
  },
  "language_info": {
   "codemirror_mode": {
    "name": "ipython",
    "version": 3
   },
   "file_extension": ".py",
   "mimetype": "text/x-python",
   "name": "python",
   "nbconvert_exporter": "python",
   "pygments_lexer": "ipython3",
   "version": "3.6.2"
  }
 },
 "nbformat": 4,
 "nbformat_minor": 2
}
