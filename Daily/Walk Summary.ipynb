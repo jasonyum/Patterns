{
 "cells": [
  {
   "cell_type": "markdown",
   "metadata": {},
   "source": [
    "# Walk Summary\n",
    "\n",
    "You are given a starting state start, a list of transition probabilities for a Markov chain, and a number of steps num_steps. Run the Markov chain starting from start for num_steps and compute the number of times we visited each state.\n",
    "\n",
    "For example, given the starting state a, number of steps 5000, and the following transition probabilities:\n",
    "\n",
    "\n",
    "```\n",
    "[\n",
    "  ('a', 'a', 0.9),\n",
    "  ('a', 'b', 0.075),\n",
    "  ('a', 'c', 0.025),\n",
    "  ('b', 'a', 0.15),\n",
    "  ('b', 'b', 0.8),\n",
    "  ('b', 'c', 0.05),\n",
    "  ('c', 'a', 0.25),\n",
    "  ('c', 'b', 0.25),\n",
    "  ('c', 'c', 0.5)\n",
    "]\n",
    "\n",
    "```\n",
    "One instance of running this Markov chain might produce { 'a': 3012, 'b': 1656, 'c': 332 }."
   ]
  },
  {
   "cell_type": "code",
   "execution_count": 11,
   "metadata": {},
   "outputs": [],
   "source": [
    "import random"
   ]
  },
  {
   "cell_type": "code",
   "execution_count": 13,
   "metadata": {},
   "outputs": [],
   "source": [
    "# Generally transition matrices are square, but this one is not defined like that\n",
    "# Solve the easier problem when we know how many terms there are, in this case 3 states\n",
    "\n",
    "def walk(transition_matrix, steps, start_state): \n",
    "    \n",
    "    a_count = 0 \n",
    "    b_count = 0\n",
    "    c_count = 0\n",
    "    \n",
    "    # count the first position\n",
    "    if start_state == \"a\": \n",
    "        a_count += 1 \n",
    "    elif start_state == \"b\": \n",
    "        b_count += 1 \n",
    "    elif start_state == \"c\": \n",
    "        c_count += 1\n",
    "    \n",
    "    state = start_state\n",
    "    \n",
    "    for i in range(steps): \n",
    "        \n",
    "        rv = random.random() # between 0 and 1 \n",
    "        \n",
    "        if state == \"a\": \n",
    "            if rv <= transition_matrix[0][2]: \n",
    "                state = a\n",
    "                a_count +=1\n",
    "            if rv <= transition_matrix[1][2]: \n",
    "                state = b\n",
    "                b_count +=1\n",
    "            if rv <= transition_matrix[2][2]: \n",
    "                state = c\n",
    "                c_count +=1\n",
    "            \n",
    "        elif state == \"b\": \n",
    "            if rv <= transition_matrix[3][2]: \n",
    "                state = a\n",
    "                a_count +=1\n",
    "            if rv <= transition_matrix[4][2]: \n",
    "                state = b\n",
    "                b_count +=1\n",
    "            if rv <= transition_matrix[5][2]: \n",
    "                state = c\n",
    "                c_count +=1\n",
    "            \n",
    "        elif state == \"c\": \n",
    "            if rv <= transition_matrix[3][2]: \n",
    "                state = a\n",
    "                a_count +=1\n",
    "            if rv <= transition_matrix[4][2]: \n",
    "                state = b\n",
    "                b_count +=1\n",
    "            if rv <= transition_matrix[5][2]: \n",
    "                state = c\n",
    "                c_count +=1\n",
    "    \n",
    "    return {\"a\": a_count, \"b\": b_count, \"c\": c_count} "
   ]
  },
  {
   "cell_type": "code",
   "execution_count": 14,
   "metadata": {},
   "outputs": [],
   "source": [
    "transition = [\n",
    "  ('a', 'a', 0.9),\n",
    "  ('a', 'b', 0.075),\n",
    "  ('a', 'c', 0.025),\n",
    "  ('b', 'a', 0.15),\n",
    "  ('b', 'b', 0.8),\n",
    "  ('b', 'c', 0.05),\n",
    "  ('c', 'a', 0.25),\n",
    "  ('c', 'b', 0.25),\n",
    "  ('c', 'c', 0.5)\n",
    "]"
   ]
  },
  {
   "cell_type": "code",
   "execution_count": 5,
   "metadata": {},
   "outputs": [
    {
     "data": {
      "text/plain": [
       "('a', 'a', 0.9)"
      ]
     },
     "execution_count": 5,
     "metadata": {},
     "output_type": "execute_result"
    }
   ],
   "source": [
    "transition[0]"
   ]
  },
  {
   "cell_type": "code",
   "execution_count": 6,
   "metadata": {},
   "outputs": [
    {
     "data": {
      "text/plain": [
       "('a', 'b', 0.075)"
      ]
     },
     "execution_count": 6,
     "metadata": {},
     "output_type": "execute_result"
    }
   ],
   "source": [
    "transition[1]"
   ]
  },
  {
   "cell_type": "code",
   "execution_count": 8,
   "metadata": {},
   "outputs": [
    {
     "data": {
      "text/plain": [
       "0.9"
      ]
     },
     "execution_count": 8,
     "metadata": {},
     "output_type": "execute_result"
    }
   ],
   "source": [
    "transition[0][2]"
   ]
  },
  {
   "cell_type": "code",
   "execution_count": 10,
   "metadata": {},
   "outputs": [
    {
     "data": {
      "text/plain": [
       "5000"
      ]
     },
     "execution_count": 10,
     "metadata": {},
     "output_type": "execute_result"
    }
   ],
   "source": [
    "3012 + 1656 + 332"
   ]
  },
  {
   "cell_type": "code",
   "execution_count": 12,
   "metadata": {},
   "outputs": [
    {
     "data": {
      "text/plain": [
       "0.269943563916487"
      ]
     },
     "execution_count": 12,
     "metadata": {},
     "output_type": "execute_result"
    }
   ],
   "source": [
    "random.random()"
   ]
  },
  {
   "cell_type": "code",
   "execution_count": null,
   "metadata": {},
   "outputs": [],
   "source": []
  }
 ],
 "metadata": {
  "kernelspec": {
   "display_name": "Python 3",
   "language": "python",
   "name": "python3"
  },
  "language_info": {
   "codemirror_mode": {
    "name": "ipython",
    "version": 3
   },
   "file_extension": ".py",
   "mimetype": "text/x-python",
   "name": "python",
   "nbconvert_exporter": "python",
   "pygments_lexer": "ipython3",
   "version": "3.6.2"
  }
 },
 "nbformat": 4,
 "nbformat_minor": 2
}
