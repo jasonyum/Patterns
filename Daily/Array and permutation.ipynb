{
 "cells": [
  {
   "cell_type": "markdown",
   "metadata": {},
   "source": [
    "# Permutations :)\n",
    "\n",
    "A permutation can be specified by an array P, where P[i] represents the location of the element at i in the permutation. For example, [2, 1, 0] represents the permutation where elements at the index 0 and 2 are swapped.\n",
    "\n",
    "Given an array and a permutation, apply the permutation to the array. For example, given the array [\"a\", \"b\", \"c\"] and the permutation [2, 1, 0], return [\"c\", \"b\", \"a\"].\n"
   ]
  },
  {
   "cell_type": "code",
   "execution_count": 2,
   "metadata": {},
   "outputs": [],
   "source": [
    "# hmm this is a really easy problem? \n",
    "# just read the array ... using the permutation array as a guide? \n",
    "arrTest = [\"a\",\"b\",\"c\"] \n",
    "permTest = [2,1,0] "
   ]
  },
  {
   "cell_type": "code",
   "execution_count": 5,
   "metadata": {},
   "outputs": [],
   "source": [
    "def perm_array(arr, permutation): \n",
    "    \n",
    "    output_arr = [] \n",
    "    \n",
    "    for index in permutation: \n",
    "        output_arr.append(arr[index]) \n",
    "    \n",
    "    return output_arr"
   ]
  },
  {
   "cell_type": "code",
   "execution_count": 6,
   "metadata": {},
   "outputs": [
    {
     "data": {
      "text/plain": [
       "['c', 'b', 'a']"
      ]
     },
     "execution_count": 6,
     "metadata": {},
     "output_type": "execute_result"
    }
   ],
   "source": [
    "perm_array(arrTest, permTest)"
   ]
  },
  {
   "cell_type": "markdown",
   "metadata": {},
   "source": [
    "# Alternative solution...\n",
    "\n",
    "- If no restrictions on memory... O(N) way to solve is: "
   ]
  },
  {
   "cell_type": "code",
   "execution_count": 12,
   "metadata": {},
   "outputs": [],
   "source": [
    "# This utilizes a list comprehensionabs\n",
    "# list comprehensions are usually more readable than using this append trick\n",
    "# you don't even need to set up a value\n",
    "def permute(array, permutation): \n",
    "    return [array[p] for p in permutation]"
   ]
  },
  {
   "cell_type": "code",
   "execution_count": 13,
   "metadata": {},
   "outputs": [
    {
     "data": {
      "text/plain": [
       "['c', 'b', 'a']"
      ]
     },
     "execution_count": 13,
     "metadata": {},
     "output_type": "execute_result"
    }
   ],
   "source": [
    "permute(arrTest, permTest)"
   ]
  },
  {
   "cell_type": "code",
   "execution_count": 15,
   "metadata": {},
   "outputs": [],
   "source": [
    "# this is ultra clever wow.\n",
    "\n",
    "def permute_advanced(array, permutation): \n",
    "    for i in range(len(array)): \n",
    "        element, p = array[i], permutation[i] \n",
    "        \n",
    "        while p != i: \n",
    "            array[p], element = element, array[p] \n",
    "            permutation[p], p = p, permutation[p] \n",
    "            \n",
    "        array[i], permutation[i] = element, p\n",
    "    return array\n",
    "\n",
    "# only enter the inner loop when the array element needs to be permuted. \n",
    "# since we're only moving each element once, this algorithm is still O(N) "
   ]
  },
  {
   "cell_type": "code",
   "execution_count": null,
   "metadata": {},
   "outputs": [],
   "source": []
  }
 ],
 "metadata": {
  "kernelspec": {
   "display_name": "Python 3",
   "language": "python",
   "name": "python3"
  },
  "language_info": {
   "codemirror_mode": {
    "name": "ipython",
    "version": 3
   },
   "file_extension": ".py",
   "mimetype": "text/x-python",
   "name": "python",
   "nbconvert_exporter": "python",
   "pygments_lexer": "ipython3",
   "version": "3.7.1"
  }
 },
 "nbformat": 4,
 "nbformat_minor": 2
}
