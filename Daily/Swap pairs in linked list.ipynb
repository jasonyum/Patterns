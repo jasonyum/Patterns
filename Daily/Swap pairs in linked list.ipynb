{
 "cells": [
  {
   "cell_type": "markdown",
   "metadata": {},
   "source": [
    "# Linked List \n",
    "\n",
    "- sequence of data elements, connected via \"links.\" \n",
    "- Python doesn't have linked list in its standard library\n",
    "- use teh concept of nodes to create \"linked lists\" \n"
   ]
  },
  {
   "cell_type": "code",
   "execution_count": 15,
   "metadata": {},
   "outputs": [],
   "source": [
    "class Node: \n",
    "    def __init__(self, dataval=None): \n",
    "        self.dataval = dataval\n",
    "        self.nextval = None\n",
    "        \n",
    "\n",
    "class SLinkedList: \n",
    "    def __init__(self): \n",
    "        self.headval = None\n",
    "\n",
    "# create linked list and then set the headval = Node(\"Mon\")! \n",
    "list = SLinkedList()\n",
    "list.headval = Node(\"Mon\") \n",
    "\n",
    "# now create the other Nodes\n",
    "e2 = Node(\"Tue\") \n",
    "e3 = Node(\"Wed\") \n",
    "\n",
    "# Link first Node to second node\n",
    "list.headval.nextval = e2\n",
    "\n",
    "# Link second Node to third node\n",
    "e2.nextval = e3"
   ]
  },
  {
   "cell_type": "markdown",
   "metadata": {},
   "source": [
    "### To traverse add to the SLinkedList class"
   ]
  },
  {
   "cell_type": "code",
   "execution_count": 16,
   "metadata": {},
   "outputs": [],
   "source": [
    "class Node: \n",
    "    def __init__(self, dataval=None): \n",
    "        self.dataval = dataval\n",
    "        self.nextval = None\n",
    "        \n",
    "\n",
    "class SLinkedList: \n",
    "    def __init__(self): \n",
    "        self.headval = None\n",
    "        \n",
    "    def listprint(self): \n",
    "        printval = self.headval\n",
    "        while printval is not None: \n",
    "            print(printval.dataval)\n",
    "            printval = printval.nextval\n",
    "\n",
    "# create linked list and then set the headval = Node(\"Mon\")! \n",
    "list = SLinkedList()\n",
    "list.headval = Node(\"Mon\") \n",
    "\n",
    "# now create the other Nodes\n",
    "e2 = Node(\"Tue\") \n",
    "e3 = Node(\"Wed\") \n",
    "\n",
    "# Link first Node to second node\n",
    "list.headval.nextval = e2\n",
    "\n",
    "# Link second Node to third node\n",
    "e2.nextval = e3"
   ]
  },
  {
   "cell_type": "code",
   "execution_count": 17,
   "metadata": {},
   "outputs": [
    {
     "name": "stdout",
     "output_type": "stream",
     "text": [
      "Mon\n",
      "Tue\n",
      "Wed\n"
     ]
    }
   ],
   "source": [
    "list.listprint()"
   ]
  },
  {
   "cell_type": "code",
   "execution_count": null,
   "metadata": {},
   "outputs": [],
   "source": []
  }
 ],
 "metadata": {
  "kernelspec": {
   "display_name": "Python 3",
   "language": "python",
   "name": "python3"
  },
  "language_info": {
   "codemirror_mode": {
    "name": "ipython",
    "version": 3
   },
   "file_extension": ".py",
   "mimetype": "text/x-python",
   "name": "python",
   "nbconvert_exporter": "python",
   "pygments_lexer": "ipython3",
   "version": "3.6.2"
  }
 },
 "nbformat": 4,
 "nbformat_minor": 2
}
