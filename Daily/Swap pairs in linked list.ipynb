{
 "cells": [
  {
   "cell_type": "markdown",
   "metadata": {},
   "source": [
    "# Linked List \n",
    "\n",
    "- sequence of data elements, connected via \"links.\" \n",
    "- Python doesn't have linked list in its standard library\n",
    "- use teh concept of nodes to create \"linked lists\" \n"
   ]
  },
  {
   "cell_type": "code",
   "execution_count": 15,
   "metadata": {},
   "outputs": [],
   "source": [
    "class Node: \n",
    "    def __init__(self, dataval=None): \n",
    "        self.dataval = dataval\n",
    "        self.nextval = None\n",
    "        \n",
    "\n",
    "class SLinkedList: \n",
    "    def __init__(self): \n",
    "        self.headval = None\n",
    "\n",
    "# create linked list and then set the headval = Node(\"Mon\")! \n",
    "list = SLinkedList()\n",
    "list.headval = Node(\"Mon\") \n",
    "\n",
    "# now create the other Nodes\n",
    "e2 = Node(\"Tue\") \n",
    "e3 = Node(\"Wed\") \n",
    "\n",
    "# Link first Node to second node\n",
    "list.headval.nextval = e2\n",
    "\n",
    "# Link second Node to third node\n",
    "e2.nextval = e3"
   ]
  },
  {
   "cell_type": "markdown",
   "metadata": {},
   "source": [
    "### To traverse add to the SLinkedList class"
   ]
  },
  {
   "cell_type": "code",
   "execution_count": 16,
   "metadata": {},
   "outputs": [],
   "source": [
    "class Node: \n",
    "    def __init__(self, dataval=None): \n",
    "        self.dataval = dataval\n",
    "        self.nextval = None\n",
    "        \n",
    "\n",
    "class SLinkedList: \n",
    "    def __init__(self): \n",
    "        self.headval = None\n",
    "        \n",
    "    def listprint(self): \n",
    "        printval = self.headval\n",
    "        while printval is not None: \n",
    "            print(printval.dataval)\n",
    "            printval = printval.nextval\n",
    "\n",
    "# create linked list and then set the headval = Node(\"Mon\")! \n",
    "list = SLinkedList()\n",
    "list.headval = Node(\"Mon\") \n",
    "\n",
    "# now create the other Nodes\n",
    "e2 = Node(\"Tue\") \n",
    "e3 = Node(\"Wed\") \n",
    "\n",
    "# Link first Node to second node\n",
    "list.headval.nextval = e2\n",
    "\n",
    "# Link second Node to third node\n",
    "e2.nextval = e3"
   ]
  },
  {
   "cell_type": "code",
   "execution_count": 17,
   "metadata": {},
   "outputs": [
    {
     "name": "stdout",
     "output_type": "stream",
     "text": [
      "Mon\n",
      "Tue\n",
      "Wed\n"
     ]
    }
   ],
   "source": [
    "list.listprint()"
   ]
  },
  {
   "cell_type": "markdown",
   "metadata": {},
   "source": [
    "### Inserting in between two data nodes"
   ]
  },
  {
   "cell_type": "code",
   "execution_count": 19,
   "metadata": {},
   "outputs": [],
   "source": [
    "class Node: \n",
    "    def __init__(self, dataval=None): \n",
    "        self.dataval = dataval\n",
    "        self.nextval = None\n",
    "        \n",
    "class SLinkedList: \n",
    "    def __init__(self): \n",
    "        self.headval = None\n",
    "        \n",
    "    # Function to add node...\n",
    "    def Inbetween(self, middle_node, newdata): \n",
    "        if middle_node is None: \n",
    "            print(\"The mentioned node is absent\")\n",
    "            return\n",
    "        \n",
    "        NewNode = Node(newdata)\n",
    "        NewNode.nextval = middle_node.nextval\n",
    "        middle_node.nextval = NewNode\n",
    "        \n",
    "    # Print the linked list\n",
    "    def listprint(self): \n",
    "        printval = self.headval\n",
    "        while printval is not None:\n",
    "            print(printval.dataval)\n",
    "            printval = printval.nextval "
   ]
  },
  {
   "cell_type": "code",
   "execution_count": 20,
   "metadata": {},
   "outputs": [],
   "source": [
    "list = SLinkedList()"
   ]
  },
  {
   "cell_type": "code",
   "execution_count": 21,
   "metadata": {},
   "outputs": [
    {
     "name": "stdout",
     "output_type": "stream",
     "text": [
      "<__main__.SLinkedList object at 0x10ead5668>\n"
     ]
    }
   ],
   "source": [
    "print(list) "
   ]
  },
  {
   "cell_type": "code",
   "execution_count": 23,
   "metadata": {},
   "outputs": [],
   "source": [
    "list.headval = Node(\"Mon\") \n",
    "e2 = Node(\"Tue\") \n",
    "e3 = Node(\"Thu\")"
   ]
  },
  {
   "cell_type": "code",
   "execution_count": 24,
   "metadata": {},
   "outputs": [],
   "source": [
    "list.headval.nextval = e2\n",
    "e2.nextval = e3\n",
    "list.Inbetween(list.headval.nextval, \"Fri\") "
   ]
  },
  {
   "cell_type": "code",
   "execution_count": 25,
   "metadata": {},
   "outputs": [
    {
     "name": "stdout",
     "output_type": "stream",
     "text": [
      "Mon\n",
      "Tue\n",
      "Fri\n",
      "Thu\n"
     ]
    }
   ],
   "source": [
    "list.listprint()"
   ]
  },
  {
   "cell_type": "markdown",
   "metadata": {},
   "source": [
    "### Removing an item from a linked list...\n"
   ]
  },
  {
   "cell_type": "code",
   "execution_count": 26,
   "metadata": {},
   "outputs": [],
   "source": [
    "class Node: \n",
    "    def __init__(self, data=None): \n",
    "        self.data = data\n",
    "        self.next = None\n",
    "        \n",
    "class SLinkedList: \n",
    "    def __init__(self): \n",
    "        self.head = None\n",
    "    \n",
    "    # a little confusing\n",
    "    def Atbeginning(self, data_in): \n",
    "        NewNode = Node(data_in)\n",
    "        NewNode.next = self.head\n",
    "        self.head = NewNode\n",
    "        \n",
    "    def RemoveNode(self, Removekey): \n",
    "        \n",
    "        HeadVal = self.head\n",
    "        \n",
    "        if (HeadVal is not None): \n",
    "            if (HeadVal.data == Removekey): \n",
    "                self.head = HeadVal.next\n",
    "                HeadVal = None\n",
    "                return\n",
    "            \n",
    "        while (HeadVal is not None): \n",
    "            if HeadVal.data == Removekey: \n",
    "                break\n",
    "            prev = HeadVal\n",
    "            HeadVal = HeadVal.next\n",
    "            \n",
    "        if (HeadVal == None): \n",
    "            return \n",
    "        \n",
    "        prev.next = HeadVal.next\n",
    "        HeadVal = None\n",
    "        \n",
    "    def listprint(self): \n",
    "        printval = self.head\n",
    "        while (printval): \n",
    "            print(printval.data)\n",
    "            printval = printval.next\n",
    "            \n",
    "            "
   ]
  },
  {
   "cell_type": "code",
   "execution_count": 27,
   "metadata": {},
   "outputs": [],
   "source": [
    "list = SLinkedList()\n",
    "list.Atbeginning(\"Mon\") \n",
    "list.Atbeginning(\"Tue\") \n",
    "list.Atbeginning(\"Wed\") \n",
    "list.Atbeginning(\"Thu\")"
   ]
  },
  {
   "cell_type": "code",
   "execution_count": 28,
   "metadata": {},
   "outputs": [
    {
     "name": "stdout",
     "output_type": "stream",
     "text": [
      "Thu\n",
      "Wed\n",
      "Tue\n",
      "Mon\n"
     ]
    }
   ],
   "source": [
    "list.listprint()"
   ]
  },
  {
   "cell_type": "code",
   "execution_count": 29,
   "metadata": {},
   "outputs": [],
   "source": [
    "list.RemoveNode(\"Tue\") "
   ]
  },
  {
   "cell_type": "code",
   "execution_count": 30,
   "metadata": {},
   "outputs": [
    {
     "name": "stdout",
     "output_type": "stream",
     "text": [
      "Thu\n",
      "Wed\n",
      "Mon\n"
     ]
    }
   ],
   "source": [
    "list.listprint()"
   ]
  },
  {
   "cell_type": "code",
   "execution_count": null,
   "metadata": {},
   "outputs": [],
   "source": []
  }
 ],
 "metadata": {
  "kernelspec": {
   "display_name": "Python 3",
   "language": "python",
   "name": "python3"
  },
  "language_info": {
   "codemirror_mode": {
    "name": "ipython",
    "version": 3
   },
   "file_extension": ".py",
   "mimetype": "text/x-python",
   "name": "python",
   "nbconvert_exporter": "python",
   "pygments_lexer": "ipython3",
   "version": "3.6.2"
  }
 },
 "nbformat": 4,
 "nbformat_minor": 2
}
