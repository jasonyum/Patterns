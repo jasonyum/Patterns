{
 "cells": [
  {
   "cell_type": "markdown",
   "metadata": {},
   "source": [
    "# Voting Machine\n",
    "\n",
    "On election day, a voting machine writes data in the form (voter_id, candidate_id) to a text file. Write a program that reads this file as a stream and returns the top 3 candidates at any given time. If you find a voter voting more than once, report this as fraud."
   ]
  },
  {
   "cell_type": "code",
   "execution_count": 2,
   "metadata": {},
   "outputs": [],
   "source": [
    "import heapq\n",
    "from collections import defaultdict\n",
    "\n",
    "class VoteReporter: \n",
    "    def __init__(self, data, k=3): \n",
    "        self.data = data\n",
    "        self.k = k \n",
    "        self.voters = {} \n",
    "        self.tally = defaultdict(int) \n",
    "        self.frauds = [] \n",
    "        self.run()\n",
    "        \n",
    "    def run(self): \n",
    "        self.read_data()\n",
    "        self.get_top_candidates()\n",
    "        \n",
    "    def read_data(self): \n",
    "        for voter, candidate in self.data: \n",
    "            if voter not in self.voters:\n",
    "                self.voters[voter] = candidate\n",
    "                self.tally[candidate] += 1\n",
    "        else: \n",
    "            self.report_fraud(voter) \n",
    "            \n",
    "    def report_fraud(self, voter): \n",
    "        self.frauds.append(voter) \n",
    "        \n",
    "    def get_top_candidates(self):\n",
    "        heap = [] \n",
    "        for candidate, votes in self.tally.items(): \n",
    "            heapq.heappush(heap, (-votes, candidate))\n",
    "            \n",
    "        for i in range(1, self.k + 1): \n",
    "            candidate = heapq.heappop(heap)[1] \n",
    "            print(\"#{} candidate:\".format(i), candidate)"
   ]
  },
  {
   "cell_type": "code",
   "execution_count": null,
   "metadata": {},
   "outputs": [],
   "source": []
  }
 ],
 "metadata": {
  "kernelspec": {
   "display_name": "Python 3",
   "language": "python",
   "name": "python3"
  },
  "language_info": {
   "codemirror_mode": {
    "name": "ipython",
    "version": 3
   },
   "file_extension": ".py",
   "mimetype": "text/x-python",
   "name": "python",
   "nbconvert_exporter": "python",
   "pygments_lexer": "ipython3",
   "version": "3.6.2"
  }
 },
 "nbformat": 4,
 "nbformat_minor": 2
}
