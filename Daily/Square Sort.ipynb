{
 "cells": [
  {
   "cell_type": "markdown",
   "metadata": {},
   "source": [
    "## Simple square and sort..\n",
    "Given a sorted list of integers, square the elements and give the output in sorted order.\n",
    "\n",
    "For example, given [-9, -2, 0, 2, 3], return [0, 4, 4, 9, 81]."
   ]
  },
  {
   "cell_type": "code",
   "execution_count": 17,
   "metadata": {},
   "outputs": [],
   "source": [
    "def square_sort(list): \n",
    "    \n",
    "    new_list = []\n",
    "    \n",
    "    for i in list: \n",
    "        new_list.append(i**2)\n",
    "    \n",
    "    new_list.sort()\n",
    "    return new_list"
   ]
  },
  {
   "cell_type": "code",
   "execution_count": 18,
   "metadata": {},
   "outputs": [
    {
     "data": {
      "text/plain": [
       "[0, 4, 4, 9, 81]"
      ]
     },
     "execution_count": 18,
     "metadata": {},
     "output_type": "execute_result"
    }
   ],
   "source": [
    "square_sort([-9,-2,0,2,3])"
   ]
  },
  {
   "cell_type": "code",
   "execution_count": 19,
   "metadata": {},
   "outputs": [],
   "source": [
    "test_list = [-3,2,10,5,-7,0.5]"
   ]
  },
  {
   "cell_type": "code",
   "execution_count": 21,
   "metadata": {},
   "outputs": [
    {
     "data": {
      "text/plain": [
       "[0.25, 4, 9, 25, 49, 100]"
      ]
     },
     "execution_count": 21,
     "metadata": {},
     "output_type": "execute_result"
    }
   ],
   "source": [
    "square_sort(test_list)"
   ]
  },
  {
   "cell_type": "markdown",
   "metadata": {},
   "source": [
    "### You can do this in a simpler way by just writing... (one line solution) "
   ]
  },
  {
   "cell_type": "code",
   "execution_count": 22,
   "metadata": {},
   "outputs": [],
   "source": [
    "def square_sort(list): \n",
    "    return sorted([x ** 2 for x in list])"
   ]
  },
  {
   "cell_type": "code",
   "execution_count": 23,
   "metadata": {},
   "outputs": [
    {
     "data": {
      "text/plain": [
       "[0, 4, 4, 9, 81]"
      ]
     },
     "execution_count": 23,
     "metadata": {},
     "output_type": "execute_result"
    }
   ],
   "source": [
    "square_sort([-9,-2,0,2,3])"
   ]
  },
  {
   "cell_type": "markdown",
   "metadata": {},
   "source": [
    "### Problem, can you do this faster? this is an O(n log n) solution\n",
    "\n",
    "- There are two natural sublists in list... the positive numbers and the negative numbers. "
   ]
  },
  {
   "cell_type": "code",
   "execution_count": 24,
   "metadata": {},
   "outputs": [],
   "source": [
    "def square_sort(lst): \n",
    "    negatives = [x for x in lst if x < 0]\n",
    "    non_negatives = [x for x in lst if x >= 0]\n",
    "    \n",
    "    negatives_square_sorted = [x **2 for x in reversed(negatives)]\n",
    "    non_negatives_square_sorted = [x **2 for x in non_negatives]\n",
    "    \n",
    "    return _merge(negatives_square_sorted, non_negatives_square_sorted)\n",
    "\n",
    "def _merge(left_lst, right_lst): \n",
    "    result = []\n",
    "    \n",
    "    i = j = 0 \n",
    "    \n",
    "    while i < len(left_lst) and j < len(right_lst): \n",
    "        if left_lst[i] < right_lst[j]: \n",
    "            result.append(left_lst[i]) \n",
    "            i+=1\n",
    "        elif left_lst[i] > right_lst[j]: \n",
    "            result.append(right_lst[j])\n",
    "            j+=1 \n",
    "        else: \n",
    "            result.append(left_lst[i])\n",
    "            result.append(right_lst[j])\n",
    "            i += 1\n",
    "            j += 1\n",
    "        \n",
    "    result.extend(left_lst[i:])\n",
    "    result.extend(right_lst[j:]) \n",
    "    return result\n",
    "\n",
    "# this would take O(N) time"
   ]
  },
  {
   "cell_type": "code",
   "execution_count": 25,
   "metadata": {},
   "outputs": [
    {
     "data": {
      "text/plain": [
       "[0, 4, 4, 9, 81]"
      ]
     },
     "execution_count": 25,
     "metadata": {},
     "output_type": "execute_result"
    }
   ],
   "source": [
    "square_sort([-9,-2,0,2,3])"
   ]
  },
  {
   "cell_type": "code",
   "execution_count": null,
   "metadata": {},
   "outputs": [],
   "source": []
  }
 ],
 "metadata": {
  "kernelspec": {
   "display_name": "Python 3",
   "language": "python",
   "name": "python3"
  },
  "language_info": {
   "codemirror_mode": {
    "name": "ipython",
    "version": 3
   },
   "file_extension": ".py",
   "mimetype": "text/x-python",
   "name": "python",
   "nbconvert_exporter": "python",
   "pygments_lexer": "ipython3",
   "version": "3.6.2"
  }
 },
 "nbformat": 4,
 "nbformat_minor": 2
}
