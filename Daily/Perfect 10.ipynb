{
 "cells": [
  {
   "cell_type": "markdown",
   "metadata": {},
   "source": [
    "# A number is considered \"perfect\" if it's digits sum to 10. \n",
    "\n",
    "Given a positive integer n, return the n-th perfect number. If given 1, you should return 19. If given 2, you should return 28. \n",
    "\n",
    "Well the first thing that's clear is that there are a finite number of \"perfect\" numbers. This is because the largest one is clearly ten 1's lined up. \n",
    "\n",
    "- we need to find a way to generate new \"perfect\" numbers\n",
    "- we need a test to determine if a number of perfect\n",
    "- we then need a way to store these values in an array, and then select that value given index n. "
   ]
  },
  {
   "cell_type": "code",
   "execution_count": 16,
   "metadata": {},
   "outputs": [
    {
     "name": "stdout",
     "output_type": "stream",
     "text": [
      "[1, 0, 5, 4] and the sum is  10\n"
     ]
    }
   ],
   "source": [
    "# separate a number into multiple digits in a list\n",
    "x = 1054\n",
    "lst = [int(i) for i in str(x)]\n",
    "print(lst, \"and the sum is \", sum(lst))"
   ]
  },
  {
   "cell_type": "code",
   "execution_count": 11,
   "metadata": {},
   "outputs": [],
   "source": [
    "def test_perfect(number): \n",
    "    lst = [int(i) for i in str(number)] \n",
    "    if sum(lst) == 10: \n",
    "        return True\n",
    "    else: return False"
   ]
  },
  {
   "cell_type": "code",
   "execution_count": 12,
   "metadata": {},
   "outputs": [
    {
     "data": {
      "text/plain": [
       "False"
      ]
     },
     "execution_count": 12,
     "metadata": {},
     "output_type": "execute_result"
    }
   ],
   "source": [
    "test_perfect(1054) \n",
    "test_perfect(555)"
   ]
  },
  {
   "cell_type": "code",
   "execution_count": 33,
   "metadata": {},
   "outputs": [],
   "source": [
    "# Could use a while loop.. to test whether numbers are \"perfect\" and then collect it. \n",
    "# This naive way would require you to do the while loop for 10**10 and that's intractable\n",
    "\n",
    "index = 0 \n",
    "perfect_numbers = []\n",
    "\n",
    "while index < 10**5: \n",
    "    if test_perfect(index): \n",
    "        perfect_numbers.append(index) \n",
    "    index += 1"
   ]
  },
  {
   "cell_type": "code",
   "execution_count": 34,
   "metadata": {},
   "outputs": [],
   "source": [
    "# print(perfect_numbers)"
   ]
  },
  {
   "cell_type": "code",
   "execution_count": 37,
   "metadata": {},
   "outputs": [],
   "source": [
    "def give_perfect(n): \n",
    "    return perfect_numbers[n-1]"
   ]
  },
  {
   "cell_type": "code",
   "execution_count": 39,
   "metadata": {},
   "outputs": [
    {
     "data": {
      "text/plain": [
       "28"
      ]
     },
     "execution_count": 39,
     "metadata": {},
     "output_type": "execute_result"
    }
   ],
   "source": [
    "give_perfect(2)"
   ]
  },
  {
   "cell_type": "markdown",
   "metadata": {},
   "source": [
    "### Alternative Version: \n",
    "\n",
    "This is another brute force approach with different syntax. "
   ]
  },
  {
   "cell_type": "code",
   "execution_count": 40,
   "metadata": {},
   "outputs": [],
   "source": [
    "# Uses n // 10 which divides by 10 and removes the last digit.\n",
    "# the n%10 is modulus is a clever way to grab the last digit\n",
    "\n",
    "def sum_of_digits(n): \n",
    "    current_sum = 0 \n",
    "    while n > 0: \n",
    "        current_sum += n%10\n",
    "        n = n // 10\n",
    "    return current_sum\n",
    "\n",
    "# this is a good example of using another index called current.\n",
    "# super clever way returning the correct index =) \n",
    "\n",
    "def perfect(n): \n",
    "    i, current = 0, 0 \n",
    "    while current < n: \n",
    "        i += 1\n",
    "        if sum_of_digits(i) == 10: \n",
    "            current += 1\n",
    "    return i"
   ]
  },
  {
   "cell_type": "code",
   "execution_count": 43,
   "metadata": {},
   "outputs": [
    {
     "data": {
      "text/plain": [
       "102"
      ]
     },
     "execution_count": 43,
     "metadata": {},
     "output_type": "execute_result"
    }
   ],
   "source": [
    "1024 // 10 "
   ]
  },
  {
   "cell_type": "code",
   "execution_count": 44,
   "metadata": {},
   "outputs": [
    {
     "data": {
      "text/plain": [
       "5"
      ]
     },
     "execution_count": 44,
     "metadata": {},
     "output_type": "execute_result"
    }
   ],
   "source": [
    "1045 % 10"
   ]
  },
  {
   "cell_type": "code",
   "execution_count": 45,
   "metadata": {},
   "outputs": [
    {
     "data": {
      "text/plain": [
       "3"
      ]
     },
     "execution_count": 45,
     "metadata": {},
     "output_type": "execute_result"
    }
   ],
   "source": [
    "33 % 10"
   ]
  }
 ],
 "metadata": {
  "kernelspec": {
   "display_name": "Python 3",
   "language": "python",
   "name": "python3"
  },
  "language_info": {
   "codemirror_mode": {
    "name": "ipython",
    "version": 3
   },
   "file_extension": ".py",
   "mimetype": "text/x-python",
   "name": "python",
   "nbconvert_exporter": "python",
   "pygments_lexer": "ipython3",
   "version": "3.6.2"
  }
 },
 "nbformat": 4,
 "nbformat_minor": 2
}
