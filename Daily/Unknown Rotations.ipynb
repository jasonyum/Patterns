{
 "cells": [
  {
   "cell_type": "markdown",
   "metadata": {},
   "source": [
    "## Unknown Rotations\n",
    "\n",
    "A sorted array of integers was rotated an unknown number of times...given such an array, find the index of the element in the array in faster than linear time. If the element doesn't exist in the array, return null.\n",
    "\n",
    "Example: given [13,18,25,2,8,10] and the element 8, return 4 (index of 8 in the array). \n",
    "\n",
    "Thoughts: You can assume that all of the integers in the array are unique. "
   ]
  },
  {
   "cell_type": "code",
   "execution_count": 11,
   "metadata": {},
   "outputs": [],
   "source": [
    "# The brute force way of doing this does it in linear time.\n",
    "\n",
    "def unknown_rotations(arr, element): \n",
    "    for i in range(len(arr)): \n",
    "        if element == arr[i]: \n",
    "            return i"
   ]
  },
  {
   "cell_type": "code",
   "execution_count": 12,
   "metadata": {},
   "outputs": [],
   "source": [
    "test_arr = [13,18,25,2,8,10]\n",
    "test_ele = 8"
   ]
  },
  {
   "cell_type": "code",
   "execution_count": 13,
   "metadata": {},
   "outputs": [
    {
     "data": {
      "text/plain": [
       "4"
      ]
     },
     "execution_count": 13,
     "metadata": {},
     "output_type": "execute_result"
    }
   ],
   "source": [
    "unknown_rotations(test_arr, test_ele)"
   ]
  },
  {
   "cell_type": "code",
   "execution_count": 14,
   "metadata": {},
   "outputs": [
    {
     "data": {
      "text/plain": [
       "1"
      ]
     },
     "execution_count": 14,
     "metadata": {},
     "output_type": "execute_result"
    }
   ],
   "source": [
    "test_ele2 = 18\n",
    "unknown_rotations(test_arr, test_ele2)"
   ]
  },
  {
   "cell_type": "code",
   "execution_count": null,
   "metadata": {},
   "outputs": [],
   "source": [
    "# The question though... the hard part is in doing it faster than linear time!\n",
    "# if the array was just sorted, then we could use a binary search\n",
    "# because the array was sorted and then rotated --> you need to be a little more clever\n",
    "\n",
    "\n",
    "# find the rotation point using binary search\n",
    "def fast_rotations(lst, num): \n",
    "    \n",
    "    # find the breaking point in the shifted array\n",
    "    i = len(lst) // 2\n",
    "    dist = i // 2\n",
    "    \n",
    "    while True: \n",
    "        if lst[0] > lst[i] and lst[i-1] > lst[i]: \n",
    "            break\n",
    "        elif dist == 0 : \n",
    "            break\n",
    "        \n",
    "    "
   ]
  }
 ],
 "metadata": {
  "kernelspec": {
   "display_name": "Python 3",
   "language": "python",
   "name": "python3"
  },
  "language_info": {
   "codemirror_mode": {
    "name": "ipython",
    "version": 3
   },
   "file_extension": ".py",
   "mimetype": "text/x-python",
   "name": "python",
   "nbconvert_exporter": "python",
   "pygments_lexer": "ipython3",
   "version": "3.6.2"
  }
 },
 "nbformat": 4,
 "nbformat_minor": 2
}
