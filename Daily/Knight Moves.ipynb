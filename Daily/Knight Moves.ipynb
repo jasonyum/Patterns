{
 "cells": [
  {
   "cell_type": "markdown",
   "metadata": {},
   "source": [
    "# Knights Tour = Visit All Squares on the Board\n",
    "\n",
    "Given N, find all the number of knight tours on an NxN chessboard. "
   ]
  },
  {
   "cell_type": "code",
   "execution_count": 1,
   "metadata": {},
   "outputs": [],
   "source": [
    "def is_valid_move(board, move, n): \n",
    "    r, c = move\n",
    "    return 0 <= r < n and 0 <=c <n and board[r][c] is None\n",
    "\n",
    "\n",
    "def valid_moves(board, r, c, n): \n",
    "    deltas = [\n",
    "        (2,1), \n",
    "        (1,2),\n",
    "        (1,-2),\n",
    "        (-2,1),\n",
    "        (-1,2)\n",
    "        (2,-1),\n",
    "        (-1,-2)\n",
    "        (-2,-1), \n",
    "    ]\n",
    "    \n",
    "    all_moves = [(r + r_delta, c + c_delta) for r_delta, c_delta in deltas]\n",
    "    return [move for move in all_moves if is_valid_move(board, move, n)]\n",
    "\n"
   ]
  },
  {
   "cell_type": "code",
   "execution_count": null,
   "metadata": {},
   "outputs": [],
   "source": []
  }
 ],
 "metadata": {
  "kernelspec": {
   "display_name": "Python 3",
   "language": "python",
   "name": "python3"
  },
  "language_info": {
   "codemirror_mode": {
    "name": "ipython",
    "version": 3
   },
   "file_extension": ".py",
   "mimetype": "text/x-python",
   "name": "python",
   "nbconvert_exporter": "python",
   "pygments_lexer": "ipython3",
   "version": "3.7.0"
  }
 },
 "nbformat": 4,
 "nbformat_minor": 2
}
