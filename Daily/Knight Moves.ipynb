{
 "cells": [
  {
   "cell_type": "markdown",
   "metadata": {},
   "source": [
    "# Knights Tour = Visit All Squares on the Board\n",
    "\n",
    "Given N, find all the number of knight tours on an NxN chessboard. "
   ]
  },
  {
   "cell_type": "code",
   "execution_count": 2,
   "metadata": {},
   "outputs": [],
   "source": [
    "# r, c, are like coordinates\n",
    "# board[r][c] is None checks if there's no value in board[r][c] \n",
    "\n",
    "# def_is_valid_move() takes in board state, the move, and the size of the board\n",
    "def is_valid_move(board, move, n): \n",
    "    r, c = move\n",
    "    return 0 <= r < n and 0 <=c <n and board[r][c] is None\n",
    "\n",
    "\n",
    "# these are just valid moves, where delta => movement in the position of a piece\n",
    "def valid_moves(board, r, c, n): \n",
    "    deltas = [\n",
    "        (2,1), \n",
    "        (1,2),\n",
    "        (1,-2),\n",
    "        (-2,1),\n",
    "        (-1,2)\n",
    "        (2,-1),\n",
    "        (-1,-2)\n",
    "        (-2,-1), \n",
    "    ]\n",
    "    \n",
    "    # this is an awesome piece of code here.\n",
    "    all_moves = [(r + r_delta, c + c_delta) for r_delta, c_delta in deltas]\n",
    "    \n",
    "    # filter out the moves that aren't legal using.. \"if is_valid_move(board, move, n)\"\n",
    "    return [move for move in all_moves if is_valid_move(board, move, n)]\n"
   ]
  },
  {
   "cell_type": "code",
   "execution_count": 3,
   "metadata": {},
   "outputs": [],
   "source": [
    "def knights_tours(n): \n",
    "    count = 0 \n",
    "    for i in range(n): \n",
    "        for j in range(n): \n",
    "            \n",
    "            # \"for _ in\" --> convention that indicates that the loop variable isn't used.\n",
    "            # [None for _ in range(n)] --> [None, None, None, ... n times]\n",
    "            \n",
    "            # Then, [[None for _ in range(n)] for _ in range(n)] just creates \n",
    "            # multiple copies of [None, None, None ....], [None, None, None ...] etc. \n",
    "            \n",
    "            board = [[None for _ in range(n)] for _ in range(n)]\n",
    "            board[i][j] = 0 \n",
    "            count += knights_tours_helper(board, [(i,j)], n) \n",
    "    return count"
   ]
  },
  {
   "cell_type": "code",
   "execution_count": 4,
   "metadata": {},
   "outputs": [],
   "source": [
    "def knights_tours_helper(board, tour, n): \n",
    "    if len(tour) == n * n: \n",
    "        return 1\n",
    "    else: \n",
    "        count = 0\n",
    "        last_r, last_c = tour[-1]\n",
    "        for r, c in valid_moves(board, last_r, last_c, n): \n",
    "            tour.append((r,c))\n",
    "            board[r][c] = len(tour) \n",
    "            count += knights_tours_helper(board, tour, n) \n",
    "            tour.pop()\n",
    "            board[r][c] = None\n",
    "        return count"
   ]
  },
  {
   "cell_type": "markdown",
   "metadata": {},
   "source": [
    "## Takes $O(N*N)$ space and O(8^(N^2)) time\n",
    "Each step we have potentially 8 moves to check, and we have to do this for each square.\n"
   ]
  },
  {
   "cell_type": "code",
   "execution_count": 5,
   "metadata": {},
   "outputs": [
    {
     "name": "stdout",
     "output_type": "stream",
     "text": [
      "[None, None, None, None, None]\n"
     ]
    }
   ],
   "source": [
    "arr = [None for _ in range(5)]\n",
    "print(arr)"
   ]
  },
  {
   "cell_type": "code",
   "execution_count": 6,
   "metadata": {},
   "outputs": [
    {
     "name": "stdout",
     "output_type": "stream",
     "text": [
      "[[None, None, None, None, None], [None, None, None, None, None], [None, None, None, None, None], [None, None, None, None, None], [None, None, None, None, None]]\n"
     ]
    }
   ],
   "source": [
    "arr2 = [[None for _ in range(5)] for _ in range(5)] \n",
    "print(arr2) \n",
    "\n",
    "# so you can see this code creates the board state.\n",
    "# then board[i][j] = 0 means everything is set to 0.."
   ]
  },
  {
   "cell_type": "code",
   "execution_count": 13,
   "metadata": {},
   "outputs": [
    {
     "name": "stdout",
     "output_type": "stream",
     "text": [
      "[[None, None, None, None, None], [None, None, None, None, None], [None, None, None, None, None], [None, None, None, None, None], [None, None, None, None, 0]]\n"
     ]
    }
   ],
   "source": [
    "for i in range(5): \n",
    "    for j in range(5): \n",
    "        board = [[None for _ in range(5)] for _ in range(5)] \n",
    "        board[i][j] = 0 \n",
    "        \n",
    "print(board) \n",
    "# look at what this creates. notice how board = [[None for _ in range(5)] for _ in range(5)] \n",
    "# just creates the None None None ... etc. list of lists.\n",
    "# and then when you set board[i][j] you do indeed set it to 0, but then on the next loop around\n",
    "# you reset board again before board[i][j] gets assigned so what you're left with as an output here\n",
    "# is just the board with position (4,4) = 0 and that's what you see in the output. "
   ]
  },
  {
   "cell_type": "code",
   "execution_count": null,
   "metadata": {},
   "outputs": [],
   "source": []
  }
 ],
 "metadata": {
  "kernelspec": {
   "display_name": "Python 3",
   "language": "python",
   "name": "python3"
  },
  "language_info": {
   "codemirror_mode": {
    "name": "ipython",
    "version": 3
   },
   "file_extension": ".py",
   "mimetype": "text/x-python",
   "name": "python",
   "nbconvert_exporter": "python",
   "pygments_lexer": "ipython3",
   "version": "3.7.0"
  }
 },
 "nbformat": 4,
 "nbformat_minor": 2
}
