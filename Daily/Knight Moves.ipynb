{
 "cells": [
  {
   "cell_type": "markdown",
   "metadata": {},
   "source": [
    "# Knights Tour = Visit All Squares on the Board\n",
    "\n",
    "Given N, find all the number of knight tours on an NxN chessboard. "
   ]
  },
  {
   "cell_type": "code",
   "execution_count": 2,
   "metadata": {},
   "outputs": [],
   "source": [
    "def is_valid_move(board, move, n): \n",
    "    r, c = move\n",
    "    return 0 <= r < n and 0 <=c <n and board[r][c] is None\n",
    "\n",
    "\n",
    "def valid_moves(board, r, c, n): \n",
    "    deltas = [\n",
    "        (2,1), \n",
    "        (1,2),\n",
    "        (1,-2),\n",
    "        (-2,1),\n",
    "        (-1,2)\n",
    "        (2,-1),\n",
    "        (-1,-2)\n",
    "        (-2,-1), \n",
    "    ]\n",
    "    \n",
    "    all_moves = [(r + r_delta, c + c_delta) for r_delta, c_delta in deltas]\n",
    "    return [move for move in all_moves if is_valid_move(board, move, n)]\n"
   ]
  },
  {
   "cell_type": "code",
   "execution_count": 3,
   "metadata": {},
   "outputs": [],
   "source": [
    "def knights_tours(n): \n",
    "    count = 0 \n",
    "    for i in range(n): \n",
    "        for j in range(n): \n",
    "            board = [[None for _ in range(n)] for _ in range(n)]\n",
    "            board[i][j] = 0 \n",
    "            count += knights_tours_helper(board, [(i,j)], n) \n",
    "    return count"
   ]
  },
  {
   "cell_type": "code",
   "execution_count": 4,
   "metadata": {},
   "outputs": [],
   "source": [
    "def knights_tours_helper(board, tour, n): \n",
    "    if len(tour) == n * n: \n",
    "        return 1\n",
    "    else: \n",
    "        count = 0\n",
    "        last_r, last_c = tour[-1]\n",
    "        for r, c in valid_moves(board, last_r, last_c, n): \n",
    "            tour.append((r,c))\n",
    "            board[r][c] = len(tour) \n",
    "            count += knights_tours_helper(board, tour, n) \n",
    "            tour.pop()\n",
    "            board[r][c] = None\n",
    "        return count"
   ]
  },
  {
   "cell_type": "markdown",
   "metadata": {},
   "source": [
    "## Takes $O(N*N)$ space and O(8^(N^2)) time\n",
    "Each step we have potentially 8 moves to check, and we have to do this for each square. "
   ]
  }
 ],
 "metadata": {
  "kernelspec": {
   "display_name": "Python 3",
   "language": "python",
   "name": "python3"
  },
  "language_info": {
   "codemirror_mode": {
    "name": "ipython",
    "version": 3
   },
   "file_extension": ".py",
   "mimetype": "text/x-python",
   "name": "python",
   "nbconvert_exporter": "python",
   "pygments_lexer": "ipython3",
   "version": "3.7.0"
  }
 },
 "nbformat": 4,
 "nbformat_minor": 2
}
