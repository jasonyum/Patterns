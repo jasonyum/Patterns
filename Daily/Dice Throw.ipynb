{
 "cells": [
  {
   "cell_type": "markdown",
   "metadata": {},
   "source": [
    "### Dice Throw \n",
    "\n",
    "Write a function, throw_dice(N, faces, total), that determines how many ways it is possible to throw N dice with some number of faces each to get a specific total.\n",
    "\n",
    "For example, throw_dice(3, 6, 7) should equal 15.\n",
    "\n",
    "ANS: for two dice, you just examine all possible outcomes from the first roll. If you generaliez to an arbitrary number of dice, you can use the following recursive relationship... \n",
    "\n",
    "f(N, total) = series summation  f(N - 1, total - m) for m in M"
   ]
  },
  {
   "cell_type": "code",
   "execution_count": 1,
   "metadata": {},
   "outputs": [],
   "source": [
    "def throw_dice(n, faces, total):\n",
    "    if n == 1:\n",
    "        return 1 if total <= faces else 0\n",
    "\n",
    "    ways = 0\n",
    "    for face in range(1, min(total, faces + 1)):\n",
    "        ways += throw_dice(n - 1, faces, total - face)\n",
    "\n",
    "    return ways"
   ]
  },
  {
   "cell_type": "markdown",
   "metadata": {},
   "source": [
    "### Dynamic programming \n",
    "\n",
    "The above takes $O(M^N)$ time because we're recursively calling our function N times. "
   ]
  },
  {
   "cell_type": "code",
   "execution_count": 2,
   "metadata": {},
   "outputs": [],
   "source": [
    "def throw_dice(n, faces, total):\n",
    "    ways = [[0 for _ in range(total + 1)] for _ in range(n)]\n",
    "\n",
    "    for t in range(1, total + 1):\n",
    "        ways[0][t] = 1 if t <= faces else 0\n",
    "\n",
    "    for dice in range(1, n):\n",
    "        for t in range(1, total + 1):\n",
    "            for face in range(1, min(t, faces + 1)):\n",
    "                ways[dice][t] += ways[dice - 1][t - face]\n",
    "\n",
    "    return ways[-1][-1]\n"
   ]
  },
  {
   "cell_type": "code",
   "execution_count": 3,
   "metadata": {},
   "outputs": [],
   "source": [
    "# O(N * M * T) "
   ]
  },
  {
   "cell_type": "code",
   "execution_count": null,
   "metadata": {},
   "outputs": [],
   "source": []
  }
 ],
 "metadata": {
  "kernelspec": {
   "display_name": "Python 3",
   "language": "python",
   "name": "python3"
  },
  "language_info": {
   "codemirror_mode": {
    "name": "ipython",
    "version": 3
   },
   "file_extension": ".py",
   "mimetype": "text/x-python",
   "name": "python",
   "nbconvert_exporter": "python",
   "pygments_lexer": "ipython3",
   "version": "3.6.2"
  }
 },
 "nbformat": 4,
 "nbformat_minor": 2
}
