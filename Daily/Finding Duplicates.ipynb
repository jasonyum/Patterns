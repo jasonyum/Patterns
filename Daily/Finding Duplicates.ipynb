{
 "cells": [
  {
   "cell_type": "markdown",
   "metadata": {},
   "source": [
    "# Finding Duplicates\n",
    "\n",
    "You are given an array of length n + 1 whose elements belong to the set {1, 2, ..., n}. By the pigeonhole principle, there must be a duplicate. Find it in linear time and space."
   ]
  },
  {
   "cell_type": "code",
   "execution_count": 1,
   "metadata": {},
   "outputs": [],
   "source": [
    "t_set = [1,2,3,4,5,6,6,7,8,9] # 6 repeats"
   ]
  },
  {
   "cell_type": "code",
   "execution_count": 2,
   "metadata": {},
   "outputs": [],
   "source": [
    "def find_dup(array): \n",
    "    array = sorted(array)\n",
    "    for index, value in enumerate(array): \n",
    "        print(index, value)"
   ]
  },
  {
   "cell_type": "code",
   "execution_count": 15,
   "metadata": {},
   "outputs": [],
   "source": [
    "# find_dup(t_set) # just reviewing the format of enumerate"
   ]
  },
  {
   "cell_type": "code",
   "execution_count": 16,
   "metadata": {},
   "outputs": [],
   "source": [
    "def find_dup(array): \n",
    "    array = sorted(array) \n",
    "    for index, value in enumerate(array): \n",
    "        if array[index] == array[index+1]: \n",
    "            return value"
   ]
  },
  {
   "cell_type": "code",
   "execution_count": 17,
   "metadata": {},
   "outputs": [
    {
     "data": {
      "text/plain": [
       "6"
      ]
     },
     "execution_count": 17,
     "metadata": {},
     "output_type": "execute_result"
    }
   ],
   "source": [
    "find_dup(t_set)"
   ]
  },
  {
   "cell_type": "code",
   "execution_count": 18,
   "metadata": {},
   "outputs": [],
   "source": [
    "# what if the duplicate happens at the end of the list? \n",
    "# oh actually nothing! because you return and leave the stream\n",
    "t_set1 = [1,2,3,4,5,5] # 5 repeats"
   ]
  },
  {
   "cell_type": "code",
   "execution_count": 19,
   "metadata": {},
   "outputs": [
    {
     "data": {
      "text/plain": [
       "5"
      ]
     },
     "execution_count": 19,
     "metadata": {},
     "output_type": "execute_result"
    }
   ],
   "source": [
    "find_dup(t_set1)"
   ]
  },
  {
   "cell_type": "code",
   "execution_count": 20,
   "metadata": {},
   "outputs": [],
   "source": [
    "# what if there is no duplicate? \n",
    "t_set2 = [1,2,3,4,5,6,7,8] "
   ]
  },
  {
   "cell_type": "code",
   "execution_count": 21,
   "metadata": {},
   "outputs": [],
   "source": [
    "# find_dup(t_set2) \n",
    "# this is where you hit an error\n",
    "# this says that \"list index out of range\" and you get in trouble"
   ]
  },
  {
   "cell_type": "markdown",
   "metadata": {},
   "source": [
    "## Smarter solution\n",
    "\n",
    "- One kind of what we were doing\n",
    "- One that is much smarter hah"
   ]
  },
  {
   "cell_type": "code",
   "execution_count": 22,
   "metadata": {},
   "outputs": [],
   "source": [
    "def duplicate(lst): \n",
    "    i = 0 \n",
    "    while i < len(lst): \n",
    "        if lst[i] != i: \n",
    "            j = lst[i] \n",
    "            if lst[j] == lst[i]: \n",
    "                return j\n",
    "            lst[i], lst[j] = lst[j], lst[i] \n",
    "        else: \n",
    "            i += 1\n",
    "    raise IndexError('Malformed input.') \n",
    "    \n",
    "# ok this is similar to what we had going for us"
   ]
  },
  {
   "cell_type": "code",
   "execution_count": 23,
   "metadata": {},
   "outputs": [],
   "source": [
    "def duplicate(lst): \n",
    "    n = len(lst) - 1\n",
    "    return sum(lst) - (n*(n+1)//2)\n",
    "\n",
    "# the idea is that you should sum up the array and then subtract it by the sum of 1 to n.\n",
    "# this uncovers the duplicate! "
   ]
  },
  {
   "cell_type": "code",
   "execution_count": null,
   "metadata": {},
   "outputs": [],
   "source": []
  }
 ],
 "metadata": {
  "kernelspec": {
   "display_name": "Python 3",
   "language": "python",
   "name": "python3"
  },
  "language_info": {
   "codemirror_mode": {
    "name": "ipython",
    "version": 3
   },
   "file_extension": ".py",
   "mimetype": "text/x-python",
   "name": "python",
   "nbconvert_exporter": "python",
   "pygments_lexer": "ipython3",
   "version": "3.6.2"
  }
 },
 "nbformat": 4,
 "nbformat_minor": 2
}
