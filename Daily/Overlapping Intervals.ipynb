{
 "cells": [
  {
   "cell_type": "markdown",
   "metadata": {},
   "source": [
    "## Overlapping Intervals\n",
    "\n",
    "Given an input list of possibly overlapping intervals, return a list of intervals where overlapping intervals are merged. "
   ]
  },
  {
   "cell_type": "code",
   "execution_count": 1,
   "metadata": {},
   "outputs": [],
   "source": [
    "def merge(intervals): \n",
    "    result = [] \n",
    "    for start, end in sorted(intervals, key= lambda i : i[0]): \n",
    "        \n",
    "        if result and start <= result[-1][1]:\n",
    "            prev_start, prev_end = result[-1]\n",
    "            result[-1] = (prev_start, max(end, prev_end))\n",
    "        else: \n",
    "            result.append((start, end))\n",
    "    \n",
    "    return result"
   ]
  },
  {
   "cell_type": "markdown",
   "metadata": {},
   "source": [
    "### how does sorted() work when you have key? \n",
    "\n",
    "- sorted() is recommend over list.sort() by Google\n",
    "- sorted() takes optional arguments like ... \n",
    "\n",
    "sorted(list, reverse=True) makes it sort backwards\n",
    "\n",
    "- Custom sorting happens with \"key=\" \n",
    "- key function takes in 1 value and returns 1 value ... \n",
    "- the returned \"proxy\" value is used for the comparison within the sort "
   ]
  },
  {
   "cell_type": "code",
   "execution_count": 3,
   "metadata": {},
   "outputs": [
    {
     "data": {
      "text/plain": [
       "['d', 'bb', 'ccc', 'aaaa']"
      ]
     },
     "execution_count": 3,
     "metadata": {},
     "output_type": "execute_result"
    }
   ],
   "source": [
    "strs = ['ccc', 'aaaa', 'd', 'bb']\n",
    "sorted(strs, key=len) \n",
    "\n",
    "\n",
    "# so what's happening here is you're taking the strs list\n",
    "# and it turns it into a list of proxy values \n",
    "\n",
    "# strs = [3,4,1,2] \n",
    "# and then sorts the original list using the proxy values\n",
    "# returns ['d','bb','ccc','aaaa']"
   ]
  },
  {
   "cell_type": "code",
   "execution_count": 6,
   "metadata": {},
   "outputs": [
    {
     "data": {
      "text/plain": [
       "['aaaa', 'bb', 'ccc', 'd']"
      ]
     },
     "execution_count": 6,
     "metadata": {},
     "output_type": "execute_result"
    }
   ],
   "source": [
    "sorted(strs, key=str.lower) # key does nothing here because everything is lower case"
   ]
  },
  {
   "cell_type": "code",
   "execution_count": 7,
   "metadata": {},
   "outputs": [
    {
     "data": {
      "text/plain": [
       "['aaaa', 'bb', 'ccc', 'd']"
      ]
     },
     "execution_count": 7,
     "metadata": {},
     "output_type": "execute_result"
    }
   ],
   "source": [
    "sorted(strs)"
   ]
  },
  {
   "cell_type": "markdown",
   "metadata": {},
   "source": [
    "## what if you tried to sort by the last letter?"
   ]
  },
  {
   "cell_type": "code",
   "execution_count": 8,
   "metadata": {},
   "outputs": [],
   "source": [
    "strs = ['xc','zb','yd', 'wa'] "
   ]
  },
  {
   "cell_type": "code",
   "execution_count": 9,
   "metadata": {},
   "outputs": [],
   "source": [
    "def MyFn(s): \n",
    "    return s[-1]"
   ]
  },
  {
   "cell_type": "code",
   "execution_count": 10,
   "metadata": {},
   "outputs": [
    {
     "data": {
      "text/plain": [
       "['wa', 'zb', 'xc', 'yd']"
      ]
     },
     "execution_count": 10,
     "metadata": {},
     "output_type": "execute_result"
    }
   ],
   "source": [
    "sorted(strs, key=MyFn)"
   ]
  },
  {
   "cell_type": "code",
   "execution_count": 13,
   "metadata": {},
   "outputs": [
    {
     "data": {
      "text/plain": [
       "'c'"
      ]
     },
     "execution_count": 13,
     "metadata": {},
     "output_type": "execute_result"
    }
   ],
   "source": [
    "strs[0][-1] # just grab the last letter, use that as a proxy value\n",
    "# then sort the original list based on the proxy value!"
   ]
  },
  {
   "cell_type": "markdown",
   "metadata": {},
   "source": [
    "### quick note on list.sort() vs sorted(list))\n",
    "\n",
    "- list.sort() is older frankly\n",
    "- list.sort() does NOT RETURN a new sorted list\n",
    "\n",
    "- so list.sort() is correct\n",
    "- but alist = blist.sort() is incorrect and returns NONE"
   ]
  },
  {
   "cell_type": "code",
   "execution_count": 14,
   "metadata": {},
   "outputs": [],
   "source": [
    "def merge(intervals): \n",
    "    result = [] \n",
    "    \n",
    "    # so the function you pass into key is a lambda function\n",
    "    \n",
    "    for start, end in sorted(intervals, key=lambda i : i[0]): \n",
    "        \n",
    "        if result and start <= result[-1][1]:\n",
    "            prev_start, prev_end = result[-1]\n",
    "            result[-1] = (prev_start, max(end, prev_end))\n",
    "        else: \n",
    "            result.append((start, end))\n",
    "    \n",
    "    return result"
   ]
  },
  {
   "cell_type": "code",
   "execution_count": 17,
   "metadata": {},
   "outputs": [
    {
     "data": {
      "text/plain": [
       "['xc', 'zb', 'yd', 'wa']"
      ]
     },
     "execution_count": 17,
     "metadata": {},
     "output_type": "execute_result"
    }
   ],
   "source": [
    "strs"
   ]
  },
  {
   "cell_type": "code",
   "execution_count": 18,
   "metadata": {},
   "outputs": [
    {
     "data": {
      "text/plain": [
       "['wa', 'xc', 'yd', 'zb']"
      ]
     },
     "execution_count": 18,
     "metadata": {},
     "output_type": "execute_result"
    }
   ],
   "source": [
    "# sort using lambda i: i[0] which picks out the first letter\n",
    "sorted(strs, key=lambda i: i[0])"
   ]
  },
  {
   "cell_type": "markdown",
   "metadata": {},
   "source": [
    "## remember lambda arguments: expression\n",
    "\n",
    "- any number of arguments but only one expression\n",
    "- free to use lambda functions wherever function objects are required\n",
    "- lambda is just a function without a name, easy"
   ]
  },
  {
   "cell_type": "code",
   "execution_count": 27,
   "metadata": {},
   "outputs": [],
   "source": [
    "def first_letter(x):\n",
    "    return x[0]"
   ]
  },
  {
   "cell_type": "code",
   "execution_count": 28,
   "metadata": {},
   "outputs": [
    {
     "data": {
      "text/plain": [
       "'b'"
      ]
     },
     "execution_count": 28,
     "metadata": {},
     "output_type": "execute_result"
    }
   ],
   "source": [
    "first_letter(\"blarh\")"
   ]
  },
  {
   "cell_type": "code",
   "execution_count": 29,
   "metadata": {},
   "outputs": [
    {
     "data": {
      "text/plain": [
       "'b'"
      ]
     },
     "execution_count": 29,
     "metadata": {},
     "output_type": "execute_result"
    }
   ],
   "source": [
    "fx = lambda x: x[0] \n",
    "fx(\"blarh\")"
   ]
  },
  {
   "cell_type": "code",
   "execution_count": 34,
   "metadata": {},
   "outputs": [
    {
     "data": {
      "text/plain": [
       "[5, 7, 97, 77, 23, 73, 61]"
      ]
     },
     "execution_count": 34,
     "metadata": {},
     "output_type": "execute_result"
    }
   ],
   "source": [
    "# example using filter\n",
    "alist = [5,7, 22, 97, 54, 62, 77, 23, 73, 61]\n",
    "final_list = list(filter(lambda x: (x%2 !=0), alist))\n",
    "final_list"
   ]
  },
  {
   "cell_type": "code",
   "execution_count": 35,
   "metadata": {},
   "outputs": [
    {
     "data": {
      "text/plain": [
       "[10, 14, 44, 194, 108, 124, 154, 46, 146, 122]"
      ]
     },
     "execution_count": 35,
     "metadata": {},
     "output_type": "execute_result"
    }
   ],
   "source": [
    "# example using map\n",
    "final_list = list(map(lambda x: x*2, alist))\n",
    "final_list"
   ]
  },
  {
   "cell_type": "code",
   "execution_count": null,
   "metadata": {},
   "outputs": [],
   "source": []
  }
 ],
 "metadata": {
  "kernelspec": {
   "display_name": "Python 3",
   "language": "python",
   "name": "python3"
  },
  "language_info": {
   "codemirror_mode": {
    "name": "ipython",
    "version": 3
   },
   "file_extension": ".py",
   "mimetype": "text/x-python",
   "name": "python",
   "nbconvert_exporter": "python",
   "pygments_lexer": "ipython3",
   "version": "3.6.2"
  }
 },
 "nbformat": 4,
 "nbformat_minor": 2
}
