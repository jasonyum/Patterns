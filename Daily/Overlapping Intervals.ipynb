{
 "cells": [
  {
   "cell_type": "markdown",
   "metadata": {},
   "source": [
    "## Overlapping Intervals\n",
    "\n",
    "Given an input list of possibly overlapping intervals, return a list of intervals where overlapping intervals are merged. "
   ]
  },
  {
   "cell_type": "code",
   "execution_count": 1,
   "metadata": {},
   "outputs": [],
   "source": [
    "def merge(intervals): \n",
    "    result = [] \n",
    "    for start, end in sorted(intervals, key= lambda i : i[0]): \n",
    "        \n",
    "        if result and start <= result[-1][1]:\n",
    "            prev_start, prev_end = result[-1]\n",
    "            result[-1] = (prev_start, max(end, prev_end))\n",
    "        else: \n",
    "            result.append((start, end))\n",
    "    \n",
    "    return result"
   ]
  },
  {
   "cell_type": "markdown",
   "metadata": {},
   "source": [
    "### how does sorted() work when you have key? \n",
    "\n",
    "- sorted() is recommend over list.sort() by Google\n",
    "- sorted() takes optional arguments like ... \n",
    "\n",
    "sorted(list, reverse=True) makes it sort backwards\n",
    "\n",
    "- Custom sorting happens with \"key=\" \n",
    "- key function takes in 1 value and returns 1 value ... \n",
    "- the returned \"proxy\" value is used for the comparison within the sort "
   ]
  },
  {
   "cell_type": "code",
   "execution_count": 2,
   "metadata": {},
   "outputs": [
    {
     "data": {
      "text/plain": [
       "['d', 'bb', 'ccc', 'aaaa']"
      ]
     },
     "execution_count": 2,
     "metadata": {},
     "output_type": "execute_result"
    }
   ],
   "source": [
    "strs = ['ccc', 'aaaa', 'd', 'bb']\n",
    "sorted(strs, key=len) \n",
    "\n",
    "\n",
    "# so what's happening here is you're taking "
   ]
  },
  {
   "cell_type": "code",
   "execution_count": null,
   "metadata": {},
   "outputs": [],
   "source": []
  }
 ],
 "metadata": {
  "kernelspec": {
   "display_name": "Python 3",
   "language": "python",
   "name": "python3"
  },
  "language_info": {
   "codemirror_mode": {
    "name": "ipython",
    "version": 3
   },
   "file_extension": ".py",
   "mimetype": "text/x-python",
   "name": "python",
   "nbconvert_exporter": "python",
   "pygments_lexer": "ipython3",
   "version": "3.6.2"
  }
 },
 "nbformat": 4,
 "nbformat_minor": 2
}
