{
 "cells": [
  {
   "cell_type": "markdown",
   "metadata": {},
   "source": [
    "# return the max of two numbers without using if...\n"
   ]
  },
  {
   "cell_type": "code",
   "execution_count": 2,
   "metadata": {},
   "outputs": [],
   "source": [
    "# okay if you could use if what would it be? \n",
    "def max_if(a,b): \n",
    "    if a >= b: \n",
    "        return a # if they're equal either a,b is a correct solution\n",
    "    else: return b"
   ]
  },
  {
   "cell_type": "code",
   "execution_count": 3,
   "metadata": {},
   "outputs": [
    {
     "data": {
      "text/plain": [
       "5"
      ]
     },
     "execution_count": 3,
     "metadata": {},
     "output_type": "execute_result"
    }
   ],
   "source": [
    "max_if(5,2)"
   ]
  },
  {
   "cell_type": "code",
   "execution_count": 6,
   "metadata": {},
   "outputs": [
    {
     "data": {
      "text/plain": [
       "2"
      ]
     },
     "execution_count": 6,
     "metadata": {},
     "output_type": "execute_result"
    }
   ],
   "source": [
    "max_if(2,-5)"
   ]
  },
  {
   "cell_type": "markdown",
   "metadata": {},
   "source": [
    "## Okay now do it without using an if... \n",
    "\n",
    "- The way to think about it is to play with the numbers and figure out ...\n",
    "- Define a third variable called d = absolute(b-a) \n",
    "- Then you know that a + b + abs(b-a) = 2*max\n"
   ]
  },
  {
   "cell_type": "code",
   "execution_count": 7,
   "metadata": {},
   "outputs": [],
   "source": [
    "def max_math(a,b): \n",
    "    return 0.5 * (abs(b-a) + (a + b))"
   ]
  },
  {
   "cell_type": "code",
   "execution_count": 8,
   "metadata": {},
   "outputs": [
    {
     "data": {
      "text/plain": [
       "20.0"
      ]
     },
     "execution_count": 8,
     "metadata": {},
     "output_type": "execute_result"
    }
   ],
   "source": [
    "max_math(5,20)"
   ]
  },
  {
   "cell_type": "markdown",
   "metadata": {},
   "source": [
    "## You can also use bitwise operations.... \n"
   ]
  },
  {
   "cell_type": "code",
   "execution_count": 10,
   "metadata": {},
   "outputs": [],
   "source": [
    "# think... a - k * (a - b) \n",
    "# if k = 0 this returns a, but if k = 1 this returns b\n",
    "# shift (a-b) to the right and take the most significant bit\n",
    "# positive differences will shift down to ezro, while negative numbers \n",
    "# are typically stored using two complement representation\n",
    "\n",
    "def max(a,b): \n",
    "    k = (a-b) >> 31 & 1\n",
    "    return a - k * (a - b)"
   ]
  },
  {
   "cell_type": "code",
   "execution_count": null,
   "metadata": {},
   "outputs": [],
   "source": []
  }
 ],
 "metadata": {
  "kernelspec": {
   "display_name": "Python 3",
   "language": "python",
   "name": "python3"
  },
  "language_info": {
   "codemirror_mode": {
    "name": "ipython",
    "version": 3
   },
   "file_extension": ".py",
   "mimetype": "text/x-python",
   "name": "python",
   "nbconvert_exporter": "python",
   "pygments_lexer": "ipython3",
   "version": "3.6.2"
  }
 },
 "nbformat": 4,
 "nbformat_minor": 2
}
