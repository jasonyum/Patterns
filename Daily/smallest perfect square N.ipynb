{
 "cells": [
  {
   "cell_type": "markdown",
   "metadata": {},
   "source": [
    "# smallest perfect squares\n",
    "Determine the smallest number of perfect squares that sum up to N. "
   ]
  },
  {
   "cell_type": "code",
   "execution_count": 1,
   "metadata": {},
   "outputs": [],
   "source": [
    "def recur(n, perfect_squares):\n",
    "    if n == 0 or n == 1:\n",
    "        return n\n",
    "    else:\n",
    "        result = n\n",
    "\n",
    "        for p in perfect_squares:\n",
    "            if n - p >= 0:\n",
    "                result = min(result, 1 + recur(n - p, perfect_squares))\n",
    "            else:\n",
    "                break\n",
    "\n",
    "        return result\n",
    "\n",
    "def min_squares(n):\n",
    "    perfect_squares = []\n",
    "\n",
    "    for i in range(1, int(n ** 0.5) + 1):\n",
    "        if i * i <= n:\n",
    "            perfect_squares.append(i * i)\n",
    "\n",
    "    return recur(n, perfect_squares)"
   ]
  },
  {
   "cell_type": "code",
   "execution_count": 2,
   "metadata": {},
   "outputs": [],
   "source": [
    "def min_squares(n):\n",
    "    perfect_squares = []\n",
    "    for i in range(1, int(n ** 0.5) + 1):\n",
    "        if i * i <= n:\n",
    "            perfect_squares.append(i * i)\n",
    "\n",
    "    min_squares = [i for i in range(n + 1)]\n",
    "\n",
    "    for i in range(2, n + 1):\n",
    "        for p in perfect_squares:\n",
    "            min_squares[i] = min(min_squares[i], 1 + min_squares[i - p])\n",
    "\n",
    "    return min_squares[-1]"
   ]
  },
  {
   "cell_type": "code",
   "execution_count": 3,
   "metadata": {},
   "outputs": [],
   "source": [
    "def min_squares(n):\n",
    "    perfect_squares = set()\n",
    "    for i in range(1, int(n ** 0.5) + 1):\n",
    "        if i * i <= n:\n",
    "            perfect_squares.add(i * i)\n",
    "\n",
    "    if n in perfect_squares:\n",
    "        return 1\n",
    "\n",
    "    for p in perfect_squares:\n",
    "        if n - p in perfect_squares:\n",
    "            return 2\n",
    "\n",
    "    while n % 4 == 0:\n",
    "        n /= 4\n",
    "    if n % 8 != 4:\n",
    "        return 3\n",
    "\n",
    "    return 4"
   ]
  },
  {
   "cell_type": "code",
   "execution_count": null,
   "metadata": {},
   "outputs": [],
   "source": []
  }
 ],
 "metadata": {
  "kernelspec": {
   "display_name": "Python 3",
   "language": "python",
   "name": "python3"
  },
  "language_info": {
   "codemirror_mode": {
    "name": "ipython",
    "version": 3
   },
   "file_extension": ".py",
   "mimetype": "text/x-python",
   "name": "python",
   "nbconvert_exporter": "python",
   "pygments_lexer": "ipython3",
   "version": "3.6.2"
  }
 },
 "nbformat": 4,
 "nbformat_minor": 2
}
