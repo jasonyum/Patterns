{
 "cells": [
  {
   "cell_type": "markdown",
   "metadata": {},
   "source": [
    "# Height-Balance Binary Sort Tree\n",
    "\n",
    "Given a sorted array, convert it into a height-balanced binary search tree.\n",
    "\n",
    "- since the list is sorted, we know that the root should be the element in the middle of hte list, which we call M. Also, the left subtree will be a balanced binary search tree created from the first M - 1 elements in the list. \n",
    "- Therefore you can create this tree recursively"
   ]
  },
  {
   "cell_type": "code",
   "execution_count": 1,
   "metadata": {},
   "outputs": [],
   "source": [
    "class Node: \n",
    "    def __init__(self, data, left=None, right=None): \n",
    "        self.data = data\n",
    "        self.left = left\n",
    "        self.right = right\n",
    "    \n",
    "\n",
    "def make_bst(array): \n",
    "    \n",
    "    if not array: \n",
    "        return None\n",
    "    \n",
    "    mid = len(array) // 2\n",
    "    root = Node(array[mid])\n",
    "    root.left = make_bst(array[:mid])\n",
    "    root.right = make_bst(array[mid+1:]) # wow that's interesting syntax\n",
    "    \n",
    "    return root"
   ]
  },
  {
   "cell_type": "code",
   "execution_count": null,
   "metadata": {},
   "outputs": [],
   "source": [
    "# O(N) time and space"
   ]
  }
 ],
 "metadata": {
  "kernelspec": {
   "display_name": "Python 3",
   "language": "python",
   "name": "python3"
  },
  "language_info": {
   "codemirror_mode": {
    "name": "ipython",
    "version": 3
   },
   "file_extension": ".py",
   "mimetype": "text/x-python",
   "name": "python",
   "nbconvert_exporter": "python",
   "pygments_lexer": "ipython3",
   "version": "3.6.2"
  }
 },
 "nbformat": 4,
 "nbformat_minor": 2
}
