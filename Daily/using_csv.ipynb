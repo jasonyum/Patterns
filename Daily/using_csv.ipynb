{
 "cells": [
  {
   "cell_type": "markdown",
   "metadata": {},
   "source": [
    "# CSV playground\n",
    "\n",
    "Sending data between file types.. it's just string manipulation. "
   ]
  },
  {
   "cell_type": "code",
   "execution_count": 1,
   "metadata": {},
   "outputs": [],
   "source": [
    "import csv"
   ]
  },
  {
   "cell_type": "code",
   "execution_count": 2,
   "metadata": {},
   "outputs": [
    {
     "name": "stdout",
     "output_type": "stream",
     "text": [
      "Column names are name, department, birthday month\n",
      "\tJohn Smith works in the Accounting dept and was born in November.\n",
      "\tErica Meyers works in the IT dept and was born in March.\n",
      "Processed 3 lines.\n"
     ]
    }
   ],
   "source": [
    "with open('employee_birthday.txt') as csv_file: \n",
    "    csv_reader = csv.reader(csv_file, delimiter=',')\n",
    "    line_count = 0\n",
    "    for row in csv_reader: \n",
    "        if line_count == 0: \n",
    "            print(f'Column names are {\", \".join(row)}') \n",
    "            line_count += 1\n",
    "        else: \n",
    "            print(f'\\t{row[0]} works in the {row[1]} dept and was born in {row[2]}.')\n",
    "            line_count += 1\n",
    "    print(f'Processed {line_count} lines.')"
   ]
  },
  {
   "cell_type": "markdown",
   "metadata": {},
   "source": [
    "## Now read CSV files into a dictionary ...\n"
   ]
  },
  {
   "cell_type": "code",
   "execution_count": 4,
   "metadata": {},
   "outputs": [
    {
     "name": "stdout",
     "output_type": "stream",
     "text": [
      "Column names are name, department, birthday month\n",
      "\tJohn Smith works in the Accounting department, and was born in November.\n",
      "\tErica Meyers works in the IT department, and was born in March.\n",
      "Processed 3 lines.\n"
     ]
    }
   ],
   "source": [
    "with open('employee_birthday.txt', mode='r') as csv_file: \n",
    "    csv_reader = csv.DictReader(csv_file) \n",
    "    line_count = 0 \n",
    "    \n",
    "    for row in csv_reader: \n",
    "        if line_count == 0:\n",
    "            print(f'Column names are {\", \".join(row)}') \n",
    "            line_count +=1\n",
    "        print(f'\\t{row[\"name\"]} works in the {row[\"department\"]} department, and was born in {row[\"birthday month\"]}.')\n",
    "        line_count += 1\n",
    "    print(f'Processed {line_count} lines.') \n",
    "        "
   ]
  },
  {
   "cell_type": "markdown",
   "metadata": {},
   "source": [
    "## Writing CSV Files with csv...\n",
    "You can write to a CSV file using writer object and the .write_row() method..\n",
    "\n",
    "quotechar is an optional parameter that tells the *writer* which character to use to quote fields when writing.. \n",
    "\n",
    "csv.QUOTE_MINIMAL .. then .writerow() will quote fields only if they contain the delimiter or the quotechar... this is the default case."
   ]
  },
  {
   "cell_type": "code",
   "execution_count": 5,
   "metadata": {},
   "outputs": [],
   "source": [
    "with open('employee_file.csv', mode='w') as employee_file: \n",
    "    employee_writer = csv.writer(employee_file, delimiter=',', quotechar='\"', quoting=csv.QUOTE_MINIMAL)\n",
    "    employee_writer.writerow(['John Smith', 'Accounting', 'November'])\n",
    "    employee_writer.writerow(['Erica', 'IT', 'March']) "
   ]
  },
  {
   "cell_type": "code",
   "execution_count": 6,
   "metadata": {},
   "outputs": [
    {
     "name": "stdout",
     "output_type": "stream",
     "text": [
      "Column names are name, department, birthday month\n",
      "\tJohn Smith works in the Accounting dept and was born in November.\n",
      "\tErica Meyers works in the IT dept and was born in March.\n",
      "Processed 3 lines.\n"
     ]
    }
   ],
   "source": [
    "with open('employee_birthday.txt') as csv_file: \n",
    "    csv_reader = csv.reader(csv_file, delimiter=',')\n",
    "    line_count = 0\n",
    "    for row in csv_reader: \n",
    "        if line_count == 0: \n",
    "            print(f'Column names are {\", \".join(row)}') \n",
    "            line_count += 1\n",
    "        else: \n",
    "            print(f'\\t{row[0]} works in the {row[1]} dept and was born in {row[2]}.')\n",
    "            line_count += 1\n",
    "    print(f'Processed {line_count} lines.')"
   ]
  },
  {
   "cell_type": "markdown",
   "metadata": {},
   "source": [
    "## Write CSV file from a dictionary using csv...\n"
   ]
  },
  {
   "cell_type": "code",
   "execution_count": 7,
   "metadata": {},
   "outputs": [],
   "source": [
    "with open('employee_file2.csv', mode='w') as csv_file:\n",
    "    fieldnames = ['emp_name', 'dept', 'birth_month']\n",
    "    writer = csv.DictWriter(csv_file, fieldnames=fieldnames)\n",
    "\n",
    "    writer.writeheader()\n",
    "    writer.writerow({'emp_name': 'John Smith', 'dept': 'Accounting', 'birth_month': 'November'})\n",
    "    writer.writerow({'emp_name': 'Erica Meyers', 'dept': 'IT', 'birth_month': 'March'})"
   ]
  },
  {
   "cell_type": "code",
   "execution_count": null,
   "metadata": {},
   "outputs": [],
   "source": []
  }
 ],
 "metadata": {
  "kernelspec": {
   "display_name": "Python 3",
   "language": "python",
   "name": "python3"
  },
  "language_info": {
   "codemirror_mode": {
    "name": "ipython",
    "version": 3
   },
   "file_extension": ".py",
   "mimetype": "text/x-python",
   "name": "python",
   "nbconvert_exporter": "python",
   "pygments_lexer": "ipython3",
   "version": "3.6.2"
  }
 },
 "nbformat": 4,
 "nbformat_minor": 2
}
