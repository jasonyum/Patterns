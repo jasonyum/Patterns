{
 "cells": [
  {
   "cell_type": "code",
   "execution_count": 1,
   "metadata": {},
   "outputs": [],
   "source": [
    "def update(heaps, pile, items): \n",
    "    heaps = list(heaps)\n",
    "    heaps[pile] -= items\n",
    "    return tuple(heaps) \n",
    "\n",
    "def get_moves(heaps): \n",
    "    moves = []\n",
    "    \n",
    "    for pile, count in enumerate(heaps): \n",
    "        for i in range(1, count + 1): \n",
    "            moves.append(update(heaps, pile, i))\n",
    "        \n",
    "    return set(moves) \n",
    "\n",
    "def nim(heaps): \n",
    "    if heaps == (0, 0 , 0): \n",
    "        return True\n",
    "    \n",
    "    moves = get_moves(heaps) \n",
    "    return any([not nim(move) for move in moves])"
   ]
  },
  {
   "cell_type": "code",
   "execution_count": null,
   "metadata": {},
   "outputs": [],
   "source": []
  }
 ],
 "metadata": {
  "kernelspec": {
   "display_name": "Python 3",
   "language": "python",
   "name": "python3"
  },
  "language_info": {
   "codemirror_mode": {
    "name": "ipython",
    "version": 3
   },
   "file_extension": ".py",
   "mimetype": "text/x-python",
   "name": "python",
   "nbconvert_exporter": "python",
   "pygments_lexer": "ipython3",
   "version": "3.6.2"
  }
 },
 "nbformat": 4,
 "nbformat_minor": 2
}
