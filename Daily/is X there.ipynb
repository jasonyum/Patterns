{
 "cells": [
  {
   "cell_type": "markdown",
   "metadata": {},
   "source": [
    "# Is X there? \n",
    "Given a sorted list of integers of length N, determine if an element x is in the list without performing any multiplication, division, or bit-shift operations.\n",
    "\n",
    "Do this in O(log N) time.\n",
    "\n",
    "### Intuition...\n",
    "Ordinarily you use a binary search to locate an element. However, that requires division (divide by 2). Another technique is called Fibonacci search, which gets around this limitation. \n",
    "\n",
    "More specifically, suppose we are trying to find an element x in our array. Let p and q stand for consecutive Fibonacci numbers, where q is the smallest Fibonacci number greater than or equal to the size of the array. We compare x with array[p], and perform the following logic:\n",
    "\n",
    "- If x == array[p], we have found our element, and are done.\n",
    "- If x < array[p], we move p and q down two indices each, cutting out the upper elements from our search.\n",
    "- If x > array[p], we move p and q down one index each, but add an offset of p to the next search value.\n",
    "\n",
    "Example: Suppose our array is [4, 7, 11, 16, 27, 45, 55, 65, 80, 100]. Since there are 10 elements in this array, we will need access to the sequence of Fibonacci numbers up to 13."
   ]
  },
  {
   "cell_type": "code",
   "execution_count": 1,
   "metadata": {},
   "outputs": [],
   "source": [
    "def get_fib_sequence(n):\n",
    "    a, b = 0, 1\n",
    "    sequence = [a]\n",
    "\n",
    "    while a < n:\n",
    "        a, b = b, a + b\n",
    "        sequence.append(a)\n",
    "\n",
    "    return sequence"
   ]
  },
  {
   "cell_type": "markdown",
   "metadata": {},
   "source": [
    "The Fibonacci numbers we will obtain are [0, 1, 1, 2, 3, 5, 8, 13], so we will initially set our values of p and q to be 6 and 7, respectively.\n",
    "\n",
    "Now suppose we are searching for the element 45. We will carry out the following steps:\n",
    "\n",
    "- First, we compare 45 with array[fibs[p]]. Since 45 < 80, we set p = 4 and q = 5.\n",
    "- Next, we compare 45 with array[fibs[p]]. Since 45 > 16, we set p = 3 and q = 4, and create an offset of 2.\n",
    "- Finally, we compare 45 with array[offset + fibs[p]]. Since array[5] == 45, we have found our element."
   ]
  },
  {
   "cell_type": "code",
   "execution_count": 2,
   "metadata": {},
   "outputs": [],
   "source": [
    "def fibonacci(array, x):\n",
    "    n = len(array)\n",
    "    fibs = get_fib_sequence(n)\n",
    "\n",
    "    offset = 0\n",
    "    p, q = len(fibs) - 2, len(fibs) - 1\n",
    "\n",
    "    while q > 0:\n",
    "        index = min(offset + fibs[p], n - 1)\n",
    "        if x == array[index]:\n",
    "            return True\n",
    "        elif x < array[index]:\n",
    "            p -= 2; q -= 2\n",
    "        else:\n",
    "            p -= 1; q -= 1\n",
    "            offset = index\n",
    "\n",
    "    return False"
   ]
  },
  {
   "cell_type": "code",
   "execution_count": null,
   "metadata": {},
   "outputs": [],
   "source": []
  }
 ],
 "metadata": {
  "kernelspec": {
   "display_name": "Python 3",
   "language": "python",
   "name": "python3"
  },
  "language_info": {
   "codemirror_mode": {
    "name": "ipython",
    "version": 3
   },
   "file_extension": ".py",
   "mimetype": "text/x-python",
   "name": "python",
   "nbconvert_exporter": "python",
   "pygments_lexer": "ipython3",
   "version": "3.6.2"
  }
 },
 "nbformat": 4,
 "nbformat_minor": 2
}
