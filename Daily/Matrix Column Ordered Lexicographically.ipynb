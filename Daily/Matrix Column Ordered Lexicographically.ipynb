{
 "cells": [
  {
   "cell_type": "markdown",
   "metadata": {},
   "source": [
    "## Ordering Matrix Columns Lexicographically\n",
    "\n",
    "- Remove columns such that each row is ordered lexigraphically."
   ]
  },
  {
   "cell_type": "code",
   "execution_count": 1,
   "metadata": {},
   "outputs": [],
   "source": [
    "def bad_cols(board): \n",
    "    num_bad_cols = 0\n",
    "    num_cols = len(board[0])\n",
    "    i = 0 \n",
    "    \n",
    "    \n",
    "    while i < num_cols: \n",
    "        if is_sorted_up_to(board, i): \n",
    "            i += 1\n",
    "            continue\n",
    "        else: \n",
    "            remove_col(board, i)\n",
    "            num_bad_cols += 1\n",
    "            num_cols -= 1\n",
    "        \n",
    "    return num_bad_cols\n",
    "\n",
    "def remove_col(board, i): \n",
    "    for row in board: \n",
    "        row.pop(i) \n",
    "        \n",
    "        \n",
    "def is_sorted_up_to(board, i): \n",
    "    return all(board[r][:i + 1] <= board[r+1][:i + 1] for r in range(len(board)-1))"
   ]
  },
  {
   "cell_type": "markdown",
   "metadata": {},
   "source": [
    "### Runs in $O(N^2 * M)$ time"
   ]
  },
  {
   "cell_type": "code",
   "execution_count": null,
   "metadata": {},
   "outputs": [],
   "source": []
  }
 ],
 "metadata": {
  "kernelspec": {
   "display_name": "Python 3",
   "language": "python",
   "name": "python3"
  },
  "language_info": {
   "codemirror_mode": {
    "name": "ipython",
    "version": 3
   },
   "file_extension": ".py",
   "mimetype": "text/x-python",
   "name": "python",
   "nbconvert_exporter": "python",
   "pygments_lexer": "ipython3",
   "version": "3.6.2"
  }
 },
 "nbformat": 4,
 "nbformat_minor": 2
}
