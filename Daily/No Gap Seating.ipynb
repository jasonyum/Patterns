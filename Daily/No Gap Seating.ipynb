{
 "cells": [
  {
   "cell_type": "markdown",
   "metadata": {},
   "source": [
    "## No Gap Seating\n",
    "\n",
    "There are M people sitting in a row of N seats, where M < N. Your task is to redistribute people such that there are no gaps between any of them, while keeping overall movement to a minimum.\n",
    "\n",
    "For example, suppose you are faced with an input of [0, 1, 1, 0, 1, 0, 0, 0, 1], where 0 represents an empty seat and 1 represents a person. In this case, one solution would be to place the person on the right in the fourth seat. We can consider the cost of a solution to be the sum of the absolute distance each person must move, so that the cost here would be five. Given an input such as the one above, return the lowest possible cost of moving people to remove all gaps.\n",
    "\n",
    "\n",
    "***** \n",
    "\n",
    "### The Key Insight\n",
    "\n",
    "For this question, the key insight is that intuitively you want to move people toward the center of the array. But what is the \"center\" of the array? it's the place where most of the mass currently resides, or perhaps the median. Picking the median is helpful because that minimizes the distance from both the left and right sides."
   ]
  },
  {
   "cell_type": "code",
   "execution_count": 10,
   "metadata": {},
   "outputs": [],
   "source": [
    "# time complexity = O(N), each pass uses constant-time operations\n",
    "# space complexity = O(N), using a helper array to store occupied positions\n",
    "\n",
    "def move(seats): \n",
    "    people = [i for i, x in enumerate(seats) if x == 1] \n",
    "    n = len(people) \n",
    "    median = people[n//2]  # remember //2 is floor division by 2.\n",
    "    cost = 0 \n",
    "    \n",
    "    # Just see where we are right now\n",
    "    print(\"Median is: \" + str(median))\n",
    "    print(\"Location of People: \" + str(people))\n",
    "    \n",
    "    # move left seats closer to the median\n",
    "    i = median - 1\n",
    "    j = n // 2 - 1 \n",
    "    while i >= 0 and j >= 0: \n",
    "        \n",
    "        # when we encoutner an empty seat, so if seats[i] == 0...\n",
    "        # we want to swap it (if possible) with a person sitting further out. \n",
    "        # when we've reached the end of the row, we know everyone has been \n",
    "        # bunched straight into the center. \n",
    "        \n",
    "        if seats[i] == 0: \n",
    "            cost += abs(people[j] - i) \n",
    "            seats[i], seats[people[j]] = seats[people[j]], seats[i] \n",
    "            j -= 1\n",
    "        i -= 1\n",
    "    \n",
    "    # move right seats closer to the median...\n",
    "    i = median + 1\n",
    "    j = n//2 + 1\n",
    "    while i < len(seats) and j < n: \n",
    "        if seats[i] == 0: \n",
    "            cost += abs(people[j] - i) \n",
    "            seats[i], seats[people[j]] = seats[people[j]], seats[i]\n",
    "            j += 1\n",
    "        i += 1\n",
    "        \n",
    "    return seats, cost"
   ]
  },
  {
   "cell_type": "code",
   "execution_count": 11,
   "metadata": {},
   "outputs": [],
   "source": [
    "test_seats =  [0, 1, 1, 0, 1, 0, 0, 0, 1]"
   ]
  },
  {
   "cell_type": "code",
   "execution_count": 12,
   "metadata": {},
   "outputs": [
    {
     "name": "stdout",
     "output_type": "stream",
     "text": [
      "Median is: 4\n",
      "Location of People: [1, 2, 4, 8]\n"
     ]
    },
    {
     "data": {
      "text/plain": [
       "([0, 0, 1, 1, 1, 1, 0, 0, 0], 5)"
      ]
     },
     "execution_count": 12,
     "metadata": {},
     "output_type": "execute_result"
    }
   ],
   "source": [
    "move(test_seats)"
   ]
  },
  {
   "cell_type": "code",
   "execution_count": 13,
   "metadata": {},
   "outputs": [
    {
     "name": "stdout",
     "output_type": "stream",
     "text": [
      "Median is: 4\n",
      "Location of People: [0, 4, 5]\n"
     ]
    },
    {
     "data": {
      "text/plain": [
       "([0, 0, 0, 1, 1, 1], 3)"
      ]
     },
     "execution_count": 13,
     "metadata": {},
     "output_type": "execute_result"
    }
   ],
   "source": [
    "even_test = [1,0,0,0,1,1] \n",
    "move(even_test)"
   ]
  },
  {
   "cell_type": "code",
   "execution_count": 14,
   "metadata": {},
   "outputs": [
    {
     "data": {
      "text/plain": [
       "2"
      ]
     },
     "execution_count": 14,
     "metadata": {},
     "output_type": "execute_result"
    }
   ],
   "source": [
    "4//2"
   ]
  },
  {
   "cell_type": "code",
   "execution_count": 17,
   "metadata": {},
   "outputs": [
    {
     "data": {
      "text/plain": [
       "2"
      ]
     },
     "execution_count": 17,
     "metadata": {},
     "output_type": "execute_result"
    }
   ],
   "source": [
    "5//2"
   ]
  },
  {
   "cell_type": "code",
   "execution_count": 16,
   "metadata": {},
   "outputs": [
    {
     "data": {
      "text/plain": [
       "1"
      ]
     },
     "execution_count": 16,
     "metadata": {},
     "output_type": "execute_result"
    }
   ],
   "source": [
    "3//2"
   ]
  },
  {
   "cell_type": "code",
   "execution_count": null,
   "metadata": {},
   "outputs": [],
   "source": []
  }
 ],
 "metadata": {
  "kernelspec": {
   "display_name": "Python 3",
   "language": "python",
   "name": "python3"
  },
  "language_info": {
   "codemirror_mode": {
    "name": "ipython",
    "version": 3
   },
   "file_extension": ".py",
   "mimetype": "text/x-python",
   "name": "python",
   "nbconvert_exporter": "python",
   "pygments_lexer": "ipython3",
   "version": "3.6.2"
  }
 },
 "nbformat": 4,
 "nbformat_minor": 2
}
