{
 "cells": [
  {
   "cell_type": "markdown",
   "metadata": {},
   "source": [
    "## Least Frequently Used Cache \n",
    "\n",
    "Should contain the following methods: \n",
    "- set(key, value): sets key to value. If there are already n items in the cache and we're adding a new item, then it should also remove the least frequently used item. If ther is a tie, then the least recently used key should be removed.\n",
    "- get(key): gets the value at key\n"
   ]
  },
  {
   "cell_type": "code",
   "execution_count": null,
   "metadata": {},
   "outputs": [],
   "source": [
    "from collections import defaultdict\n",
    "from collections import deque\n",
    "\n",
    "class LFUCache: \n",
    "    def __init__(self, capacity): \n",
    "        self.capacity = capacity\n",
    "        self.val_map = {}\n",
    "        self.freq_map = defaultdict(deque)\n",
    "        self.min_freq = 0 \n",
    "        \n",
    "    def get(self, key): \n",
    "        if key not in self.val_map: \n",
    "            return None\n",
    "        \n",
    "        \n",
    "        # look up the value and frequency in our val_map\n",
    "        val, freq = self.val_map[key] \n",
    "        \n",
    "        \n",
    "        self.freq_map[freq].remove(key)\n",
    "        if not self.freq_map[freq]: \n",
    "            del self.freq_map[freq]\n",
    "            if self.min_freq == freq: \n",
    "                self.min_freq += 1\n",
    "                \n",
    "        # update dicts\n",
    "        self.val_map[key] = (val, freq + 1) \n",
    "        self.freq_map[freq + 1].append(key)\n",
    "        return val\n",
    "    \n",
    "    def set(self, key, val): \n",
    "        if self.capacity ==0: \n",
    "            return\n",
    "        \n",
    "        "
   ]
  }
 ],
 "metadata": {
  "kernelspec": {
   "display_name": "Python 3",
   "language": "python",
   "name": "python3"
  },
  "language_info": {
   "codemirror_mode": {
    "name": "ipython",
    "version": 3
   },
   "file_extension": ".py",
   "mimetype": "text/x-python",
   "name": "python",
   "nbconvert_exporter": "python",
   "pygments_lexer": "ipython3",
   "version": "3.6.2"
  }
 },
 "nbformat": 4,
 "nbformat_minor": 2
}
