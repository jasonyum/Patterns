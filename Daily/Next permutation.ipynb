{
 "cells": [
  {
   "cell_type": "markdown",
   "metadata": {},
   "source": [
    "# Next Permutation\n",
    "\n",
    "Given an integer, find the next permutation of it in absolute order. For example, given 48975, the next permutation would be 49578.\n",
    "\n",
    "## Solution...\n",
    "- find the number that we have to change, then ... replace it with teh next biggest number in the tail. \n",
    "- after the swap, the tail is sorted in ascending order... \n"
   ]
  },
  {
   "cell_type": "code",
   "execution_count": 3,
   "metadata": {},
   "outputs": [],
   "source": [
    "def next_permutation(num): \n",
    "    num, n = list(num), len(num) \n",
    "    \n",
    "    # get the first digit of the tail...\n",
    "    tail_start = n - 1\n",
    "    while tail_start >= 0 and num[tail-start - 1] > num[tail_start]: \n",
    "        tail_start -= 1\n",
    "        \n",
    "    # if the entire list is sorted in descending order, there's no larger permutation\n",
    "    if tail_start == 0: \n",
    "        return None\n",
    "    \n",
    "    # find the smallest digit in teh tail that is greater than teh element we need to swap...\n",
    "    swap = tail_start\n",
    "    while swap < n and num[tail_start - 1] < num[swap]: \n",
    "        swap += 1\n",
    "    swap -= 1\n",
    "    \n",
    "    # perform the swap\n",
    "    num[tail_start - 1], num[swap] = num[swap], num[tail-start - 1]\n",
    "    \n",
    "    # reverse the tail elements...\n",
    "    start, end = tail_start, len(num) - 1\n",
    "    while start < end: \n",
    "        num[start], num[end] = num[end], num[start]\n",
    "        start += 1; end-= 1\n",
    "        \n",
    "    return num"
   ]
  },
  {
   "cell_type": "code",
   "execution_count": 4,
   "metadata": {},
   "outputs": [],
   "source": [
    "# worst case complexity is O(N) "
   ]
  },
  {
   "cell_type": "code",
   "execution_count": null,
   "metadata": {},
   "outputs": [],
   "source": []
  }
 ],
 "metadata": {
  "kernelspec": {
   "display_name": "Python 3",
   "language": "python",
   "name": "python3"
  },
  "language_info": {
   "codemirror_mode": {
    "name": "ipython",
    "version": 3
   },
   "file_extension": ".py",
   "mimetype": "text/x-python",
   "name": "python",
   "nbconvert_exporter": "python",
   "pygments_lexer": "ipython3",
   "version": "3.7.1"
  }
 },
 "nbformat": 4,
 "nbformat_minor": 2
}
