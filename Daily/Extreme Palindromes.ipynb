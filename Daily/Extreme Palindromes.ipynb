{
 "cells": [
  {
   "cell_type": "markdown",
   "metadata": {},
   "source": [
    "# Extreme Palindromes\n",
    "\n",
    "Given a string, split it into as few strings as possible such that each string is a palindrome. For example, given the input string racecarannakayak, return [\"racecar\", \"anna\", \"kayak\"]. Given the input string abc, return [\"a\", \"b\", \"c\"]."
   ]
  },
  {
   "cell_type": "code",
   "execution_count": 1,
   "metadata": {},
   "outputs": [],
   "source": [
    "def is_palindromes(s): \n",
    "    return s == s[::-1] # slick way to get a reversal\n",
    "\n",
    "def split_into_palindromes(s): \n",
    "    if not s: \n",
    "        return [] \n",
    "    if is_palindrome(s): \n",
    "        return [s] \n",
    "    \n",
    "    min_cut = None\n",
    "    for i in range(1, len(s)): \n",
    "        curr_cut = split_into_palindromes(s[:i]) + split_into_palindromes(s[i:])\n",
    "        if min_cut is None or len(curr_cut) < len(min_cut): \n",
    "            min_cut = curr_cut\n",
    "    return min_cut"
   ]
  },
  {
   "cell_type": "code",
   "execution_count": 2,
   "metadata": {},
   "outputs": [],
   "source": [
    "test_ = \"racecarZ\""
   ]
  },
  {
   "cell_type": "code",
   "execution_count": 5,
   "metadata": {},
   "outputs": [
    {
     "data": {
      "text/plain": [
       "'Zracecar'"
      ]
     },
     "execution_count": 5,
     "metadata": {},
     "output_type": "execute_result"
    }
   ],
   "source": [
    "test_[::-1]"
   ]
  },
  {
   "cell_type": "markdown",
   "metadata": {},
   "source": [
    "## Remember... \n",
    "\n",
    "### a[start:stop:step] # start through not past stop, by step\n",
    ":stop value represents the first value that is not in the selected slice. \n",
    "\n",
    "### To skip specifying a given argument, you can use None. \n",
    "`a[::-1]` is equivalent to `a[None:None:-1]`so you're not specifying a given argument. So what that amounts to is all items in the area, step through from the reverse. "
   ]
  },
  {
   "cell_type": "code",
   "execution_count": 10,
   "metadata": {},
   "outputs": [
    {
     "data": {
      "text/plain": [
       "'Zracecar'"
      ]
     },
     "execution_count": 10,
     "metadata": {},
     "output_type": "execute_result"
    }
   ],
   "source": [
    "test_[::-1]"
   ]
  },
  {
   "cell_type": "code",
   "execution_count": 11,
   "metadata": {},
   "outputs": [
    {
     "data": {
      "text/plain": [
       "'Zracecar'"
      ]
     },
     "execution_count": 11,
     "metadata": {},
     "output_type": "execute_result"
    }
   ],
   "source": [
    "test_[None:None:-1]"
   ]
  },
  {
   "cell_type": "code",
   "execution_count": 21,
   "metadata": {},
   "outputs": [],
   "source": [
    "def is_palindrome(s): \n",
    "    return s == s[::-1] \n",
    "\n",
    "def split_into_palindromes(s): \n",
    "    \n",
    "    # Remember comprehensions... \n",
    "    # new_list = [expression for i in old_list if filter(i) ] \n",
    "    # expression for item in list if condition] \n",
    "    \n",
    "    # this just initializes a list of Nones. \n",
    "    # Then, this list of Nones is used in another list comprehension to make a matrix\n",
    "    A = [[None for _ in range(len(s))] for _ in range(len(s))] \n",
    "    \n",
    "    # set all substrings of length 1 to be true..\n",
    "    for i in range(len(s)): \n",
    "        A[i][i] = True\n",
    "        \n",
    "    # try all substrings of length 2\n",
    "    for i in range(len(s) - 1): \n",
    "        A[i][i+1] = s[i] == s[i+1] # returns True / False\n",
    "    \n",
    "    i, k  = 0 , 3\n",
    "    while k <= len(s): \n",
    "        while i < (len(s) - k + 1): \n",
    "            j = i + k - 1\n",
    "            A[i][j] = A[i+1][j-1] and s[i] == s[j] \n",
    "            i += 1\n",
    "        k+= 1\n",
    "        i = 0 \n",
    "        \n",
    "    P = [None for _ in range(len(s) + 1)] \n",
    "    P[0] = [] \n",
    "    for i in range(len(P)): \n",
    "        for j in range(i): \n",
    "            matrix_i = i - 1\n",
    "            \n",
    "            if A[j][matrix_i]: \n",
    "                if P[i] is None or (len(P[j]) + 1 < len(P[i])): \n",
    "                    P[i] = P[j] + [s[j:i]]\n",
    "    \n",
    "    return P[-1] \n",
    "    \n",
    "    "
   ]
  },
  {
   "cell_type": "code",
   "execution_count": 15,
   "metadata": {},
   "outputs": [
    {
     "data": {
      "text/plain": [
       "[None, None, None, None, None]"
      ]
     },
     "execution_count": 15,
     "metadata": {},
     "output_type": "execute_result"
    }
   ],
   "source": [
    "[None for _ in range(5)]"
   ]
  },
  {
   "cell_type": "code",
   "execution_count": 19,
   "metadata": {},
   "outputs": [
    {
     "data": {
      "text/plain": [
       "[[None, None, None, None, None],\n",
       " [None, None, None, None, None],\n",
       " [None, None, None, None, None],\n",
       " [None, None, None, None, None],\n",
       " [None, None, None, None, None],\n",
       " [None, None, None, None, None],\n",
       " [None, None, None, None, None],\n",
       " [None, None, None, None, None],\n",
       " [None, None, None, None, None],\n",
       " [None, None, None, None, None]]"
      ]
     },
     "execution_count": 19,
     "metadata": {},
     "output_type": "execute_result"
    }
   ],
   "source": [
    "[[None for i in range(5)] for j in range(10)]"
   ]
  },
  {
   "cell_type": "code",
   "execution_count": 20,
   "metadata": {},
   "outputs": [
    {
     "data": {
      "text/plain": [
       "[[None, None, None, None, None],\n",
       " [None, None, None, None, None],\n",
       " [None, None, None, None, None],\n",
       " [None, None, None, None, None],\n",
       " [None, None, None, None, None],\n",
       " [None, None, None, None, None],\n",
       " [None, None, None, None, None],\n",
       " [None, None, None, None, None],\n",
       " [None, None, None, None, None],\n",
       " [None, None, None, None, None]]"
      ]
     },
     "execution_count": 20,
     "metadata": {},
     "output_type": "execute_result"
    }
   ],
   "source": [
    "# if you don't use indices, it looks cleaner\n",
    "[[None for _ in range(5)] for _ in range(10)]"
   ]
  },
  {
   "cell_type": "code",
   "execution_count": null,
   "metadata": {},
   "outputs": [],
   "source": []
  }
 ],
 "metadata": {
  "kernelspec": {
   "display_name": "Python 3",
   "language": "python",
   "name": "python3"
  },
  "language_info": {
   "codemirror_mode": {
    "name": "ipython",
    "version": 3
   },
   "file_extension": ".py",
   "mimetype": "text/x-python",
   "name": "python",
   "nbconvert_exporter": "python",
   "pygments_lexer": "ipython3",
   "version": "3.6.2"
  }
 },
 "nbformat": 4,
 "nbformat_minor": 2
}
