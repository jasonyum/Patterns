{
 "cells": [
  {
   "cell_type": "markdown",
   "metadata": {},
   "source": [
    "## Implement a URL shortener\n",
    "\n",
    "Make the following methods: \n",
    "\n",
    "- shorten(url), which shortens a url into a six-character alphanumeric string, such as zLg6wl\n",
    "- restore(short), which expands the shortened string into the original url, or returns null if no shortened string exists\n",
    "\n",
    "What to do: \n",
    "- need to make a random string generator \n",
    "- then store it into a dictionary where the shortened url is the key and the actual url is the value \n",
    "- then use the dictionary to look up the value \n",
    "- need to be careful not to overwrite an existing entry when shortening a url... so need to make sure that we've created a unique key! "
   ]
  },
  {
   "cell_type": "code",
   "execution_count": 1,
   "metadata": {},
   "outputs": [],
   "source": [
    "import random\n",
    "import string\n",
    "\n",
    "class URLShortener: \n",
    "    def __init__(self): \n",
    "        self.short_to_url = {} \n",
    "        \n",
    "    def _generate_short(self): \n",
    "        return ''.join(random.choice(string.ascii_uppercase + string.digits) for _ in range(6))\n",
    "    \n",
    "    def _generate_unused_short(self): \n",
    "        t = self._generate_short() \n",
    "        while t in self.short_to_url: \n",
    "            t = self._generate_short() \n",
    "        return t\n",
    "    \n",
    "    def shorten(self, url): \n",
    "        short = self._generate_unused_short() \n",
    "        self.short_to_url[short] = url \n",
    "        return short\n",
    "    \n",
    "    def restore(self, short): \n",
    "        return self.short_to_url.get(short, None) \n",
    "    "
   ]
  },
  {
   "cell_type": "markdown",
   "metadata": {},
   "source": [
    "This can be made much better. \n",
    "\n",
    "We can create a second dictionary that maps urls to shortened urls and update that appropriately. When we see a url we've seen before, we can just re-use that shortened url. "
   ]
  },
  {
   "cell_type": "code",
   "execution_count": 3,
   "metadata": {},
   "outputs": [],
   "source": [
    "import random\n",
    "import string\n",
    "\n",
    "class URLShortener: \n",
    "    def __init__(self): \n",
    "        self.short_to_url = {} \n",
    "        self.url_to_short = {} \n",
    "        \n",
    "    def _generate_short(self): \n",
    "        return ''.join(random.choice(string.ascii_uppercase + string.digits) for _ in range(6))\n",
    "    \n",
    "    def _generate_unused_short(self): \n",
    "        t = self._generate_short() \n",
    "        while t in self.short_to_url: \n",
    "            t = self._generate_short() \n",
    "        return t\n",
    "    \n",
    "    def shorten(self, url): \n",
    "        short = self._generate_unused_short() \n",
    "        if url in self.url_to_short: \n",
    "            return self.url_to_short[url] \n",
    "        self.short_to_url[short] = url \n",
    "        self.url_to_short[url] = short\n",
    "        return short\n",
    "    \n",
    "    def restore(self, short): \n",
    "        return self.short_to_url.get(short, None) \n",
    "    "
   ]
  },
  {
   "cell_type": "code",
   "execution_count": null,
   "metadata": {},
   "outputs": [],
   "source": []
  }
 ],
 "metadata": {
  "kernelspec": {
   "display_name": "Python 3",
   "language": "python",
   "name": "python3"
  },
  "language_info": {
   "codemirror_mode": {
    "name": "ipython",
    "version": 3
   },
   "file_extension": ".py",
   "mimetype": "text/x-python",
   "name": "python",
   "nbconvert_exporter": "python",
   "pygments_lexer": "ipython3",
   "version": "3.6.2"
  }
 },
 "nbformat": 4,
 "nbformat_minor": 2
}
