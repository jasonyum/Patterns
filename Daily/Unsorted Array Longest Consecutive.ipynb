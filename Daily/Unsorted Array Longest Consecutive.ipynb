{
 "cells": [
  {
   "cell_type": "markdown",
   "metadata": {},
   "source": [
    "# Given an unsorted array, find the longest consecutive array and return its length.  \n",
    "\n",
    "Ex: [100,4,200,1,3,2] then return length 4 and the sequence [1,2,3,4]"
   ]
  },
  {
   "cell_type": "code",
   "execution_count": 1,
   "metadata": {},
   "outputs": [],
   "source": [
    "def longest_consecutive(self,nums): \n",
    "    max_len = 0 \n",
    "    bounds = dict() \n",
    "    for num in nums: \n",
    "        if num in bounds: \n",
    "            continue\n",
    "        left_bound, right_bound = num, num\n",
    "        if num - 1 in bounds:\n",
    "            left_bound = bounds[num - 1][0] \n",
    "        if num + 1 in bounds: \n",
    "            right_bound = bounds[num + 1][1]\n",
    "        bounds[num] = left_bound, right_bound\n",
    "        bounds[left_bound] = left_bound, right_bound\n",
    "        bounds[right_bound] = left_bound, right_bound\n",
    "        max_len = max(right_bound - left_bound + 1, max_len) \n",
    "        \n",
    "    return max_len"
   ]
  },
  {
   "cell_type": "code",
   "execution_count": 8,
   "metadata": {},
   "outputs": [],
   "source": []
  },
  {
   "cell_type": "code",
   "execution_count": null,
   "metadata": {},
   "outputs": [],
   "source": []
  }
 ],
 "metadata": {
  "kernelspec": {
   "display_name": "Python 3",
   "language": "python",
   "name": "python3"
  },
  "language_info": {
   "codemirror_mode": {
    "name": "ipython",
    "version": 3
   },
   "file_extension": ".py",
   "mimetype": "text/x-python",
   "name": "python",
   "nbconvert_exporter": "python",
   "pygments_lexer": "ipython3",
   "version": "3.6.2"
  }
 },
 "nbformat": 4,
 "nbformat_minor": 2
}
