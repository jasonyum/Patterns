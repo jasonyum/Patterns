{
 "cells": [
  {
   "cell_type": "markdown",
   "metadata": {},
   "source": [
    "# Toeplitz Matrix\n",
    "\n",
    "Write a program to determine whether a given input is a Toeplitz matrix. A Toeplitz is a matrix where any given diagonal from top left to bottom right are identical. \n",
    "\n",
    "```\n",
    "Example: \n",
    "\n",
    "1 2 3 4 8\n",
    "5 1 2 3 4\n",
    "4 5 1 2 3\n",
    "7 4 5 1 2\n",
    "\n",
    "```"
   ]
  },
  {
   "cell_type": "code",
   "execution_count": 14,
   "metadata": {},
   "outputs": [],
   "source": [
    "# helper function: you put in a starting position, labeled \"row, col\" \n",
    "\n",
    "def has_equal_values(matrix, row, col): \n",
    "    m, n = len(matrix), len(matrix[0]) \n",
    "    \n",
    "    start = matrix[row][col] \n",
    "    \n",
    "    # could use a for loop but while is more elegant\n",
    "    # when row = m then you're beyond the confines of the matrix, hence use row < m\n",
    "    while row < m and col < n: \n",
    "        if matrix[row][col] != start:\n",
    "            return False\n",
    "        row += 1\n",
    "        col += 1\n",
    "        \n",
    "    return True"
   ]
  },
  {
   "cell_type": "code",
   "execution_count": 5,
   "metadata": {},
   "outputs": [],
   "source": [
    "# example... matrix\n",
    "# in Python, a matrix is just a list of lists.\n",
    "\n",
    "test_matrix = [[1,2,3,4,8],\n",
    "               [5,1,2,3,4],\n",
    "               [4,5,1,2,3],\n",
    "               [7,4,5,1,2]]"
   ]
  },
  {
   "cell_type": "code",
   "execution_count": 6,
   "metadata": {},
   "outputs": [
    {
     "data": {
      "text/plain": [
       "[1, 2, 3, 4, 8]"
      ]
     },
     "execution_count": 6,
     "metadata": {},
     "output_type": "execute_result"
    }
   ],
   "source": [
    "test_matrix[0] # pulls out the first row"
   ]
  },
  {
   "cell_type": "code",
   "execution_count": 7,
   "metadata": {},
   "outputs": [
    {
     "data": {
      "text/plain": [
       "5"
      ]
     },
     "execution_count": 7,
     "metadata": {},
     "output_type": "execute_result"
    }
   ],
   "source": [
    "len(test_matrix[0]) # gives us the # of columns"
   ]
  },
  {
   "cell_type": "code",
   "execution_count": 11,
   "metadata": {},
   "outputs": [
    {
     "data": {
      "text/plain": [
       "4"
      ]
     },
     "execution_count": 11,
     "metadata": {},
     "output_type": "execute_result"
    }
   ],
   "source": [
    "# gives us the # of rows, bc a matrix in this form is just a list of lists\n",
    "len(test_matrix) "
   ]
  },
  {
   "cell_type": "code",
   "execution_count": 12,
   "metadata": {},
   "outputs": [
    {
     "data": {
      "text/plain": [
       "3"
      ]
     },
     "execution_count": 12,
     "metadata": {},
     "output_type": "execute_result"
    }
   ],
   "source": [
    "test_matrix[0][2]"
   ]
  },
  {
   "cell_type": "code",
   "execution_count": 19,
   "metadata": {},
   "outputs": [],
   "source": [
    "def is_toeplitz(matrix): \n",
    "    m, n = len(matrix), len(matrix[0]) \n",
    "    \n",
    "    for row in range(m): \n",
    "        # move along the left side of the matrix (the rows)\n",
    "        if not has_equal_values(matrix, row, 0): \n",
    "            return False\n",
    "        \n",
    "    for col in range(1, n): \n",
    "        # move along the top side of the matrix (the columns) \n",
    "        if not has_equal_values(matrix, 0, col): \n",
    "            return False\n",
    "        \n",
    "    return True"
   ]
  },
  {
   "cell_type": "code",
   "execution_count": 21,
   "metadata": {},
   "outputs": [
    {
     "data": {
      "text/plain": [
       "True"
      ]
     },
     "execution_count": 21,
     "metadata": {},
     "output_type": "execute_result"
    }
   ],
   "source": [
    "# test it\n",
    "is_toeplitz(test_matrix)"
   ]
  },
  {
   "cell_type": "code",
   "execution_count": 23,
   "metadata": {},
   "outputs": [],
   "source": [
    "# alternative solution\n",
    "# both solutions run in O(m * n) since in the worst case every cell must be checked..\n",
    "\n",
    "def is_toeplitz_TWO(matrix): \n",
    "    \n",
    "    values = {} \n",
    "    for i, row in enumerate(matrix):\n",
    "        for j, col in enumerate(row): \n",
    "            if (i - j) not in values: \n",
    "                values[i-j] = col\n",
    "            elif values[i-j] != col: \n",
    "                return False\n",
    "    return True"
   ]
  },
  {
   "cell_type": "code",
   "execution_count": 22,
   "metadata": {},
   "outputs": [
    {
     "data": {
      "text/plain": [
       "True"
      ]
     },
     "execution_count": 22,
     "metadata": {},
     "output_type": "execute_result"
    }
   ],
   "source": [
    "is_toeplitz_TWO(test_matrix)"
   ]
  },
  {
   "cell_type": "code",
   "execution_count": null,
   "metadata": {},
   "outputs": [],
   "source": []
  }
 ],
 "metadata": {
  "kernelspec": {
   "display_name": "Python 3",
   "language": "python",
   "name": "python3"
  },
  "language_info": {
   "codemirror_mode": {
    "name": "ipython",
    "version": 3
   },
   "file_extension": ".py",
   "mimetype": "text/x-python",
   "name": "python",
   "nbconvert_exporter": "python",
   "pygments_lexer": "ipython3",
   "version": "3.6.2"
  }
 },
 "nbformat": 4,
 "nbformat_minor": 2
}
