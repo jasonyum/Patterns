{
 "cells": [
  {
   "cell_type": "markdown",
   "metadata": {},
   "source": [
    "# Last Man Standing\n",
    "\n",
    "There are N prisoners standing in a circle, waiting to be executed. The executions are carried out starting with the kth person, and removing every successive kth person going clockwise until there is no one left.\n",
    "\n",
    "Given N and k, write an algorithm to determine where a prisoner should stand in order to be the last survivor.\n",
    "\n",
    "For example, if N = 5 and k = 2, the order of executions would be [2, 4, 1, 5, 3], so you should return 3.\n",
    "\n",
    "Bonus: Find an O(log N) solution if k = 2."
   ]
  },
  {
   "cell_type": "code",
   "execution_count": 1,
   "metadata": {},
   "outputs": [],
   "source": [
    "# store the prisoners in a list, then pop the element in the k-1'th place. \n",
    "\n",
    "def last_one_standing(n, k): \n",
    "    people = range(1, n+1)\n",
    "    index = k - 1\n",
    "    while n > 1: \n",
    "        people.pop(index) \n",
    "        index = (index + k - 1) % len(people) \n",
    "        n -= 1 # decrement\n",
    "    return people[0] "
   ]
  },
  {
   "cell_type": "markdown",
   "metadata": {},
   "source": [
    "### This is pretty slow though... \n",
    "- Random index in a list is O(N).\n",
    "- If we do this N times, the solution is O(N^2)\n",
    "- Improve it by using a deque...  rotate the list in O(k) time, this helps us pop only from the end... (cool, yes) "
   ]
  },
  {
   "cell_type": "code",
   "execution_count": 2,
   "metadata": {},
   "outputs": [],
   "source": [
    "from collections import deque"
   ]
  },
  {
   "cell_type": "code",
   "execution_count": null,
   "metadata": {},
   "outputs": [],
   "source": [
    "def last_one_standing(n, k): \n",
    "    people = deque(range(1, n+1))\n",
    "    while n > "
   ]
  }
 ],
 "metadata": {
  "kernelspec": {
   "display_name": "Python 3",
   "language": "python",
   "name": "python3"
  },
  "language_info": {
   "codemirror_mode": {
    "name": "ipython",
    "version": 3
   },
   "file_extension": ".py",
   "mimetype": "text/x-python",
   "name": "python",
   "nbconvert_exporter": "python",
   "pygments_lexer": "ipython3",
   "version": "3.6.2"
  }
 },
 "nbformat": 4,
 "nbformat_minor": 2
}
