{
 "cells": [
  {
   "cell_type": "markdown",
   "metadata": {},
   "source": [
    "# Longest Distinct Subarray\n",
    "\n",
    "Given an array of elements, return the length of the longest subarray where all its elements are distinct.\n",
    "\n",
    "For example, given the array [5, 1, 3, 5, 2, 3, 4, 1], return 5 as the longest subarray of distinct elements is [5, 2, 3, 4, 1].\n"
   ]
  },
  {
   "cell_type": "code",
   "execution_count": 1,
   "metadata": {},
   "outputs": [],
   "source": [
    "# naive solution\n",
    "\n",
    "def is_distinct(arr): \n",
    "    d = {} \n",
    "    for e in arr: \n",
    "        if e in d: \n",
    "            return False\n",
    "        d[e]= True\n",
    "        \n",
    "    return True\n",
    "\n",
    "def distinct_subarray(arr): \n",
    "    max_distinct_subarray = [] \n",
    "    for i in range(len(arr)): \n",
    "        for j in range(i + 1, len(arr) + 1): \n",
    "            subarray = arr[i:j] \n",
    "            if is_distinct(subarray) and len(subarray) > len(max_distinct_subarray): \n",
    "                max_distinct_subarray = subarray\n",
    "    return len(max_distinct_subarray) "
   ]
  },
  {
   "cell_type": "markdown",
   "metadata": {},
   "source": [
    "## $O(n^3)$ time and $O(n)$ space... \n",
    "\n",
    "- We need to get O(n^2) subarrays\n",
    "- Iterate over each subarray which can be up to O(n) in length\n",
    "\n",
    "## Obviously this is bad... how can we be faster? \n",
    "\n",
    "We can keep track of the indices of the last occuring elements and the longest running distinct subarray. **This is an important principle of keeping track of two different figures while moving through an array or piece of data.** \n",
    "\n",
    "When we look at the element at the next index, there are two cases for the longest distinct subarray. First case: element doesn't exist in the dictionary, then the new longest subarray is the same as the previous one with the current element appended... Second case is that if it does exist in the dictionary, then the longest distinct subarray starts from d[i] + 1 to the current index. "
   ]
  },
  {
   "cell_type": "code",
   "execution_count": 3,
   "metadata": {},
   "outputs": [],
   "source": [
    "def distinct_subarray(arr): \n",
    "    d = {} # most recent occurrences of each element\n",
    "    \n",
    "    result = 0 \n",
    "    longest_distinct_subarray_start_index = 0 \n",
    "    for i, e in enumerate(arr): \n",
    "        if e in d: \n",
    "            # if d[e] appears in teh middle of the current longest distinct subarray ....\n",
    "            \n",
    "            if d[e] >= longest_distinct_subarray_start_index: \n",
    "                result = max(result, i - longest_distinct_subarray_start_index)\n",
    "                longest_distinct_subarray_start_index = d[e] + 1\n",
    "        d[e] = i \n",
    "        \n",
    "    return max(result, len(arr) - longest_distinct_subarray_start_index) "
   ]
  },
  {
   "cell_type": "markdown",
   "metadata": {},
   "source": [
    "## Much more efficient...\n",
    "\n",
    "This runs in $O(n)$ time and $O(1)$ space. Reflects an important principle of **keeping track of values while moving through the array, instead of always starting back at the beginning and repeating wasteful calculations.**"
   ]
  },
  {
   "cell_type": "code",
   "execution_count": null,
   "metadata": {},
   "outputs": [],
   "source": []
  }
 ],
 "metadata": {
  "kernelspec": {
   "display_name": "Python 3",
   "language": "python",
   "name": "python3"
  },
  "language_info": {
   "codemirror_mode": {
    "name": "ipython",
    "version": 3
   },
   "file_extension": ".py",
   "mimetype": "text/x-python",
   "name": "python",
   "nbconvert_exporter": "python",
   "pygments_lexer": "ipython3",
   "version": "3.6.2"
  }
 },
 "nbformat": 4,
 "nbformat_minor": 2
}
