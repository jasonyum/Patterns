{
 "cells": [
  {
   "cell_type": "markdown",
   "metadata": {},
   "source": [
    "# Rotation of NxN Matrix (90 degrees) \n",
    "\n",
    "Given an N by N matrix, rotate it by 90 degrees clockwise.\n",
    "\n",
    "For example, given the following matrix:\n",
    "\n",
    "```\n",
    "[[1, 2, 3],\n",
    " [4, 5, 6],\n",
    " [7, 8, 9]]\n",
    "```\n",
    "\n",
    "you should return:\n",
    "\n",
    "```\n",
    "[[7, 4, 1],\n",
    " [8, 5, 2],\n",
    " [9, 6, 3]]\n",
    " ```\n",
    "Follow-up: What if you couldn't use any extra space?"
   ]
  },
  {
   "cell_type": "code",
   "execution_count": 6,
   "metadata": {},
   "outputs": [],
   "source": [
    "import numpy as np"
   ]
  },
  {
   "cell_type": "code",
   "execution_count": 7,
   "metadata": {},
   "outputs": [],
   "source": [
    "A_matrix = [[1,2,3],[4,5,6],[7,8,9]]"
   ]
  },
  {
   "cell_type": "code",
   "execution_count": 54,
   "metadata": {},
   "outputs": [],
   "source": [
    "# This is the brute force way with nested loops (yikes..) \n",
    "\n",
    "def rotation_90(matrix): \n",
    "    \n",
    "    # initialize.. \n",
    "    N = len(matrix) \n",
    "    rotated_Matrix = np.zeros([N,N])\n",
    "    \n",
    "    for i in range(N): \n",
    "        for j in range(N):\n",
    "            \n",
    "            # pretty awkward but N-1-j is used to prevent going out of bounds\n",
    "            # the loops start from 0 to N-1\n",
    "            rotated_Matrix[i][j] = matrix[N - 1 - j][i]\n",
    "    \n",
    "    return rotated_Matrix"
   ]
  },
  {
   "cell_type": "code",
   "execution_count": 55,
   "metadata": {},
   "outputs": [
    {
     "data": {
      "text/plain": [
       "array([[ 7.,  4.,  1.],\n",
       "       [ 8.,  5.,  2.],\n",
       "       [ 9.,  6.,  3.]])"
      ]
     },
     "execution_count": 55,
     "metadata": {},
     "output_type": "execute_result"
    }
   ],
   "source": [
    "rotation_90(A_matrix)"
   ]
  },
  {
   "cell_type": "markdown",
   "metadata": {},
   "source": [
    "## Alternative syntax"
   ]
  },
  {
   "cell_type": "code",
   "execution_count": 58,
   "metadata": {},
   "outputs": [],
   "source": [
    "def rotate_matrix(matrix): \n",
    "    n = len(matrix) \n",
    "    \n",
    "    # cool way to initialize without using np.zeros([N,N]) \n",
    "    new_matrix = [[None for _ in range(n)] for _ in range(n)] \n",
    "    \n",
    "    for r, row in enumerate(matrix): \n",
    "        for c, val in enumerate(row): \n",
    "            new_matrix[c][n-r-1] = val\n",
    "            \n",
    "    return new_matrix"
   ]
  },
  {
   "cell_type": "code",
   "execution_count": 57,
   "metadata": {},
   "outputs": [
    {
     "data": {
      "text/plain": [
       "[[7, 4, 1], [8, 5, 2], [9, 6, 3]]"
      ]
     },
     "execution_count": 57,
     "metadata": {},
     "output_type": "execute_result"
    }
   ],
   "source": [
    "rotate_matrix(A_matrix)"
   ]
  },
  {
   "cell_type": "code",
   "execution_count": 60,
   "metadata": {},
   "outputs": [
    {
     "data": {
      "text/plain": [
       "[[None, None, None, None, None],\n",
       " [None, None, None, None, None],\n",
       " [None, None, None, None, None],\n",
       " [None, None, None, None, None],\n",
       " [None, None, None, None, None]]"
      ]
     },
     "execution_count": 60,
     "metadata": {},
     "output_type": "execute_result"
    }
   ],
   "source": [
    "# good visual of the None for _ in range (n) move\n",
    "# the for _ in range(5) just tells it to ignore the index and just do something\n",
    "[[None for _ in range(5)] for _ in range(5)]"
   ]
  },
  {
   "cell_type": "code",
   "execution_count": null,
   "metadata": {},
   "outputs": [],
   "source": []
  }
 ],
 "metadata": {
  "kernelspec": {
   "display_name": "Python 3",
   "language": "python",
   "name": "python3"
  },
  "language_info": {
   "codemirror_mode": {
    "name": "ipython",
    "version": 3
   },
   "file_extension": ".py",
   "mimetype": "text/x-python",
   "name": "python",
   "nbconvert_exporter": "python",
   "pygments_lexer": "ipython3",
   "version": "3.6.2"
  }
 },
 "nbformat": 4,
 "nbformat_minor": 2
}
