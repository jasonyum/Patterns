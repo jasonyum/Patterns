{
 "cells": [
  {
   "cell_type": "markdown",
   "metadata": {},
   "source": [
    "# Rotation of NxN Matrix (90 degrees) \n",
    "\n",
    "Given an N by N matrix, rotate it by 90 degrees clockwise.\n",
    "\n",
    "For example, given the following matrix:\n",
    "\n",
    "```\n",
    "[[1, 2, 3],\n",
    " [4, 5, 6],\n",
    " [7, 8, 9]]\n",
    "```\n",
    "\n",
    "you should return:\n",
    "\n",
    "```\n",
    "[[7, 4, 1],\n",
    " [8, 5, 2],\n",
    " [9, 6, 3]]\n",
    " ```\n",
    "Follow-up: What if you couldn't use any extra space?"
   ]
  },
  {
   "cell_type": "code",
   "execution_count": 6,
   "metadata": {},
   "outputs": [],
   "source": [
    "import numpy as np"
   ]
  },
  {
   "cell_type": "code",
   "execution_count": 7,
   "metadata": {},
   "outputs": [],
   "source": [
    "A_matrix = [[1,2,3],[4,5,6],[7,8,9]]"
   ]
  },
  {
   "cell_type": "code",
   "execution_count": 54,
   "metadata": {},
   "outputs": [],
   "source": [
    "# This is the brute force way with nested loops (yikes..) \n",
    "\n",
    "def rotation_90(matrix): \n",
    "    \n",
    "    # initialize.. \n",
    "    N = len(matrix) \n",
    "    rotated_Matrix = np.zeros([N,N])\n",
    "    \n",
    "    for i in range(N): \n",
    "        for j in range(N):\n",
    "            \n",
    "            # pretty awkward but N-1-j is used to prevent going out of bounds\n",
    "            # the loops start from 0 to N-1\n",
    "            rotated_Matrix[i][j] = matrix[N - 1 - j][i]\n",
    "    \n",
    "    return rotated_Matrix"
   ]
  },
  {
   "cell_type": "code",
   "execution_count": 55,
   "metadata": {},
   "outputs": [
    {
     "data": {
      "text/plain": [
       "array([[ 7.,  4.,  1.],\n",
       "       [ 8.,  5.,  2.],\n",
       "       [ 9.,  6.,  3.]])"
      ]
     },
     "execution_count": 55,
     "metadata": {},
     "output_type": "execute_result"
    }
   ],
   "source": [
    "rotation_90(A_matrix)"
   ]
  },
  {
   "cell_type": "markdown",
   "metadata": {},
   "source": [
    "## Alternative syntax\n",
    "\n",
    "This still will take $O(n^2)$ time and space because of the nested loops"
   ]
  },
  {
   "cell_type": "code",
   "execution_count": 58,
   "metadata": {},
   "outputs": [],
   "source": [
    "def rotate_matrix(matrix): \n",
    "    n = len(matrix) \n",
    "    \n",
    "    # cool way to initialize without using np.zeros([N,N]) \n",
    "    new_matrix = [[None for _ in range(n)] for _ in range(n)] \n",
    "    \n",
    "    for r, row in enumerate(matrix): \n",
    "        for c, val in enumerate(row): \n",
    "            new_matrix[c][n-r-1] = val\n",
    "            \n",
    "    return new_matrix"
   ]
  },
  {
   "cell_type": "code",
   "execution_count": 57,
   "metadata": {},
   "outputs": [
    {
     "data": {
      "text/plain": [
       "[[7, 4, 1], [8, 5, 2], [9, 6, 3]]"
      ]
     },
     "execution_count": 57,
     "metadata": {},
     "output_type": "execute_result"
    }
   ],
   "source": [
    "rotate_matrix(A_matrix)"
   ]
  },
  {
   "cell_type": "code",
   "execution_count": 60,
   "metadata": {},
   "outputs": [
    {
     "data": {
      "text/plain": [
       "[[None, None, None, None, None],\n",
       " [None, None, None, None, None],\n",
       " [None, None, None, None, None],\n",
       " [None, None, None, None, None],\n",
       " [None, None, None, None, None]]"
      ]
     },
     "execution_count": 60,
     "metadata": {},
     "output_type": "execute_result"
    }
   ],
   "source": [
    "# good visual of the None for _ in range (n) move\n",
    "# the for _ in range(5) just tells it to ignore the index and just do something\n",
    "[[None for _ in range(5)] for _ in range(5)]"
   ]
  },
  {
   "cell_type": "markdown",
   "metadata": {},
   "source": [
    "## Clever solution...? perform by performing a chain of four swaps\n",
    "\n",
    "- top-left with bottom-left\n",
    "- top-right with top-left\n",
    "- bottom-right with top-right\n",
    "- bottom-left with bottom-right\n",
    "\n",
    "Start with the first row and move down until n // 2, since the bottom rows should be rotated by then.. this still takes $O(n^2)$ time but uses no extra space as everything is rotated in place"
   ]
  },
  {
   "cell_type": "code",
   "execution_count": 63,
   "metadata": {},
   "outputs": [],
   "source": [
    "def rotate_matrix_CLEVER(matrix): \n",
    "    n = len(matrix)\n",
    "    \n",
    "    for i in range(n // 2): \n",
    "        for j in range(i, n - i - 1): \n",
    "            \n",
    "            # ?? ... not the prettiest \n",
    "            p1 = matrix[i][j]\n",
    "            p2 = matrix[j][n - i - 1] \n",
    "            p3 = matrix[n - i  - 1][n - j - 1]\n",
    "            p4 = matrix[n - j - 1][i] \n",
    "            \n",
    "            matrix[j][n - i - 1] = p1\n",
    "            matrix[n - i - 1][n - j - 1] = p2\n",
    "            matrix[n - j - 1][i] = p3\n",
    "            matrix[i][j] = p4\n",
    "            \n",
    "    return matrix"
   ]
  },
  {
   "cell_type": "markdown",
   "metadata": {},
   "source": [
    "# There's obviously a linear algebra solution here"
   ]
  },
  {
   "cell_type": "code",
   "execution_count": 64,
   "metadata": {},
   "outputs": [
    {
     "data": {
      "text/plain": [
       "array([[3, 6, 9],\n",
       "       [2, 5, 8],\n",
       "       [1, 4, 7]])"
      ]
     },
     "execution_count": 64,
     "metadata": {},
     "output_type": "execute_result"
    }
   ],
   "source": [
    "# there's numpy.rot90? let's try that\n",
    "np.rot90(A_matrix)"
   ]
  },
  {
   "cell_type": "code",
   "execution_count": 67,
   "metadata": {},
   "outputs": [
    {
     "data": {
      "text/plain": [
       "array([[7, 4, 1],\n",
       "       [8, 5, 2],\n",
       "       [9, 6, 3]])"
      ]
     },
     "execution_count": 67,
     "metadata": {},
     "output_type": "execute_result"
    }
   ],
   "source": [
    "np.rot90(A_matrix,k=3) # k specifies number of rotations"
   ]
  },
  {
   "cell_type": "code",
   "execution_count": null,
   "metadata": {},
   "outputs": [],
   "source": []
  }
 ],
 "metadata": {
  "kernelspec": {
   "display_name": "Python 3",
   "language": "python",
   "name": "python3"
  },
  "language_info": {
   "codemirror_mode": {
    "name": "ipython",
    "version": 3
   },
   "file_extension": ".py",
   "mimetype": "text/x-python",
   "name": "python",
   "nbconvert_exporter": "python",
   "pygments_lexer": "ipython3",
   "version": "3.6.2"
  }
 },
 "nbformat": 4,
 "nbformat_minor": 2
}
