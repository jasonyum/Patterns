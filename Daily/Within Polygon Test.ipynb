{
 "cells": [
  {
   "cell_type": "markdown",
   "metadata": {},
   "source": [
    "# Inside a polygon? \n",
    "\n",
    "You are given a list of N points (x1, y1), (x2, y2), ..., (xN, yN) representing a polygon. You can assume these points are given in order; that is, you can construct the polygon by connecting point 1 to point 2, point 2 to point 3, and so on, finally looping around to connect point N to point 1.\n",
    "\n",
    "Determine if a new point p lies inside this polygon. (If p is on the boundary of the polygon, you should return False).\n",
    "\n",
    "\n",
    "**Hint: if you a draw a horizontal line starting from the point and extend it rightward.. if a line crosses an edge of the polygon an odd number of times, it's on the inside. If not, it's on the outside! (This is called the ray-casting algorithm)**"
   ]
  },
  {
   "cell_type": "code",
   "execution_count": 1,
   "metadata": {},
   "outputs": [],
   "source": [
    "# helps clarify the algebra if you use a class..\n",
    "class Point: \n",
    "    def __init__(self, x, y): \n",
    "        self.x = x\n",
    "        self.y = y\n",
    "        \n",
    "def create_sides(points): \n",
    "    sides = [(points[-1], points[0])] + list(zip(points, points[1:]))\n",
    "    return [(Point(*a), Point(*b)) for (a,b) in sides] \n",
    "\n",
    "def intersects(p, side): \n",
    "    p1, p2 = side\n",
    "    \n",
    "    # get the slope and intercept of the side. check for zero and undefined slopes...\n",
    "    dy, dx = (p2.y - p1.y), (p2.x - p1.x) \n",
    "    if dx == 0.0:\n",
    "        return 1 if p.x <p1.x and min(p1.y, p2.y) <= p.y <= max(p1.y, p2,y) else 0 \n",
    "    if dy == 0.0: \n",
    "        return 0 \n",
    "\n",
    "    slope = dy/dx\n",
    "    intercept = p1.y - slope*p1.x\n",
    "    \n",
    "    # plug in y-coordinate and solve for the intersection...\n",
    "    intersection = Point((p.y - intercept) / slope, p.y)\n",
    "    \n",
    "    # check to see if intersection is valid\n",
    "    if p.x <= intersection.x and min(p1.y, p2.y) <= intersection.y <= max(p1.y, p2.y): \n",
    "        return 1\n",
    "    else: \n",
    "        return 0 \n",
    "    \n",
    "def check_inside(p, polygon): \n",
    "    p = Point(*p) \n",
    "    count = 0 \n",
    "    sides = create_sides(polygon)\n",
    "    for side in sides: \n",
    "        count += intersects(p, side) \n",
    "        \n",
    "    if count % 2 == 1: \n",
    "        return True\n",
    "    else: \n",
    "        return False"
   ]
  },
  {
   "cell_type": "code",
   "execution_count": null,
   "metadata": {},
   "outputs": [],
   "source": [
    "# O(N), where N is the number of sides"
   ]
  }
 ],
 "metadata": {
  "kernelspec": {
   "display_name": "Python 3",
   "language": "python",
   "name": "python3"
  },
  "language_info": {
   "codemirror_mode": {
    "name": "ipython",
    "version": 3
   },
   "file_extension": ".py",
   "mimetype": "text/x-python",
   "name": "python",
   "nbconvert_exporter": "python",
   "pygments_lexer": "ipython3",
   "version": "3.6.2"
  }
 },
 "nbformat": 4,
 "nbformat_minor": 2
}
