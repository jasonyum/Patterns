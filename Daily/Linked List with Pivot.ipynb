{
 "cells": [
  {
   "cell_type": "markdown",
   "metadata": {},
   "source": [
    "# Linked List with Pivot\n",
    "\n",
    "Given a linked list of numbers and a pivot k, partition the linked list so that all nodes less than k come before nodes greater than or equal to k.\n",
    "\n",
    "For example, given the linked list 5 -> 1 -> 8 -> 0 -> 3 and k = 3, the solution could be 1 -> 0 -> 5 -> 8 -> 3."
   ]
  },
  {
   "cell_type": "code",
   "execution_count": 3,
   "metadata": {},
   "outputs": [],
   "source": [
    "# First you need to define some helpful classes... \n",
    "\n",
    "class Node: \n",
    "    def __init__(self, val, next=None): \n",
    "        self.val = val\n",
    "        self.next = next\n",
    "        \n",
    "class LinkedList: \n",
    "    def __init__(self): \n",
    "        self.head = None\n",
    "        self.tail = None\n",
    "        \n",
    "    # need to be able to insert elements at the front of the list\n",
    "    def insert(self, data): \n",
    "        if not self.head:\n",
    "            self.head = self.tail = Node(data)\n",
    "        else: \n",
    "            tmp = Node(data)\n",
    "            tmp.next = self.head\n",
    "            self.head = tmp\n",
    "    \n",
    "    # need to be able to append elements at the back...\n",
    "    # This is O(1) because we keep track of the tail pointer..\n",
    "    def append(self, data): \n",
    "        if not self.head: \n",
    "            self.head = self.tail = Node(data) \n",
    "        else: \n",
    "            tmp = Node(data)\n",
    "            self.tail.next = tmp\n",
    "            self.tail = self.tail.next"
   ]
  },
  {
   "cell_type": "code",
   "execution_count": null,
   "metadata": {},
   "outputs": [],
   "source": []
  }
 ],
 "metadata": {
  "kernelspec": {
   "display_name": "Python 3",
   "language": "python",
   "name": "python3"
  },
  "language_info": {
   "codemirror_mode": {
    "name": "ipython",
    "version": 3
   },
   "file_extension": ".py",
   "mimetype": "text/x-python",
   "name": "python",
   "nbconvert_exporter": "python",
   "pygments_lexer": "ipython3",
   "version": "3.6.2"
  }
 },
 "nbformat": 4,
 "nbformat_minor": 2
}
