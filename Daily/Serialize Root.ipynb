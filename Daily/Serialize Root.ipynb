{
 "cells": [
  {
   "cell_type": "markdown",
   "metadata": {},
   "source": [
    "### Given the binary tree... implement serialize(root) \n",
    "... what serialize(root) should do is serialize a tree into a string. Also, write deserialize(s), which desiralizes a string back into the tree. \n",
    "\n",
    "For example, given the following $Node$ class\n",
    "\n",
    "```python\n",
    "class Node: \n",
    "    def __init__(self, val, left=None, right=None): \n",
    "        self.val = val \n",
    "        self.left = left\n",
    "        self.right = right\n",
    "``` \n",
    "\n",
    "The following test should pass: \n",
    "\n",
    "```python\n",
    "node = Node('root', Node('left', Node('left.left')), Node('right')) \n",
    "assert deserialize(serialize(node)).left.left.val == 'left.left' \n",
    "```\n",
    "\n",
    "First, what is serialization? \n",
    "Link: https://www.geeksforgeeks.org/serialize-deserialize-binary-tree/\n",
    "\n",
    "> Serialization is to store tree in a file so that it can be later restored. The structure of tree must be maintained. Deserialization is reading tree back from file.\n",
    "\n",
    "So what we're trying to do is essentially store an arbitrary size binary tree (this is called \"serialization\") and then when we want to get the binary tree and reconstrcut it we can \"deserialize\" the tree). \n",
    "\n",
    "\n"
   ]
  },
  {
   "cell_type": "code",
   "execution_count": 1,
   "metadata": {},
   "outputs": [],
   "source": [
    "# runs on O(N) time and space\n",
    "\n",
    "def serialize(root): \n",
    "    if root is None: \n",
    "        return '#' \n",
    "    return '{} {} {}'.format(root.val, serialize(root.left), serialize(root.right))\n",
    "\n",
    "\n",
    "def deserialize(data): \n",
    "    def helper(): \n",
    "        val = next(vals) \n",
    "        if val == '#': \n",
    "            return None\n",
    "        node = Node(int(val))\n",
    "        node.left = helper() \n",
    "        node.right = helper() \n",
    "        return node\n",
    "    vals = iter(data.split())\n",
    "    return helper() \n"
   ]
  },
  {
   "cell_type": "code",
   "execution_count": null,
   "metadata": {},
   "outputs": [],
   "source": []
  }
 ],
 "metadata": {
  "kernelspec": {
   "display_name": "Python 3",
   "language": "python",
   "name": "python3"
  },
  "language_info": {
   "codemirror_mode": {
    "name": "ipython",
    "version": 3
   },
   "file_extension": ".py",
   "mimetype": "text/x-python",
   "name": "python",
   "nbconvert_exporter": "python",
   "pygments_lexer": "ipython3",
   "version": "3.6.2"
  }
 },
 "nbformat": 4,
 "nbformat_minor": 2
}
