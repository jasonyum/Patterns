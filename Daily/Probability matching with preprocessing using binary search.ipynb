{
 "cells": [
  {
   "cell_type": "markdown",
   "metadata": {},
   "source": [
    "### Quick Probability Question\n",
    "\n",
    "You are given n numbers as well as n probabilities that sum up to 1. Write a function to generate one of the numbers with its corresponding probability.\n",
    "\n",
    "For example, given the numbers [1, 2, 3, 4] and probabilities [0.1, 0.5, 0.2, 0.2], your function should return 1 10% of the time, 2 50% of the time, and 3 and 4 20% of the time.\n",
    "\n",
    "You can generate random numbers between 0 and 1 uniformly."
   ]
  },
  {
   "cell_type": "code",
   "execution_count": 1,
   "metadata": {},
   "outputs": [],
   "source": [
    "from random import random\n",
    "\n",
    "def distribute(nums, probs): \n",
    "    r = random()\n",
    "    \n",
    "    s = 0 \n",
    "    for num, prob in zip(nums, probs): \n",
    "        s += prob\n",
    "        if s >= r: \n",
    "            return num"
   ]
  },
  {
   "cell_type": "markdown",
   "metadata": {},
   "source": [
    "### Takes O(n) time and constant space\n",
    "\n",
    "Can speed this up by preprocessing the list of probabilities into an array. Then binary search over the array to find the value... the preprocessing takes O(n) time and space, but after that, queuries take only O(log n) time.\n",
    "\n",
    "Preprocessing saves time!"
   ]
  },
  {
   "cell_type": "code",
   "execution_count": 2,
   "metadata": {},
   "outputs": [],
   "source": [
    "from random import random\n",
    "from bisect import bisect_left\n",
    "# cool didnt know about this function but probably very obvious to those \n",
    "# who use binary search a lot\n",
    "\n",
    "\n",
    "def preprocess(probs): \n",
    "    lst = [] \n",
    "    \n",
    "    current_val = 0 \n",
    "    \n",
    "    for p in probs: \n",
    "        current_val += p\n",
    "        lst.append(current_val)\n",
    "        \n",
    "    return lst\n",
    "\n",
    "def distribute(nums, arr): \n",
    "    r = random()\n",
    "    i = bisect_left(arr,r) \n",
    "    return nums[i] "
   ]
  },
  {
   "cell_type": "code",
   "execution_count": null,
   "metadata": {},
   "outputs": [],
   "source": []
  }
 ],
 "metadata": {
  "kernelspec": {
   "display_name": "Python 3",
   "language": "python",
   "name": "python3"
  },
  "language_info": {
   "codemirror_mode": {
    "name": "ipython",
    "version": 3
   },
   "file_extension": ".py",
   "mimetype": "text/x-python",
   "name": "python",
   "nbconvert_exporter": "python",
   "pygments_lexer": "ipython3",
   "version": "3.6.2"
  }
 },
 "nbformat": 4,
 "nbformat_minor": 2
}
