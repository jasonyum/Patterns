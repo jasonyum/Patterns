{
 "cells": [
  {
   "cell_type": "markdown",
   "metadata": {},
   "source": [
    "### Tree with Operators\n",
    "\n",
    "Suppose an arithmetic expression is given as a binary tree. Each leaf is an integer and each internal node is one of '+', '−', '∗', or '/'. Given the root to such a tree, write a function to evaluate it. For example, given the following tree:\n",
    "\n",
    "```\n",
    "    *\n",
    "   / \\\n",
    "  +    +\n",
    " / \\  / \\\n",
    "3  2  4  5\n",
    "```\n",
    "You should return 45, as it is (3 + 2) * (4 + 5)."
   ]
  },
  {
   "cell_type": "code",
   "execution_count": 1,
   "metadata": {},
   "outputs": [],
   "source": [
    "# clearly, needs to be recursive\n",
    "# check the value of the root node... then if it's an arithmetic operator then ...\n",
    "# take the node's children and apply teh operator on them"
   ]
  },
  {
   "cell_type": "code",
   "execution_count": 2,
   "metadata": {},
   "outputs": [],
   "source": [
    "class Node: \n",
    "    def __init__(self, val, left=None, right=None):\n",
    "        self.val = val\n",
    "        self.left = left\n",
    "        self.right = right\n",
    "        \n",
    "plus = \"+\" \n",
    "minus = \"-\"\n",
    "times = \"*\"\n",
    "divide = \"/\" \n",
    "\n",
    "def evaluate(root): \n",
    "    if root.val == plus: \n",
    "        return evaluate(root.left) + evaluate(root.right)\n",
    "    elif root.val == minus: \n",
    "        return evaluate(root.left) - evaluate(root.right) \n",
    "    elif root.val == times: \n",
    "        return evaluate(root.left) * evaluate(root.right) \n",
    "    elif root.val == divide: \n",
    "        return evaluate(root.left) / evaluate(root.right) \n",
    "    else: \n",
    "        return root.val\n",
    "    \n",
    "# runs in O(N) time and space"
   ]
  },
  {
   "cell_type": "code",
   "execution_count": null,
   "metadata": {},
   "outputs": [],
   "source": []
  }
 ],
 "metadata": {
  "kernelspec": {
   "display_name": "Python 3",
   "language": "python",
   "name": "python3"
  },
  "language_info": {
   "codemirror_mode": {
    "name": "ipython",
    "version": 3
   },
   "file_extension": ".py",
   "mimetype": "text/x-python",
   "name": "python",
   "nbconvert_exporter": "python",
   "pygments_lexer": "ipython3",
   "version": "3.6.2"
  }
 },
 "nbformat": 4,
 "nbformat_minor": 2
}
