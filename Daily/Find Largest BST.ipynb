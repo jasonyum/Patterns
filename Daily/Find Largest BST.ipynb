{
 "cells": [
  {
   "cell_type": "markdown",
   "metadata": {},
   "source": [
    "# Find largest tree/subtree that's a BST\n",
    "\n",
    "A vlid BST is one that satisfies the following...\n",
    "- node's left subtree contains only nodes with keys less than the nodes' key\n",
    "- node's right subtree contains only nodes with keys greater than the nodes' key\n",
    "- both the left and right subtrees must be valid BSTs"
   ]
  },
  {
   "cell_type": "code",
   "execution_count": 3,
   "metadata": {},
   "outputs": [],
   "source": [
    "class TreeNode: \n",
    "    def __init__(self, key): \n",
    "        self.left = None\n",
    "        self.right = None\n",
    "        self.key = key\n",
    "        \n",
    "def is_bst(root): \n",
    "    def is_bst_helper(root, min_key, max_key): \n",
    "        if root is None: \n",
    "            return True\n",
    "        if root.key <= min_key or root.key >= max_key: \n",
    "            return False\n",
    "        return is_bst_helper(root.left, min_key, root.key) and \\\n",
    "                is_bst_helper(root.right, root.key, max_key)\n",
    "        \n",
    "    return is_bst_helper(root, float('-inf'), float('inf'))\n"
   ]
  },
  {
   "cell_type": "code",
   "execution_count": 12,
   "metadata": {},
   "outputs": [],
   "source": [
    "def size(root): \n",
    "    if root is None: \n",
    "        return 0\n",
    "    return size(root.left) + size(root.right) + 1\n",
    "\n",
    "def largest_bst_subtree(root): \n",
    "    def helper(root): \n",
    "        \n",
    "        # returns a tuple of (size, root) of the largest subtree\n",
    "        if is_bst(root): \n",
    "            return (size(root), root) # tuple\n",
    "        \n",
    "        # key = lambda x: x[0] --> takes argument x, then just returns the first element\n",
    "        return max(helper(root.left), helper(root.right), key = lambda x: x[0])\n",
    "    \n",
    "    return helper(root)[1]\n",
    "\n",
    "\n",
    "# this is O(N^2) in the worst case, since we're doing O(N) traversals for each of the nodes."
   ]
  },
  {
   "cell_type": "code",
   "execution_count": 13,
   "metadata": {},
   "outputs": [
    {
     "data": {
      "text/plain": [
       "100"
      ]
     },
     "execution_count": 13,
     "metadata": {},
     "output_type": "execute_result"
    }
   ],
   "source": [
    "test_x = [100,2,3,4,5]\n",
    "\n",
    "arc = lambda x: x[0] \n",
    "arc(test_x)"
   ]
  },
  {
   "cell_type": "markdown",
   "metadata": {},
   "source": [
    "# Evaluate bottom up\n",
    "\n",
    "Return the range of valid keys up to the parent. This helps determine both the size and validity in a bottom-up fashion..."
   ]
  },
  {
   "cell_type": "code",
   "execution_count": 14,
   "metadata": {},
   "outputs": [],
   "source": [
    "def largest_bst_subtree(root): \n",
    "    max_size = 0 \n",
    "    max_root = None\n",
    "    def helper(root): \n",
    "        \n",
    "        nonlocal max_size\n",
    "        nonlocal max_root\n",
    "        if root is None: \n",
    "            return (0, float('inf'), float('-inf'))\n",
    "        \n",
    "        left = helper(root.left) \n",
    "        right = helper(root.right) \n",
    "        if root.key > left[2] and root.key < right[1]: \n",
    "            size = left[0] + right[0] + 1\n",
    "            if size > max_size: \n",
    "                max_size = size\n",
    "                max_root = root\n",
    "            return (size, min(root.key, left[1]), max(root.key, right[2]))\n",
    "        else: \n",
    "            return (0, float('-inf'), float('inf'))\n",
    "        \n",
    "    helper(root)\n",
    "    return max_root"
   ]
  },
  {
   "cell_type": "markdown",
   "metadata": {},
   "source": []
  }
 ],
 "metadata": {
  "kernelspec": {
   "display_name": "Python 3",
   "language": "python",
   "name": "python3"
  },
  "language_info": {
   "codemirror_mode": {
    "name": "ipython",
    "version": 3
   },
   "file_extension": ".py",
   "mimetype": "text/x-python",
   "name": "python",
   "nbconvert_exporter": "python",
   "pygments_lexer": "ipython3",
   "version": "3.6.2"
  }
 },
 "nbformat": 4,
 "nbformat_minor": 2
}
