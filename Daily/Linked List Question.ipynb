{
 "cells": [
  {
   "cell_type": "markdown",
   "metadata": {},
   "source": [
    "## Merge Linked Lists\n",
    "\n",
    "Given k sorted singly linked lists -- write a function that merges all the lists into one sorted singly linked list. "
   ]
  },
  {
   "cell_type": "code",
   "execution_count": 1,
   "metadata": {},
   "outputs": [],
   "source": [
    "# sort of a hack\n",
    "# you gather all the values of the linked list into a large array\n",
    "# then you sort that array\n",
    "# then you recreate a linked list\n",
    "\n",
    "def merge(lists): \n",
    "    \n",
    "    arr = [] \n",
    "    for head in lists: \n",
    "        current = head\n",
    "        while current: \n",
    "            arr.append(current.val)\n",
    "            current = current.next\n",
    "            \n",
    "    new_head = current = Node(-1) # dummy head\n",
    "    for val in sorted(arr): \n",
    "        current.next = Node(val)\n",
    "        current = current.next\n",
    "    \n",
    "    return new_head.next"
   ]
  },
  {
   "cell_type": "code",
   "execution_count": null,
   "metadata": {},
   "outputs": [],
   "source": []
  }
 ],
 "metadata": {
  "kernelspec": {
   "display_name": "Python 3",
   "language": "python",
   "name": "python3"
  },
  "language_info": {
   "codemirror_mode": {
    "name": "ipython",
    "version": 3
   },
   "file_extension": ".py",
   "mimetype": "text/x-python",
   "name": "python",
   "nbconvert_exporter": "python",
   "pygments_lexer": "ipython3",
   "version": "3.6.2"
  }
 },
 "nbformat": 4,
 "nbformat_minor": 2
}
