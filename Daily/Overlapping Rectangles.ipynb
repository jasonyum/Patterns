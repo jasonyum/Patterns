{
 "cells": [
  {
   "cell_type": "markdown",
   "metadata": {},
   "source": [
    "# Two Rectangles // Intersection Area\n",
    "\n",
    "Given two rectangles on a 2D graph, return the area of their intersection. If the rectangles don't intersect, return 0.\n",
    "\n",
    "For example, given the following rectangles:\n",
    "\n",
    "{\n",
    "    \"top_left\": (1, 4),\n",
    "    \"dimensions\": (3, 3) # width, height\n",
    "}\n",
    "and\n",
    "\n",
    "{\n",
    "    \"top_left\": (0, 5),\n",
    "    \"dimensions\": (4, 3) # width, height\n",
    "}\n",
    "return 6.\n",
    "\n",
    "\n",
    "### Answer\n",
    "The trick here is that you need to find a few points without knowing how they're placed. The right-most most left border, the bottom-most top border, the left-most right border, and the top-most bottom border. If these pairs don't cross, then you know they don't intersect.  "
   ]
  },
  {
   "cell_type": "code",
   "execution_count": 1,
   "metadata": {},
   "outputs": [],
   "source": [
    "def rectangles(rec1, rec2): \n",
    "    left_x = max(rec1[\"top_left\"][0], rec2[\"top_left\"][0])\n",
    "    right_x = min(rec1[\"top_left\"][0] + rec1[\"dimensions\"][0], \n",
    "                 rec2[\"top_left\"][0] + rec2[\"dimensions\"][0])\n",
    "    \n",
    "    top_y = min(rec1[\"top_left\"][1], rec2[\"top_left\"][1])\n",
    "    bottom_y = max(rec1[\"top_left\"][1] - rec1[\"dimensions\"][1],\n",
    "                  rec2[\"top_left\"][1] - rec2[\"dimensions\"][1])\n",
    "    \n",
    "    if left_x > right_x or bottom_y > top_y: \n",
    "        return 0 \n",
    "    \n",
    "    return (right_x - left_x) * (top_y - bottom_y) "
   ]
  },
  {
   "cell_type": "code",
   "execution_count": null,
   "metadata": {},
   "outputs": [],
   "source": []
  }
 ],
 "metadata": {
  "kernelspec": {
   "display_name": "Python 3",
   "language": "python",
   "name": "python3"
  },
  "language_info": {
   "codemirror_mode": {
    "name": "ipython",
    "version": 3
   },
   "file_extension": ".py",
   "mimetype": "text/x-python",
   "name": "python",
   "nbconvert_exporter": "python",
   "pygments_lexer": "ipython3",
   "version": "3.6.2"
  }
 },
 "nbformat": 4,
 "nbformat_minor": 2
}
