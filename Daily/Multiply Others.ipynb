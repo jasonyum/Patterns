{
 "cells": [
  {
   "cell_type": "markdown",
   "metadata": {},
   "source": [
    "### Problem: Multiply Others\n",
    "Given an array of integers, return a new array such that each element at index i of the new array is the product of all the numbers in the original array except the one at i.\n",
    "\n",
    "For example, if our input was [1, 2, 3, 4, 5], the expected output would be [120, 60, 40, 30, 24]. If our input was [3, 2, 1], the expected output would be [2, 3, 6].\n",
    "\n",
    "- Sometimes, i feel like you just need to go in the tank and figure it out.\n",
    "- sit and stare skillset lol\n",
    "- difficulties, need to keep a good idea on the index.\n",
    "- you can't make mistakes around for number in numeric_list ...\n",
    "- the number in that case is going to be the actual number, not the index lol"
   ]
  },
  {
   "cell_type": "code",
   "execution_count": 20,
   "metadata": {},
   "outputs": [],
   "source": [
    "def multiply_others(numeric_list): \n",
    "    # initialize place to store output\n",
    "    output_list = list()\n",
    "    \n",
    "    for index in range(len(numeric_list)): \n",
    "        # for every loop we want to re-initialize the product\n",
    "        product = 1\n",
    "        \n",
    "        for number in numeric_list: \n",
    "            product *= number\n",
    "        \n",
    "        # append to the list\n",
    "        output_list.append(product/numeric_list[index])\n",
    "            \n",
    "    return output_list"
   ]
  },
  {
   "cell_type": "code",
   "execution_count": 23,
   "metadata": {},
   "outputs": [
    {
     "data": {
      "text/plain": [
       "[120.0, 60.0, 40.0, 30.0, 24.0]"
      ]
     },
     "execution_count": 23,
     "metadata": {},
     "output_type": "execute_result"
    }
   ],
   "source": [
    "# solve for the first example\n",
    "t_list = [1,2,3,4,5]\n",
    "multiply_others(t_list)"
   ]
  },
  {
   "cell_type": "code",
   "execution_count": 24,
   "metadata": {},
   "outputs": [
    {
     "data": {
      "text/plain": [
       "[2.0, 3.0, 6.0]"
      ]
     },
     "execution_count": 24,
     "metadata": {},
     "output_type": "execute_result"
    }
   ],
   "source": [
    "t_list2 = [3,2,1] \n",
    "multiply_others(t_list2)"
   ]
  },
  {
   "cell_type": "markdown",
   "metadata": {},
   "source": [
    "### OK great, now can you do it *without* the division operation? \n",
    "\n",
    "More practice when it comes to mastering indices.. i'm guessing there's a more elegant solution, but let's challenge ourselves and try to just do this purely off the index. \n",
    "- So this is a bit harder... and it just requires you go through the list\n",
    "- Definitely don't want to sort this list or anything\n"
   ]
  },
  {
   "cell_type": "code",
   "execution_count": 45,
   "metadata": {},
   "outputs": [],
   "source": [
    "# try to do the harder version... seems like an i != j motif.\n",
    "\n",
    "def multiply_others_hard(numeric_list): \n",
    "    \n",
    "    output_list = list()\n",
    "    \n",
    "    # i = outer index, j = inner index \n",
    "    for i in range(len(numeric_list)): \n",
    "        product = 1\n",
    "        \n",
    "        for j in range(len(numeric_list)): \n",
    "            if i != j: \n",
    "                product *= numeric_list[j]\n",
    "        \n",
    "        # after you go through this j-loop completely, you need to append\n",
    "        # this is why we evoke this line outside of the j-loop, before going back to i-loop\n",
    "        output_list.append(product) \n",
    "\n",
    "    return output_list"
   ]
  },
  {
   "cell_type": "code",
   "execution_count": 46,
   "metadata": {},
   "outputs": [
    {
     "data": {
      "text/plain": [
       "[120, 60, 40, 30, 24]"
      ]
     },
     "execution_count": 46,
     "metadata": {},
     "output_type": "execute_result"
    }
   ],
   "source": [
    "# Evaluate harder version! \n",
    "multiply_others_hard(t_list)"
   ]
  },
  {
   "cell_type": "code",
   "execution_count": 47,
   "metadata": {},
   "outputs": [
    {
     "data": {
      "text/plain": [
       "[120.0, 60.0, 40.0, 30.0, 24.0]"
      ]
     },
     "execution_count": 47,
     "metadata": {},
     "output_type": "execute_result"
    }
   ],
   "source": [
    "# Compare to the easier version \n",
    "# Good match, I wonder why one is integer and the other is float lol.\n",
    "multiply_others(t_list) "
   ]
  },
  {
   "cell_type": "code",
   "execution_count": 48,
   "metadata": {},
   "outputs": [
    {
     "data": {
      "text/plain": [
       "[27000, 144000, 108000, 720000, 432000, 360000]"
      ]
     },
     "execution_count": 48,
     "metadata": {},
     "output_type": "execute_result"
    }
   ],
   "source": [
    "# Compare again, harder version first\n",
    "multiply_others_hard([80,15,20,3,5,6])"
   ]
  },
  {
   "cell_type": "code",
   "execution_count": 52,
   "metadata": {},
   "outputs": [
    {
     "data": {
      "text/plain": [
       "[27000.0, 144000.0, 108000.0, 720000.0, 432000.0, 360000.0]"
      ]
     },
     "execution_count": 52,
     "metadata": {},
     "output_type": "execute_result"
    }
   ],
   "source": [
    "# Great, these agree! \n",
    "multiply_others([80,15,20,3,5,6])"
   ]
  },
  {
   "cell_type": "code",
   "execution_count": 55,
   "metadata": {},
   "outputs": [
    {
     "data": {
      "text/plain": [
       "[1.0]"
      ]
     },
     "execution_count": 55,
     "metadata": {},
     "output_type": "execute_result"
    }
   ],
   "source": [
    "# I wonder what happens if you just give it a single argument, \n",
    "# in that case there's nothing to do. \n",
    "multiply_others([10])\n",
    "\n",
    "# ah, this is just what product is set to! "
   ]
  },
  {
   "cell_type": "markdown",
   "metadata": {},
   "source": [
    "## Some different approaches\n",
    "\n",
    "- keep learning, is there a better way? \n",
    "- yes\n"
   ]
  },
  {
   "cell_type": "code",
   "execution_count": 57,
   "metadata": {},
   "outputs": [],
   "source": [
    "def products(nums):\n",
    "    # Generate prefix products\n",
    "    prefix_products = []\n",
    "    for num in nums:\n",
    "        if prefix_products:\n",
    "            prefix_products.append(prefix_products[-1] * num)\n",
    "        else:\n",
    "            prefix_products.append(num)\n",
    "\n",
    "    # Generate suffix products\n",
    "    suffix_products = []\n",
    "    for num in reversed(nums):\n",
    "        if suffix_products:\n",
    "            suffix_products.append(suffix_products[-1] * num)\n",
    "        else:\n",
    "            suffix_products.append(num)\n",
    "    suffix_products = list(reversed(suffix_products))\n",
    "\n",
    "    # Generate result\n",
    "    result = []\n",
    "    for i in range(len(nums)):\n",
    "        if i == 0:\n",
    "            result.append(suffix_products[i + 1])\n",
    "        elif i == len(nums) - 1:\n",
    "            result.append(prefix_products[i - 1])\n",
    "        else:\n",
    "            result.append(prefix_products[i - 1] * suffix_products[i + 1])\n",
    "    return result"
   ]
  },
  {
   "cell_type": "code",
   "execution_count": null,
   "metadata": {},
   "outputs": [],
   "source": []
  }
 ],
 "metadata": {
  "kernelspec": {
   "display_name": "Python 3",
   "language": "python",
   "name": "python3"
  },
  "language_info": {
   "codemirror_mode": {
    "name": "ipython",
    "version": 3
   },
   "file_extension": ".py",
   "mimetype": "text/x-python",
   "name": "python",
   "nbconvert_exporter": "python",
   "pygments_lexer": "ipython3",
   "version": "3.6.2"
  }
 },
 "nbformat": 4,
 "nbformat_minor": 2
}
