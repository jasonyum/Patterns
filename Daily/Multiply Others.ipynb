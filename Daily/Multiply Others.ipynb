{
 "cells": [
  {
   "cell_type": "markdown",
   "metadata": {},
   "source": [
    "### Problem: Multiply Others\n",
    "Given an array of integers, return a new array such that each element at index i of the new array is the product of all the numbers in the original array except the one at i.\n",
    "\n",
    "For example, if our input was [1, 2, 3, 4, 5], the expected output would be [120, 60, 40, 30, 24]. If our input was [3, 2, 1], the expected output would be [2, 3, 6].\n",
    "\n",
    "- Sometimes, i feel like you just need to go in the tank and figure it out.\n",
    "- sit and stare skillset lol\n",
    "- difficulties, need to keep a good idea on the index.\n",
    "- you can't make mistakes around for number in numeric_list ...\n",
    "- the number in that case is going to be the actual number, not the index lol"
   ]
  },
  {
   "cell_type": "code",
   "execution_count": 20,
   "metadata": {},
   "outputs": [],
   "source": [
    "def multiply_others(numeric_list): \n",
    "    # initialize place to store output\n",
    "    output_list = list()\n",
    "    \n",
    "    for index in range(len(numeric_list)): \n",
    "        # for every loop we want to re-initialize the product\n",
    "        product = 1\n",
    "        \n",
    "        for number in numeric_list: \n",
    "            product *= number\n",
    "        \n",
    "        # append to the list\n",
    "        output_list.append(product/numeric_list[index])\n",
    "            \n",
    "    return output_list"
   ]
  },
  {
   "cell_type": "code",
   "execution_count": 23,
   "metadata": {},
   "outputs": [
    {
     "data": {
      "text/plain": [
       "[120.0, 60.0, 40.0, 30.0, 24.0]"
      ]
     },
     "execution_count": 23,
     "metadata": {},
     "output_type": "execute_result"
    }
   ],
   "source": [
    "# solve for the first example\n",
    "t_list = [1,2,3,4,5]\n",
    "multiply_others(t_list)"
   ]
  },
  {
   "cell_type": "code",
   "execution_count": 24,
   "metadata": {},
   "outputs": [
    {
     "data": {
      "text/plain": [
       "[2.0, 3.0, 6.0]"
      ]
     },
     "execution_count": 24,
     "metadata": {},
     "output_type": "execute_result"
    }
   ],
   "source": [
    "t_list2 = [3,2,1] \n",
    "multiply_others(t_list2)"
   ]
  },
  {
   "cell_type": "markdown",
   "metadata": {},
   "source": [
    "### OK great, now can you do it *without* the division operation? \n",
    "\n",
    "More practice when it comes to mastering indices.. i'm guessing there's a more elegant solution, but let's challenge ourselves and try to just do this purely off the index. \n",
    "- So this is a bit harder... and it just requires you go through the list\n",
    "- Definitely don't want to sort this list or anything\n"
   ]
  },
  {
   "cell_type": "code",
   "execution_count": 26,
   "metadata": {},
   "outputs": [],
   "source": [
    "t_list = [1,2,3,4,5]\n",
    "\n",
    "def multiply_others_hard(numeric_list): \n",
    "    # initialize place to store output\n",
    "    output_list = list()\n",
    "    \n",
    "    for index in range(len(numeric_list)): \n",
    "        # for every loop we want to re-initialize the product\n",
    "        product = 1\n",
    "        \n",
    "        for number in numeric_list: \n",
    "            product *= number\n",
    "        \n",
    "        # append to the list\n",
    "        output_list.append(product/numeric_list[index])\n",
    "            \n",
    "    return output_list\n",
    "\n"
   ]
  },
  {
   "cell_type": "code",
   "execution_count": 27,
   "metadata": {},
   "outputs": [],
   "source": [
    "def add_two_SUM(numeric_list, k): \n",
    "    for i in range(len(numeric_list)): \n",
    "        for j in range(len(numeric_list)): \n",
    "            if i != j and numeric_list[i] + numeric_list[j] == k: \n",
    "                return True \n",
    "    return False"
   ]
  },
  {
   "cell_type": "code",
   "execution_count": 31,
   "metadata": {},
   "outputs": [
    {
     "name": "stdout",
     "output_type": "stream",
     "text": [
      "2\n",
      "3\n",
      "4\n",
      "5\n",
      "2\n",
      "6\n",
      "8\n",
      "10\n",
      "3\n",
      "6\n",
      "12\n",
      "15\n",
      "4\n",
      "8\n",
      "12\n",
      "20\n",
      "5\n",
      "10\n",
      "15\n",
      "20\n"
     ]
    }
   ],
   "source": [
    "for i in range(len(t_list)): \n",
    "    for j in range(len(t_list)): \n",
    "        if i != j: \n",
    "            product = t_list[i] * t_list[j] \n",
    "            print(product) \n"
   ]
  },
  {
   "cell_type": "code",
   "execution_count": null,
   "metadata": {},
   "outputs": [],
   "source": []
  }
 ],
 "metadata": {
  "kernelspec": {
   "display_name": "Python 3",
   "language": "python",
   "name": "python3"
  },
  "language_info": {
   "codemirror_mode": {
    "name": "ipython",
    "version": 3
   },
   "file_extension": ".py",
   "mimetype": "text/x-python",
   "name": "python",
   "nbconvert_exporter": "python",
   "pygments_lexer": "ipython3",
   "version": "3.6.2"
  }
 },
 "nbformat": 4,
 "nbformat_minor": 2
}
