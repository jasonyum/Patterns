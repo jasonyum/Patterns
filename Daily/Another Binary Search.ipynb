{
 "cells": [
  {
   "cell_type": "markdown",
   "metadata": {},
   "source": [
    "### Another Binary Search Tree Question \n",
    "Given the root to a binary search tree, find the second largest node in the tree. \n",
    "\n",
    "- The naive solution is to do an in-order traversal of the tree... and store that in an array. And then return the second largest element, which would be the second to last element of the array. This takes O(N) time since we have to go through each node. \n",
    "- To do this faster you can start from the highest value? And that would mean that we don't need to go through the entire array... that would save time. \n"
   ]
  },
  {
   "cell_type": "code",
   "execution_count": 1,
   "metadata": {},
   "outputs": [],
   "source": [
    "def second_largest(root): \n",
    "    def inorder(node): \n",
    "        if not node or count[0] == 2: \n",
    "            return\n",
    "        \n",
    "        if node.right: \n",
    "            inorder(node.right)\n",
    "            \n",
    "        count[0] += 1\n",
    "        if count[0] == 2: \n",
    "            val.append(node.val) \n",
    "            return\n",
    "        \n",
    "        if node.left: \n",
    "            inorder(node.left) \n",
    "            \n",
    "    count = [0]\n",
    "    val = []\n",
    "    inorder(root)\n",
    "    return val[0] \n"
   ]
  },
  {
   "cell_type": "markdown",
   "metadata": {},
   "source": [
    "`Problem:` This is because Python's scoping rules are demented. The presence of the += assignment operator marks the target, num_converted, as local to the enclosing function's scope, and there is no sound way in Python 2.x to access just one scoping level out from there. Only the global keyword can lift variable references out of the current scope, and it takes you straight to the top.\n",
    "\n",
    "https://stackoverflow.com/questions/4851463/python-closure-write-to-variable-in-parent-scope"
   ]
  },
  {
   "cell_type": "code",
   "execution_count": null,
   "metadata": {},
   "outputs": [],
   "source": []
  }
 ],
 "metadata": {
  "kernelspec": {
   "display_name": "Python 3",
   "language": "python",
   "name": "python3"
  },
  "language_info": {
   "codemirror_mode": {
    "name": "ipython",
    "version": 3
   },
   "file_extension": ".py",
   "mimetype": "text/x-python",
   "name": "python",
   "nbconvert_exporter": "python",
   "pygments_lexer": "ipython3",
   "version": "3.7.0"
  }
 },
 "nbformat": 4,
 "nbformat_minor": 2
}
