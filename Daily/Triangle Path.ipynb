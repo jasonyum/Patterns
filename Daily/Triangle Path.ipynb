{
 "cells": [
  {
   "cell_type": "markdown",
   "metadata": {},
   "source": [
    "# Triangle Path\n",
    "\n",
    "You are given an array of arrays of integers, where each array corresponds to a row in a triangle of numbers. For example, [[1], [2, 3], [1, 5, 1]] represents the triangle:\n",
    "\n",
    "```\n",
    "  1\n",
    " 2 3\n",
    "1 5 1\n",
    "```\n",
    "We define a path in the triangle to start at the top and go down one row at a time to an adjacent value, eventually ending with an entry on the bottom row. For example, 1 -> 3 -> 5. The weight of the path is the sum of the entries.\n",
    "\n",
    "Write a program that returns the weight of the maximum weight path.\n",
    "\n",
    "## Solution Logic..\n",
    "- Clearly, there's recursion here. \n",
    "- You want to start from the bottom of the tree and look upwards.. rather than start from the top and look downwards. "
   ]
  },
  {
   "cell_type": "code",
   "execution_count": 1,
   "metadata": {},
   "outputs": [],
   "source": [
    "def max_path_weight(arrays, level =0, index=0): \n",
    "    if level == len(arrays) - 1: \n",
    "        return arrays[level][index] \n",
    "    else: \n",
    "        return arrays[level][index] + max(\n",
    "            max_path_weight(arrays, level + 1, index), max_path_weight(arrays, level + 1, index + 1)\n",
    "        )\n",
    "    "
   ]
  },
  {
   "cell_type": "code",
   "execution_count": 3,
   "metadata": {},
   "outputs": [],
   "source": [
    "def max_path_weight(arrays): \n",
    "    for level in range(len(arrays) - 2, -1, -1):\n",
    "        for index in range(level + 1) : \n",
    "            arrays[level][index] += max(arrays[level + 1][idnex], arrays[level+1][index+1])\n",
    "    return arrays[0][0]"
   ]
  },
  {
   "cell_type": "code",
   "execution_count": null,
   "metadata": {},
   "outputs": [],
   "source": []
  }
 ],
 "metadata": {
  "kernelspec": {
   "display_name": "Python 3",
   "language": "python",
   "name": "python3"
  },
  "language_info": {
   "codemirror_mode": {
    "name": "ipython",
    "version": 3
   },
   "file_extension": ".py",
   "mimetype": "text/x-python",
   "name": "python",
   "nbconvert_exporter": "python",
   "pygments_lexer": "ipython3",
   "version": "3.7.1"
  }
 },
 "nbformat": 4,
 "nbformat_minor": 2
}
