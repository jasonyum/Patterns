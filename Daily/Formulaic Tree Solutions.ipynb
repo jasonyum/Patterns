{
 "cells": [
  {
   "cell_type": "markdown",
   "metadata": {},
   "source": [
    "# Trees are formulaic \n",
    "\n",
    "Example: Given the root of a binary tree, count the total number of nodes \n",
    "\n",
    "You can solve this question in two steps. First solve for the base case, which usually means the leaf node case or the null case. Here, the null represents 0 nodes and a leaf node represents 1 node. Self-explanatory.\n",
    "\n",
    "Then you have to work on the recursive step. For this question, you combine teh results of the left and right subtrees. Concretely, add the two numbers and then another 1 for the root. "
   ]
  },
  {
   "cell_type": "code",
   "execution_count": 2,
   "metadata": {},
   "outputs": [],
   "source": [
    "# notice how there's some \"faith\" ? maybe the wrong word but you're using \n",
    "# the count function here and assuming that it works count(node.left) etc. \n",
    "def count(node): \n",
    "    return count(node.left) + count(node.right) + 1 if node else 0"
   ]
  },
  {
   "cell_type": "markdown",
   "metadata": {},
   "source": [
    "## Question: given the root to a binary tree, return the deepest node. \n",
    "\n",
    "Here, we should use the leaf node as the base case and return itself. The recursive step here is different and more involved... we can't use the results of the left and right subtrees directly. At this point, ask yourself: \n",
    "\n",
    "- What info do I need to solve this question? \n",
    "- If you tagged each subresult node with their depths, you could get the final solution by ... A) picking the largest depth, and B) then incrementing from there. "
   ]
  },
  {
   "cell_type": "code",
   "execution_count": 4,
   "metadata": {},
   "outputs": [],
   "source": [
    "def deepest(node): \n",
    "    if node and not node.left and not node.right: \n",
    "        return (node, 1) # leaf and depth\n",
    "    \n",
    "    if not node.left: # infer that deepest node is on the right subtree\n",
    "        return increment_depth(deepest(node.right))\n",
    "    \n",
    "    elif not node.right: # infer that deepest node is on the left subtree\n",
    "        return increment_depth(deepest(node.left))\n",
    "    \n",
    "    return increment_depth(\n",
    "            max(deepest(node.left), deepest(node.right), \n",
    "                   key=lambda x: x[1])) # pick higher depth tuple and then increment its depth\n",
    "\n",
    "def increment_depth(node_depth_tuple): \n",
    "    node, depth = node_depth_tuple\n",
    "    return (node, depth + 1) "
   ]
  },
  {
   "cell_type": "markdown",
   "metadata": {},
   "source": [
    "### Takeaways: \n",
    "\n",
    "- Tuples have a purpose and make code look really organized\n",
    "    - There are a lot of times where pairing up data makes a lot of sense\n",
    "    - And tuples are ways to keep code really clean\n",
    "    - In this case the (node, depth) is a natural tuple. "
   ]
  },
  {
   "cell_type": "code",
   "execution_count": null,
   "metadata": {},
   "outputs": [],
   "source": []
  }
 ],
 "metadata": {
  "kernelspec": {
   "display_name": "Python 3",
   "language": "python",
   "name": "python3"
  },
  "language_info": {
   "codemirror_mode": {
    "name": "ipython",
    "version": 3
   },
   "file_extension": ".py",
   "mimetype": "text/x-python",
   "name": "python",
   "nbconvert_exporter": "python",
   "pygments_lexer": "ipython3",
   "version": "3.6.2"
  }
 },
 "nbformat": 4,
 "nbformat_minor": 2
}
