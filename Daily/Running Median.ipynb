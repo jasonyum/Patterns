{
 "cells": [
  {
   "cell_type": "markdown",
   "metadata": {},
   "source": [
    "## RUNNING MEDIAN\n",
    "\n",
    "Compute the running median of a sequence of numbers. That is, given a stream of numbers, print out the median of the list so far on each new element.Recall that the median of an even-numbered list is the average of the two middle numbers. For example, given the sequence [2, 1, 5, 7, 2, 0, 5], your algorithm should print out:\n",
    "\n",
    "- 2 (the median of a single number is that number) \n",
    "- 1.5 [2,1] --> the median is 3/2 = 1.5\n",
    "- 2 [2,1,5] --> the median is 2 ... \n",
    "- 3.5 [2,1,5,7] --> the median is (2+5)/2 = 7/2 = 3.5\n",
    "- 2 etc. etc. \n",
    "\n",
    "I guess the idea that first comes to mind is to sort the list. And then take the sorted list and find the median.. of course without using any build-in median command from python. To do this manually, it's probably about looking at the length of the list, and then finding out what the position is for the median... or doing an average if there are two middle numbers. OK let's try that and see where this problem goes.\n"
   ]
  },
  {
   "cell_type": "code",
   "execution_count": 12,
   "metadata": {},
   "outputs": [
    {
     "name": "stdout",
     "output_type": "stream",
     "text": [
      "[0, 1, 2, 2, 5, 5, 7]\n",
      "[2, 1, 5, 7, 2, 0, 5]\n"
     ]
    }
   ],
   "source": [
    "t_list = [2, 1, 5, 7, 2, 0, 5]\n",
    "\n",
    "# a small note on the difference between list.sort() and sorted( list )\n",
    "print(sorted(t_list)) # returns an iterable list\n",
    "print(t_list) # so you can see that t_list is not changed"
   ]
  },
  {
   "cell_type": "code",
   "execution_count": 14,
   "metadata": {},
   "outputs": [
    {
     "name": "stdout",
     "output_type": "stream",
     "text": [
      "[2, 1, 5, 7, 2, 0, 5]\n",
      "None\n",
      "[0, 1, 2, 2, 5, 5, 7]\n"
     ]
    }
   ],
   "source": [
    "# list.sort() doesn't return an iterable list, it changes the list\n",
    "t_list = [2, 1, 5, 7, 2, 0, 5]\n",
    "\n",
    "print(t_list)\n",
    "print(t_list.sort()) # returns None\n",
    "print(t_list) "
   ]
  },
  {
   "cell_type": "code",
   "execution_count": 33,
   "metadata": {},
   "outputs": [
    {
     "name": "stdout",
     "output_type": "stream",
     "text": [
      "2\n"
     ]
    }
   ],
   "source": [
    "# OK let's find the median of this ... odd length list\n",
    "t_list = [2, 1, 5, 7, 2, 0, 5]\n",
    "\n",
    "# odd numbered list... so len(t_list) is 7 ... and we are looking for index position\n",
    "\n",
    "index_median = len(t_list)/2 - 0.5 # small little hack bc i can't remember the round-down idea\n",
    "index_median = int(index_median) \n",
    "median = sorted(t_list)[index_median]\n",
    "print(median) "
   ]
  },
  {
   "cell_type": "code",
   "execution_count": 47,
   "metadata": {},
   "outputs": [
    {
     "name": "stdout",
     "output_type": "stream",
     "text": [
      "3.5\n"
     ]
    }
   ],
   "source": [
    "# Let's look at the median of an even numbered list... should be straightforward \n",
    "t_list_even = [2,1,5,6] # the median here is (2+5)/2 = 3.5\n",
    "\n",
    "index_median = len(t_list_even)/2 -1 # this gets us to 4/2 - 1 = index position 1 \n",
    "index_median = int(index_median) \n",
    "median = (sorted(t_list_even)[index_median] + sorted(t_list_even)[index_median + 1])/2 \n",
    "print(median) "
   ]
  },
  {
   "cell_type": "code",
   "execution_count": 49,
   "metadata": {},
   "outputs": [],
   "source": [
    "# Great, now combine the two ways .. \n",
    "# it probably makes sense to re-write this and have numeric_list already be sorted somewhere... \n",
    "\n",
    "def running_median(numeric_list):\n",
    "    \n",
    "    if len(numeric_list) % 2 == 0: # then this is even\n",
    "        index_median = int(len(numeric_list)/2 - 1)\n",
    "        median = (sorted(numeric_list)[index_median] + sorted(numeric_list)[index_median + 1])/2 \n",
    "        return median \n",
    "    elif len(numeric_list) % 2 == 1: # then this is odd\n",
    "        index_median = int(len(numeric_list)/2 - 0.5)\n",
    "        median = sorted(numeric_list)[index_median] \n",
    "        return median \n",
    "    else: \"wasn't expecting that\" \n"
   ]
  },
  {
   "cell_type": "code",
   "execution_count": 53,
   "metadata": {},
   "outputs": [
    {
     "data": {
      "text/plain": [
       "5"
      ]
     },
     "execution_count": 53,
     "metadata": {},
     "output_type": "execute_result"
    }
   ],
   "source": [
    "running_median([2,1,5,6]) # should return 3.5\n",
    "running_median([2, 1, 5, 7, 2, 0, 5]) # should return 2 \n",
    "running_median([5]) # should return 5"
   ]
  },
  {
   "cell_type": "markdown",
   "metadata": {},
   "source": [
    "### Now that we've finished the simple version, now we need to figure out how to return this through a list.. and deliver sequential results as it works its way through the list\n"
   ]
  },
  {
   "cell_type": "code",
   "execution_count": 110,
   "metadata": {},
   "outputs": [],
   "source": [
    "def running_median_hard(hard_list): \n",
    "    '''\n",
    "    - the ordered_list[: run_index] is the trickiest part of running_median_hard\n",
    "    - remember that if you have [1,8,9] then [1,8,9][: 2] => [1,8]\n",
    "    '''\n",
    "    ordered_list = sorted(hard_list)\n",
    "    run_index = 0 # needed?\n",
    "    \n",
    "    for i in range(len(ordered_list)):\n",
    "        run_index = i + 1\n",
    "        mini_call = ordered_list[: run_index]\n",
    "        median = running_median(mini_call) \n",
    "        print(str(median) + \" ... on list \" + str(mini_call)) \n",
    "        "
   ]
  },
  {
   "cell_type": "code",
   "execution_count": 111,
   "metadata": {},
   "outputs": [
    {
     "name": "stdout",
     "output_type": "stream",
     "text": [
      "1 ... on list [1]\n",
      "4.5 ... on list [1, 8]\n",
      "8 ... on list [1, 8, 9]\n",
      "8.5 ... on list [1, 8, 9, 15]\n"
     ]
    }
   ],
   "source": [
    "running_median_hard([15,1,8,9]) # the median here is (8+9)/2 = 17/2 = 8.5"
   ]
  },
  {
   "cell_type": "markdown",
   "metadata": {},
   "source": [
    "### Let's use heaps in order to get this done as well (alternative solution) \n",
    "When we encounter a new element from the stream, we'll first add it to one of our heaps: the max-heap if the element is smaller than the median, or the mind-heap if it's bigger. We can make the max-heap the default heap if they're equal or if there are no elements... \n",
    "\n",
    "We rebalance if necessary by moving the \"root\" of the larger heap to the smaller one.. it's only necessary if the heap is larger than the other by more than 1 element. \n",
    "\n",
    "The median is just the root of the larger heap, or the average of the two roots if they're of equal size. "
   ]
  },
  {
   "cell_type": "code",
   "execution_count": 1,
   "metadata": {},
   "outputs": [],
   "source": [
    "def get_median(min_heap, max_heap): \n",
    "    if len(min_heap) > len(max_heap): \n",
    "        return min_heap.find_min()  # not sure of this \n",
    "    elif len(min_heap) < len(max_heap): \n",
    "        return max_heap.find_max()\n",
    "    else: \n",
    "        min_root = min_heap.find_min()\n",
    "        max_root = max_heap.find_max() \n",
    "        return (min_root + max_root)/2\n",
    "    \n",
    "    \n",
    "def add(num, min_heap, max_heap): \n",
    "    # if empty, then just add it to the max heap\n",
    "    if len(min_heap) + len(max_heap) <= 1: \n",
    "        max_heap.insert(num)\n",
    "        return\n",
    "    \n",
    "    median = get_median(min_heap, max_heap) \n",
    "    if num > median: \n",
    "        # add it to the min heap \n",
    "        min_heap.insert(num)\n",
    "    else: \n",
    "        max_heap.insert(num) \n",
    "        \n",
    "def rebalance(min_heap, max_heap): \n",
    "    if len(min_heap) > len(max_heap) + 1: \n",
    "        root = min_heap.extract_min()\n",
    "        max_heap.insert(root)\n",
    "    elif len(max_heap) > len(min_heap) + 1: \n",
    "        root = max_heap.extract_max()\n",
    "        min_heap.insert(root) \n",
    "        \n",
    "def print_median(min_heap, max_heap): \n",
    "    print(get_median(min_heap, max_heap))\n",
    "    \n",
    "def running_median(stream):\n",
    "    min_heap = minheap() \n",
    "    max_heap = maxheap() \n",
    "    for num in stream: \n",
    "        add(num, min_heap, max_heap) \n",
    "        rebalance(min_heap, max_heap) \n",
    "        print_median(min_heap, max_heap) \n",
    "        \n",
    "\n",
    "    \n"
   ]
  },
  {
   "cell_type": "code",
   "execution_count": null,
   "metadata": {},
   "outputs": [],
   "source": []
  }
 ],
 "metadata": {
  "kernelspec": {
   "display_name": "Python 3",
   "language": "python",
   "name": "python3"
  },
  "language_info": {
   "codemirror_mode": {
    "name": "ipython",
    "version": 3
   },
   "file_extension": ".py",
   "mimetype": "text/x-python",
   "name": "python",
   "nbconvert_exporter": "python",
   "pygments_lexer": "ipython3",
   "version": "3.6.2"
  }
 },
 "nbformat": 4,
 "nbformat_minor": 2
}
