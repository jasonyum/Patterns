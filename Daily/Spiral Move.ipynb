{
 "cells": [
  {
   "cell_type": "markdown",
   "metadata": {},
   "source": [
    "## Given a N by M matrix of numbers, print out the matrix in a clockwise spiral.\n",
    "\n",
    "Example: \n",
    "\n",
    "```\n",
    "[[1,  2,  3,  4,  5],\n",
    " [6,  7,  8,  9,  10],\n",
    " [11, 12, 13, 14, 15],\n",
    " [16, 17, 18, 19, 20]]\n",
    "```\n",
    "\n",
    "Solution: keep track of current position and direction.\n",
    "\n",
    "- As you move and print each value, you should set that value to None\n",
    "- If you hit an edge or a None value, you should change directions counter-clockwise\n"
   ]
  },
  {
   "cell_type": "code",
   "execution_count": 3,
   "metadata": {},
   "outputs": [],
   "source": [
    "UP = 0 \n",
    "RIGHT = 1\n",
    "DOWN = 2\n",
    "LEFT = 3\n",
    "\n",
    "DIRECTIONS = [RIGHT, DOWN, LEFT, UP] \n",
    "\n",
    "# first helper function\n",
    "def next_direction(direction) : \n",
    "    if direction == RIGHT: \n",
    "        return DOWN\n",
    "    elif direction == DOWN: \n",
    "        return LEFT\n",
    "    elif direction == LEFT: \n",
    "        return UP\n",
    "    elif direction == UP: \n",
    "        return RIGHT"
   ]
  },
  {
   "cell_type": "code",
   "execution_count": 4,
   "metadata": {},
   "outputs": [],
   "source": [
    "# second helper function\n",
    "def next_position(position, direction): \n",
    "    if direction == RIGHT: \n",
    "        return (position[0], position[1] + 1)\n",
    "    elif direction == DOWN: \n",
    "        return (position[0] + 1, position[1])\n",
    "    elif direction == LEFT: \n",
    "        return (position[0], position[1] - 1)\n",
    "    elif direction == UP: \n",
    "        return (position[0] - 1, position[1])\n"
   ]
  },
  {
   "cell_type": "code",
   "execution_count": 5,
   "metadata": {},
   "outputs": [],
   "source": [
    "# third helper function to make the code cleaner\n",
    "def should_change_direction(M, r, c): \n",
    "    in_bounds_r = 0 <= r < len(M) \n",
    "    in_bounds_c = 0 <= c < len(M[0])\n",
    "    return not in_bounds_r or not in_bounds_c or M[r][c] is None\n"
   ]
  },
  {
   "cell_type": "code",
   "execution_count": 8,
   "metadata": {},
   "outputs": [],
   "source": [
    "# final function that uses helpers\n",
    "def matrix_spiral_print(M): \n",
    "    remaining = len(M) * len(M[0])\n",
    "    current_direction = RIGHT\n",
    "    current_position = (0,0)\n",
    "    while remaining > 0: \n",
    "        r, c = current_position\n",
    "        print(M[r][c]) \n",
    "        M[r][c] = None\n",
    "        remaining -= 1\n",
    "        \n",
    "        possible_next_position = next_position(current_position, current_direction)\n",
    "        \n",
    "        if should_change_direction(M, possible_next_position[0], possible_next_position[1]): \n",
    "            current_direction = next_direction(current_direction) \n",
    "            current_position = next_position(current_position, current_direction) \n",
    "        else: \n",
    "            current_position = possible_next_position"
   ]
  },
  {
   "cell_type": "code",
   "execution_count": null,
   "metadata": {},
   "outputs": [],
   "source": []
  }
 ],
 "metadata": {
  "kernelspec": {
   "display_name": "Python 3",
   "language": "python",
   "name": "python3"
  },
  "language_info": {
   "codemirror_mode": {
    "name": "ipython",
    "version": 3
   },
   "file_extension": ".py",
   "mimetype": "text/x-python",
   "name": "python",
   "nbconvert_exporter": "python",
   "pygments_lexer": "ipython3",
   "version": "3.6.2"
  }
 },
 "nbformat": 4,
 "nbformat_minor": 2
}
