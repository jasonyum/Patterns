{
 "cells": [
  {
   "cell_type": "markdown",
   "metadata": {},
   "source": [
    "# Create class to convert one scale to another\n",
    "\n",
    "Create a data structure that can efficiently convert a certain quantity of one unit to the correct amount of any other unit. You should also allow for additional units to be added to the system.\n"
   ]
  },
  {
   "cell_type": "code",
   "execution_count": null,
   "metadata": {},
   "outputs": [],
   "source": [
    "class Converter: \n",
    "    def __init__(self, standard='foot'): \n",
    "        self.standard = standard\n",
    "        self.map = {self.standard: 1.0} \n",
    "        \n",
    "    def add(self, unit, multiplier): \n",
    "        self.map[unit] = multiplier\n",
    "        \n",
    "    def convert(self, unit): \n",
    "        multiplier = self.map[unit] \n",
    "        result = {}\n",
    "        for key, value in self.map.items(): \n",
    "            result[key] = multiplier / value\n",
    "        return result\n",
    "    "
   ]
  }
 ],
 "metadata": {
  "kernelspec": {
   "display_name": "Python 3",
   "language": "python",
   "name": "python3"
  },
  "language_info": {
   "codemirror_mode": {
    "name": "ipython",
    "version": 3
   },
   "file_extension": ".py",
   "mimetype": "text/x-python",
   "name": "python",
   "nbconvert_exporter": "python",
   "pygments_lexer": "ipython3",
   "version": "3.6.2"
  }
 },
 "nbformat": 4,
 "nbformat_minor": 2
}
