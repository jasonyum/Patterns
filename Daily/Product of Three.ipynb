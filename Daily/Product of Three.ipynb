{
 "cells": [
  {
   "cell_type": "markdown",
   "metadata": {},
   "source": [
    "## Largest Product of Three from List\n",
    "\n",
    "Given a list of integers, return the largest product that can be made by multiplying any three integers. For example, if the list is [-10,-10,5,2] you should return 500. You can assume that the list has at least three integers. \n",
    "\n"
   ]
  },
  {
   "cell_type": "code",
   "execution_count": 58,
   "metadata": {},
   "outputs": [],
   "source": [
    "# If the list is all positive, then it's trivial. Just sort and then multiply \n",
    "import numpy as np\n",
    "lst = [np.random.randint(1,30) for i in range(50)]"
   ]
  },
  {
   "cell_type": "code",
   "execution_count": 59,
   "metadata": {},
   "outputs": [
    {
     "name": "stdout",
     "output_type": "stream",
     "text": [
      "[6, 1, 8, 12, 15, 3, 2, 28, 12, 18, 19, 13, 16, 17, 17, 4, 11, 24, 26, 17, 26, 29, 15, 17, 3, 19, 20, 15, 14, 8, 19, 10, 4, 16, 19, 14, 19, 29, 25, 20, 6, 29, 15, 4, 28, 28, 19, 14, 13, 19]\n"
     ]
    }
   ],
   "source": [
    "print(lst)"
   ]
  },
  {
   "cell_type": "code",
   "execution_count": 60,
   "metadata": {},
   "outputs": [],
   "source": [
    "# Could use number_list.sort() if you want without assigning to a new_list\n",
    "def product_naive(number_list): \n",
    "    new_list = sorted(number_list, reverse = True)\n",
    "    product = new_list[0] * new_list[1] * new_list[2]\n",
    "    return product"
   ]
  },
  {
   "cell_type": "code",
   "execution_count": 61,
   "metadata": {},
   "outputs": [
    {
     "data": {
      "text/plain": [
       "24389"
      ]
     },
     "execution_count": 61,
     "metadata": {},
     "output_type": "execute_result"
    }
   ],
   "source": [
    "product_naive(lst) # nice works"
   ]
  },
  {
   "cell_type": "markdown",
   "metadata": {},
   "source": [
    "Now what can you do if there are negative numbers? Maybe start from the beginning and end of a sorted list .. Because we know that there are three numbers, we know that we need at least two negative numbers or else we're in trouble. "
   ]
  },
  {
   "cell_type": "code",
   "execution_count": 74,
   "metadata": {},
   "outputs": [],
   "source": [
    "def product_three(number_list): \n",
    "    \n",
    "    new_list = sorted(number_list, reverse = True) \n",
    "    \n",
    "    # there are really only two combinations here that make sense...\n",
    "    # the product has to be the last 2 negative numbers and the largest positive\n",
    "    # or it has to be the three largest numbers in the front\n",
    "    \n",
    "    positive_product = new_list[0] * new_list[1] * new_list[2] \n",
    "    mixed_product = new_list[0] * new_list[len(new_list)-1] * new_list[len(new_list)-2]\n",
    "    \n",
    "    # alternatively you could use new_list[-1] instead of len(new_list)-1 .....\n",
    "    \n",
    "    if positive_product > mixed_product: \n",
    "        return positive_product\n",
    "    else: \n",
    "        return mixed_product    "
   ]
  },
  {
   "cell_type": "code",
   "execution_count": 75,
   "metadata": {},
   "outputs": [
    {
     "name": "stdout",
     "output_type": "stream",
     "text": [
      "TRUE\n"
     ]
    }
   ],
   "source": [
    "product_three(lst)\n",
    "if product_three(lst) == product_naive(lst): \n",
    "    print(\"TRUE\") "
   ]
  },
  {
   "cell_type": "code",
   "execution_count": 76,
   "metadata": {},
   "outputs": [],
   "source": [
    "example = [-10,-10,5,2]"
   ]
  },
  {
   "cell_type": "code",
   "execution_count": 77,
   "metadata": {},
   "outputs": [
    {
     "data": {
      "text/plain": [
       "500"
      ]
     },
     "execution_count": 77,
     "metadata": {},
     "output_type": "execute_result"
    }
   ],
   "source": [
    "product_three(example)"
   ]
  },
  {
   "cell_type": "markdown",
   "metadata": {},
   "source": [
    "### This is kind of unsatisfying because it abuses the fact that we have three numbers.\n",
    "\n",
    "And so it might not generalize well outside ... \n",
    "\n",
    "### This also runs in O(N logN) time since we have to sort the input array... yikes\n",
    "\n",
    "To do this faster you should use select. This requires us to use the math library. "
   ]
  },
  {
   "cell_type": "code",
   "execution_count": null,
   "metadata": {},
   "outputs": [],
   "source": []
  }
 ],
 "metadata": {
  "kernelspec": {
   "display_name": "Python 3",
   "language": "python",
   "name": "python3"
  },
  "language_info": {
   "codemirror_mode": {
    "name": "ipython",
    "version": 3
   },
   "file_extension": ".py",
   "mimetype": "text/x-python",
   "name": "python",
   "nbconvert_exporter": "python",
   "pygments_lexer": "ipython3",
   "version": "3.6.2"
  }
 },
 "nbformat": 4,
 "nbformat_minor": 2
}
