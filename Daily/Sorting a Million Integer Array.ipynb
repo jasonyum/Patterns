{
 "cells": [
  {
   "cell_type": "markdown",
   "metadata": {},
   "source": [
    "# Sorting a Million Integer Array\n",
    "Given an array of a million integers between zero and a billion, out of order, how can you efficiently sort it? Assume that you cannot store an array of a billion elements in memory.\n",
    "\n",
    "Idea: Sorting by an algorithm like quicksort or merge sort would give us an average time complexity of O(N log N). But we can take advantage of the fact that our input is bounded and only consists of integers to do even better. One algorithm that can perform particularly well in these cases is called radix sort."
   ]
  },
  {
   "cell_type": "code",
   "execution_count": 1,
   "metadata": {},
   "outputs": [],
   "source": [
    "def counting_sort(array, digit, base=10):\n",
    "    counts = [[] for _ in range(base)]\n",
    "    \n",
    "    for num in array: \n",
    "        d = (num // base ** digit) % base\n",
    "        counts[d].append(num) \n",
    "    \n",
    "    result = [] \n",
    "    for bucket in counts: \n",
    "        result.extend(bucket)\n",
    "        \n",
    "    return result\n",
    "\n",
    "def radix_sort(array, digits=10): \n",
    "    for digit in range(digits): \n",
    "        array = counting_sort(array,digit) \n",
    "    \n",
    "    return array"
   ]
  },
  {
   "cell_type": "markdown",
   "metadata": {},
   "source": [
    "Counting sort takes O(N + M), where M is the maximum bucket size. For our problem, we can consider this to be O(N). We must perform this sort k times, where k is the number of digits in the maximum number, in this case 10. The time complexity of this algorithm is therefore O(10 * N), or if we treat k as constant, O(N)."
   ]
  },
  {
   "cell_type": "code",
   "execution_count": null,
   "metadata": {},
   "outputs": [],
   "source": []
  }
 ],
 "metadata": {
  "kernelspec": {
   "display_name": "Python 3",
   "language": "python",
   "name": "python3"
  },
  "language_info": {
   "codemirror_mode": {
    "name": "ipython",
    "version": 3
   },
   "file_extension": ".py",
   "mimetype": "text/x-python",
   "name": "python",
   "nbconvert_exporter": "python",
   "pygments_lexer": "ipython3",
   "version": "3.6.2"
  }
 },
 "nbformat": 4,
 "nbformat_minor": 2
}
