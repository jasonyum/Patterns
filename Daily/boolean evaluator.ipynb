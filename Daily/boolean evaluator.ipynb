{
 "cells": [
  {
   "cell_type": "code",
   "execution_count": 1,
   "metadata": {},
   "outputs": [],
   "source": [
    "import matplotlib.pyplot as plt\n",
    "plt.style.use('ggplot')"
   ]
  },
  {
   "cell_type": "markdown",
   "metadata": {},
   "source": [
    "# evaluate boolean expressions"
   ]
  },
  {
   "cell_type": "code",
   "execution_count": 2,
   "metadata": {},
   "outputs": [],
   "source": [
    "def split(expression):\n",
    "    operands, operators = [], []\n",
    "\n",
    "    for value in expression:\n",
    "        if value in {'T', 'F'}:\n",
    "            operands.append(value)\n",
    "        else:\n",
    "            operators.append(value)\n",
    "\n",
    "    return operands, operators\n",
    "\n",
    "def solve(expression):\n",
    "    operands, operators = split(expression)\n",
    "\n",
    "    n = len(operands)\n",
    "    T = [[0 for _ in range(n)] for _ in range(n)]\n",
    "    F = [[0 for _ in range(n)] for _ in range(n)]\n",
    "\n",
    "    for i in range(n):\n",
    "        if operands[i] == 'T':\n",
    "            T[i][i] = 1; F[i][i] = 0\n",
    "        else:\n",
    "            T[i][i] = 0; F[i][i] = 1\n",
    "\n",
    "    for gap in range(1, n):\n",
    "        for i in range(n - gap):\n",
    "            j = i + gap\n",
    "\n",
    "            for k in range(i, j):\n",
    "                all_options = (T[i][k] + F[i][k]) * (T[k+1][j] + F[k+1][j])\n",
    "\n",
    "                if operators[k] == '&':\n",
    "                    T[i][j] += T[i][k] * T[k+1][j]\n",
    "                    F[i][j] += (all_options - T[i][j])\n",
    "\n",
    "                elif operators[k] == '|':\n",
    "                    F[i][j] += F[i][k] * F[k+1][j]\n",
    "                    T[i][j] += (all_options - F[i][j])\n",
    "\n",
    "                elif operators[k] == '^':\n",
    "                    T[i][j] += F[i][k] * T[k+1][j] + T[i][k] * F[k+1][j]\n",
    "                    F[i][j] += T[i][k] * T[k+1][j] + F[i][k] * F[k+1][j]\n",
    "\n",
    "    return T[0][n - 1]"
   ]
  },
  {
   "cell_type": "code",
   "execution_count": null,
   "metadata": {},
   "outputs": [],
   "source": []
  },
  {
   "cell_type": "code",
   "execution_count": null,
   "metadata": {},
   "outputs": [],
   "source": []
  }
 ],
 "metadata": {
  "kernelspec": {
   "display_name": "Python 3",
   "language": "python",
   "name": "python3"
  },
  "language_info": {
   "codemirror_mode": {
    "name": "ipython",
    "version": 3
   },
   "file_extension": ".py",
   "mimetype": "text/x-python",
   "name": "python",
   "nbconvert_exporter": "python",
   "pygments_lexer": "ipython3",
   "version": "3.6.2"
  }
 },
 "nbformat": 4,
 "nbformat_minor": 2
}
