{
 "cells": [
  {
   "cell_type": "markdown",
   "metadata": {},
   "source": [
    "## Given a function f, and N return a debounced f of N milliseconds\n",
    "\n",
    "As long as the debounced f continues to be invoked, f itself will not be called for N milliseconds. \n",
    "\n",
    "Answer... \n",
    "\n",
    "1) Cancelling a previously scheduled f to be cancelled (if it exists) \n",
    "2) re-scheduling f to be scheduled in milliseconds\n",
    "\n",
    "- Need to remember how to cancel the previous f\n",
    "- take the result of setTimeout and store it under closure in defer\n",
    "- this gives us an id which we can use to cancel it"
   ]
  },
  {
   "cell_type": "code",
   "execution_count": 1,
   "metadata": {},
   "outputs": [
    {
     "ename": "SyntaxError",
     "evalue": "invalid syntax (<ipython-input-1-66a3cad53c13>, line 1)",
     "output_type": "error",
     "traceback": [
      "\u001b[0;36m  File \u001b[0;32m\"<ipython-input-1-66a3cad53c13>\"\u001b[0;36m, line \u001b[0;32m1\u001b[0m\n\u001b[0;31m    const debounced = function(f, milliseconds) {\u001b[0m\n\u001b[0m                  ^\u001b[0m\n\u001b[0;31mSyntaxError\u001b[0m\u001b[0;31m:\u001b[0m invalid syntax\n"
     ]
    }
   ],
   "source": [
    "## JAVASCRIPT VERSION\n",
    "\n",
    "const debounced = function(f, milliseconds) { \n",
    "\n",
    "    let defer; \n",
    "    \n",
    "    return function() { \n",
    "        if (defer){\n",
    "            clearTimeout(defer); \n",
    "        }\n",
    "        \n",
    "        defer = setTimeout(f, milliseconds)\n",
    "    } \n",
    "}\n"
   ]
  },
  {
   "cell_type": "code",
   "execution_count": null,
   "metadata": {},
   "outputs": [],
   "source": []
  }
 ],
 "metadata": {
  "kernelspec": {
   "display_name": "Python 3",
   "language": "python",
   "name": "python3"
  },
  "language_info": {
   "codemirror_mode": {
    "name": "ipython",
    "version": 3
   },
   "file_extension": ".py",
   "mimetype": "text/x-python",
   "name": "python",
   "nbconvert_exporter": "python",
   "pygments_lexer": "ipython3",
   "version": "3.6.2"
  }
 },
 "nbformat": 4,
 "nbformat_minor": 2
}
