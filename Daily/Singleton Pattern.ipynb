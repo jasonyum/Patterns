{
 "cells": [
  {
   "cell_type": "markdown",
   "metadata": {},
   "source": [
    "### Singleton pattern...\n",
    "\n",
    "- Useful in a large application to conserve resources such as memory\n",
    "- You need to take object creation out of the hands of the programmer\n",
    "- To do this, you need to delegate a single instance of a private nested inner class"
   ]
  },
  {
   "cell_type": "code",
   "execution_count": 3,
   "metadata": {},
   "outputs": [],
   "source": [
    "class OnlyOne: \n",
    "    \n",
    "    class __OnlyOne: \n",
    "        \n",
    "        def __init__(self, arg): \n",
    "            self.val = arg\n",
    "        def __str__(self): \n",
    "            return repr(self) + self.val\n",
    "    \n",
    "    instance = None\n",
    "    \n",
    "    def __init__(self, arg): \n",
    "        if not OnlyOne.instance: \n",
    "            OnlyOne.instance = OnlyOne.__OnlyOne(arg)\n",
    "        else: \n",
    "            OnlyOne.instance.val = arg\n",
    "    \n",
    "    def __getattr__(self, name): \n",
    "        return getattr(self.instance, name)"
   ]
  },
  {
   "cell_type": "code",
   "execution_count": 7,
   "metadata": {},
   "outputs": [
    {
     "name": "stdout",
     "output_type": "stream",
     "text": [
      "<__main__.OnlyOne object at 0x10632cd68>\n"
     ]
    }
   ],
   "source": [
    "x = OnlyOne('sausage')\n",
    "print(x)"
   ]
  },
  {
   "cell_type": "code",
   "execution_count": 8,
   "metadata": {},
   "outputs": [
    {
     "name": "stdout",
     "output_type": "stream",
     "text": [
      "<__main__.OnlyOne object at 0x10632ce48>\n"
     ]
    }
   ],
   "source": [
    "y = OnlyOne('eggs')\n",
    "print(y) "
   ]
  },
  {
   "cell_type": "code",
   "execution_count": 9,
   "metadata": {},
   "outputs": [
    {
     "name": "stdout",
     "output_type": "stream",
     "text": [
      "<__main__.OnlyOne object at 0x10632ce10>\n"
     ]
    }
   ],
   "source": [
    "z = OnlyOne('spam')\n",
    "print(z) "
   ]
  },
  {
   "cell_type": "markdown",
   "metadata": {},
   "source": [
    "## Because the inner class is named with double underscore...\n",
    "\n",
    "- The __ makes it private so the user cannot directly access it. \n",
    "- The inner class contains the methods that would normaly put in the class if it weren't going to be a singleton. The first time you create an OnlyOne ... it initializes instances, but after that it ignores the user. \n",
    "- Access comes through delegation using the __getattr__() method to redirect calls to the single instance. "
   ]
  },
  {
   "cell_type": "code",
   "execution_count": 21,
   "metadata": {},
   "outputs": [],
   "source": [
    "# method 1: decorator\n",
    "\n",
    "def singleton(class_): \n",
    "    instances = {}\n",
    "    def getinstance(*args, **kwargs):\n",
    "        if class_ not in instances: \n",
    "            instances[class_] = class_(*args, **kwargs)\n",
    "        return instances[class_]\n",
    "    return getinstance\n",
    "\n",
    "#@singleton\n",
    "#class MyClass(BaseClass): \n",
    "#    pass"
   ]
  },
  {
   "cell_type": "code",
   "execution_count": 22,
   "metadata": {},
   "outputs": [],
   "source": [
    "# method 2: base class\n",
    "\n",
    "class Singleton(object): \n",
    "    _instance = None\n",
    "    def __new__(class_, *args, **kwargs): \n",
    "        if not isinstance(class_._instance, class_): \n",
    "            class_._instance = object.__new__(class_, *args, **kwargs)\n",
    "        return class_._instance\n",
    "\n",
    "# class MyClass(Singleton, BaseClass): \n",
    "#    pass"
   ]
  },
  {
   "cell_type": "code",
   "execution_count": 27,
   "metadata": {},
   "outputs": [],
   "source": [
    "# method using a metaclass\n",
    "# a metaclass is a class of a class... \n",
    "# see: https://stackoverflow.com/questions/6760685/creating-a-singleton-in-python\n",
    "\n",
    "class Singleton(type): \n",
    "    _instances = {}\n",
    "    def __call__(cls, *args, **kwargs): \n",
    "        if cls not in cls._instances: \n",
    "            cls._instances[cls] = super(Singleton, cls).__call__(*args, **kwargs)\n",
    "        return  cls._instances[cls]\n",
    "    \n",
    "class Logger(object): \n",
    "    __metaclass__ = Singleton\n",
    "    \n",
    "# In Python 3: \n",
    "# class Logger(metaclass=Singleton): \n",
    "#    pass"
   ]
  },
  {
   "cell_type": "code",
   "execution_count": null,
   "metadata": {},
   "outputs": [],
   "source": []
  }
 ],
 "metadata": {
  "kernelspec": {
   "display_name": "Python 3",
   "language": "python",
   "name": "python3"
  },
  "language_info": {
   "codemirror_mode": {
    "name": "ipython",
    "version": 3
   },
   "file_extension": ".py",
   "mimetype": "text/x-python",
   "name": "python",
   "nbconvert_exporter": "python",
   "pygments_lexer": "ipython3",
   "version": "3.6.2"
  }
 },
 "nbformat": 4,
 "nbformat_minor": 2
}
