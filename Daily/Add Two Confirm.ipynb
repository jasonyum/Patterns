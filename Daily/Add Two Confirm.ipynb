{
 "cells": [
  {
   "cell_type": "markdown",
   "metadata": {},
   "source": [
    "### Question: given a list, return True/False if two elements in the list sum up to some value $k$. Is there a way to do this in a single pass through the list? Maybe... Probably... Yes. \n",
    "\n",
    "- Do the simple version first with a lot of passes.\n",
    "- Try to think of a creative way to do it with a single pass. \n",
    "- Generalize the code... when might this be useful? "
   ]
  },
  {
   "cell_type": "code",
   "execution_count": 80,
   "metadata": {},
   "outputs": [
    {
     "name": "stdout",
     "output_type": "stream",
     "text": [
      "false\n",
      "false\n",
      "true\n",
      "false\n",
      "17\n",
      "19\n",
      "10\n",
      "11\n",
      "[5, 12, 7, 3, 8]\n"
     ]
    }
   ],
   "source": [
    "t_list = [5,12,7,3,8] \n",
    "k = 10 # so this should return true..\n",
    "f = 22 # this should return false..\n",
    "\n",
    "for number in range(len(t_list)-1):\n",
    "    if (t_list[number] + t_list[number+1] == k):  # there's an index range problem here because of the last index.\n",
    "        print(\"true\")\n",
    "    else: print(\"false\") \n",
    "        \n",
    "for number in range(len(t_list)-1): \n",
    "    sum_collection = t_list[number] + t_list[number+1]\n",
    "    print(sum_collection) \n",
    "    \n",
    "print(t_list)  # so having two different loops is actually quite important"
   ]
  },
  {
   "cell_type": "code",
   "execution_count": null,
   "metadata": {},
   "outputs": [],
   "source": [
    "# so where you see that hard-coded [0] you can have that as the next index\n",
    "for number in range(len(t_list)-1): \n",
    "    sum_collection = t_list[0] + t_list[number+1] \n",
    "    print(sum_collection) \n",
    "    \n",
    "# but I think you also need another index because for the next iteration, you need to make sure.\n",
    "# I think we can get creative with that second t_list[this thing] where this_thing is where we need to be smarter\n",
    "print(t_list) \n",
    "print(\"x\"*30)\n",
    "\n",
    "for outer_index in range(len(t_list)-1): \n",
    "    for number in range(len(t_list)-1): \n",
    "        sum_collection = t_list[outer_index] + t_list[number+1] \n",
    "        print(sum_collection) \n",
    "    print(\"x\"*30)\n",
    "        \n",
    "# cool, that's more numbers... \n",
    "# but you can see that the second pass is not smart because it's doing 12 + 12 lol\n",
    "# we really just want it to spill out 19, 15, 20 etc. "
   ]
  },
  {
   "cell_type": "code",
   "execution_count": null,
   "metadata": {},
   "outputs": [],
   "source": [
    "# the solution is to start the index from outer_index and then go to the end of fo the list.. \n",
    "\n",
    "for outer_index in range(len(t_list)-1): \n",
    "    for number in range(outer_index, len(t_list)-1): \n",
    "        sum_collection = t_list[outer_index] + t_list[number+1] \n",
    "        print(sum_collection) \n",
    "    print(\"x\"*30)\n",
    "    \n",
    "# great this works now"
   ]
  },
  {
   "cell_type": "code",
   "execution_count": 96,
   "metadata": {},
   "outputs": [
    {
     "name": "stdout",
     "output_type": "stream",
     "text": [
      "17\n",
      "12\n",
      "8\n",
      "13\n",
      "xxxxxxxxxxxxxxxxxxxxxxxxxxxxxx\n",
      "19\n",
      "15\n",
      "20\n",
      "xxxxxxxxxxxxxxxxxxxxxxxxxxxxxx\n",
      "10\n",
      "True\n",
      "15\n",
      "xxxxxxxxxxxxxxxxxxxxxxxxxxxxxx\n",
      "11\n",
      "xxxxxxxxxxxxxxxxxxxxxxxxxxxxxx\n"
     ]
    }
   ],
   "source": [
    "# so now what we need to do is... if there's a match then we return \"true\" and exit\n",
    "\n",
    "for outer_index in range(len(t_list)-1): \n",
    "    for number in range(outer_index, len(t_list)-1): \n",
    "        sum_collection = t_list[outer_index] + t_list[number+1] \n",
    "        print(sum_collection)\n",
    "        if sum_collection == k: \n",
    "            print(\"True\") \n",
    "    print(\"x\"*30)\n"
   ]
  },
  {
   "cell_type": "code",
   "execution_count": 102,
   "metadata": {},
   "outputs": [
    {
     "data": {
      "text/plain": [
       "'True'"
      ]
     },
     "execution_count": 102,
     "metadata": {},
     "output_type": "execute_result"
    }
   ],
   "source": [
    "# so now we need to turn this into a function: \n",
    "\n",
    "t_list = [5,12,7,3,8] \n",
    "k = 10 # so this should return true..\n",
    "f = 22 # this should return false..\n",
    "\n",
    "def add_two_confirm(numeric_list, target_sum): \n",
    "    '''\n",
    "    1) take the first number, add it to the second number, check if it's equal to k\n",
    "    2) take the first number, and add it to the third number, etc. \n",
    "    3) then go through and do it for the second number, etc. \n",
    "    ''' \n",
    "    for outer_index in range(len(numeric_list)-1):  # I wonder if there's a more elegant way to do this... \n",
    "        for number in range(outer_index, len(numeric_list)-1): \n",
    "            sum_collection = t_list[outer_index] + t_list[number+1]\n",
    "            # print(sum_collection) \n",
    "            if sum_collection == target_sum: \n",
    "                # print(\"True\") \n",
    "                return \"True\"\n",
    "\n",
    "add_two_confirm(t_list,f) # lol doesn't return anything... need to tell it to return \"False\" \n",
    "add_two_confirm(t_list, k) # returns True, correctly... "
   ]
  },
  {
   "cell_type": "code",
   "execution_count": 104,
   "metadata": {},
   "outputs": [
    {
     "name": "stdout",
     "output_type": "stream",
     "text": [
      "17\n",
      "12\n",
      "8\n",
      "13\n",
      "XXXXXXXXXXXXXXXXXXXXXXXXXXXXXX\n",
      "19\n",
      "15\n",
      "20\n",
      "XXXXXXXXXXXXXXXXXXXXXXXXXXXXXX\n",
      "10\n",
      "15\n",
      "XXXXXXXXXXXXXXXXXXXXXXXXXXXXXX\n",
      "11\n",
      "XXXXXXXXXXXXXXXXXXXXXXXXXXXXXX\n"
     ]
    },
    {
     "data": {
      "text/plain": [
       "False"
      ]
     },
     "execution_count": 104,
     "metadata": {},
     "output_type": "execute_result"
    }
   ],
   "source": [
    "t_list = [5,12,7,3,8] \n",
    "k = 10 # so this should return true..\n",
    "f = 22 # this should return false.\n",
    "\n",
    "# maybe we can add some sort of container and \n",
    "# then check if there's ever an element in it at the end to return false\n",
    "\n",
    "def add_two_confirm(numeric_list, target_sum): \n",
    "    '''\n",
    "    1) take the first number, add it to the second number, check if it's equal to k\n",
    "    2) take the first number, and add it to the third number, etc. \n",
    "    3) then go through and do it for the second number, etc. \n",
    "    ''' \n",
    "    includes_target = False\n",
    "    \n",
    "    for outer_index in range(len(numeric_list)-1):  \n",
    "        for number in range(outer_index, len(numeric_list)-1): \n",
    "            sum_collection = numeric_list[outer_index] + numeric_list[number+1]\n",
    "            print(sum_collection) \n",
    "            if sum_collection == target_sum: \n",
    "                includes_target = True \n",
    "                return includes_target\n",
    "        print(\"X\"*30)\n",
    "    return includes_target\n",
    "\n",
    "add_two_confirm(t_list,f) # lol doesn't return anything... need to tell it to return \"False\"  "
   ]
  },
  {
   "cell_type": "code",
   "execution_count": 106,
   "metadata": {},
   "outputs": [
    {
     "name": "stdout",
     "output_type": "stream",
     "text": [
      "28\n",
      "7\n",
      "13\n",
      "15\n",
      "32\n",
      "XXXXXXXXXXXXXXXXXXXXXXXXXXXXXX\n",
      "25\n",
      "31\n",
      "33\n"
     ]
    },
    {
     "data": {
      "text/plain": [
       "True"
      ]
     },
     "execution_count": 106,
     "metadata": {},
     "output_type": "execute_result"
    }
   ],
   "source": [
    "t_list2 = [5,23,2,8,10,27]\n",
    "k_2 = 33 # true\n",
    "f_2 = 2 # false\n",
    "\n",
    "add_two_confirm(t_list2, k_2)"
   ]
  },
  {
   "cell_type": "code",
   "execution_count": null,
   "metadata": {},
   "outputs": [],
   "source": []
  }
 ],
 "metadata": {
  "kernelspec": {
   "display_name": "Python 3",
   "language": "python",
   "name": "python3"
  },
  "language_info": {
   "codemirror_mode": {
    "name": "ipython",
    "version": 3
   },
   "file_extension": ".py",
   "mimetype": "text/x-python",
   "name": "python",
   "nbconvert_exporter": "python",
   "pygments_lexer": "ipython3",
   "version": "3.7.0"
  }
 },
 "nbformat": 4,
 "nbformat_minor": 2
}
