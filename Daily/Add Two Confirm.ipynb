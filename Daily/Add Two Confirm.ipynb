{
 "cells": [
  {
   "cell_type": "markdown",
   "metadata": {},
   "source": [
    "### Question: given a list, return True/False if two elements in the list sum up to some value $k$. Is there a way to do this in a single pass through the list? Maybe... Probably... Yes. \n",
    "\n",
    "- Do the simple version first with a lot of passes.\n",
    "- Try to think of a creative way to do it with a single pass. \n",
    "- Generalize the code... when might this be useful? "
   ]
  },
  {
   "cell_type": "code",
   "execution_count": 3,
   "metadata": {},
   "outputs": [],
   "source": [
    "t_list = [5,12,7,3,8] \n",
    "k = 10 # so this should return true..\n",
    "f = 20 # this should return false..\n",
    "\n",
    "def add_two_confirm(numeric_list): \n",
    "    '''\n",
    "    1) take the first number, add it to the second number, check if it's equal to k\n",
    "    2) take the first number, and add it to the third number, etc. \n",
    "    3) then go through and do it for the second number, etc. \n",
    "    ''' \n",
    "    for index in range(len(numeric_list)):  # I wonder if there's a more elegant way to do this... \n",
    "        if numeric_list[index]\n",
    "\n",
    "for number in t_list: \n",
    "    "
   ]
  },
  {
   "cell_type": "code",
   "execution_count": 20,
   "metadata": {},
   "outputs": [
    {
     "name": "stdout",
     "output_type": "stream",
     "text": [
      "false\n",
      "false\n",
      "true\n",
      "false\n",
      "false\n"
     ]
    }
   ],
   "source": [
    "for number in t_list:\n",
    "    if (number + 3 == k): \n",
    "        print(\"true\") \n",
    "    else: print(\"false\") \n"
   ]
  },
  {
   "cell_type": "code",
   "execution_count": 18,
   "metadata": {},
   "outputs": [
    {
     "name": "stdout",
     "output_type": "stream",
     "text": [
      "5\n",
      "12\n",
      "7\n",
      "3\n",
      "8\n"
     ]
    }
   ],
   "source": [
    "x = 2\n",
    "\n",
    "for number in t_list: \n",
    "    print(number)\n"
   ]
  },
  {
   "cell_type": "code",
   "execution_count": 36,
   "metadata": {},
   "outputs": [
    {
     "name": "stdout",
     "output_type": "stream",
     "text": [
      "false\n",
      "false\n",
      "true\n",
      "false\n",
      "17\n",
      "19\n",
      "10\n",
      "11\n",
      "[5, 12, 7, 3, 8]\n"
     ]
    }
   ],
   "source": [
    "for number in range(len(t_list)-1):\n",
    "    if (t_list[number] + t_list[number+1] == k):  # there's an index range problem here because of the last index.\n",
    "        print(\"true\")\n",
    "    else: print(\"false\") \n",
    "        \n",
    "for number in range(len(t_list)-1): \n",
    "    sum_collection = t_list[number] + t_list[number+1]\n",
    "    print(sum_collection) \n",
    "    \n",
    "print(t_list)  # so having two different loops is actually quite important"
   ]
  },
  {
   "cell_type": "code",
   "execution_count": 46,
   "metadata": {},
   "outputs": [
    {
     "name": "stdout",
     "output_type": "stream",
     "text": [
      "17\n",
      "12\n",
      "8\n",
      "13\n",
      "[5, 12, 7, 3, 8]\n",
      "******************************\n",
      "17\n",
      "12\n",
      "8\n",
      "13\n",
      "xxxxxxxxxxxxxxxxxxxxxxxxxxxxxx\n",
      "24\n",
      "19\n",
      "15\n",
      "20\n",
      "xxxxxxxxxxxxxxxxxxxxxxxxxxxxxx\n",
      "19\n",
      "14\n",
      "10\n",
      "15\n",
      "xxxxxxxxxxxxxxxxxxxxxxxxxxxxxx\n",
      "15\n",
      "10\n",
      "6\n",
      "11\n",
      "xxxxxxxxxxxxxxxxxxxxxxxxxxxxxx\n"
     ]
    }
   ],
   "source": [
    "# so where you see that hard-coded [0] you can have that as the next index\n",
    "for number in range(len(t_list)-1): \n",
    "    sum_collection = t_list[0] + t_list[number+1] \n",
    "    print(sum_collection) \n",
    "    \n",
    "# but I think you also need another index because for the next iteration, you need to make sure.\n",
    "# I think we can get creative with that second t_list[this thing] where this_thing is where we need to be smarter\n",
    "print(t_list) \n",
    "print(\"*\"*30)\n",
    "\n",
    "for outer_index in range(len(t_list)-1): \n",
    "    for number in range(len(t_list)-1): \n",
    "        sum_collection = t_list[outer_index] + t_list[number+1] \n",
    "        print(sum_collection) \n",
    "    print(\"x\"*30)\n",
    "        \n",
    "# cool, that's more numbers... \n",
    "# but you can see that the second pass is not smart because it's doing 12 + 12 lol\n",
    "# we really just want it to spill out 19, 15, 20 etc. "
   ]
  },
  {
   "cell_type": "code",
   "execution_count": 55,
   "metadata": {},
   "outputs": [
    {
     "name": "stdout",
     "output_type": "stream",
     "text": [
      "17\n",
      "12\n",
      "8\n",
      "13\n",
      "xxxxxxxxxxxxxxxxxxxxxxxxxxxxxx\n",
      "19\n",
      "15\n",
      "20\n",
      "xxxxxxxxxxxxxxxxxxxxxxxxxxxxxx\n",
      "10\n",
      "15\n",
      "xxxxxxxxxxxxxxxxxxxxxxxxxxxxxx\n",
      "11\n",
      "xxxxxxxxxxxxxxxxxxxxxxxxxxxxxx\n"
     ]
    }
   ],
   "source": [
    "# the solution is to start the index from outer_index and then go to the end of fo the list.. \n",
    "\n",
    "for outer_index in range(len(t_list)-1): \n",
    "    for number in range(outer_index, len(t_list)-1): \n",
    "        sum_collection = t_list[outer_index] + t_list[number+1] \n",
    "        print(sum_collection) \n",
    "    print(\"x\"*30)\n",
    "    \n",
    "# great this works now"
   ]
  },
  {
   "cell_type": "code",
   "execution_count": 60,
   "metadata": {},
   "outputs": [
    {
     "name": "stdout",
     "output_type": "stream",
     "text": [
      "17\n",
      "12\n",
      "8\n",
      "13\n",
      "xxxxxxxxxxxxxxxxxxxxxxxxxxxxxx\n",
      "19\n",
      "15\n",
      "20\n",
      "xxxxxxxxxxxxxxxxxxxxxxxxxxxxxx\n",
      "10\n",
      "True\n",
      "xxxxxxxxxxxxxxxxxxxxxxxxxxxxxx\n",
      "11\n",
      "xxxxxxxxxxxxxxxxxxxxxxxxxxxxxx\n"
     ]
    }
   ],
   "source": [
    "# so now what we need to do is... if there's a match then we return \"true\" and exit\n",
    "\n",
    "for outer_index in range(len(t_list)-1): \n",
    "    for number in range(outer_index, len(t_list)-1): \n",
    "        sum_collection = t_list[outer_index] + t_list[number+1] \n",
    "        print(sum_collection)\n",
    "        if sum_collection == k: \n",
    "            print(\"True\") \n",
    "            break\n",
    "    print(\"x\"*30)\n",
    "\n"
   ]
  },
  {
   "cell_type": "code",
   "execution_count": null,
   "metadata": {},
   "outputs": [],
   "source": []
  }
 ],
 "metadata": {
  "kernelspec": {
   "display_name": "Python 3",
   "language": "python",
   "name": "python3"
  },
  "language_info": {
   "codemirror_mode": {
    "name": "ipython",
    "version": 3
   },
   "file_extension": ".py",
   "mimetype": "text/x-python",
   "name": "python",
   "nbconvert_exporter": "python",
   "pygments_lexer": "ipython3",
   "version": "3.7.0"
  }
 },
 "nbformat": 4,
 "nbformat_minor": 2
}
