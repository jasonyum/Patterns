{
 "cells": [
  {
   "cell_type": "markdown",
   "metadata": {},
   "source": [
    "### Question: given a list, return True/False if two elements in the list sum up to some value $k$. Is there a way to do this in a single pass through the list? Maybe... Probably... Yes. \n",
    "\n",
    "- Do the simple version first with a lot of passes.\n",
    "- Try to think of a creative way to do it with a single pass. \n",
    "- Generalize the code... when might this be useful? "
   ]
  },
  {
   "cell_type": "code",
   "execution_count": null,
   "metadata": {},
   "outputs": [],
   "source": [
    "t_list = [5,12,7,3,8] \n",
    "k = 10 # so this should return true..\n",
    "f = 22 # this should return false..\n",
    "\n",
    "for number in range(len(t_list)-1):\n",
    "    if (t_list[number] + t_list[number+1] == k):  # there's an index range problem here because of the last index.\n",
    "        print(\"true\")\n",
    "    else: print(\"false\") \n",
    "        \n",
    "for number in range(len(t_list)-1): \n",
    "    sum_collection = t_list[number] + t_list[number+1]\n",
    "    print(sum_collection) \n",
    "    \n",
    "print(t_list)  # so having two different loops is actually quite important"
   ]
  },
  {
   "cell_type": "code",
   "execution_count": null,
   "metadata": {},
   "outputs": [],
   "source": [
    "# so where you see that hard-coded [0] you can have that as the next index\n",
    "for number in range(len(t_list)-1): \n",
    "    sum_collection = t_list[0] + t_list[number+1] \n",
    "    print(sum_collection) \n",
    "    \n",
    "# but I think you also need another index because for the next iteration, you need to make sure.\n",
    "# I think we can get creative with that second t_list[this thing] where this_thing is where we need to be smarter\n",
    "print(t_list) \n",
    "print(\"x\"*30)\n",
    "\n",
    "for outer_index in range(len(t_list)-1): \n",
    "    for number in range(len(t_list)-1): \n",
    "        sum_collection = t_list[outer_index] + t_list[number+1] \n",
    "        print(sum_collection) \n",
    "    print(\"x\"*30)\n",
    "        \n",
    "# cool, that's more numbers... \n",
    "# but you can see that the second pass is not smart because it's doing 12 + 12 lol\n",
    "# we really just want it to spill out 19, 15, 20 etc. "
   ]
  },
  {
   "cell_type": "code",
   "execution_count": null,
   "metadata": {},
   "outputs": [],
   "source": [
    "# the solution is to start the index from outer_index and then go to the end of fo the list.. \n",
    "\n",
    "for outer_index in range(len(t_list)-1): \n",
    "    for number in range(outer_index, len(t_list)-1): \n",
    "        sum_collection = t_list[outer_index] + t_list[number+1] \n",
    "        print(sum_collection) \n",
    "    print(\"x\"*30)\n",
    "    \n",
    "# great this works now"
   ]
  },
  {
   "cell_type": "code",
   "execution_count": null,
   "metadata": {},
   "outputs": [],
   "source": [
    "# so now what we need to do is... if there's a match then we return \"true\" and exit\n",
    "\n",
    "for outer_index in range(len(t_list)-1): \n",
    "    for number in range(outer_index, len(t_list)-1): \n",
    "        sum_collection = t_list[outer_index] + t_list[number+1] \n",
    "        print(sum_collection)\n",
    "        if sum_collection == k: \n",
    "            print(\"True\") \n",
    "    print(\"x\"*30)\n"
   ]
  },
  {
   "cell_type": "code",
   "execution_count": null,
   "metadata": {},
   "outputs": [],
   "source": [
    "# so now we need to turn this into a function: \n",
    "\n",
    "t_list = [5,12,7,3,8] \n",
    "k = 10 # so this should return true..\n",
    "f = 22 # this should return false..\n",
    "\n",
    "def add_two_confirm(numeric_list, target_sum): \n",
    "    '''\n",
    "    1) take the first number, add it to the second number, check if it's equal to k\n",
    "    2) take the first number, and add it to the third number, etc. \n",
    "    3) then go through and do it for the second number, etc. \n",
    "    ''' \n",
    "    for outer_index in range(len(numeric_list)-1):  # I wonder if there's a more elegant way to do this... \n",
    "        for number in range(outer_index, len(numeric_list)-1): \n",
    "            sum_collection = t_list[outer_index] + t_list[number+1]\n",
    "            # print(sum_collection) \n",
    "            if sum_collection == target_sum: \n",
    "                # print(\"True\") \n",
    "                return \"True\"\n",
    "\n",
    "add_two_confirm(t_list,f) # lol doesn't return anything... need to tell it to return \"False\" \n",
    "add_two_confirm(t_list, k) # returns True, correctly... "
   ]
  },
  {
   "cell_type": "code",
   "execution_count": null,
   "metadata": {},
   "outputs": [],
   "source": [
    "t_list = [5,12,7,3,8] \n",
    "k = 10 # so this should return true..\n",
    "f = 22 # this should return false.\n",
    "\n",
    "# maybe we can add some sort of container and \n",
    "# then check if there's ever an element in it at the end to return false\n",
    "\n",
    "def add_two_confirm(numeric_list, target_sum): \n",
    "    '''\n",
    "    1) take the first number, add it to the second number, check if it's equal to k\n",
    "    2) take the first number, and add it to the third number, etc. \n",
    "    3) then go through and do it for the second number, etc. \n",
    "    ''' \n",
    "    includes_target = False\n",
    "    \n",
    "    for outer_index in range(len(numeric_list)-1):  \n",
    "        for number in range(outer_index, len(numeric_list)-1): \n",
    "            sum_collection = numeric_list[outer_index] + numeric_list[number+1]\n",
    "            print(sum_collection) \n",
    "            if sum_collection == target_sum: \n",
    "                includes_target = True \n",
    "                return includes_target\n",
    "        print(\"X\"*30)\n",
    "    return includes_target\n",
    "\n",
    "add_two_confirm(t_list,f) # lol doesn't return anything... need to tell it to return \"False\"  "
   ]
  },
  {
   "cell_type": "code",
   "execution_count": null,
   "metadata": {
    "scrolled": true
   },
   "outputs": [],
   "source": [
    "t_list2 = [5,23,2,8,10,27]\n",
    "k_2 = 33 # true\n",
    "f_2 = 2 # false\n",
    "\n",
    "add_two_confirm(t_list2, k_2)"
   ]
  },
  {
   "cell_type": "markdown",
   "metadata": {},
   "source": [
    "### review of alternative methods -- more efficient! \n",
    "- brute force method... $O(N^2)$\n",
    "- then we can use a lookup method\n",
    "- we can also try to sort the list and then run a binary search..."
   ]
  },
  {
   "cell_type": "code",
   "execution_count": null,
   "metadata": {},
   "outputs": [],
   "source": [
    "t_list = [10,15,3,7] \n",
    "k = 17 # should return True\n",
    "\n",
    "def add_two_SUM(numeric_list, k): \n",
    "    for i in range(len(numeric_list)): \n",
    "        for j in range(len(numeric_list)): \n",
    "            if i != j and numeric_list[i] + numeric_list[j] == k: \n",
    "                return True \n",
    "    return False"
   ]
  },
  {
   "cell_type": "code",
   "execution_count": null,
   "metadata": {},
   "outputs": [],
   "source": [
    "add_two_SUM(t_list, 15) # should be False! "
   ]
  },
  {
   "cell_type": "code",
   "execution_count": null,
   "metadata": {},
   "outputs": [],
   "source": [
    "add_two_SUM(t_list, k) # should be True."
   ]
  },
  {
   "cell_type": "code",
   "execution_count": null,
   "metadata": {},
   "outputs": [],
   "source": [
    "# set() initializes seen as a set ... like {} \n",
    "# sets are unordered collection of items, with no duplicates, and everything in them is immutable\n",
    "\n",
    "def add_two_SEEN(numeric_list,k): \n",
    "    seen = set()\n",
    "    for number in numeric_list: \n",
    "        if k - number in seen: \n",
    "            return True \n",
    "        seen.add(number) # adds number to the set seen! \n",
    "    return False\n",
    "\n",
    "# this is kind of like magic.. lol\n",
    "\n",
    "t_list = [10,15,3,7] \n",
    "k = 17 # should return True\n",
    "add_two_SEEN(t_list,15)\n",
    "add_two_SEEN(t_list,k)\n",
    "\n",
    "# lookups on sets are O(1) each, so this would be O(N) "
   ]
  },
  {
   "cell_type": "code",
   "execution_count": null,
   "metadata": {},
   "outputs": [],
   "source": [
    "# this one you would need to sort the list..\n",
    "\n",
    "from bisect import bisect_left\n",
    "\n",
    "def two_sum_SORTED(numeric_list, k): \n",
    "    numeric_list.sort() \n",
    "    \n",
    "    for i in range(len(numeric_list)): \n",
    "        target = k - numeric_list[i]\n",
    "        j = binary_search(numeric_list, target) \n",
    "        \n",
    "        if j == -1: \n",
    "            continue\n",
    "        elif j != i: \n",
    "            return True\n",
    "        elif j + 1 < len(numeric_list) and numeric_list[j+1] == target: \n",
    "            return True\n",
    "        elif j - 1 >= 0 and numeric_list[j-1] == target: \n",
    "            return True\n",
    "    return False\n",
    "\n",
    "\n",
    "def binary_search(numeric_list, target): \n",
    "    low = 0\n",
    "    high = len(numeric_list) \n",
    "    index = bisect_left(numeric_list, target, low, high) \n",
    "    \n",
    "    if 0 <= index < high and numeric_list[index] == target: \n",
    "        return index\n",
    "    return -1"
   ]
  },
  {
   "cell_type": "code",
   "execution_count": null,
   "metadata": {},
   "outputs": [],
   "source": [
    "two_sum_SORTED(t_list,k)\n",
    "two_sum_SORTED(t_list,200)"
   ]
  },
  {
   "cell_type": "code",
   "execution_count": null,
   "metadata": {},
   "outputs": [],
   "source": []
  }
 ],
 "metadata": {
  "kernelspec": {
   "display_name": "Python 3",
   "language": "python",
   "name": "python3"
  },
  "language_info": {
   "codemirror_mode": {
    "name": "ipython",
    "version": 3
   },
   "file_extension": ".py",
   "mimetype": "text/x-python",
   "name": "python",
   "nbconvert_exporter": "python",
   "pygments_lexer": "ipython3",
   "version": "3.7.0"
  }
 },
 "nbformat": 4,
 "nbformat_minor": 2
}
