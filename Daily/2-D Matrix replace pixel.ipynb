{
 "cells": [
  {
   "cell_type": "markdown",
   "metadata": {},
   "source": [
    "# 2-D Matrix Replace Pixel\n",
    "\n",
    "Given a 2-D matrix representing an image, a location of a pixel in the screen and a color C, replace the color of the given pixel and all adjacent same colored pixels with C.\n",
    "\n",
    "For example, given the following matrix, and location pixel of (2, 2), and 'G' for green:\n",
    "\n",
    "\n",
    "- B B W\n",
    "\n",
    "- W W W\n",
    "- W W W\n",
    "- B B B\n",
    "\n",
    "\n",
    "Becomes:\n",
    "\n",
    "- B B G\n",
    "- G G G\n",
    "- G G G\n",
    "- B B B"
   ]
  },
  {
   "cell_type": "code",
   "execution_count": 1,
   "metadata": {},
   "outputs": [],
   "source": [
    "def floodfill(matrix, coord, color, visited=None): \n",
    "    if visited is None: \n",
    "        visited = set() \n",
    "        \n",
    "    visited.add(coord)\n",
    "    r, c = coord\n",
    "    \n",
    "    # store what the color was ... \n",
    "    prior_color = matrix[r][c]\n",
    "    \n",
    "    # replace the matrix value with the color\n",
    "    matrix[r][c] = color \n",
    "    \n",
    "    coords = [(r+1,c), (r,c + 1), (r-1,c), (r,c -1)] \n",
    "    \n",
    "    for new_coord in coords: \n",
    "        new_r, new_c = new_coord\n",
    "        if (new_coord not in visited\n",
    "           and in_matrix(matrix, new_coord)\n",
    "           and matrix[new_r][new_c] == prior_color): \n",
    "            \n",
    "            visited.add(new_coord)\n",
    "            floodfill(matrix, new_coord, color, visited) \n",
    "            \n",
    "            \n",
    "def in_matrix(matrix, coord): \n",
    "    rows = len(matrix) \n",
    "    cols = len(matrix[0]) \n",
    "    \n",
    "    r, c = coord\n",
    "    \n",
    "    return 0 <= r < rows and 0 <= c < cols"
   ]
  },
  {
   "cell_type": "code",
   "execution_count": null,
   "metadata": {},
   "outputs": [],
   "source": []
  }
 ],
 "metadata": {
  "kernelspec": {
   "display_name": "Python 3",
   "language": "python",
   "name": "python3"
  },
  "language_info": {
   "codemirror_mode": {
    "name": "ipython",
    "version": 3
   },
   "file_extension": ".py",
   "mimetype": "text/x-python",
   "name": "python",
   "nbconvert_exporter": "python",
   "pygments_lexer": "ipython3",
   "version": "3.6.2"
  }
 },
 "nbformat": 4,
 "nbformat_minor": 2
}
