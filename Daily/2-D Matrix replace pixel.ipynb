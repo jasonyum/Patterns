{
 "cells": [
  {
   "cell_type": "markdown",
   "metadata": {},
   "source": [
    "# 2-D Matrix Replace Pixel\n",
    "\n",
    "Given a 2-D matrix representing an image, a location of a pixel in the screen and a color C, replace the color of the given pixel and all adjacent same colored pixels with C.\n",
    "\n",
    "For example, given the following matrix, and location pixel of (2, 2), and 'G' for green:\n",
    "\n",
    "\n",
    "- B B W\n",
    "\n",
    "- W W W\n",
    "- W W W\n",
    "- B B B\n",
    "\n",
    "\n",
    "Becomes:\n",
    "\n",
    "- B B G\n",
    "- G G G\n",
    "- G G G\n",
    "- B B B"
   ]
  },
  {
   "cell_type": "code",
   "execution_count": 1,
   "metadata": {},
   "outputs": [],
   "source": [
    "def floodfill(matrix, coord, color, visited=None): \n",
    "    if visited is None: \n",
    "        visited = set() \n",
    "        \n",
    "    visited.add(coord)\n",
    "    r, c = coord\n",
    "    \n",
    "    # store what the color was ... \n",
    "    prior_color = matrix[r][c]\n",
    "    \n",
    "    # replace the matrix value with the color\n",
    "    matrix[r][c] = color \n",
    "    \n",
    "    # coords is all the adjacent coordinates... \n",
    "    # but obviously coords could be out of bounds of the matrix... \n",
    "    coords = [(r+1,c), (r,c + 1), (r-1,c), (r,c -1)] \n",
    "    \n",
    "    for new_coord in coords: \n",
    "        new_r, new_c = new_coord\n",
    "        if (new_coord not in visited\n",
    "            \n",
    "            # check to see if you're in the matrix\n",
    "           and in_matrix(matrix, new_coord)\n",
    "            \n",
    "            # check to see if it's the prior color that needs to be replaced\n",
    "           and matrix[new_r][new_c] == prior_color): \n",
    "            \n",
    "            visited.add(new_coord)\n",
    "            \n",
    "            # this is the key. you're calling floodfill again, iteratively\n",
    "            # this is how you get the chained behavior\n",
    "            floodfill(matrix, new_coord, color, visited) \n",
    "            \n",
    "\n",
    "# checks to see if you're in the matrix. \n",
    "# len(matrix) gives you the number of rows\n",
    "# matrix[0] gives you the first row of matrix.\n",
    "# so when you call len(matrix[0]) you get the # of columns. \n",
    "def in_matrix(matrix, coord): \n",
    "    rows = len(matrix) \n",
    "    cols = len(matrix[0]) \n",
    "    \n",
    "    r, c = coord\n",
    "    \n",
    "    return 0 <= r < rows and 0 <= c < cols"
   ]
  },
  {
   "cell_type": "markdown",
   "metadata": {},
   "source": [
    "First... fill the current coord to color. Mark this as visited. Then for each neighboring new_coord, if it hasn't been visited, is inside the matrix, and is the same color as current coord color, recurseively floodfill that coordinate. "
   ]
  },
  {
   "cell_type": "code",
   "execution_count": 2,
   "metadata": {},
   "outputs": [],
   "source": [
    "def floodfill(matrix, coord, color, visited=None): \n",
    "    if visited is None: \n",
    "        visisted = set() # creates an empty set\n",
    "    \n",
    "    visited.add(coord)\n",
    "    r,c = coord\n",
    "    \n",
    "    prior_color = matrix[r][c]\n",
    "    matrix[r][c] = color\n",
    "    coords = [(r+1,c), (r,c+1), (r-1,c), (r,c-1)]\n",
    "    \n",
    "    for new_coord in coords: \n",
    "        new_r, new_c = new_coord\n",
    "        if (new_coord not in visisted\n",
    "            and in_matrix(matrix, new_coord)\n",
    "            and matrix[new_r][new_c] == prior_color):\n",
    "            \n",
    "            visited.add(new_coord)\n",
    "            floodfill(matrix, new_coord, color, visited)\n",
    "            \n",
    "def in_matrix(matrix, coord): \n",
    "    rows = len(matrix)\n",
    "    cols = len(matrix[0])\n",
    "    r,c = coord\n",
    "    return 0 <= r < rows and 0 <= c < cols"
   ]
  },
  {
   "cell_type": "code",
   "execution_count": 3,
   "metadata": {},
   "outputs": [],
   "source": [
    "matrix_test = [[\"B\",\"B\",\"C\"],\n",
    "              [\"B\",\"C\",\"C\"],\n",
    "              [\"C\",\"B\", \"B\"]]"
   ]
  },
  {
   "cell_type": "code",
   "execution_count": 4,
   "metadata": {},
   "outputs": [
    {
     "data": {
      "text/plain": [
       "[['B', 'B', 'C'], ['B', 'C', 'C'], ['C', 'B', 'B']]"
      ]
     },
     "execution_count": 4,
     "metadata": {},
     "output_type": "execute_result"
    }
   ],
   "source": [
    "matrix_test"
   ]
  },
  {
   "cell_type": "code",
   "execution_count": 8,
   "metadata": {},
   "outputs": [
    {
     "data": {
      "text/plain": [
       "'C'"
      ]
     },
     "execution_count": 8,
     "metadata": {},
     "output_type": "execute_result"
    }
   ],
   "source": [
    "matrix_test[1][2]"
   ]
  },
  {
   "cell_type": "code",
   "execution_count": 9,
   "metadata": {},
   "outputs": [
    {
     "data": {
      "text/plain": [
       "'B'"
      ]
     },
     "execution_count": 9,
     "metadata": {},
     "output_type": "execute_result"
    }
   ],
   "source": [
    "matrix_test[0][0]"
   ]
  },
  {
   "cell_type": "code",
   "execution_count": 11,
   "metadata": {},
   "outputs": [
    {
     "data": {
      "text/plain": [
       "['B', 'B', 'C']"
      ]
     },
     "execution_count": 11,
     "metadata": {},
     "output_type": "execute_result"
    }
   ],
   "source": [
    "matrix_test[0]"
   ]
  },
  {
   "cell_type": "code",
   "execution_count": 12,
   "metadata": {},
   "outputs": [
    {
     "data": {
      "text/plain": [
       "3"
      ]
     },
     "execution_count": 12,
     "metadata": {},
     "output_type": "execute_result"
    }
   ],
   "source": [
    "len(matrix_test)"
   ]
  },
  {
   "cell_type": "code",
   "execution_count": null,
   "metadata": {},
   "outputs": [],
   "source": []
  }
 ],
 "metadata": {
  "kernelspec": {
   "display_name": "Python 3",
   "language": "python",
   "name": "python3"
  },
  "language_info": {
   "codemirror_mode": {
    "name": "ipython",
    "version": 3
   },
   "file_extension": ".py",
   "mimetype": "text/x-python",
   "name": "python",
   "nbconvert_exporter": "python",
   "pygments_lexer": "ipython3",
   "version": "3.6.2"
  }
 },
 "nbformat": 4,
 "nbformat_minor": 2
}
