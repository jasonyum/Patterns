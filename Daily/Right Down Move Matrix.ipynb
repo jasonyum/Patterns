{
 "cells": [
  {
   "cell_type": "markdown",
   "metadata": {},
   "source": [
    "# Right Down Move through a Matrix\n",
    "\n",
    "You are given an N by M matrix of 0s and 1s. Starting from the top left corner, how many ways are there to reach the bottom right corner?\n",
    "\n",
    "You can only move right and down. 0 represents an empty space while 1 represents a wall you cannot walk through.\n",
    "\n",
    "For example, given the following matrix:\n",
    "\n",
    "```\n",
    "[[0, 0, 1],\n",
    " [0, 0, 1],\n",
    " [1, 0, 0]]\n",
    " \n",
    " ```\n",
    "Return two, as there are only two ways to get to the bottom right:\n",
    "\n",
    "Right, down, down, right\n",
    "Down, right, down, right\n",
    "The top left corner and bottom right corner will always be 0.\n",
    "\n",
    "\n",
    "## IDEA \n",
    "\n",
    "- find the NUMBER o ways to get to the cell [i][j] and compute that from looking at [i - 1][j] and [i][j-1] (remember, you can only move right or down, so you can only get from above or from the left..\n",
    "- First, check that those spots are NOT WALLS, since we can't move from there. If it is, then the number of ways coming from that spot is 0! (key trick) \n",
    "- since we're using a nested loop (2 loops) this takes O(n*m) "
   ]
  },
  {
   "cell_type": "code",
   "execution_count": 2,
   "metadata": {},
   "outputs": [],
   "source": [
    "EMPTY = 0 \n",
    "WALL = 1\n",
    "\n",
    "def num_ways(matrix): \n",
    "    m, n = len(matrix, len(matrix[0])) # happens a lot with these matrix questions\n",
    "    num_ways_matrix = [[0 for j in range(n)] for i in range(m)] \n",
    "    \n",
    "    # fill first row\n",
    "    for j in range(n): \n",
    "        if matrix[0][j] == WALL: \n",
    "            break\n",
    "        num_ways_matrix[0][j] = 1\n",
    "        \n",
    "    # fill first col\n",
    "    for i in range(m): \n",
    "        if matrix[i][0] == WALL: \n",
    "            break\n",
    "        num_ways_matrix[i][0] = 1\n",
    "        \n",
    "    for i in range(1,m): \n",
    "        for j in range(1,n): # whoa nested.. \n",
    "            \n",
    "            # one line if statements nice.. \n",
    "            from_top = num_ways_matrix[i-1][j] if matrix[i-1][j] != WALL else 0 \n",
    "            from_left = num_ways_matrix[i][j-1] if matrix[i][j-1] != WALL else 0\n",
    "            \n",
    "            num_ways_matrix[i][j] = from_top + from_left\n",
    "            \n",
    "    return num_ways_matrix[m-1][n-1] "
   ]
  },
  {
   "cell_type": "code",
   "execution_count": null,
   "metadata": {},
   "outputs": [],
   "source": []
  }
 ],
 "metadata": {
  "kernelspec": {
   "display_name": "Python 3",
   "language": "python",
   "name": "python3"
  },
  "language_info": {
   "codemirror_mode": {
    "name": "ipython",
    "version": 3
   },
   "file_extension": ".py",
   "mimetype": "text/x-python",
   "name": "python",
   "nbconvert_exporter": "python",
   "pygments_lexer": "ipython3",
   "version": "3.6.2"
  }
 },
 "nbformat": 4,
 "nbformat_minor": 2
}
