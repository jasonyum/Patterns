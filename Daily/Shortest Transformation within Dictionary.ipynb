{
 "cells": [
  {
   "cell_type": "markdown",
   "metadata": {},
   "source": [
    "# Shortest Transformation within Dictionary (wow..)\n",
    "\n",
    "Given a start word, an end word, and a dictionary of valid words, find the shortest transformation sequence from start to end such that only one letter is changed at each step of the sequence, and each transformed word exists in the dictionary. If there is no possible transformation, return null. Each word in the dictionary have the same length as start and end and is lowercase.\n",
    "\n",
    "For example, given start = \"dog\", end = \"cat\", and dictionary = {\"dot\", \"dop\", \"dat\", \"cat\"}, return [\"dog\", \"dot\", \"dat\", \"cat\"].\n",
    "\n",
    "Given start = \"dog\", end = \"cat\", and dictionary = {\"dot\", \"tod\", \"dat\", \"dar\"}, return null as there is no possible transformation from dog to cat."
   ]
  },
  {
   "cell_type": "code",
   "execution_count": 12,
   "metadata": {},
   "outputs": [],
   "source": [
    "test = \"commodity\""
   ]
  },
  {
   "cell_type": "code",
   "execution_count": 14,
   "metadata": {},
   "outputs": [
    {
     "data": {
      "text/plain": [
       "['c', 'o', 'm', 'm', 'o', 'd', 'i', 't', 'y']"
      ]
     },
     "execution_count": 14,
     "metadata": {},
     "output_type": "execute_result"
    }
   ],
   "source": [
    "list(test) # easy split "
   ]
  },
  {
   "cell_type": "code",
   "execution_count": 36,
   "metadata": {},
   "outputs": [],
   "source": [
    "# prove that this could work \n",
    "start = \"dog\"\n",
    "end = \"cat\"\n",
    "collection = {\"dot\", \"dop\", \"dat\", \"cat\"} # set\n",
    "\n",
    "# wow, so dog is one off from dot and dat, but we need to pick \"dat\" to get to cat..\n",
    "# we also clearly need some sort of recursion because ... we need to keep setting \"start = X\" "
   ]
  },
  {
   "cell_type": "code",
   "execution_count": 38,
   "metadata": {},
   "outputs": [],
   "source": [
    "# First, we need a function that can check how many \"misses\" there are ..  \n",
    "def check_match(word_one, word_two): \n",
    "    list_one = list(word_one) \n",
    "    list_two = list(word_two) \n",
    "    miss_count = 0\n",
    "    \n",
    "    for char in list_one: \n",
    "        if char not in list_two: \n",
    "            miss_count += 1\n",
    "    return miss_count \n",
    "\n",
    "\n",
    "# Main function \n",
    "def transform(start, end, collection): \n",
    "    collection_list = list(collection) # turns set into a list\n",
    "    choices = [] # collection set of possibilities \n",
    "    \n",
    "    # now we need to see if start is in the collection\n",
    "    for word in collection_list: \n",
    "        num_misses = check_match(start, word) # check_match returns miss_count\n",
    "        if num_misses == 1: # only single letter off\n",
    "            choices.append(word) \n",
    "            \n",
    "    return choices"
   ]
  },
  {
   "cell_type": "code",
   "execution_count": 39,
   "metadata": {},
   "outputs": [
    {
     "data": {
      "text/plain": [
       "['dop', 'dot']"
      ]
     },
     "execution_count": 39,
     "metadata": {},
     "output_type": "execute_result"
    }
   ],
   "source": [
    "# .... multiple answers are one character off! \n",
    "transform(\"dog\",\"cat\", {\"dot\", \"dop\", \"dat\", \"cat\"})"
   ]
  },
  {
   "cell_type": "code",
   "execution_count": 33,
   "metadata": {},
   "outputs": [
    {
     "data": {
      "text/plain": [
       "1"
      ]
     },
     "execution_count": 33,
     "metadata": {},
     "output_type": "execute_result"
    }
   ],
   "source": [
    "check_match(\"car\",\"kbx\") # 3 differences\n",
    "check_match(\"car\",\"far\") # 1 difference"
   ]
  },
  {
   "cell_type": "code",
   "execution_count": 35,
   "metadata": {},
   "outputs": [
    {
     "data": {
      "text/plain": [
       "['cat', 'dop', 'dat', 'dot']"
      ]
     },
     "execution_count": 35,
     "metadata": {},
     "output_type": "execute_result"
    }
   ],
   "source": []
  },
  {
   "cell_type": "code",
   "execution_count": null,
   "metadata": {},
   "outputs": [],
   "source": []
  }
 ],
 "metadata": {
  "kernelspec": {
   "display_name": "Python 3",
   "language": "python",
   "name": "python3"
  },
  "language_info": {
   "codemirror_mode": {
    "name": "ipython",
    "version": 3
   },
   "file_extension": ".py",
   "mimetype": "text/x-python",
   "name": "python",
   "nbconvert_exporter": "python",
   "pygments_lexer": "ipython3",
   "version": "3.6.2"
  }
 },
 "nbformat": 4,
 "nbformat_minor": 2
}
