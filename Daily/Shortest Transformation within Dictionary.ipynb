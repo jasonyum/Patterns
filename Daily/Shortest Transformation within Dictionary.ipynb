{
 "cells": [
  {
   "cell_type": "markdown",
   "metadata": {},
   "source": [
    "# Shortest Transformation within Dictionary (wow..)\n",
    "\n",
    "Given a start word, an end word, and a dictionary of valid words, find the shortest transformation sequence from start to end such that only one letter is changed at each step of the sequence, and each transformed word exists in the dictionary. If there is no possible transformation, return null. Each word in the dictionary have the same length as start and end and is lowercase.\n",
    "\n",
    "For example, given start = \"dog\", end = \"cat\", and dictionary = {\"dot\", \"dop\", \"dat\", \"cat\"}, return [\"dog\", \"dot\", \"dat\", \"cat\"].\n",
    "\n",
    "Given start = \"dog\", end = \"cat\", and dictionary = {\"dot\", \"tod\", \"dat\", \"dar\"}, return null as there is no possible transformation from dog to cat."
   ]
  },
  {
   "cell_type": "code",
   "execution_count": 87,
   "metadata": {},
   "outputs": [],
   "source": [
    "test = \"commodity\""
   ]
  },
  {
   "cell_type": "code",
   "execution_count": 88,
   "metadata": {},
   "outputs": [
    {
     "data": {
      "text/plain": [
       "['c', 'o', 'm', 'm', 'o', 'd', 'i', 't', 'y']"
      ]
     },
     "execution_count": 88,
     "metadata": {},
     "output_type": "execute_result"
    }
   ],
   "source": [
    "list(test) # easy split "
   ]
  },
  {
   "cell_type": "code",
   "execution_count": 89,
   "metadata": {},
   "outputs": [],
   "source": [
    "# prove that this could work \n",
    "start = \"dog\"\n",
    "end = \"cat\"\n",
    "collection = {\"dot\", \"dop\", \"dat\", \"cat\"} # set\n",
    "\n",
    "# wow, so dog is one off from dot and dat, but we need to pick \"dat\" to get to cat..\n",
    "# we also clearly need some sort of recursion because ... we need to keep setting \"start = X\" "
   ]
  },
  {
   "cell_type": "code",
   "execution_count": 66,
   "metadata": {},
   "outputs": [],
   "source": [
    "# First, we need a function that can check how many \"misses\" there are ..  \n",
    "def check_match(word_one, word_two): \n",
    "    list_one = list(word_one) \n",
    "    list_two = list(word_two) \n",
    "    miss_count = 0\n",
    "    \n",
    "    for char in list_one: \n",
    "        if char not in list_two: \n",
    "            miss_count += 1\n",
    "    return miss_count \n",
    "\n",
    "\n",
    "# Main function \n",
    "def transform(start, end, collection): \n",
    "    \n",
    "    start = start\n",
    "    end = end\n",
    "    collection = collection \n",
    "    \n",
    "    collection_list = list(collection) # turns set into a list\n",
    "    start_choices = [] # collection set of possibilities \n",
    "    end_choices = [] # collection for misses with end \n",
    "    \n",
    "    # now we need to see if start is in the collection\n",
    "    for word in collection_list: \n",
    "        num_misses = check_match(start, word) # check_match returns miss_count\n",
    "        if num_misses == 1: # only single letter off\n",
    "            start_choices.append(word) \n",
    "            \n",
    "    \n",
    "    # you now have the choices list... \n",
    "    # run check_match to then figure out which choice has the fewest differences to \"end\"\n",
    "    \n",
    "    for word in start_choices: \n",
    "        num_misses = check_match(word, end) # check_match with \"end\"\n",
    "        end_choices.append(num_misses)\n",
    "    \n",
    "    # Now you want to go with the one with fewer differences\n",
    "    min_index = end_choices.index(min(end_choices)) # gives minimum index\n",
    "    next_word = start_choices[min_index] # go off start_choices\n",
    "    \n",
    "    if next_word == end: # you're done\n",
    "        return \"you're done\"\n",
    "    else: transform(next_word, end, collection)\n",
    "    \n",
    "    # return start_choices, end_choices, next_word"
   ]
  },
  {
   "cell_type": "code",
   "execution_count": 65,
   "metadata": {},
   "outputs": [],
   "source": [
    "# .... multiple answers are one character off! \n",
    "transform(\"dog\",\"cat\", {\"dot\", \"dop\", \"dat\", \"cat\"})"
   ]
  },
  {
   "cell_type": "code",
   "execution_count": 49,
   "metadata": {},
   "outputs": [
    {
     "data": {
      "text/plain": [
       "1"
      ]
     },
     "execution_count": 49,
     "metadata": {},
     "output_type": "execute_result"
    }
   ],
   "source": [
    "check_match(\"car\",\"kbx\") # 3 differences\n",
    "check_match(\"car\",\"far\") # 1 difference"
   ]
  },
  {
   "cell_type": "markdown",
   "metadata": {},
   "source": [
    "### A couple of ways to fool the above\n",
    "- words like \"dog\" and \"god\" are two apart but it will treat them as having no difference!\n",
    "\n",
    "\n",
    "# Solve with a graph..\n",
    "\n",
    "Model the problem as a graph... where the nodes are words in the dictionary. Form an edge between two nodes iff one character can be modified to get the other. Then do a breadth-first search from start and finishing once we reach the end. "
   ]
  },
  {
   "cell_type": "code",
   "execution_count": 84,
   "metadata": {},
   "outputs": [],
   "source": [
    "# need to import some libraries to get this done..\n",
    "import collections\n",
    "import string"
   ]
  },
  {
   "cell_type": "code",
   "execution_count": 92,
   "metadata": {},
   "outputs": [],
   "source": [
    "def word_ladder(start, end, words): \n",
    "    queue = collections.deque([(start, [start])]) \n",
    "    \n",
    "    while queue: \n",
    "        word, path = queue.popleft()\n",
    "        if word == end: \n",
    "            return path\n",
    "        \n",
    "        for i in range(len(word)):\n",
    "            for c in string.ascii_lowercase: # whoa\n",
    "                next_word = word[:i] + c + word[i+1:]\n",
    "                if next_word in words: \n",
    "                    words.remove(next_word)\n",
    "                    queue.append([next_word, path + [next_word]]) \n",
    "                    \n",
    "    return None # nice"
   ]
  },
  {
   "cell_type": "code",
   "execution_count": 93,
   "metadata": {},
   "outputs": [
    {
     "data": {
      "text/plain": [
       "['dog', 'dot', 'dat', 'cat']"
      ]
     },
     "execution_count": 93,
     "metadata": {},
     "output_type": "execute_result"
    }
   ],
   "source": [
    "start = \"dog\"\n",
    "end = \"cat\"\n",
    "collection = {\"dot\", \"dop\", \"dat\", \"cat\"} # set\n",
    "word_ladder(start, end, collection)"
   ]
  },
  {
   "cell_type": "code",
   "execution_count": null,
   "metadata": {},
   "outputs": [],
   "source": []
  }
 ],
 "metadata": {
  "kernelspec": {
   "display_name": "Python 3",
   "language": "python",
   "name": "python3"
  },
  "language_info": {
   "codemirror_mode": {
    "name": "ipython",
    "version": 3
   },
   "file_extension": ".py",
   "mimetype": "text/x-python",
   "name": "python",
   "nbconvert_exporter": "python",
   "pygments_lexer": "ipython3",
   "version": "3.6.2"
  }
 },
 "nbformat": 4,
 "nbformat_minor": 2
}
