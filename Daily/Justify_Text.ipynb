{
 "cells": [
  {
   "cell_type": "markdown",
   "metadata": {},
   "source": [
    "## Question: Justify Text \n",
    "\n",
    "**Problem:** Write an algorithm to justify text. Given a sequence of words and an integer line length k, return a list of strings which represents each line, fully justified.\n",
    "\n",
    "More specifically, you should have as many words as possible in each line. There should be at least one space between each word. Pad extra spaces when necessary so that each line has exactly length k. Spaces should be distributed as equally as possible, with the extra spaces, if any, distributed starting from the left.\n",
    "\n",
    "If you can only fit one word on a line, then you should pad the right-hand side with spaces. Each word is guaranteed not to be longer than k.\n",
    "\n",
    "For example, given the list of words [\"the\", \"quick\", \"brown\", \"fox\", \"jumps\", \"over\", \"the\", \"lazy\", \"dog\"] and k = 16, you should return the following:\n",
    "\n",
    "[\"the  quick brown\", # 1 extra space on the left\n",
    "\"fox  jumps  over\", # 2 extra spaces distributed evenly\n",
    "\"the   lazy   dog\"] # 4 extra spaces distributed evenly\n",
    "'''"
   ]
  },
  {
   "cell_type": "code",
   "execution_count": 7,
   "metadata": {},
   "outputs": [
    {
     "name": "stdout",
     "output_type": "stream",
     "text": [
      "['the', 'quick', 'brown', 'fox', 'jumps', 'over', 'the', 'lazy', 'dog']\n"
     ]
    }
   ],
   "source": [
    "# Break up the problem into smaller chunks\n",
    "ex_s1 = [\"the\",\"quick\", \"brown\"]\n",
    "ex_s2 = [\"fox\",\"jumps\",\"over\"]\n",
    "ex_s3 = [\"the\",\"lazy\",\"dog\"]\n",
    "full_example = ex_s1 + ex_s2 + ex_s3\n",
    "print(full_example)"
   ]
  },
  {
   "cell_type": "code",
   "execution_count": 11,
   "metadata": {},
   "outputs": [
    {
     "data": {
      "text/plain": [
       "5"
      ]
     },
     "execution_count": 11,
     "metadata": {},
     "output_type": "execute_result"
    }
   ],
   "source": [
    "# Check the number of characters in a list\n",
    "# I guess we could use len is the obvious way\n",
    "len(ex_s1) # 3\n",
    "len(ex_s1[1]) # 5"
   ]
  },
  {
   "cell_type": "code",
   "execution_count": 26,
   "metadata": {},
   "outputs": [
    {
     "name": "stdout",
     "output_type": "stream",
     "text": [
      "13\n"
     ]
    }
   ],
   "source": [
    "# so first we need to loop through each example sentence\n",
    "# ex_s1 has 3 + 5 + 5 = 13 characters... \n",
    "\n",
    "character_count = 0\n",
    "\n",
    "for word in ex_s1: \n",
    "    character_count += len(word) \n",
    "print(character_count)"
   ]
  },
  {
   "cell_type": "markdown",
   "metadata": {},
   "source": [
    "Now that we have the number of characters... we are given k, which is the total size of each line\n",
    "Each of the words is naturally separated by one space.. so if character count is 13 and k = 16, then \n",
    "16 - 13 = 3, then there's a space distributed to the LEFT of the first word and then spaces normally\n"
   ]
  },
  {
   "cell_type": "code",
   "execution_count": 34,
   "metadata": {},
   "outputs": [
    {
     "name": "stdout",
     "output_type": "stream",
     "text": [
      "the quick brown fox \n",
      " jumps over the fence\n"
     ]
    }
   ],
   "source": [
    "# Naive - just print the entire sentence on a line \n",
    "print(\"the quick brown fox \\n jumps over the fence\")"
   ]
  },
  {
   "cell_type": "code",
   "execution_count": 43,
   "metadata": {},
   "outputs": [
    {
     "name": "stdout",
     "output_type": "stream",
     "text": [
      " the quick brown\n"
     ]
    }
   ],
   "source": [
    "# Niave - just print the entire line \n",
    "printed_statement = \"\"\n",
    "\n",
    "for word in ex_s1: \n",
    "    printed_statement = printed_statement + \" \" + word\n",
    "\n",
    "print(printed_statement)"
   ]
  },
  {
   "cell_type": "code",
   "execution_count": 51,
   "metadata": {},
   "outputs": [
    {
     "name": "stdout",
     "output_type": "stream",
     "text": [
      "   the   quick   brown\n",
      "22\n"
     ]
    }
   ],
   "source": [
    "# Naive - just add extra spaces in between\n",
    "\n",
    "printed_statement = \"\"\n",
    "\n",
    "k = 16 \n",
    "extra_space = k - character_count\n",
    "# extra_space = 16 - 13 = 3 ... so the extra spaces to distribute are really 1 LEFT, and then normal\n",
    "\n",
    "for word in ex_s1: \n",
    "    printed_statement = printed_statement + \" \"*extra_space + word\n",
    "\n",
    "print(printed_statement)\n",
    "print(len(printed_statement)) # -> 22, fails the 16 test! bc we are just adding a bunch of stuff"
   ]
  },
  {
   "cell_type": "code",
   "execution_count": 55,
   "metadata": {},
   "outputs": [
    {
     "name": "stdout",
     "output_type": "stream",
     "text": [
      " the quick brown\n",
      "16\n"
     ]
    }
   ],
   "source": [
    "# Less Naive - figure out what are the natural spaces to distribute should be... \n",
    "character_count = 0 \n",
    "printed_statement = \"\"\n",
    "k = 16\n",
    "\n",
    "# Calculate character_count (the entire length of the string..)\n",
    "for word in ex_s1: \n",
    "    character_count += len(word) \n",
    "\n",
    "extra_space = k - character_count\n",
    "# 16 - 13 = 3 ... \n",
    "# Well, how many words are there in ex_s1? that's just len(ex_s1) \n",
    "word_count = len(ex_s1) # 3 words... \n",
    "\n",
    "distribute = extra_space / word_count \n",
    "\n",
    "for word in ex_s1: \n",
    "    printed_statement = printed_statement + \" \"*int(distribute) + word \n",
    "\n",
    "print(printed_statement) \n",
    "print(len(printed_statement))"
   ]
  },
  {
   "cell_type": "code",
   "execution_count": 79,
   "metadata": {},
   "outputs": [
    {
     "name": "stdout",
     "output_type": "stream",
     "text": [
      " fox jumps over\n",
      "15\n"
     ]
    }
   ],
   "source": [
    "# Does this work for the second sentence? NO! but it will work for the 3rd sentence. Why? \n",
    "# This is because the 3rd sentence has \n",
    "\n",
    "character_count = 0 \n",
    "printed_statement = \"\"\n",
    "k = 16\n",
    "\n",
    "# Calculate character_count (the entire length of the string..)\n",
    "for word in ex_s2: \n",
    "    character_count += len(word) \n",
    "\n",
    "extra_space = k - character_count\n",
    "word_count = len(ex_s2)\n",
    "\n",
    "distribute = extra_space / word_count \n",
    "\n",
    "for word in ex_s2: \n",
    "    printed_statement = printed_statement + \" \"*int(distribute) + word \n",
    "\n",
    "print(printed_statement) \n",
    "print(len(printed_statement))\n",
    "\n",
    "# Whoops"
   ]
  },
  {
   "cell_type": "code",
   "execution_count": 80,
   "metadata": {},
   "outputs": [
    {
     "name": "stdout",
     "output_type": "stream",
     "text": [
      "10\n"
     ]
    }
   ],
   "source": [
    "character_count = 0\n",
    "# ex_s1: int(13 / 3) = 4 --> gets to 16\n",
    "# ex_s2: int(12 / 3) = 4 --> gets to 15 (ugh)\n",
    "# ex_s3: int(10 / 3) = 3 --> gets to 16\n",
    "\n",
    "for word in ex_s3: \n",
    "    character_count += len(word) \n",
    "print(character_count) "
   ]
  },
  {
   "cell_type": "code",
   "execution_count": 73,
   "metadata": {},
   "outputs": [
    {
     "name": "stdout",
     "output_type": "stream",
     "text": [
      "3\n"
     ]
    }
   ],
   "source": []
  },
  {
   "cell_type": "code",
   "execution_count": null,
   "metadata": {},
   "outputs": [],
   "source": []
  }
 ],
 "metadata": {
  "kernelspec": {
   "display_name": "Python 3",
   "language": "python",
   "name": "python3"
  },
  "language_info": {
   "codemirror_mode": {
    "name": "ipython",
    "version": 3
   },
   "file_extension": ".py",
   "mimetype": "text/x-python",
   "name": "python",
   "nbconvert_exporter": "python",
   "pygments_lexer": "ipython3",
   "version": "3.6.2"
  }
 },
 "nbformat": 4,
 "nbformat_minor": 2
}
