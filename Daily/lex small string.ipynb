{
 "cells": [
  {
   "cell_type": "markdown",
   "metadata": {},
   "source": [
    "### Lexicographically small string\n",
    "\n",
    "You are given a string of length N and a parameter k. The string can be manipulated by taking one of the first k letters and moving it to the end.\n",
    "\n",
    "Write a program to determine the lexicographically smallest string that can be created after an unlimited number of moves.\n",
    "\n",
    "For example, suppose we are given the string daily and k = 1. The best we can create in this case is ailyd."
   ]
  },
  {
   "cell_type": "code",
   "execution_count": 1,
   "metadata": {},
   "outputs": [],
   "source": [
    "def bubble_swap(string, i, j): \n",
    "    string = list(string)\n",
    "    \n",
    "    # rotate so that i is at the beginning\n",
    "    while i > 0: \n",
    "        string = string[1:] + string[:1] \n",
    "        i -= 1\n",
    "        \n",
    "    # move the first two letters to the end in reversed order\n",
    "    string = string[:1] + string[2:] + string[1:2]\n",
    "    string = string[1:] + string[:1]\n",
    "    \n",
    "    # rotate back to the initial position\n",
    "    while len(string) > j + 1: \n",
    "        string = string[1:] + string[:1]\n",
    "        j += 1\n",
    "        \n",
    "    return ''.join(string) "
   ]
  },
  {
   "cell_type": "code",
   "execution_count": 2,
   "metadata": {},
   "outputs": [],
   "source": [
    "# return the alphabetically earliest rotation if k = 1, and otherwise the sorted string\n",
    "\n",
    "def get_best_word(string, k): \n",
    "    string = list(string) \n",
    "    \n",
    "    if k == 1: \n",
    "        best = string\n",
    "        for i in range(1, len(string)):\n",
    "            if string[i:] + string[:i] < best: \n",
    "                best = string[i:] + string[:i] \n",
    "        return ''.join(best) \n",
    "    \n",
    "    else: \n",
    "        return ''.join(sorted(string))"
   ]
  },
  {
   "cell_type": "code",
   "execution_count": null,
   "metadata": {},
   "outputs": [],
   "source": []
  }
 ],
 "metadata": {
  "kernelspec": {
   "display_name": "Python 3",
   "language": "python",
   "name": "python3"
  },
  "language_info": {
   "codemirror_mode": {
    "name": "ipython",
    "version": 3
   },
   "file_extension": ".py",
   "mimetype": "text/x-python",
   "name": "python",
   "nbconvert_exporter": "python",
   "pygments_lexer": "ipython3",
   "version": "3.6.2"
  }
 },
 "nbformat": 4,
 "nbformat_minor": 2
}
