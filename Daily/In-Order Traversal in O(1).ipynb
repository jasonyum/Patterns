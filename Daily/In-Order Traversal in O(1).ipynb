{
 "cells": [
  {
   "cell_type": "markdown",
   "metadata": {},
   "source": [
    "# In-Order Traversal in O(1) \n",
    "\n",
    "Typically, an implementation of in-order traversal of a binary tree has O(h) space complexity, where h is the height of the tree. Write a program to compute the in-order traversal of a binary tree using O(1) space.\n",
    "\n",
    "- Solution is to restructure the tree while traversing it..\n",
    "\n",
    "\n",
    "```\n",
    "What happens when we can no longer go left? In such cases, we are ready to print out the value of the current node and go right. For this tree, the algorithm described so far will successfully print out 1, 2, and 3, and move us back to 4.\n",
    "\n",
    "There is a problem, though. Once we return to 4, we will proceed to loop back over 1, 2, and 3 indefinitely. To avoid this, we must first check to see whether the descendant points to itself. If so, we print the node's value and continue right.\n",
    "```"
   ]
  },
  {
   "cell_type": "code",
   "execution_count": 4,
   "metadata": {},
   "outputs": [],
   "source": [
    "def in_order_traversal(root):\n",
    "    curr = root\n",
    "\n",
    "    while curr:\n",
    "        if not curr.left:\n",
    "            print(curr.data)\n",
    "            curr = curr.right\n",
    "\n",
    "        else:\n",
    "            # Find the rightmost descendant of the left child.\n",
    "            desc = curr.left\n",
    "            while desc.right and curr != desc.right:\n",
    "                desc = desc.right\n",
    "\n",
    "            # Make it point to the current node.\n",
    "            if not desc.right:\n",
    "                desc.right = curr\n",
    "                curr = curr.left\n",
    "\n",
    "            # If the rightmost descendant already points to the current node,\n",
    "            # revert the changes we made to the tree and print the node's value.\n",
    "            else:\n",
    "                desc.right = None\n",
    "                print(curr.data)\n",
    "                curr = curr.right"
   ]
  },
  {
   "cell_type": "code",
   "execution_count": null,
   "metadata": {},
   "outputs": [],
   "source": []
  }
 ],
 "metadata": {
  "kernelspec": {
   "display_name": "Python 3",
   "language": "python",
   "name": "python3"
  },
  "language_info": {
   "codemirror_mode": {
    "name": "ipython",
    "version": 3
   },
   "file_extension": ".py",
   "mimetype": "text/x-python",
   "name": "python",
   "nbconvert_exporter": "python",
   "pygments_lexer": "ipython3",
   "version": "3.6.2"
  }
 },
 "nbformat": 4,
 "nbformat_minor": 2
}
