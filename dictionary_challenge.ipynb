{
 "cells": [
  {
   "cell_type": "markdown",
   "metadata": {},
   "source": [
    "### Dictionary Challenge\n",
    "\n",
    "Given a dictionary of words and a string made up of those words (no spaces), return the original sentence in a list. If there is more than one possible reconstruction, return any of them. If there is no possible reconstruction, then return null. \n",
    "\n",
    "- Example: \"thequickbrownfox\" --> returns: ['the','quick','brown','fox']\n",
    "- Example: \"bedbathandbeyond\" --> returns: ['bed','bath','and','beyond] or ['bedbath','and','beyond'] \n"
   ]
  },
  {
   "cell_type": "code",
   "execution_count": 7,
   "metadata": {},
   "outputs": [],
   "source": [
    "# Start with a simpler dictionary... \n",
    "import numpy as np \n",
    "\n",
    "dictionary_easy = ['the','apple','pick','fast','smart',\n",
    "                   'bath','beyond','beyond', 'quick','brown','fox','bed']"
   ]
  },
  {
   "cell_type": "code",
   "execution_count": 11,
   "metadata": {},
   "outputs": [
    {
     "name": "stdout",
     "output_type": "stream",
     "text": [
      "thequickbrownfox\n"
     ]
    }
   ],
   "source": [
    "str_test = \"thequickbrownfox\" \n",
    "print(str_test) "
   ]
  },
  {
   "cell_type": "code",
   "execution_count": null,
   "metadata": {},
   "outputs": [],
   "source": []
  }
 ],
 "metadata": {
  "kernelspec": {
   "display_name": "Python 3",
   "language": "python",
   "name": "python3"
  },
  "language_info": {
   "codemirror_mode": {
    "name": "ipython",
    "version": 3
   },
   "file_extension": ".py",
   "mimetype": "text/x-python",
   "name": "python",
   "nbconvert_exporter": "python",
   "pygments_lexer": "ipython3",
   "version": "3.7.0"
  }
 },
 "nbformat": 4,
 "nbformat_minor": 2
}
