{
 "cells": [
  {
   "cell_type": "code",
   "execution_count": 3,
   "metadata": {},
   "outputs": [
    {
     "data": {
      "text/plain": [
       "16"
      ]
     },
     "execution_count": 3,
     "metadata": {},
     "output_type": "execute_result"
    }
   ],
   "source": [
    "a = 12 \n",
    "b = 4 \n",
    "a + b"
   ]
  },
  {
   "cell_type": "code",
   "execution_count": 6,
   "metadata": {},
   "outputs": [
    {
     "name": "stdout",
     "output_type": "stream",
     "text": [
      "16\n"
     ]
    }
   ],
   "source": [
    "# everything has an add method even though it's an integer\n",
    "# even types are implemented as classes...\n",
    "# everything is an object\n",
    "print(a.__add__(b))"
   ]
  },
  {
   "cell_type": "code",
   "execution_count": 8,
   "metadata": {},
   "outputs": [],
   "source": [
    "# classes are like templates of which objects can be created.. \n",
    "class Kettle(object): \n",
    "    \n",
    "    def __init__(self, make, price): \n",
    "        self.make = make\n",
    "        self.price = price\n",
    "        self.on = False\n"
   ]
  },
  {
   "cell_type": "code",
   "execution_count": 9,
   "metadata": {},
   "outputs": [],
   "source": [
    "# an instance is an object created by a class definition\n",
    "\n",
    "kenwood = Kettle(\"Kenwood\", 8.99)"
   ]
  },
  {
   "cell_type": "code",
   "execution_count": 17,
   "metadata": {},
   "outputs": [
    {
     "name": "stdout",
     "output_type": "stream",
     "text": [
      "Kenwood\n",
      "12.75\n"
     ]
    }
   ],
   "source": [
    "print(kenwood.make) \n",
    "print(kenwood.price) "
   ]
  },
  {
   "cell_type": "code",
   "execution_count": 18,
   "metadata": {},
   "outputs": [
    {
     "name": "stdout",
     "output_type": "stream",
     "text": [
      "12.75\n"
     ]
    }
   ],
   "source": [
    "kenwood.price = 12.75\n",
    "print(kenwood.price)"
   ]
  },
  {
   "cell_type": "code",
   "execution_count": 20,
   "metadata": {},
   "outputs": [
    {
     "name": "stdout",
     "output_type": "stream",
     "text": [
      "Hamilton\n",
      "14.55\n",
      "False\n"
     ]
    }
   ],
   "source": [
    "hamilton = Kettle(\"Hamilton\", 14.55) \n",
    "print(hamilton.make) \n",
    "print(hamilton.price) \n",
    "print(hamilton.on)"
   ]
  },
  {
   "cell_type": "code",
   "execution_count": 21,
   "metadata": {},
   "outputs": [
    {
     "name": "stdout",
     "output_type": "stream",
     "text": [
      "Models: Kenwood = 12.75, Hamilton = 14.55\n"
     ]
    }
   ],
   "source": [
    "print(\"Models: {} = {}, {} = {}\".format(kenwood.make, kenwood.price, \n",
    "                                       hamilton.make, hamilton.price))"
   ]
  },
  {
   "cell_type": "code",
   "execution_count": null,
   "metadata": {},
   "outputs": [],
   "source": []
  }
 ],
 "metadata": {
  "kernelspec": {
   "display_name": "Python 3",
   "language": "python",
   "name": "python3"
  },
  "language_info": {
   "codemirror_mode": {
    "name": "ipython",
    "version": 3
   },
   "file_extension": ".py",
   "mimetype": "text/x-python",
   "name": "python",
   "nbconvert_exporter": "python",
   "pygments_lexer": "ipython3",
   "version": "3.6.2"
  }
 },
 "nbformat": 4,
 "nbformat_minor": 2
}
