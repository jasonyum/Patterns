{
 "cells": [
  {
   "cell_type": "markdown",
   "metadata": {},
   "source": [
    "## Reviewing Python Classes\n",
    "- In Python, even types are implemented as classes\n",
    "- Class: template for creating objects. \n",
    "- All objects created using the same class will have the same characteristics.\n",
    "- Object: an instance of a class\n",
    "- Instantiate: create an instance of a class\n",
    "- Method: a function defined in a class\n",
    "- Attribute: a variable bound to an instance of a class\n",
    "\n",
    "Using the idea of a tea Kettle to teach objects and classes"
   ]
  },
  {
   "cell_type": "code",
   "execution_count": 71,
   "metadata": {},
   "outputs": [
    {
     "name": "stdout",
     "output_type": "stream",
     "text": [
      "16\n"
     ]
    }
   ],
   "source": [
    "a = 12 ; b = 4\n",
    "print(a.__add__(b)) # a has an __add__ method even though a is an integer."
   ]
  },
  {
   "cell_type": "code",
   "execution_count": 55,
   "metadata": {},
   "outputs": [
    {
     "name": "stdout",
     "output_type": "stream",
     "text": [
      "Kenwood\n",
      "8.99\n",
      "12.75\n",
      "Hamilton\n",
      "14.55\n",
      "Models: Kenwood = 12.75, Hamilton = 14.55\n"
     ]
    }
   ],
   "source": [
    "class Kettle(object): \n",
    "    \n",
    "    power_source = \"electricity\"\n",
    "    \n",
    "    def __init__(self, make, price): \n",
    "        self.make = make\n",
    "        self.price = price\n",
    "        self.on = False\n",
    "        \n",
    "    def switch_on(self): \n",
    "        self.on = True\n",
    "\n",
    "# the __init__() method is the fundamental method that creates the object whenever the class is called\n",
    "# self is a name of a parameter... the convention is to use self\n",
    "# self is a reference to the instance of the class.. \n",
    "\n",
    "kenwood = Kettle(\"Kenwood\", 8.99)\n",
    "print(kenwood.make)\n",
    "print(kenwood.price) \n",
    "\n",
    "kenwood.price = 12.75\n",
    "print(kenwood.price) \n",
    "\n",
    "hamilton = Kettle(\"Hamilton\", 14.55) \n",
    "print(hamilton.make) \n",
    "print(hamilton.price) \n",
    "\n",
    "# When a variable is created with a class, then it's called an \"attribute.\" \n",
    "print(\"Models: {} = {}, {} = {}\".format(kenwood.make, kenwood.price, hamilton.make, hamilton.price))"
   ]
  },
  {
   "cell_type": "code",
   "execution_count": 56,
   "metadata": {},
   "outputs": [
    {
     "name": "stdout",
     "output_type": "stream",
     "text": [
      "Models: Kenwood = 12.75, Hamilton = 14.55\n"
     ]
    }
   ],
   "source": [
    "# because kenwood and hamilton are objects.. we can specify which attributes are used \n",
    "# at different parts of the string. This is probably much easier to read\n",
    "print(\"Models: {0.make} = {0.price}, {1.make} = {1.price}\".format(kenwood,hamilton))"
   ]
  },
  {
   "cell_type": "code",
   "execution_count": 57,
   "metadata": {},
   "outputs": [
    {
     "name": "stdout",
     "output_type": "stream",
     "text": [
      "False\n",
      "True\n"
     ]
    }
   ],
   "source": [
    "print(hamilton.on) # False because self.on = False on the __init__\n",
    "hamilton.switch_on()\n",
    "print(hamilton.on) # True because we've turned self.on = True"
   ]
  },
  {
   "cell_type": "code",
   "execution_count": 58,
   "metadata": {},
   "outputs": [
    {
     "name": "stdout",
     "output_type": "stream",
     "text": [
      "True\n"
     ]
    }
   ],
   "source": [
    "# This is a little weird but this is one way that you can\n",
    "# call the Kettle class's method \"switch_on\" on the object kenwood.\n",
    "Kettle.switch_on(kenwood) \n",
    "print(kenwood.on)"
   ]
  },
  {
   "cell_type": "code",
   "execution_count": 59,
   "metadata": {},
   "outputs": [
    {
     "name": "stdout",
     "output_type": "stream",
     "text": [
      "1.5\n"
     ]
    }
   ],
   "source": [
    "# you can then assign another attribute to the kenwood object as below\n",
    "kenwood.power = 1.5 \n",
    "print(kenwood.power) "
   ]
  },
  {
   "cell_type": "code",
   "execution_count": 67,
   "metadata": {},
   "outputs": [
    {
     "name": "stdout",
     "output_type": "stream",
     "text": [
      "atomic\n",
      "gas\n",
      "magic\n",
      "Switch to atomic power\n",
      "Switch to gas power\n"
     ]
    }
   ],
   "source": [
    "print(Kettle.power_source) \n",
    "print(kenwood.power_source) \n",
    "print(hamilton.power_source) \n",
    "\n",
    "# now change it at the class level\n",
    "print(\"Switch to atomic power\") \n",
    "Kettle.power_source = \"atomic\" \n",
    "\n",
    "# now change it at the object level \n",
    "print(\"Switch to gas power\") \n",
    "kenwood.power_source = \"gas\"\n",
    "hamilton.power_source = \"magic\" \n",
    "\n",
    "# so you can see that changing it at the object level overrides the class definition"
   ]
  },
  {
   "cell_type": "markdown",
   "metadata": {},
   "source": [
    "## Using Methods\n",
    "- Using the example of a bank account"
   ]
  },
  {
   "cell_type": "code",
   "execution_count": null,
   "metadata": {},
   "outputs": [],
   "source": []
  },
  {
   "cell_type": "code",
   "execution_count": null,
   "metadata": {},
   "outputs": [],
   "source": []
  }
 ],
 "metadata": {
  "kernelspec": {
   "display_name": "Python 3",
   "language": "python",
   "name": "python3"
  },
  "language_info": {
   "codemirror_mode": {
    "name": "ipython",
    "version": 3
   },
   "file_extension": ".py",
   "mimetype": "text/x-python",
   "name": "python",
   "nbconvert_exporter": "python",
   "pygments_lexer": "ipython3",
   "version": "3.6.5"
  }
 },
 "nbformat": 4,
 "nbformat_minor": 2
}
