{
 "cells": [
  {
   "cell_type": "markdown",
   "metadata": {},
   "source": [
    "# Time Series Max Profit Given K\n",
    "\n",
    ">Given an array of numbers representing the stock prices of a company in chronological order and an integer k, return the maximum profit you can make from k buys and sells. You must buy the stock before you can sell it, and you must sell the stock before you can buy it again.\n",
    "\n",
    "For example, given k = 2 and the array [5, 2, 4, 0, 1], you should return 3."
   ]
  },
  {
   "cell_type": "code",
   "execution_count": 1,
   "metadata": {},
   "outputs": [],
   "source": [
    "from math import inf\n",
    "\n",
    "def max_profit(k, prices): \n",
    "    n = len(prices)\n",
    "    dp = [[0 for _ in range(n)] for _ in range(k+1)] \n",
    "    \n",
    "    for i in range(k+1): \n",
    "        dp[i][0] = 0\n",
    "        \n",
    "    for j in range(n): \n",
    "        dp[0][j] = 0\n",
    "        \n",
    "    for i in range(1, k+1):\n",
    "        for j in range(1,n): \n",
    "            best_so_far = -inf\n",
    "            for m in range(j): \n",
    "                best_so_far = max(best_so_far, prices[j] - prices[m] + dp[i-1][m])\n",
    "            dp[i][j] = max(best_so_far, dp[i][j-1])\n",
    "        \n",
    "    return dp[k][n-1] "
   ]
  },
  {
   "cell_type": "code",
   "execution_count": null,
   "metadata": {},
   "outputs": [],
   "source": []
  }
 ],
 "metadata": {
  "kernelspec": {
   "display_name": "Python 3",
   "language": "python",
   "name": "python3"
  },
  "language_info": {
   "codemirror_mode": {
    "name": "ipython",
    "version": 3
   },
   "file_extension": ".py",
   "mimetype": "text/x-python",
   "name": "python",
   "nbconvert_exporter": "python",
   "pygments_lexer": "ipython3",
   "version": "3.6.2"
  }
 },
 "nbformat": 4,
 "nbformat_minor": 2
}
