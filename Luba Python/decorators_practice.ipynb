{
 "cells": [
  {
   "cell_type": "markdown",
   "metadata": {},
   "source": [
    "# Primer on Decorators.. \n",
    "\n",
    "Decorators are functions that take another function and extends the behavior of the function without explicitly modifying it... in python, functions are first-class objects, in that they can be passed around and used as arguments. \n",
    "\n"
   ]
  },
  {
   "cell_type": "code",
   "execution_count": 3,
   "metadata": {},
   "outputs": [],
   "source": [
    "def say_hello(name): \n",
    "    return f\"Hello {name}\""
   ]
  },
  {
   "cell_type": "code",
   "execution_count": 4,
   "metadata": {},
   "outputs": [],
   "source": [
    "def be_awesome(name): \n",
    "    return f\"Yo {name}, together we are the awesomest!\" "
   ]
  },
  {
   "cell_type": "code",
   "execution_count": 5,
   "metadata": {},
   "outputs": [],
   "source": [
    "# greet_bob is a bit different\n",
    "# greet_bob expects a function as its argument.\n",
    "def greet_bob(greeter_func): \n",
    "    return greeter_func(\"Bob\") "
   ]
  },
  {
   "cell_type": "code",
   "execution_count": 6,
   "metadata": {},
   "outputs": [
    {
     "data": {
      "text/plain": [
       "'Hello Jason'"
      ]
     },
     "execution_count": 6,
     "metadata": {},
     "output_type": "execute_result"
    }
   ],
   "source": [
    "say_hello(\"Jason\")"
   ]
  },
  {
   "cell_type": "code",
   "execution_count": 7,
   "metadata": {},
   "outputs": [
    {
     "data": {
      "text/plain": [
       "'Yo Jason, together we are the awesomest!'"
      ]
     },
     "execution_count": 7,
     "metadata": {},
     "output_type": "execute_result"
    }
   ],
   "source": [
    "be_awesome(\"Jason\") "
   ]
  },
  {
   "cell_type": "code",
   "execution_count": 10,
   "metadata": {},
   "outputs": [
    {
     "data": {
      "text/plain": [
       "'Yo Bob, together we are the awesomest!'"
      ]
     },
     "execution_count": 10,
     "metadata": {},
     "output_type": "execute_result"
    }
   ],
   "source": [
    "# note not, say_hello() because when you use it as an argument... \n",
    "# not explicitly asking it to do something so no ()'s\n",
    "greet_bob(say_hello)\n",
    "greet_bob(be_awesome)"
   ]
  },
  {
   "cell_type": "markdown",
   "metadata": {},
   "source": [
    "### Inner functions..\n",
    "\n",
    "Can define functions inside other functions. These are inner functions. Straightforward."
   ]
  },
  {
   "cell_type": "code",
   "execution_count": 11,
   "metadata": {},
   "outputs": [],
   "source": [
    "def parent(): \n",
    "    print(\"Printing from the parent() function\")\n",
    "    \n",
    "    def first_child(): \n",
    "        print(\"Printing from the first_child() function\") \n",
    "                \n",
    "    def second_child(): \n",
    "        print(\"Printing from the second_child() function\") \n",
    "        \n",
    "    second_child()\n",
    "    first_child() "
   ]
  },
  {
   "cell_type": "code",
   "execution_count": 16,
   "metadata": {},
   "outputs": [
    {
     "name": "stdout",
     "output_type": "stream",
     "text": [
      "Printing from the parent() function\n",
      "Printing from the second_child() function\n",
      "Printing from the first_child() function\n"
     ]
    }
   ],
   "source": [
    "# the order they're defined doesn't matter, just when the function is called..\n",
    "parent()"
   ]
  },
  {
   "cell_type": "code",
   "execution_count": 18,
   "metadata": {},
   "outputs": [
    {
     "ename": "NameError",
     "evalue": "name 'first_child' is not defined",
     "output_type": "error",
     "traceback": [
      "\u001b[0;31m---------------------------------------------------------------------------\u001b[0m",
      "\u001b[0;31mNameError\u001b[0m                                 Traceback (most recent call last)",
      "\u001b[0;32m<ipython-input-18-d2dd3b8b6fcf>\u001b[0m in \u001b[0;36m<module>\u001b[0;34m()\u001b[0m\n\u001b[1;32m      1\u001b[0m \u001b[0;31m# also, the inner functions aren't defined until the parent is called\u001b[0m\u001b[0;34m\u001b[0m\u001b[0;34m\u001b[0m\u001b[0m\n\u001b[1;32m      2\u001b[0m \u001b[0;31m# local scope\u001b[0m\u001b[0;34m\u001b[0m\u001b[0;34m\u001b[0m\u001b[0m\n\u001b[0;32m----> 3\u001b[0;31m \u001b[0mfirst_child\u001b[0m\u001b[0;34m(\u001b[0m\u001b[0;34m)\u001b[0m \u001b[0;31m# delivers an error\u001b[0m\u001b[0;34m\u001b[0m\u001b[0m\n\u001b[0m",
      "\u001b[0;31mNameError\u001b[0m: name 'first_child' is not defined"
     ]
    }
   ],
   "source": [
    "# also, the inner functions aren't defined until the parent is called\n",
    "# local scope \n",
    "first_child() # delivers an error"
   ]
  },
  {
   "cell_type": "code",
   "execution_count": 30,
   "metadata": {},
   "outputs": [],
   "source": [
    "def parent(num): \n",
    "    \n",
    "    # these functions are still defined within function parent.. \n",
    "    # but because this function returns functions we'll be able to use them outside of\n",
    "    # this locally defined scope\n",
    "    \n",
    "    def first_child(): \n",
    "        return \"Hi, I am Emma\" \n",
    "    \n",
    "    def second_child(): \n",
    "        return \"Call me Liam\" \n",
    "    \n",
    "    # notice that we're not CALLING these functons\n",
    "    # we're just returning these functions as objects\n",
    "    \n",
    "    if num == 1:\n",
    "        return first_child\n",
    "    else: \n",
    "        return second_child "
   ]
  },
  {
   "cell_type": "code",
   "execution_count": 31,
   "metadata": {},
   "outputs": [],
   "source": [
    "first = parent(1) \n",
    "second = parent(2)"
   ]
  },
  {
   "cell_type": "code",
   "execution_count": 32,
   "metadata": {},
   "outputs": [
    {
     "data": {
      "text/plain": [
       "<function __main__.parent.<locals>.first_child>"
      ]
     },
     "execution_count": 32,
     "metadata": {},
     "output_type": "execute_result"
    }
   ],
   "source": [
    "first # first variable refers to the local first_child() function"
   ]
  },
  {
   "cell_type": "code",
   "execution_count": 33,
   "metadata": {},
   "outputs": [
    {
     "data": {
      "text/plain": [
       "<function __main__.parent.<locals>.second_child>"
      ]
     },
     "execution_count": 33,
     "metadata": {},
     "output_type": "execute_result"
    }
   ],
   "source": [
    "second # second variable refers to the local second_child function"
   ]
  },
  {
   "cell_type": "code",
   "execution_count": 34,
   "metadata": {},
   "outputs": [
    {
     "data": {
      "text/plain": [
       "'Hi, I am Emma'"
      ]
     },
     "execution_count": 34,
     "metadata": {},
     "output_type": "execute_result"
    }
   ],
   "source": [
    "# so now first is defined and can be used as if they are regular functions!\n",
    "first()"
   ]
  },
  {
   "cell_type": "code",
   "execution_count": 35,
   "metadata": {},
   "outputs": [
    {
     "data": {
      "text/plain": [
       "'Call me Liam'"
      ]
     },
     "execution_count": 35,
     "metadata": {},
     "output_type": "execute_result"
    }
   ],
   "source": [
    "# this is kind of cool, even though the functions they point to can't be accessed directly...\n",
    "second()"
   ]
  },
  {
   "cell_type": "markdown",
   "metadata": {},
   "source": [
    "### So, by not putting the parentheses after the inner functions...\n",
    "\n",
    "You get a REFERENCE to each function that you could call in the future. This is an important concept with decorators. Functions are just like any other object in Python. "
   ]
  },
  {
   "cell_type": "code",
   "execution_count": 46,
   "metadata": {},
   "outputs": [],
   "source": [
    "def my_decorator(func): \n",
    "    def wrapper(): \n",
    "        print(\"Soemthing is happening before the function is called.\")\n",
    "        func()\n",
    "        print(\"Something is happening after the function is called.\" )\n",
    "    return wrapper # this just means that my_decorator runs the wrapper() function\n",
    "    \n",
    "    # if you remove the \"return wrapper\" line and run the code\n",
    "    # you get an error that looks at say_whee and says 'NoneType' object is not callable\n",
    "\n",
    "def say_whee(): \n",
    "    print(\"Whee!\") "
   ]
  },
  {
   "cell_type": "code",
   "execution_count": 50,
   "metadata": {},
   "outputs": [],
   "source": [
    "# decoration happens at this line\n",
    "say_whee = my_decorator(say_whee)"
   ]
  },
  {
   "cell_type": "code",
   "execution_count": 51,
   "metadata": {},
   "outputs": [
    {
     "name": "stdout",
     "output_type": "stream",
     "text": [
      "Soemthing is happening before the function is called.\n",
      "Soemthing is happening before the function is called.\n",
      "Whee!\n",
      "Something is happening after the function is called.\n",
      "Something is happening after the function is called.\n"
     ]
    }
   ],
   "source": [
    "say_whee()"
   ]
  },
  {
   "cell_type": "code",
   "execution_count": 52,
   "metadata": {},
   "outputs": [
    {
     "data": {
      "text/plain": [
       "<function __main__.my_decorator.<locals>.wrapper>"
      ]
     },
     "execution_count": 52,
     "metadata": {},
     "output_type": "execute_result"
    }
   ],
   "source": [
    "# the say_whee points to the wrapper() inner function\n",
    "say_whee"
   ]
  },
  {
   "cell_type": "markdown",
   "metadata": {},
   "source": [
    "### Decorators wrap a function, modifying its behavior"
   ]
  },
  {
   "cell_type": "code",
   "execution_count": 53,
   "metadata": {},
   "outputs": [],
   "source": [
    "from datetime import datetime\n",
    "\n",
    "def not_during_the_night(func): \n",
    "    def wrapper(): \n",
    "        if 7 <= datetime.now().hour < 22: \n",
    "            func() \n",
    "        else: \n",
    "            pass \n",
    "    return wrapper\n",
    "\n",
    "def say_whee(): \n",
    "    print(\"WHEE\")\n",
    "    \n",
    "# decoration happens here\n",
    "# Pay ATTENTION to this line ... because it gets replaced by @not_during_the_night\n",
    "say_whee = not_during_the_night(say_whee) "
   ]
  },
  {
   "cell_type": "code",
   "execution_count": 54,
   "metadata": {},
   "outputs": [
    {
     "name": "stdout",
     "output_type": "stream",
     "text": [
      "WHEE\n"
     ]
    }
   ],
   "source": [
    "say_whee()"
   ]
  },
  {
   "cell_type": "markdown",
   "metadata": {},
   "source": [
    "# Python allows you to use decorators using the @-symbol.\n",
    "\n",
    "- much better looking code\n",
    "- remember that the decorator is just a REGULARY PYTHON FUNCTION\n",
    "- the decorator is just the say_whee = other_function(say_whee) thing\n",
    "- and then it just gets replaced by @other_function and then def say_whee(): etc. etc. "
   ]
  },
  {
   "cell_type": "code",
   "execution_count": 55,
   "metadata": {},
   "outputs": [],
   "source": [
    "def my_decorator(func): \n",
    "    def wrapper(): \n",
    "        print(\"something before func called\") \n",
    "        func()\n",
    "        print(\"something after\")\n",
    "    return wrapper\n",
    "\n",
    "@my_decorator\n",
    "def say_whee(): \n",
    "    print(\"Whee\") \n",
    "    \n",
    "# @my_decorator\n",
    "# is just ... \n",
    "# say_whee = my_decorator(say_whee)"
   ]
  },
  {
   "cell_type": "code",
   "execution_count": 58,
   "metadata": {},
   "outputs": [],
   "source": [
    "def not_during_the_night(func): \n",
    "    def wrapper(): \n",
    "        if 7 <= datetime.now().hour < 22: \n",
    "            func()\n",
    "        else: \n",
    "            pass\n",
    "    return wrapper\n",
    "\n",
    "@not_during_the_night\n",
    "def say_whee(): \n",
    "    print(\"Whee with decorator\") "
   ]
  },
  {
   "cell_type": "code",
   "execution_count": 59,
   "metadata": {},
   "outputs": [
    {
     "name": "stdout",
     "output_type": "stream",
     "text": [
      "Whee with decorator\n"
     ]
    }
   ],
   "source": [
    "say_whee()"
   ]
  },
  {
   "cell_type": "markdown",
   "metadata": {},
   "source": [
    "### Reusing Decorators"
   ]
  },
  {
   "cell_type": "code",
   "execution_count": 67,
   "metadata": {},
   "outputs": [],
   "source": [
    "def do_twice(func): \n",
    "    def wrapper_do_twice(): \n",
    "        func()\n",
    "        func()\n",
    "    return wrapper_do_twice"
   ]
  },
  {
   "cell_type": "code",
   "execution_count": 68,
   "metadata": {},
   "outputs": [],
   "source": [
    "@do_twice\n",
    "def say_whee(): \n",
    "    print(\"Wheee 123\") "
   ]
  },
  {
   "cell_type": "code",
   "execution_count": 69,
   "metadata": {},
   "outputs": [
    {
     "name": "stdout",
     "output_type": "stream",
     "text": [
      "Wheee 123\n",
      "Wheee 123\n"
     ]
    }
   ],
   "source": [
    "say_whee()"
   ]
  },
  {
   "cell_type": "code",
   "execution_count": 83,
   "metadata": {},
   "outputs": [],
   "source": [
    "def greet(name): \n",
    "    print(f\"Hello {name}\")"
   ]
  },
  {
   "cell_type": "code",
   "execution_count": 84,
   "metadata": {},
   "outputs": [
    {
     "name": "stdout",
     "output_type": "stream",
     "text": [
      "Hello World\n"
     ]
    }
   ],
   "source": [
    "greet(\"World\")\n",
    "\n",
    "# Doesn't work!\n",
    "# see 1 was given but wrapper_do-twice takes 0 positional arguments!"
   ]
  },
  {
   "cell_type": "markdown",
   "metadata": {},
   "source": [
    "### THe solution is to use *args and **kwargs\n",
    "- Then it will accept an arbitrary number of positional and keyword arguments. \n",
    "- So let's rewrite\n",
    "\n",
    "See: https://stackoverflow.com/questions/36901/what-does-double-star-asterisk-and-star-asterisk-do-for-parameters"
   ]
  },
  {
   "cell_type": "code",
   "execution_count": 89,
   "metadata": {},
   "outputs": [],
   "source": [
    "def do_twice(func): \n",
    "    def wrapper_do_twice(*args, **kwargs): \n",
    "        func(*args, **kwargs)\n",
    "        func(*args, **kwargs)\n",
    "    return wrapper_do_twice"
   ]
  },
  {
   "cell_type": "code",
   "execution_count": 90,
   "metadata": {},
   "outputs": [
    {
     "name": "stdout",
     "output_type": "stream",
     "text": [
      "Wheee 123\n",
      "Wheee 123\n"
     ]
    }
   ],
   "source": [
    "say_whee()"
   ]
  },
  {
   "cell_type": "code",
   "execution_count": 91,
   "metadata": {},
   "outputs": [],
   "source": [
    "@do_twice\n",
    "def greet(name): \n",
    "    print(f\"Hello {name}\") "
   ]
  },
  {
   "cell_type": "code",
   "execution_count": 92,
   "metadata": {},
   "outputs": [
    {
     "name": "stdout",
     "output_type": "stream",
     "text": [
      "Hello World\n",
      "Hello World\n"
     ]
    }
   ],
   "source": [
    "greet(\"World\")\n",
    "# Now this works! "
   ]
  },
  {
   "cell_type": "code",
   "execution_count": null,
   "metadata": {},
   "outputs": [],
   "source": []
  }
 ],
 "metadata": {
  "kernelspec": {
   "display_name": "Python 3",
   "language": "python",
   "name": "python3"
  },
  "language_info": {
   "codemirror_mode": {
    "name": "ipython",
    "version": 3
   },
   "file_extension": ".py",
   "mimetype": "text/x-python",
   "name": "python",
   "nbconvert_exporter": "python",
   "pygments_lexer": "ipython3",
   "version": "3.6.2"
  }
 },
 "nbformat": 4,
 "nbformat_minor": 2
}
