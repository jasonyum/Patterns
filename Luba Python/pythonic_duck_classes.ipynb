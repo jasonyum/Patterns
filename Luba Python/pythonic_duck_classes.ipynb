{
 "cells": [
  {
   "cell_type": "markdown",
   "metadata": {},
   "source": [
    "## Python doesn't need \"getters\" or \"setters\" \n",
    "...because all attributes and methods are public, and you're expected to behave yourself. The pythonic version... if you want to prevent direct access to attributes is to use properties. "
   ]
  },
  {
   "cell_type": "code",
   "execution_count": 3,
   "metadata": {},
   "outputs": [],
   "source": [
    "# hidden_name is meant to be \"private\" \n",
    "# don't want people to access this directly, so we'll use a getter and setter.\n",
    "\n",
    "class Duck(): \n",
    "    def __init__(self, input_name): \n",
    "        self.hidden_name = input_name\n",
    "        \n",
    "    # get_name is the \"getter\" \n",
    "    def get_name(self): \n",
    "        print(\"inside the getter\") \n",
    "        return self.hidden_name\n",
    "    \n",
    "    # set_name is the \"setter\" \n",
    "    def set_name(self, input_name): \n",
    "        print(\"inside the setter\")\n",
    "        self.hidden_name = input_name\n",
    "    \n",
    "    # property is pythonic! \n",
    "    # property defines two METHODS as properties of the attribute called \"name\" \n",
    "    name = property(get_name, set_name) "
   ]
  },
  {
   "cell_type": "code",
   "execution_count": 6,
   "metadata": {},
   "outputs": [
    {
     "name": "stdout",
     "output_type": "stream",
     "text": [
      "inside the getter\n"
     ]
    },
    {
     "data": {
      "text/plain": [
       "'Howard'"
      ]
     },
     "execution_count": 6,
     "metadata": {},
     "output_type": "execute_result"
    }
   ],
   "source": [
    "# create an object using class Duck\n",
    "fowl = Duck('Howard') \n",
    "\n",
    "# when you refer to the \"name\" of any Duck object..\n",
    "# it calls the get_name() method\n",
    "fowl.name"
   ]
  },
  {
   "cell_type": "code",
   "execution_count": 7,
   "metadata": {},
   "outputs": [
    {
     "name": "stdout",
     "output_type": "stream",
     "text": [
      "inside the getter\n"
     ]
    },
    {
     "data": {
      "text/plain": [
       "'Howard'"
      ]
     },
     "execution_count": 7,
     "metadata": {},
     "output_type": "execute_result"
    }
   ],
   "source": [
    "# direct call as well\n",
    "fowl.get_name() "
   ]
  },
  {
   "cell_type": "code",
   "execution_count": 11,
   "metadata": {},
   "outputs": [
    {
     "name": "stdout",
     "output_type": "stream",
     "text": [
      "inside the setter\n"
     ]
    }
   ],
   "source": [
    "# when you ASSIGN a value to the name attribute.. \n",
    "# the set_name() method will be called...\n",
    "fowl.name = \"Daffy\""
   ]
  },
  {
   "cell_type": "code",
   "execution_count": 12,
   "metadata": {},
   "outputs": [
    {
     "name": "stdout",
     "output_type": "stream",
     "text": [
      "inside the getter\n"
     ]
    },
    {
     "data": {
      "text/plain": [
       "'Daffy'"
      ]
     },
     "execution_count": 12,
     "metadata": {},
     "output_type": "execute_result"
    }
   ],
   "source": [
    "fowl.name"
   ]
  },
  {
   "cell_type": "markdown",
   "metadata": {},
   "source": [
    "## another way to define properties is with *decorators*\n",
    "In this example...\n",
    "- @proeprty goes before the getter method\n",
    "- @name.setter goes before the setter method"
   ]
  },
  {
   "cell_type": "code",
   "execution_count": 21,
   "metadata": {},
   "outputs": [],
   "source": [
    "class Duck(): \n",
    "    def __init__(self, input_name):\n",
    "        self.hidden_name = input_name\n",
    "        \n",
    "    @property\n",
    "    def name(self): \n",
    "        print(\"inside the getter\")\n",
    "        return self.hidden_name\n",
    "    \n",
    "    # why is name.setter not highlighted correctly? \n",
    "    @name.setter \n",
    "    def name(self, input_name): \n",
    "        print(\"inside the setter\") \n",
    "        self.hidden_name = input_name"
   ]
  },
  {
   "cell_type": "code",
   "execution_count": 22,
   "metadata": {},
   "outputs": [
    {
     "name": "stdout",
     "output_type": "stream",
     "text": [
      "inside the getter\n"
     ]
    },
    {
     "data": {
      "text/plain": [
       "'Howard'"
      ]
     },
     "execution_count": 22,
     "metadata": {},
     "output_type": "execute_result"
    }
   ],
   "source": [
    "fowl = Duck(\"Howard\")\n",
    "fowl.name"
   ]
  },
  {
   "cell_type": "code",
   "execution_count": 23,
   "metadata": {},
   "outputs": [
    {
     "name": "stdout",
     "output_type": "stream",
     "text": [
      "inside the setter\n"
     ]
    }
   ],
   "source": [
    "fowl.name = \"Donald\""
   ]
  },
  {
   "cell_type": "code",
   "execution_count": null,
   "metadata": {},
   "outputs": [],
   "source": []
  }
 ],
 "metadata": {
  "kernelspec": {
   "display_name": "Python 3",
   "language": "python",
   "name": "python3"
  },
  "language_info": {
   "codemirror_mode": {
    "name": "ipython",
    "version": 3
   },
   "file_extension": ".py",
   "mimetype": "text/x-python",
   "name": "python",
   "nbconvert_exporter": "python",
   "pygments_lexer": "ipython3",
   "version": "3.6.2"
  }
 },
 "nbformat": 4,
 "nbformat_minor": 2
}
