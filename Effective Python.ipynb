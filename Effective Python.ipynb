{
 "cells": [
  {
   "cell_type": "markdown",
   "metadata": {},
   "source": [
    "## Effective Python\n",
    "Learning coding motifs.\n",
    "\n"
   ]
  },
  {
   "cell_type": "code",
   "execution_count": 12,
   "metadata": {},
   "outputs": [],
   "source": [
    "# Know how closures interact with variable scope... \n",
    "\n",
    "'''\n",
    "Say you want to prioritize one group of numbers to come first,\n",
    "this happens when rendering a user interface you want \n",
    "important msgs or exceptional events to be displayed first.\n",
    "\n",
    "A common way to do this is to pass a helper function as \n",
    "the key argument to a list's sort method... the helper's return\n",
    "value will be used as the value for sorting each item in the list\n",
    "\n",
    "1) Python supports closures\n",
    " - notice how helper(x) can access \"group\" \n",
    "\n",
    "2) Functions are first-class objects in Python\n",
    " - so you can refer to them directly... \n",
    " - and also pass them as arguments to other functions\n",
    " - this is why values.sort() can use \"key=helper\"\n",
    " - helper is a function! \n",
    "'''\n",
    "\n",
    "def sort_priority(values, group): \n",
    "    def helper(x): \n",
    "        if x in group: \n",
    "            return (0,x) \n",
    "        return (1,x) \n",
    "    values.sort(key=helper)"
   ]
  },
  {
   "cell_type": "code",
   "execution_count": 8,
   "metadata": {},
   "outputs": [
    {
     "name": "stdout",
     "output_type": "stream",
     "text": [
      "[2, 3, 5, 7, 1, 4, 6, 8]\n"
     ]
    }
   ],
   "source": [
    "numbers = [8,3,1,2,5,4,7,6] # notice list\n",
    "group = {2,3,5,7} # notice set \n",
    "sort_priority(numbers, group)\n",
    "print(numbers) "
   ]
  },
  {
   "cell_type": "code",
   "execution_count": 15,
   "metadata": {},
   "outputs": [],
   "source": [
    "'''\n",
    "The sorted results are correct, but the found result is wrong.\n",
    "Items from group were definitely found in numbers, but the \n",
    "function returned False... \n",
    "\n",
    "When you reference a variable in an expression, the Python\n",
    "interpreter will traverse the scope to resolve the reference\n",
    "in this order: \n",
    "\n",
    "1) the current function's scope\n",
    "2) any enclosing scopes (like other containing functions) \n",
    "3) the scope of the module (global scope) \n",
    "4) the built-in scope (that contains functions like len and str)\n",
    "\n",
    "If none of these places have a defined variable then a \n",
    "NameError exception is raised... \n",
    "\n",
    "\n",
    "So....\n",
    "\n",
    "What's happening is that found = False in scope of sort_priority2\n",
    "The closure's assignment is treated as a NEW variable definition\n",
    "within helper... NOT as an ASSIGNMENT within sort_priority2!\n",
    "\n",
    "THIS IS A SCOPING BUG. This is totally intended. \n",
    "Prevents local variables in a function from polluting the \n",
    "containing module. \n",
    "'''\n",
    "\n",
    "def sort_priority2(numbers, group): \n",
    "    found = False # Scope: 'sort_priority2'\n",
    "    def helper(x): \n",
    "        if x in group: \n",
    "            found = True # seems simple, but wrong!\n",
    "                         # Scope: 'helper' -- bad! \n",
    "            return (0,x)\n",
    "        return (1,x) \n",
    "    numbers.sort(key=helper) \n",
    "    return found\n",
    "\n"
   ]
  },
  {
   "cell_type": "code",
   "execution_count": 17,
   "metadata": {},
   "outputs": [
    {
     "name": "stdout",
     "output_type": "stream",
     "text": [
      "Found: False\n",
      "[2, 3, 5, 7, 1, 4, 6, 8]\n"
     ]
    }
   ],
   "source": [
    "found = sort_priority2(numbers, group)\n",
    "print('Found:', found) \n",
    "print(numbers) \n",
    "\n",
    "# so you can see that Found: False is wrong... \n",
    "# this is a problem of scope! "
   ]
  },
  {
   "cell_type": "code",
   "execution_count": 21,
   "metadata": {},
   "outputs": [],
   "source": [
    "'''\n",
    "This is how you \"get data out\" ... you need to evoke a special \n",
    "syntax to get data out of a closure. The keyword is \"nonlocal\" \n",
    "\n",
    "nonlocal => scope traversal should happen upon assignment for \n",
    "a specific variable name... nonlocal will NOT traverse up to the \n",
    "module-level scope (to avoid polluting globals) \n",
    "\n",
    "Caution: probably shouldn't use nonlocal for anything beyond \n",
    "simple functions. Side effects are hard to follow. Instead, use\n",
    "helper classes... \n",
    "\n",
    "'''\n",
    "\n",
    "def sort_priority3(numbers, group):\n",
    "    found = False\n",
    "    def helper(x): \n",
    "        nonlocal found # key difference! \n",
    "        if x in group: \n",
    "            found = True\n",
    "            return (0,x) \n",
    "        return (1,x) \n",
    "    numbers.sort(key=helper) \n",
    "    return found\n"
   ]
  },
  {
   "cell_type": "code",
   "execution_count": 22,
   "metadata": {},
   "outputs": [],
   "source": [
    "'''\n",
    "This class achieves the same result as the nonlocal approach.\n",
    "# It's best to avoid the use of nonlocal outside of simple \n",
    "functions... because the side effects can be hard to spot. \n",
    "'''\n",
    "\n",
    "class Sorter(object): \n",
    "    def __init__(self, group): \n",
    "        self.group = group\n",
    "        self.found = False\n",
    "        \n",
    "    def __call__(self, x): \n",
    "        if x in self.group: \n",
    "            self.found = True\n",
    "            return(0,x)\n",
    "        return (1,x) \n",
    "    \n",
    "sorter = Sorter(group)\n",
    "numbers.sort(key=sorter)\n",
    "assert sorter.found is True"
   ]
  },
  {
   "cell_type": "code",
   "execution_count": null,
   "metadata": {},
   "outputs": [],
   "source": []
  }
 ],
 "metadata": {
  "kernelspec": {
   "display_name": "Python 3",
   "language": "python",
   "name": "python3"
  },
  "language_info": {
   "codemirror_mode": {
    "name": "ipython",
    "version": 3
   },
   "file_extension": ".py",
   "mimetype": "text/x-python",
   "name": "python",
   "nbconvert_exporter": "python",
   "pygments_lexer": "ipython3",
   "version": "3.6.2"
  }
 },
 "nbformat": 4,
 "nbformat_minor": 2
}
