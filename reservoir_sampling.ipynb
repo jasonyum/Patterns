{
 "cells": [
  {
   "cell_type": "markdown",
   "metadata": {},
   "source": [
    "### How would you uniformly pick a random element from a gigantic stream? \n",
    "\n",
    "This is the principal of reservoir sampling. \n",
    "\n",
    "Naive solution:\n",
    "- process the stream \n",
    "- store all the elements\n",
    "- find its size\n",
    "- pick a random element from $[0, size-1]$ \n",
    "\n",
    "The problem with the naive solution is that it takes $O(N)$ space for a large $N.$ This is problematic, and we can do much better (constant space). The key is to understand loop invariants. On the $i$-th iteration of our loop, pick a random element. \n",
    "\n",
    "See: https://stackoverflow.com/questions/3221577/what-is-a-loop-invariant\n",
    "\n",
    ">A loop invariant is a condition [among program variables] that is necessarily true immediately before and immediately after each iteration of a loop. (Note that this says nothing about its truth or falsity part way through an iteration.)\n",
    "\n",
    ">By itself, a loop invariant doesn't do much. However, given an appropriate invariant, it can be used to help prove the correctness of an algorithm. The simple example in CLRS probably has to do with sorting. For example, let your loop invariant be something like, at the start of the loop, the first i entries of this array are sorted. If you can prove that this is indeed a loop invariant (i.e. that it holds before and after every loop iteration), you can use this to prove the correctness of a sorting algorithm: at the termination of the loop, the loop invariant is still satisfied, and the counter i is the length of the array. Therefore, the first i entries are sorted means the entire array is sorted.\n",
    "\n",
    "For the actual reservoir sampling algorithm... \n",
    "\n",
    "See: https://en.wikipedia.org/wiki/Reservoir_sampling\n"
   ]
  },
  {
   "cell_type": "code",
   "execution_count": 20,
   "metadata": {},
   "outputs": [],
   "source": [
    "import random \n",
    "\n",
    "def pick(big_stream): \n",
    "    random_element = None\n",
    "    \n",
    "    # i = counter\n",
    "    # e = value \n",
    "    # big_stream is some massive list\n",
    "    \n",
    "    for i, e in enumerate(big_stream): \n",
    "        if i == 0: # trivial case, if i=0 pick uniformly from [0,0]\n",
    "            random_element = e\n",
    "            \n",
    "        # random.randint(1,i+1) chooses uniformly from [1,i+1] inclusive\n",
    "        if random.randint(1,i+1) == 1: \n",
    "            random_element = e\n",
    "            \n",
    "        return random_element\n",
    "    \n",
    "# since we are only storing a single variable, this only takes up constant space"
   ]
  },
  {
   "cell_type": "code",
   "execution_count": 28,
   "metadata": {},
   "outputs": [
    {
     "name": "stdout",
     "output_type": "stream",
     "text": [
      "3\n",
      "3\n",
      "1\n",
      "1\n",
      "2\n",
      "4\n",
      "1\n",
      "1\n",
      "1\n",
      "1\n"
     ]
    }
   ],
   "source": [
    "# random.randint(1,i+1) notes\n",
    "# random.randint(..) picks uniformly between [1,5] inclusive\n",
    "for i in range(10): \n",
    "    print(random.randint(1,5))\n"
   ]
  },
  {
   "cell_type": "code",
   "execution_count": 16,
   "metadata": {},
   "outputs": [
    {
     "name": "stdout",
     "output_type": "stream",
     "text": [
      "0 5\n",
      "1 6\n",
      "2 10\n",
      "3 15\n",
      "4 8\n"
     ]
    }
   ],
   "source": [
    "# Enumerate notes\n",
    "# See: http://book.pythontips.com/en/latest/enumerate.html\n",
    "\n",
    "for counter, value in enumerate([5,6,10,15,8]): \n",
    "    print(counter, value) \n",
    "    # print(value)"
   ]
  },
  {
   "cell_type": "code",
   "execution_count": 18,
   "metadata": {},
   "outputs": [
    {
     "name": "stdout",
     "output_type": "stream",
     "text": [
      "5 apple\n",
      "6 banana\n",
      "7 grape\n",
      "8 pear\n"
     ]
    }
   ],
   "source": [
    "my_list = ['apple', 'banana', 'grape','pear']\n",
    "for c, value in enumerate(my_list,5): \n",
    "    # the optional argument 1 tells it where to start\n",
    "    print(c,value) "
   ]
  },
  {
   "cell_type": "code",
   "execution_count": 19,
   "metadata": {},
   "outputs": [
    {
     "name": "stdout",
     "output_type": "stream",
     "text": [
      "[(1, 'apple'), (2, 'banana'), (3, 'grape'), (4, 'pear')]\n"
     ]
    }
   ],
   "source": [
    "my_list = ['apple', 'banana', 'grape','pear']\n",
    "counter_list = list(enumerate(my_list,1)) # creates a tuple!\n",
    "print(counter_list) "
   ]
  },
  {
   "cell_type": "code",
   "execution_count": null,
   "metadata": {},
   "outputs": [],
   "source": []
  }
 ],
 "metadata": {
  "kernelspec": {
   "display_name": "Python 3",
   "language": "python",
   "name": "python3"
  },
  "language_info": {
   "codemirror_mode": {
    "name": "ipython",
    "version": 3
   },
   "file_extension": ".py",
   "mimetype": "text/x-python",
   "name": "python",
   "nbconvert_exporter": "python",
   "pygments_lexer": "ipython3",
   "version": "3.7.0"
  }
 },
 "nbformat": 4,
 "nbformat_minor": 2
}
